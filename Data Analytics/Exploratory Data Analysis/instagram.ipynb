{
 "cells": [
  {
   "cell_type": "code",
   "execution_count": 1,
   "metadata": {},
   "outputs": [],
   "source": [
    "import pandas as pd\n",
    "import plotly.express as px\n",
    "import plotly.graph_objects as go\n",
    "import plotly.io as pio\n",
    "pio.templates.default = \"plotly_white\""
   ]
  },
  {
   "cell_type": "code",
   "execution_count": 2,
   "metadata": {},
   "outputs": [
    {
     "data": {
      "text/html": [
       "<div>\n",
       "<style scoped>\n",
       "    .dataframe tbody tr th:only-of-type {\n",
       "        vertical-align: middle;\n",
       "    }\n",
       "\n",
       "    .dataframe tbody tr th {\n",
       "        vertical-align: top;\n",
       "    }\n",
       "\n",
       "    .dataframe thead th {\n",
       "        text-align: right;\n",
       "    }\n",
       "</style>\n",
       "<table border=\"1\" class=\"dataframe\">\n",
       "  <thead>\n",
       "    <tr style=\"text-align: right;\">\n",
       "      <th></th>\n",
       "      <th>Impressions</th>\n",
       "      <th>From Home</th>\n",
       "      <th>From Hashtags</th>\n",
       "      <th>From Explore</th>\n",
       "      <th>From Other</th>\n",
       "      <th>Saves</th>\n",
       "      <th>Comments</th>\n",
       "      <th>Shares</th>\n",
       "      <th>Likes</th>\n",
       "      <th>Profile Visits</th>\n",
       "      <th>Follows</th>\n",
       "      <th>Caption</th>\n",
       "      <th>Hashtags</th>\n",
       "    </tr>\n",
       "  </thead>\n",
       "  <tbody>\n",
       "    <tr>\n",
       "      <th>0</th>\n",
       "      <td>3920</td>\n",
       "      <td>2586</td>\n",
       "      <td>1028</td>\n",
       "      <td>619</td>\n",
       "      <td>56</td>\n",
       "      <td>98</td>\n",
       "      <td>9</td>\n",
       "      <td>5</td>\n",
       "      <td>162</td>\n",
       "      <td>35</td>\n",
       "      <td>2</td>\n",
       "      <td>Here are some of the most important data visua...</td>\n",
       "      <td>#finance #money #business #investing #investme...</td>\n",
       "    </tr>\n",
       "    <tr>\n",
       "      <th>1</th>\n",
       "      <td>5394</td>\n",
       "      <td>2727</td>\n",
       "      <td>1838</td>\n",
       "      <td>1174</td>\n",
       "      <td>78</td>\n",
       "      <td>194</td>\n",
       "      <td>7</td>\n",
       "      <td>14</td>\n",
       "      <td>224</td>\n",
       "      <td>48</td>\n",
       "      <td>10</td>\n",
       "      <td>Here are some of the best data science project...</td>\n",
       "      <td>#healthcare #health #covid #data #datascience ...</td>\n",
       "    </tr>\n",
       "    <tr>\n",
       "      <th>2</th>\n",
       "      <td>4021</td>\n",
       "      <td>2085</td>\n",
       "      <td>1188</td>\n",
       "      <td>0</td>\n",
       "      <td>533</td>\n",
       "      <td>41</td>\n",
       "      <td>11</td>\n",
       "      <td>1</td>\n",
       "      <td>131</td>\n",
       "      <td>62</td>\n",
       "      <td>12</td>\n",
       "      <td>Learn how to train a machine learning model an...</td>\n",
       "      <td>#data #datascience #dataanalysis #dataanalytic...</td>\n",
       "    </tr>\n",
       "    <tr>\n",
       "      <th>3</th>\n",
       "      <td>4528</td>\n",
       "      <td>2700</td>\n",
       "      <td>621</td>\n",
       "      <td>932</td>\n",
       "      <td>73</td>\n",
       "      <td>172</td>\n",
       "      <td>10</td>\n",
       "      <td>7</td>\n",
       "      <td>213</td>\n",
       "      <td>23</td>\n",
       "      <td>8</td>\n",
       "      <td>Heres how you can write a Python program to d...</td>\n",
       "      <td>#python #pythonprogramming #pythonprojects #py...</td>\n",
       "    </tr>\n",
       "    <tr>\n",
       "      <th>4</th>\n",
       "      <td>2518</td>\n",
       "      <td>1704</td>\n",
       "      <td>255</td>\n",
       "      <td>279</td>\n",
       "      <td>37</td>\n",
       "      <td>96</td>\n",
       "      <td>5</td>\n",
       "      <td>4</td>\n",
       "      <td>123</td>\n",
       "      <td>8</td>\n",
       "      <td>0</td>\n",
       "      <td>Plotting annotations while visualizing your da...</td>\n",
       "      <td>#datavisualization #datascience #data #dataana...</td>\n",
       "    </tr>\n",
       "  </tbody>\n",
       "</table>\n",
       "</div>"
      ],
      "text/plain": [
       "   Impressions  From Home  From Hashtags  From Explore  From Other  Saves  \\\n",
       "0         3920       2586           1028           619          56     98   \n",
       "1         5394       2727           1838          1174          78    194   \n",
       "2         4021       2085           1188             0         533     41   \n",
       "3         4528       2700            621           932          73    172   \n",
       "4         2518       1704            255           279          37     96   \n",
       "\n",
       "   Comments  Shares  Likes  Profile Visits  Follows  \\\n",
       "0         9       5    162              35        2   \n",
       "1         7      14    224              48       10   \n",
       "2        11       1    131              62       12   \n",
       "3        10       7    213              23        8   \n",
       "4         5       4    123               8        0   \n",
       "\n",
       "                                             Caption  \\\n",
       "0  Here are some of the most important data visua...   \n",
       "1  Here are some of the best data science project...   \n",
       "2  Learn how to train a machine learning model an...   \n",
       "3  Heres how you can write a Python program to d...   \n",
       "4  Plotting annotations while visualizing your da...   \n",
       "\n",
       "                                            Hashtags  \n",
       "0  #finance #money #business #investing #investme...  \n",
       "1  #healthcare #health #covid #data #datascience ...  \n",
       "2  #data #datascience #dataanalysis #dataanalytic...  \n",
       "3  #python #pythonprogramming #pythonprojects #py...  \n",
       "4  #datavisualization #datascience #data #dataana...  "
      ]
     },
     "execution_count": 2,
     "metadata": {},
     "output_type": "execute_result"
    }
   ],
   "source": [
    "pd.set_option('display.max_columns', None)\n",
    "\n",
    "data = pd.read_csv('instagram data.csv', encoding='latin-1')\n",
    "\n",
    "data.head()"
   ]
  },
  {
   "cell_type": "code",
   "execution_count": 3,
   "metadata": {},
   "outputs": [
    {
     "data": {
      "text/plain": [
       "Index(['Impressions', 'From Home', 'From Hashtags', 'From Explore',\n",
       "       'From Other', 'Saves', 'Comments', 'Shares', 'Likes', 'Profile Visits',\n",
       "       'Follows', 'Caption', 'Hashtags'],\n",
       "      dtype='object')"
      ]
     },
     "execution_count": 3,
     "metadata": {},
     "output_type": "execute_result"
    }
   ],
   "source": [
    "# Let's check what the columns of the data include\n",
    "\n",
    "data.columns"
   ]
  },
  {
   "cell_type": "code",
   "execution_count": 4,
   "metadata": {},
   "outputs": [
    {
     "name": "stdout",
     "output_type": "stream",
     "text": [
      "<class 'pandas.core.frame.DataFrame'>\n",
      "RangeIndex: 119 entries, 0 to 118\n",
      "Data columns (total 13 columns):\n",
      " #   Column          Non-Null Count  Dtype \n",
      "---  ------          --------------  ----- \n",
      " 0   Impressions     119 non-null    int64 \n",
      " 1   From Home       119 non-null    int64 \n",
      " 2   From Hashtags   119 non-null    int64 \n",
      " 3   From Explore    119 non-null    int64 \n",
      " 4   From Other      119 non-null    int64 \n",
      " 5   Saves           119 non-null    int64 \n",
      " 6   Comments        119 non-null    int64 \n",
      " 7   Shares          119 non-null    int64 \n",
      " 8   Likes           119 non-null    int64 \n",
      " 9   Profile Visits  119 non-null    int64 \n",
      " 10  Follows         119 non-null    int64 \n",
      " 11  Caption         119 non-null    object\n",
      " 12  Hashtags        119 non-null    object\n",
      "dtypes: int64(11), object(2)\n",
      "memory usage: 12.2+ KB\n"
     ]
    }
   ],
   "source": [
    "# Now let's check the column information\n",
    "\n",
    "data.info()"
   ]
  },
  {
   "cell_type": "code",
   "execution_count": 5,
   "metadata": {},
   "outputs": [
    {
     "data": {
      "text/html": [
       "<div>\n",
       "<style scoped>\n",
       "    .dataframe tbody tr th:only-of-type {\n",
       "        vertical-align: middle;\n",
       "    }\n",
       "\n",
       "    .dataframe tbody tr th {\n",
       "        vertical-align: top;\n",
       "    }\n",
       "\n",
       "    .dataframe thead th {\n",
       "        text-align: right;\n",
       "    }\n",
       "</style>\n",
       "<table border=\"1\" class=\"dataframe\">\n",
       "  <thead>\n",
       "    <tr style=\"text-align: right;\">\n",
       "      <th></th>\n",
       "      <th>Impressions</th>\n",
       "      <th>From Home</th>\n",
       "      <th>From Hashtags</th>\n",
       "      <th>From Explore</th>\n",
       "      <th>From Other</th>\n",
       "      <th>Saves</th>\n",
       "      <th>Comments</th>\n",
       "      <th>Shares</th>\n",
       "      <th>Likes</th>\n",
       "      <th>Profile Visits</th>\n",
       "      <th>Follows</th>\n",
       "    </tr>\n",
       "  </thead>\n",
       "  <tbody>\n",
       "    <tr>\n",
       "      <th>count</th>\n",
       "      <td>119.000000</td>\n",
       "      <td>119.000000</td>\n",
       "      <td>119.000000</td>\n",
       "      <td>119.000000</td>\n",
       "      <td>119.000000</td>\n",
       "      <td>119.000000</td>\n",
       "      <td>119.000000</td>\n",
       "      <td>119.000000</td>\n",
       "      <td>119.000000</td>\n",
       "      <td>119.000000</td>\n",
       "      <td>119.000000</td>\n",
       "    </tr>\n",
       "    <tr>\n",
       "      <th>mean</th>\n",
       "      <td>5703.991597</td>\n",
       "      <td>2475.789916</td>\n",
       "      <td>1887.512605</td>\n",
       "      <td>1078.100840</td>\n",
       "      <td>171.092437</td>\n",
       "      <td>153.310924</td>\n",
       "      <td>6.663866</td>\n",
       "      <td>9.361345</td>\n",
       "      <td>173.781513</td>\n",
       "      <td>50.621849</td>\n",
       "      <td>20.756303</td>\n",
       "    </tr>\n",
       "    <tr>\n",
       "      <th>std</th>\n",
       "      <td>4843.780105</td>\n",
       "      <td>1489.386348</td>\n",
       "      <td>1884.361443</td>\n",
       "      <td>2613.026132</td>\n",
       "      <td>289.431031</td>\n",
       "      <td>156.317731</td>\n",
       "      <td>3.544576</td>\n",
       "      <td>10.089205</td>\n",
       "      <td>82.378947</td>\n",
       "      <td>87.088402</td>\n",
       "      <td>40.921580</td>\n",
       "    </tr>\n",
       "    <tr>\n",
       "      <th>min</th>\n",
       "      <td>1941.000000</td>\n",
       "      <td>1133.000000</td>\n",
       "      <td>116.000000</td>\n",
       "      <td>0.000000</td>\n",
       "      <td>9.000000</td>\n",
       "      <td>22.000000</td>\n",
       "      <td>0.000000</td>\n",
       "      <td>0.000000</td>\n",
       "      <td>72.000000</td>\n",
       "      <td>4.000000</td>\n",
       "      <td>0.000000</td>\n",
       "    </tr>\n",
       "    <tr>\n",
       "      <th>25%</th>\n",
       "      <td>3467.000000</td>\n",
       "      <td>1945.000000</td>\n",
       "      <td>726.000000</td>\n",
       "      <td>157.500000</td>\n",
       "      <td>38.000000</td>\n",
       "      <td>65.000000</td>\n",
       "      <td>4.000000</td>\n",
       "      <td>3.000000</td>\n",
       "      <td>121.500000</td>\n",
       "      <td>15.000000</td>\n",
       "      <td>4.000000</td>\n",
       "    </tr>\n",
       "    <tr>\n",
       "      <th>50%</th>\n",
       "      <td>4289.000000</td>\n",
       "      <td>2207.000000</td>\n",
       "      <td>1278.000000</td>\n",
       "      <td>326.000000</td>\n",
       "      <td>74.000000</td>\n",
       "      <td>109.000000</td>\n",
       "      <td>6.000000</td>\n",
       "      <td>6.000000</td>\n",
       "      <td>151.000000</td>\n",
       "      <td>23.000000</td>\n",
       "      <td>8.000000</td>\n",
       "    </tr>\n",
       "    <tr>\n",
       "      <th>75%</th>\n",
       "      <td>6138.000000</td>\n",
       "      <td>2602.500000</td>\n",
       "      <td>2363.500000</td>\n",
       "      <td>689.500000</td>\n",
       "      <td>196.000000</td>\n",
       "      <td>169.000000</td>\n",
       "      <td>8.000000</td>\n",
       "      <td>13.500000</td>\n",
       "      <td>204.000000</td>\n",
       "      <td>42.000000</td>\n",
       "      <td>18.000000</td>\n",
       "    </tr>\n",
       "    <tr>\n",
       "      <th>max</th>\n",
       "      <td>36919.000000</td>\n",
       "      <td>13473.000000</td>\n",
       "      <td>11817.000000</td>\n",
       "      <td>17414.000000</td>\n",
       "      <td>2547.000000</td>\n",
       "      <td>1095.000000</td>\n",
       "      <td>19.000000</td>\n",
       "      <td>75.000000</td>\n",
       "      <td>549.000000</td>\n",
       "      <td>611.000000</td>\n",
       "      <td>260.000000</td>\n",
       "    </tr>\n",
       "  </tbody>\n",
       "</table>\n",
       "</div>"
      ],
      "text/plain": [
       "        Impressions     From Home  From Hashtags  From Explore   From Other  \\\n",
       "count    119.000000    119.000000     119.000000    119.000000   119.000000   \n",
       "mean    5703.991597   2475.789916    1887.512605   1078.100840   171.092437   \n",
       "std     4843.780105   1489.386348    1884.361443   2613.026132   289.431031   \n",
       "min     1941.000000   1133.000000     116.000000      0.000000     9.000000   \n",
       "25%     3467.000000   1945.000000     726.000000    157.500000    38.000000   \n",
       "50%     4289.000000   2207.000000    1278.000000    326.000000    74.000000   \n",
       "75%     6138.000000   2602.500000    2363.500000    689.500000   196.000000   \n",
       "max    36919.000000  13473.000000   11817.000000  17414.000000  2547.000000   \n",
       "\n",
       "             Saves    Comments      Shares       Likes  Profile Visits  \\\n",
       "count   119.000000  119.000000  119.000000  119.000000      119.000000   \n",
       "mean    153.310924    6.663866    9.361345  173.781513       50.621849   \n",
       "std     156.317731    3.544576   10.089205   82.378947       87.088402   \n",
       "min      22.000000    0.000000    0.000000   72.000000        4.000000   \n",
       "25%      65.000000    4.000000    3.000000  121.500000       15.000000   \n",
       "50%     109.000000    6.000000    6.000000  151.000000       23.000000   \n",
       "75%     169.000000    8.000000   13.500000  204.000000       42.000000   \n",
       "max    1095.000000   19.000000   75.000000  549.000000      611.000000   \n",
       "\n",
       "          Follows  \n",
       "count  119.000000  \n",
       "mean    20.756303  \n",
       "std     40.921580  \n",
       "min      0.000000  \n",
       "25%      4.000000  \n",
       "50%      8.000000  \n",
       "75%     18.000000  \n",
       "max    260.000000  "
      ]
     },
     "execution_count": 5,
     "metadata": {},
     "output_type": "execute_result"
    }
   ],
   "source": [
    "# Now let's look at the descriptive statistics of the data\n",
    "\n",
    "data.describe() "
   ]
  },
  {
   "cell_type": "markdown",
   "metadata": {},
   "source": [
    "- Let's look if our data have any missing values"
   ]
  },
  {
   "cell_type": "code",
   "execution_count": 6,
   "metadata": {},
   "outputs": [
    {
     "data": {
      "text/plain": [
       "Impressions       0\n",
       "From Home         0\n",
       "From Hashtags     0\n",
       "From Explore      0\n",
       "From Other        0\n",
       "Saves             0\n",
       "Comments          0\n",
       "Shares            0\n",
       "Likes             0\n",
       "Profile Visits    0\n",
       "Follows           0\n",
       "Caption           0\n",
       "Hashtags          0\n",
       "dtype: int64"
      ]
     },
     "execution_count": 6,
     "metadata": {},
     "output_type": "execute_result"
    }
   ],
   "source": [
    "data.isnull().sum()"
   ]
  },
  {
   "cell_type": "markdown",
   "metadata": {},
   "source": [
    "- let’s have a look at the distribution of the Impressions"
   ]
  },
  {
   "cell_type": "code",
   "execution_count": 7,
   "metadata": {},
   "outputs": [
    {
     "data": {
      "application/vnd.plotly.v1+json": {
       "config": {
        "plotlyServerURL": "https://plot.ly"
       },
       "data": [
        {
         "alignmentgroup": "True",
         "bingroup": "x",
         "hovertemplate": "Impressions=%{x}<br>count=%{y}<extra></extra>",
         "legendgroup": "",
         "marker": {
          "color": "#636efa",
          "pattern": {
           "shape": ""
          }
         },
         "name": "",
         "nbinsx": 10,
         "offsetgroup": "",
         "orientation": "v",
         "showlegend": false,
         "type": "histogram",
         "x": [
          3920,
          5394,
          4021,
          4528,
          2518,
          3884,
          2621,
          3541,
          3749,
          4115,
          2218,
          3234,
          4344,
          3216,
          9453,
          5055,
          4002,
          3169,
          6168,
          2407,
          2064,
          3973,
          7281,
          3052,
          4628,
          4082,
          5394,
          2766,
          3924,
          3015,
          6666,
          3854,
          4355,
          4343,
          6108,
          2523,
          2327,
          3990,
          2191,
          1941,
          16062,
          4998,
          4289,
          3880,
          3786,
          4298,
          3630,
          2826,
          7407,
          10386,
          2998,
          7018,
          2941,
          6432,
          10667,
          3988,
          4978,
          3388,
          4467,
          3246,
          5072,
          6339,
          4239,
          3454,
          7571,
          3333,
          3818,
          10933,
          5058,
          3601,
          3480,
          3525,
          3606,
          5542,
          6559,
          3623,
          10493,
          4446,
          2957,
          5538,
          4681,
          5273,
          5055,
          4002,
          3169,
          6168,
          2407,
          3630,
          2826,
          7407,
          10386,
          2998,
          3052,
          4628,
          4082,
          5394,
          2766,
          3924,
          3015,
          5409,
          5323,
          8001,
          4150,
          4609,
          6348,
          11068,
          7231,
          17396,
          6814,
          17713,
          5563,
          4842,
          11149,
          10206,
          13700,
          5731,
          4139,
          32695,
          36919
         ],
         "xaxis": "x",
         "yaxis": "y"
        }
       ],
       "layout": {
        "barmode": "relative",
        "legend": {
         "tracegroupgap": 0
        },
        "template": {
         "data": {
          "bar": [
           {
            "error_x": {
             "color": "#2a3f5f"
            },
            "error_y": {
             "color": "#2a3f5f"
            },
            "marker": {
             "line": {
              "color": "white",
              "width": 0.5
             },
             "pattern": {
              "fillmode": "overlay",
              "size": 10,
              "solidity": 0.2
             }
            },
            "type": "bar"
           }
          ],
          "barpolar": [
           {
            "marker": {
             "line": {
              "color": "white",
              "width": 0.5
             },
             "pattern": {
              "fillmode": "overlay",
              "size": 10,
              "solidity": 0.2
             }
            },
            "type": "barpolar"
           }
          ],
          "carpet": [
           {
            "aaxis": {
             "endlinecolor": "#2a3f5f",
             "gridcolor": "#C8D4E3",
             "linecolor": "#C8D4E3",
             "minorgridcolor": "#C8D4E3",
             "startlinecolor": "#2a3f5f"
            },
            "baxis": {
             "endlinecolor": "#2a3f5f",
             "gridcolor": "#C8D4E3",
             "linecolor": "#C8D4E3",
             "minorgridcolor": "#C8D4E3",
             "startlinecolor": "#2a3f5f"
            },
            "type": "carpet"
           }
          ],
          "choropleth": [
           {
            "colorbar": {
             "outlinewidth": 0,
             "ticks": ""
            },
            "type": "choropleth"
           }
          ],
          "contour": [
           {
            "colorbar": {
             "outlinewidth": 0,
             "ticks": ""
            },
            "colorscale": [
             [
              0,
              "#0d0887"
             ],
             [
              0.1111111111111111,
              "#46039f"
             ],
             [
              0.2222222222222222,
              "#7201a8"
             ],
             [
              0.3333333333333333,
              "#9c179e"
             ],
             [
              0.4444444444444444,
              "#bd3786"
             ],
             [
              0.5555555555555556,
              "#d8576b"
             ],
             [
              0.6666666666666666,
              "#ed7953"
             ],
             [
              0.7777777777777778,
              "#fb9f3a"
             ],
             [
              0.8888888888888888,
              "#fdca26"
             ],
             [
              1,
              "#f0f921"
             ]
            ],
            "type": "contour"
           }
          ],
          "contourcarpet": [
           {
            "colorbar": {
             "outlinewidth": 0,
             "ticks": ""
            },
            "type": "contourcarpet"
           }
          ],
          "heatmap": [
           {
            "colorbar": {
             "outlinewidth": 0,
             "ticks": ""
            },
            "colorscale": [
             [
              0,
              "#0d0887"
             ],
             [
              0.1111111111111111,
              "#46039f"
             ],
             [
              0.2222222222222222,
              "#7201a8"
             ],
             [
              0.3333333333333333,
              "#9c179e"
             ],
             [
              0.4444444444444444,
              "#bd3786"
             ],
             [
              0.5555555555555556,
              "#d8576b"
             ],
             [
              0.6666666666666666,
              "#ed7953"
             ],
             [
              0.7777777777777778,
              "#fb9f3a"
             ],
             [
              0.8888888888888888,
              "#fdca26"
             ],
             [
              1,
              "#f0f921"
             ]
            ],
            "type": "heatmap"
           }
          ],
          "heatmapgl": [
           {
            "colorbar": {
             "outlinewidth": 0,
             "ticks": ""
            },
            "colorscale": [
             [
              0,
              "#0d0887"
             ],
             [
              0.1111111111111111,
              "#46039f"
             ],
             [
              0.2222222222222222,
              "#7201a8"
             ],
             [
              0.3333333333333333,
              "#9c179e"
             ],
             [
              0.4444444444444444,
              "#bd3786"
             ],
             [
              0.5555555555555556,
              "#d8576b"
             ],
             [
              0.6666666666666666,
              "#ed7953"
             ],
             [
              0.7777777777777778,
              "#fb9f3a"
             ],
             [
              0.8888888888888888,
              "#fdca26"
             ],
             [
              1,
              "#f0f921"
             ]
            ],
            "type": "heatmapgl"
           }
          ],
          "histogram": [
           {
            "marker": {
             "pattern": {
              "fillmode": "overlay",
              "size": 10,
              "solidity": 0.2
             }
            },
            "type": "histogram"
           }
          ],
          "histogram2d": [
           {
            "colorbar": {
             "outlinewidth": 0,
             "ticks": ""
            },
            "colorscale": [
             [
              0,
              "#0d0887"
             ],
             [
              0.1111111111111111,
              "#46039f"
             ],
             [
              0.2222222222222222,
              "#7201a8"
             ],
             [
              0.3333333333333333,
              "#9c179e"
             ],
             [
              0.4444444444444444,
              "#bd3786"
             ],
             [
              0.5555555555555556,
              "#d8576b"
             ],
             [
              0.6666666666666666,
              "#ed7953"
             ],
             [
              0.7777777777777778,
              "#fb9f3a"
             ],
             [
              0.8888888888888888,
              "#fdca26"
             ],
             [
              1,
              "#f0f921"
             ]
            ],
            "type": "histogram2d"
           }
          ],
          "histogram2dcontour": [
           {
            "colorbar": {
             "outlinewidth": 0,
             "ticks": ""
            },
            "colorscale": [
             [
              0,
              "#0d0887"
             ],
             [
              0.1111111111111111,
              "#46039f"
             ],
             [
              0.2222222222222222,
              "#7201a8"
             ],
             [
              0.3333333333333333,
              "#9c179e"
             ],
             [
              0.4444444444444444,
              "#bd3786"
             ],
             [
              0.5555555555555556,
              "#d8576b"
             ],
             [
              0.6666666666666666,
              "#ed7953"
             ],
             [
              0.7777777777777778,
              "#fb9f3a"
             ],
             [
              0.8888888888888888,
              "#fdca26"
             ],
             [
              1,
              "#f0f921"
             ]
            ],
            "type": "histogram2dcontour"
           }
          ],
          "mesh3d": [
           {
            "colorbar": {
             "outlinewidth": 0,
             "ticks": ""
            },
            "type": "mesh3d"
           }
          ],
          "parcoords": [
           {
            "line": {
             "colorbar": {
              "outlinewidth": 0,
              "ticks": ""
             }
            },
            "type": "parcoords"
           }
          ],
          "pie": [
           {
            "automargin": true,
            "type": "pie"
           }
          ],
          "scatter": [
           {
            "fillpattern": {
             "fillmode": "overlay",
             "size": 10,
             "solidity": 0.2
            },
            "type": "scatter"
           }
          ],
          "scatter3d": [
           {
            "line": {
             "colorbar": {
              "outlinewidth": 0,
              "ticks": ""
             }
            },
            "marker": {
             "colorbar": {
              "outlinewidth": 0,
              "ticks": ""
             }
            },
            "type": "scatter3d"
           }
          ],
          "scattercarpet": [
           {
            "marker": {
             "colorbar": {
              "outlinewidth": 0,
              "ticks": ""
             }
            },
            "type": "scattercarpet"
           }
          ],
          "scattergeo": [
           {
            "marker": {
             "colorbar": {
              "outlinewidth": 0,
              "ticks": ""
             }
            },
            "type": "scattergeo"
           }
          ],
          "scattergl": [
           {
            "marker": {
             "colorbar": {
              "outlinewidth": 0,
              "ticks": ""
             }
            },
            "type": "scattergl"
           }
          ],
          "scattermapbox": [
           {
            "marker": {
             "colorbar": {
              "outlinewidth": 0,
              "ticks": ""
             }
            },
            "type": "scattermapbox"
           }
          ],
          "scatterpolar": [
           {
            "marker": {
             "colorbar": {
              "outlinewidth": 0,
              "ticks": ""
             }
            },
            "type": "scatterpolar"
           }
          ],
          "scatterpolargl": [
           {
            "marker": {
             "colorbar": {
              "outlinewidth": 0,
              "ticks": ""
             }
            },
            "type": "scatterpolargl"
           }
          ],
          "scatterternary": [
           {
            "marker": {
             "colorbar": {
              "outlinewidth": 0,
              "ticks": ""
             }
            },
            "type": "scatterternary"
           }
          ],
          "surface": [
           {
            "colorbar": {
             "outlinewidth": 0,
             "ticks": ""
            },
            "colorscale": [
             [
              0,
              "#0d0887"
             ],
             [
              0.1111111111111111,
              "#46039f"
             ],
             [
              0.2222222222222222,
              "#7201a8"
             ],
             [
              0.3333333333333333,
              "#9c179e"
             ],
             [
              0.4444444444444444,
              "#bd3786"
             ],
             [
              0.5555555555555556,
              "#d8576b"
             ],
             [
              0.6666666666666666,
              "#ed7953"
             ],
             [
              0.7777777777777778,
              "#fb9f3a"
             ],
             [
              0.8888888888888888,
              "#fdca26"
             ],
             [
              1,
              "#f0f921"
             ]
            ],
            "type": "surface"
           }
          ],
          "table": [
           {
            "cells": {
             "fill": {
              "color": "#EBF0F8"
             },
             "line": {
              "color": "white"
             }
            },
            "header": {
             "fill": {
              "color": "#C8D4E3"
             },
             "line": {
              "color": "white"
             }
            },
            "type": "table"
           }
          ]
         },
         "layout": {
          "annotationdefaults": {
           "arrowcolor": "#2a3f5f",
           "arrowhead": 0,
           "arrowwidth": 1
          },
          "autotypenumbers": "strict",
          "coloraxis": {
           "colorbar": {
            "outlinewidth": 0,
            "ticks": ""
           }
          },
          "colorscale": {
           "diverging": [
            [
             0,
             "#8e0152"
            ],
            [
             0.1,
             "#c51b7d"
            ],
            [
             0.2,
             "#de77ae"
            ],
            [
             0.3,
             "#f1b6da"
            ],
            [
             0.4,
             "#fde0ef"
            ],
            [
             0.5,
             "#f7f7f7"
            ],
            [
             0.6,
             "#e6f5d0"
            ],
            [
             0.7,
             "#b8e186"
            ],
            [
             0.8,
             "#7fbc41"
            ],
            [
             0.9,
             "#4d9221"
            ],
            [
             1,
             "#276419"
            ]
           ],
           "sequential": [
            [
             0,
             "#0d0887"
            ],
            [
             0.1111111111111111,
             "#46039f"
            ],
            [
             0.2222222222222222,
             "#7201a8"
            ],
            [
             0.3333333333333333,
             "#9c179e"
            ],
            [
             0.4444444444444444,
             "#bd3786"
            ],
            [
             0.5555555555555556,
             "#d8576b"
            ],
            [
             0.6666666666666666,
             "#ed7953"
            ],
            [
             0.7777777777777778,
             "#fb9f3a"
            ],
            [
             0.8888888888888888,
             "#fdca26"
            ],
            [
             1,
             "#f0f921"
            ]
           ],
           "sequentialminus": [
            [
             0,
             "#0d0887"
            ],
            [
             0.1111111111111111,
             "#46039f"
            ],
            [
             0.2222222222222222,
             "#7201a8"
            ],
            [
             0.3333333333333333,
             "#9c179e"
            ],
            [
             0.4444444444444444,
             "#bd3786"
            ],
            [
             0.5555555555555556,
             "#d8576b"
            ],
            [
             0.6666666666666666,
             "#ed7953"
            ],
            [
             0.7777777777777778,
             "#fb9f3a"
            ],
            [
             0.8888888888888888,
             "#fdca26"
            ],
            [
             1,
             "#f0f921"
            ]
           ]
          },
          "colorway": [
           "#636efa",
           "#EF553B",
           "#00cc96",
           "#ab63fa",
           "#FFA15A",
           "#19d3f3",
           "#FF6692",
           "#B6E880",
           "#FF97FF",
           "#FECB52"
          ],
          "font": {
           "color": "#2a3f5f"
          },
          "geo": {
           "bgcolor": "white",
           "lakecolor": "white",
           "landcolor": "white",
           "showlakes": true,
           "showland": true,
           "subunitcolor": "#C8D4E3"
          },
          "hoverlabel": {
           "align": "left"
          },
          "hovermode": "closest",
          "mapbox": {
           "style": "light"
          },
          "paper_bgcolor": "white",
          "plot_bgcolor": "white",
          "polar": {
           "angularaxis": {
            "gridcolor": "#EBF0F8",
            "linecolor": "#EBF0F8",
            "ticks": ""
           },
           "bgcolor": "white",
           "radialaxis": {
            "gridcolor": "#EBF0F8",
            "linecolor": "#EBF0F8",
            "ticks": ""
           }
          },
          "scene": {
           "xaxis": {
            "backgroundcolor": "white",
            "gridcolor": "#DFE8F3",
            "gridwidth": 2,
            "linecolor": "#EBF0F8",
            "showbackground": true,
            "ticks": "",
            "zerolinecolor": "#EBF0F8"
           },
           "yaxis": {
            "backgroundcolor": "white",
            "gridcolor": "#DFE8F3",
            "gridwidth": 2,
            "linecolor": "#EBF0F8",
            "showbackground": true,
            "ticks": "",
            "zerolinecolor": "#EBF0F8"
           },
           "zaxis": {
            "backgroundcolor": "white",
            "gridcolor": "#DFE8F3",
            "gridwidth": 2,
            "linecolor": "#EBF0F8",
            "showbackground": true,
            "ticks": "",
            "zerolinecolor": "#EBF0F8"
           }
          },
          "shapedefaults": {
           "line": {
            "color": "#2a3f5f"
           }
          },
          "ternary": {
           "aaxis": {
            "gridcolor": "#DFE8F3",
            "linecolor": "#A2B1C6",
            "ticks": ""
           },
           "baxis": {
            "gridcolor": "#DFE8F3",
            "linecolor": "#A2B1C6",
            "ticks": ""
           },
           "bgcolor": "white",
           "caxis": {
            "gridcolor": "#DFE8F3",
            "linecolor": "#A2B1C6",
            "ticks": ""
           }
          },
          "title": {
           "x": 0.05
          },
          "xaxis": {
           "automargin": true,
           "gridcolor": "#EBF0F8",
           "linecolor": "#EBF0F8",
           "ticks": "",
           "title": {
            "standoff": 15
           },
           "zerolinecolor": "#EBF0F8",
           "zerolinewidth": 2
          },
          "yaxis": {
           "automargin": true,
           "gridcolor": "#EBF0F8",
           "linecolor": "#EBF0F8",
           "ticks": "",
           "title": {
            "standoff": 15
           },
           "zerolinecolor": "#EBF0F8",
           "zerolinewidth": 2
          }
         }
        },
        "title": {
         "text": "Distribution of Impressions"
        },
        "xaxis": {
         "anchor": "y",
         "domain": [
          0,
          1
         ],
         "title": {
          "text": "Impressions"
         }
        },
        "yaxis": {
         "anchor": "x",
         "domain": [
          0,
          1
         ],
         "title": {
          "text": "count"
         }
        }
       }
      }
     },
     "metadata": {},
     "output_type": "display_data"
    }
   ],
   "source": [
    "fig = px.histogram(data, x=\"Impressions\", nbins=10, title='Distribution of Impressions')\n",
    "fig.show()"
   ]
  },
  {
   "cell_type": "markdown",
   "metadata": {},
   "source": [
    "- Now let’s have a look at the number of impressions on each post over time"
   ]
  },
  {
   "cell_type": "code",
   "execution_count": 8,
   "metadata": {},
   "outputs": [
    {
     "data": {
      "application/vnd.plotly.v1+json": {
       "config": {
        "plotlyServerURL": "https://plot.ly"
       },
       "data": [
        {
         "hovertemplate": "index=%{x}<br>Impressions=%{y}<extra></extra>",
         "legendgroup": "",
         "line": {
          "color": "#636efa",
          "dash": "solid"
         },
         "marker": {
          "symbol": "circle"
         },
         "mode": "lines",
         "name": "",
         "orientation": "v",
         "showlegend": false,
         "type": "scatter",
         "x": [
          0,
          1,
          2,
          3,
          4,
          5,
          6,
          7,
          8,
          9,
          10,
          11,
          12,
          13,
          14,
          15,
          16,
          17,
          18,
          19,
          20,
          21,
          22,
          23,
          24,
          25,
          26,
          27,
          28,
          29,
          30,
          31,
          32,
          33,
          34,
          35,
          36,
          37,
          38,
          39,
          40,
          41,
          42,
          43,
          44,
          45,
          46,
          47,
          48,
          49,
          50,
          51,
          52,
          53,
          54,
          55,
          56,
          57,
          58,
          59,
          60,
          61,
          62,
          63,
          64,
          65,
          66,
          67,
          68,
          69,
          70,
          71,
          72,
          73,
          74,
          75,
          76,
          77,
          78,
          79,
          80,
          81,
          82,
          83,
          84,
          85,
          86,
          87,
          88,
          89,
          90,
          91,
          92,
          93,
          94,
          95,
          96,
          97,
          98,
          99,
          100,
          101,
          102,
          103,
          104,
          105,
          106,
          107,
          108,
          109,
          110,
          111,
          112,
          113,
          114,
          115,
          116,
          117,
          118
         ],
         "xaxis": "x",
         "y": [
          3920,
          5394,
          4021,
          4528,
          2518,
          3884,
          2621,
          3541,
          3749,
          4115,
          2218,
          3234,
          4344,
          3216,
          9453,
          5055,
          4002,
          3169,
          6168,
          2407,
          2064,
          3973,
          7281,
          3052,
          4628,
          4082,
          5394,
          2766,
          3924,
          3015,
          6666,
          3854,
          4355,
          4343,
          6108,
          2523,
          2327,
          3990,
          2191,
          1941,
          16062,
          4998,
          4289,
          3880,
          3786,
          4298,
          3630,
          2826,
          7407,
          10386,
          2998,
          7018,
          2941,
          6432,
          10667,
          3988,
          4978,
          3388,
          4467,
          3246,
          5072,
          6339,
          4239,
          3454,
          7571,
          3333,
          3818,
          10933,
          5058,
          3601,
          3480,
          3525,
          3606,
          5542,
          6559,
          3623,
          10493,
          4446,
          2957,
          5538,
          4681,
          5273,
          5055,
          4002,
          3169,
          6168,
          2407,
          3630,
          2826,
          7407,
          10386,
          2998,
          3052,
          4628,
          4082,
          5394,
          2766,
          3924,
          3015,
          5409,
          5323,
          8001,
          4150,
          4609,
          6348,
          11068,
          7231,
          17396,
          6814,
          17713,
          5563,
          4842,
          11149,
          10206,
          13700,
          5731,
          4139,
          32695,
          36919
         ],
         "yaxis": "y"
        }
       ],
       "layout": {
        "legend": {
         "tracegroupgap": 0
        },
        "template": {
         "data": {
          "bar": [
           {
            "error_x": {
             "color": "#2a3f5f"
            },
            "error_y": {
             "color": "#2a3f5f"
            },
            "marker": {
             "line": {
              "color": "white",
              "width": 0.5
             },
             "pattern": {
              "fillmode": "overlay",
              "size": 10,
              "solidity": 0.2
             }
            },
            "type": "bar"
           }
          ],
          "barpolar": [
           {
            "marker": {
             "line": {
              "color": "white",
              "width": 0.5
             },
             "pattern": {
              "fillmode": "overlay",
              "size": 10,
              "solidity": 0.2
             }
            },
            "type": "barpolar"
           }
          ],
          "carpet": [
           {
            "aaxis": {
             "endlinecolor": "#2a3f5f",
             "gridcolor": "#C8D4E3",
             "linecolor": "#C8D4E3",
             "minorgridcolor": "#C8D4E3",
             "startlinecolor": "#2a3f5f"
            },
            "baxis": {
             "endlinecolor": "#2a3f5f",
             "gridcolor": "#C8D4E3",
             "linecolor": "#C8D4E3",
             "minorgridcolor": "#C8D4E3",
             "startlinecolor": "#2a3f5f"
            },
            "type": "carpet"
           }
          ],
          "choropleth": [
           {
            "colorbar": {
             "outlinewidth": 0,
             "ticks": ""
            },
            "type": "choropleth"
           }
          ],
          "contour": [
           {
            "colorbar": {
             "outlinewidth": 0,
             "ticks": ""
            },
            "colorscale": [
             [
              0,
              "#0d0887"
             ],
             [
              0.1111111111111111,
              "#46039f"
             ],
             [
              0.2222222222222222,
              "#7201a8"
             ],
             [
              0.3333333333333333,
              "#9c179e"
             ],
             [
              0.4444444444444444,
              "#bd3786"
             ],
             [
              0.5555555555555556,
              "#d8576b"
             ],
             [
              0.6666666666666666,
              "#ed7953"
             ],
             [
              0.7777777777777778,
              "#fb9f3a"
             ],
             [
              0.8888888888888888,
              "#fdca26"
             ],
             [
              1,
              "#f0f921"
             ]
            ],
            "type": "contour"
           }
          ],
          "contourcarpet": [
           {
            "colorbar": {
             "outlinewidth": 0,
             "ticks": ""
            },
            "type": "contourcarpet"
           }
          ],
          "heatmap": [
           {
            "colorbar": {
             "outlinewidth": 0,
             "ticks": ""
            },
            "colorscale": [
             [
              0,
              "#0d0887"
             ],
             [
              0.1111111111111111,
              "#46039f"
             ],
             [
              0.2222222222222222,
              "#7201a8"
             ],
             [
              0.3333333333333333,
              "#9c179e"
             ],
             [
              0.4444444444444444,
              "#bd3786"
             ],
             [
              0.5555555555555556,
              "#d8576b"
             ],
             [
              0.6666666666666666,
              "#ed7953"
             ],
             [
              0.7777777777777778,
              "#fb9f3a"
             ],
             [
              0.8888888888888888,
              "#fdca26"
             ],
             [
              1,
              "#f0f921"
             ]
            ],
            "type": "heatmap"
           }
          ],
          "heatmapgl": [
           {
            "colorbar": {
             "outlinewidth": 0,
             "ticks": ""
            },
            "colorscale": [
             [
              0,
              "#0d0887"
             ],
             [
              0.1111111111111111,
              "#46039f"
             ],
             [
              0.2222222222222222,
              "#7201a8"
             ],
             [
              0.3333333333333333,
              "#9c179e"
             ],
             [
              0.4444444444444444,
              "#bd3786"
             ],
             [
              0.5555555555555556,
              "#d8576b"
             ],
             [
              0.6666666666666666,
              "#ed7953"
             ],
             [
              0.7777777777777778,
              "#fb9f3a"
             ],
             [
              0.8888888888888888,
              "#fdca26"
             ],
             [
              1,
              "#f0f921"
             ]
            ],
            "type": "heatmapgl"
           }
          ],
          "histogram": [
           {
            "marker": {
             "pattern": {
              "fillmode": "overlay",
              "size": 10,
              "solidity": 0.2
             }
            },
            "type": "histogram"
           }
          ],
          "histogram2d": [
           {
            "colorbar": {
             "outlinewidth": 0,
             "ticks": ""
            },
            "colorscale": [
             [
              0,
              "#0d0887"
             ],
             [
              0.1111111111111111,
              "#46039f"
             ],
             [
              0.2222222222222222,
              "#7201a8"
             ],
             [
              0.3333333333333333,
              "#9c179e"
             ],
             [
              0.4444444444444444,
              "#bd3786"
             ],
             [
              0.5555555555555556,
              "#d8576b"
             ],
             [
              0.6666666666666666,
              "#ed7953"
             ],
             [
              0.7777777777777778,
              "#fb9f3a"
             ],
             [
              0.8888888888888888,
              "#fdca26"
             ],
             [
              1,
              "#f0f921"
             ]
            ],
            "type": "histogram2d"
           }
          ],
          "histogram2dcontour": [
           {
            "colorbar": {
             "outlinewidth": 0,
             "ticks": ""
            },
            "colorscale": [
             [
              0,
              "#0d0887"
             ],
             [
              0.1111111111111111,
              "#46039f"
             ],
             [
              0.2222222222222222,
              "#7201a8"
             ],
             [
              0.3333333333333333,
              "#9c179e"
             ],
             [
              0.4444444444444444,
              "#bd3786"
             ],
             [
              0.5555555555555556,
              "#d8576b"
             ],
             [
              0.6666666666666666,
              "#ed7953"
             ],
             [
              0.7777777777777778,
              "#fb9f3a"
             ],
             [
              0.8888888888888888,
              "#fdca26"
             ],
             [
              1,
              "#f0f921"
             ]
            ],
            "type": "histogram2dcontour"
           }
          ],
          "mesh3d": [
           {
            "colorbar": {
             "outlinewidth": 0,
             "ticks": ""
            },
            "type": "mesh3d"
           }
          ],
          "parcoords": [
           {
            "line": {
             "colorbar": {
              "outlinewidth": 0,
              "ticks": ""
             }
            },
            "type": "parcoords"
           }
          ],
          "pie": [
           {
            "automargin": true,
            "type": "pie"
           }
          ],
          "scatter": [
           {
            "fillpattern": {
             "fillmode": "overlay",
             "size": 10,
             "solidity": 0.2
            },
            "type": "scatter"
           }
          ],
          "scatter3d": [
           {
            "line": {
             "colorbar": {
              "outlinewidth": 0,
              "ticks": ""
             }
            },
            "marker": {
             "colorbar": {
              "outlinewidth": 0,
              "ticks": ""
             }
            },
            "type": "scatter3d"
           }
          ],
          "scattercarpet": [
           {
            "marker": {
             "colorbar": {
              "outlinewidth": 0,
              "ticks": ""
             }
            },
            "type": "scattercarpet"
           }
          ],
          "scattergeo": [
           {
            "marker": {
             "colorbar": {
              "outlinewidth": 0,
              "ticks": ""
             }
            },
            "type": "scattergeo"
           }
          ],
          "scattergl": [
           {
            "marker": {
             "colorbar": {
              "outlinewidth": 0,
              "ticks": ""
             }
            },
            "type": "scattergl"
           }
          ],
          "scattermapbox": [
           {
            "marker": {
             "colorbar": {
              "outlinewidth": 0,
              "ticks": ""
             }
            },
            "type": "scattermapbox"
           }
          ],
          "scatterpolar": [
           {
            "marker": {
             "colorbar": {
              "outlinewidth": 0,
              "ticks": ""
             }
            },
            "type": "scatterpolar"
           }
          ],
          "scatterpolargl": [
           {
            "marker": {
             "colorbar": {
              "outlinewidth": 0,
              "ticks": ""
             }
            },
            "type": "scatterpolargl"
           }
          ],
          "scatterternary": [
           {
            "marker": {
             "colorbar": {
              "outlinewidth": 0,
              "ticks": ""
             }
            },
            "type": "scatterternary"
           }
          ],
          "surface": [
           {
            "colorbar": {
             "outlinewidth": 0,
             "ticks": ""
            },
            "colorscale": [
             [
              0,
              "#0d0887"
             ],
             [
              0.1111111111111111,
              "#46039f"
             ],
             [
              0.2222222222222222,
              "#7201a8"
             ],
             [
              0.3333333333333333,
              "#9c179e"
             ],
             [
              0.4444444444444444,
              "#bd3786"
             ],
             [
              0.5555555555555556,
              "#d8576b"
             ],
             [
              0.6666666666666666,
              "#ed7953"
             ],
             [
              0.7777777777777778,
              "#fb9f3a"
             ],
             [
              0.8888888888888888,
              "#fdca26"
             ],
             [
              1,
              "#f0f921"
             ]
            ],
            "type": "surface"
           }
          ],
          "table": [
           {
            "cells": {
             "fill": {
              "color": "#EBF0F8"
             },
             "line": {
              "color": "white"
             }
            },
            "header": {
             "fill": {
              "color": "#C8D4E3"
             },
             "line": {
              "color": "white"
             }
            },
            "type": "table"
           }
          ]
         },
         "layout": {
          "annotationdefaults": {
           "arrowcolor": "#2a3f5f",
           "arrowhead": 0,
           "arrowwidth": 1
          },
          "autotypenumbers": "strict",
          "coloraxis": {
           "colorbar": {
            "outlinewidth": 0,
            "ticks": ""
           }
          },
          "colorscale": {
           "diverging": [
            [
             0,
             "#8e0152"
            ],
            [
             0.1,
             "#c51b7d"
            ],
            [
             0.2,
             "#de77ae"
            ],
            [
             0.3,
             "#f1b6da"
            ],
            [
             0.4,
             "#fde0ef"
            ],
            [
             0.5,
             "#f7f7f7"
            ],
            [
             0.6,
             "#e6f5d0"
            ],
            [
             0.7,
             "#b8e186"
            ],
            [
             0.8,
             "#7fbc41"
            ],
            [
             0.9,
             "#4d9221"
            ],
            [
             1,
             "#276419"
            ]
           ],
           "sequential": [
            [
             0,
             "#0d0887"
            ],
            [
             0.1111111111111111,
             "#46039f"
            ],
            [
             0.2222222222222222,
             "#7201a8"
            ],
            [
             0.3333333333333333,
             "#9c179e"
            ],
            [
             0.4444444444444444,
             "#bd3786"
            ],
            [
             0.5555555555555556,
             "#d8576b"
            ],
            [
             0.6666666666666666,
             "#ed7953"
            ],
            [
             0.7777777777777778,
             "#fb9f3a"
            ],
            [
             0.8888888888888888,
             "#fdca26"
            ],
            [
             1,
             "#f0f921"
            ]
           ],
           "sequentialminus": [
            [
             0,
             "#0d0887"
            ],
            [
             0.1111111111111111,
             "#46039f"
            ],
            [
             0.2222222222222222,
             "#7201a8"
            ],
            [
             0.3333333333333333,
             "#9c179e"
            ],
            [
             0.4444444444444444,
             "#bd3786"
            ],
            [
             0.5555555555555556,
             "#d8576b"
            ],
            [
             0.6666666666666666,
             "#ed7953"
            ],
            [
             0.7777777777777778,
             "#fb9f3a"
            ],
            [
             0.8888888888888888,
             "#fdca26"
            ],
            [
             1,
             "#f0f921"
            ]
           ]
          },
          "colorway": [
           "#636efa",
           "#EF553B",
           "#00cc96",
           "#ab63fa",
           "#FFA15A",
           "#19d3f3",
           "#FF6692",
           "#B6E880",
           "#FF97FF",
           "#FECB52"
          ],
          "font": {
           "color": "#2a3f5f"
          },
          "geo": {
           "bgcolor": "white",
           "lakecolor": "white",
           "landcolor": "white",
           "showlakes": true,
           "showland": true,
           "subunitcolor": "#C8D4E3"
          },
          "hoverlabel": {
           "align": "left"
          },
          "hovermode": "closest",
          "mapbox": {
           "style": "light"
          },
          "paper_bgcolor": "white",
          "plot_bgcolor": "white",
          "polar": {
           "angularaxis": {
            "gridcolor": "#EBF0F8",
            "linecolor": "#EBF0F8",
            "ticks": ""
           },
           "bgcolor": "white",
           "radialaxis": {
            "gridcolor": "#EBF0F8",
            "linecolor": "#EBF0F8",
            "ticks": ""
           }
          },
          "scene": {
           "xaxis": {
            "backgroundcolor": "white",
            "gridcolor": "#DFE8F3",
            "gridwidth": 2,
            "linecolor": "#EBF0F8",
            "showbackground": true,
            "ticks": "",
            "zerolinecolor": "#EBF0F8"
           },
           "yaxis": {
            "backgroundcolor": "white",
            "gridcolor": "#DFE8F3",
            "gridwidth": 2,
            "linecolor": "#EBF0F8",
            "showbackground": true,
            "ticks": "",
            "zerolinecolor": "#EBF0F8"
           },
           "zaxis": {
            "backgroundcolor": "white",
            "gridcolor": "#DFE8F3",
            "gridwidth": 2,
            "linecolor": "#EBF0F8",
            "showbackground": true,
            "ticks": "",
            "zerolinecolor": "#EBF0F8"
           }
          },
          "shapedefaults": {
           "line": {
            "color": "#2a3f5f"
           }
          },
          "ternary": {
           "aaxis": {
            "gridcolor": "#DFE8F3",
            "linecolor": "#A2B1C6",
            "ticks": ""
           },
           "baxis": {
            "gridcolor": "#DFE8F3",
            "linecolor": "#A2B1C6",
            "ticks": ""
           },
           "bgcolor": "white",
           "caxis": {
            "gridcolor": "#DFE8F3",
            "linecolor": "#A2B1C6",
            "ticks": ""
           }
          },
          "title": {
           "x": 0.05
          },
          "xaxis": {
           "automargin": true,
           "gridcolor": "#EBF0F8",
           "linecolor": "#EBF0F8",
           "ticks": "",
           "title": {
            "standoff": 15
           },
           "zerolinecolor": "#EBF0F8",
           "zerolinewidth": 2
          },
          "yaxis": {
           "automargin": true,
           "gridcolor": "#EBF0F8",
           "linecolor": "#EBF0F8",
           "ticks": "",
           "title": {
            "standoff": 15
           },
           "zerolinecolor": "#EBF0F8",
           "zerolinewidth": 2
          }
         }
        },
        "title": {
         "text": "Impressions Over Time"
        },
        "xaxis": {
         "anchor": "y",
         "domain": [
          0,
          1
         ],
         "title": {
          "text": "index"
         }
        },
        "yaxis": {
         "anchor": "x",
         "domain": [
          0,
          1
         ],
         "title": {
          "text": "Impressions"
         }
        }
       }
      }
     },
     "metadata": {},
     "output_type": "display_data"
    }
   ],
   "source": [
    "fig = px.line(data, x= data.index, y=\"Impressions\", title=\"Impressions Over Time\")\n",
    "fig.show()"
   ]
  },
  {
   "cell_type": "markdown",
   "metadata": {},
   "source": [
    "- Now let's have a look at al the metrics like Likes, Saves, and Follows from each post over time "
   ]
  },
  {
   "cell_type": "code",
   "execution_count": 10,
   "metadata": {},
   "outputs": [
    {
     "data": {
      "application/vnd.plotly.v1+json": {
       "config": {
        "plotlyServerURL": "https://plot.ly"
       },
       "data": [
        {
         "name": "Likes",
         "type": "scatter",
         "x": [
          0,
          1,
          2,
          3,
          4,
          5,
          6,
          7,
          8,
          9,
          10,
          11,
          12,
          13,
          14,
          15,
          16,
          17,
          18,
          19,
          20,
          21,
          22,
          23,
          24,
          25,
          26,
          27,
          28,
          29,
          30,
          31,
          32,
          33,
          34,
          35,
          36,
          37,
          38,
          39,
          40,
          41,
          42,
          43,
          44,
          45,
          46,
          47,
          48,
          49,
          50,
          51,
          52,
          53,
          54,
          55,
          56,
          57,
          58,
          59,
          60,
          61,
          62,
          63,
          64,
          65,
          66,
          67,
          68,
          69,
          70,
          71,
          72,
          73,
          74,
          75,
          76,
          77,
          78,
          79,
          80,
          81,
          82,
          83,
          84,
          85,
          86,
          87,
          88,
          89,
          90,
          91,
          92,
          93,
          94,
          95,
          96,
          97,
          98,
          99,
          100,
          101,
          102,
          103,
          104,
          105,
          106,
          107,
          108,
          109,
          110,
          111,
          112,
          113,
          114,
          115,
          116,
          117,
          118
         ],
         "y": [
          162,
          224,
          131,
          213,
          123,
          144,
          76,
          124,
          159,
          191,
          81,
          151,
          162,
          142,
          294,
          159,
          205,
          121,
          151,
          72,
          76,
          91,
          195,
          129,
          160,
          175,
          147,
          114,
          151,
          92,
          214,
          150,
          122,
          152,
          196,
          86,
          85,
          156,
          72,
          82,
          416,
          180,
          150,
          127,
          167,
          225,
          137,
          114,
          263,
          328,
          126,
          236,
          99,
          212,
          297,
          142,
          186,
          112,
          149,
          132,
          115,
          248,
          178,
          107,
          269,
          96,
          134,
          301,
          187,
          94,
          114,
          96,
          138,
          122,
          257,
          95,
          244,
          190,
          118,
          178,
          170,
          250,
          159,
          205,
          121,
          151,
          72,
          137,
          114,
          263,
          328,
          126,
          129,
          160,
          175,
          147,
          114,
          151,
          92,
          275,
          192,
          203,
          145,
          168,
          194,
          250,
          171,
          416,
          249,
          308,
          163,
          86,
          210,
          172,
          373,
          148,
          92,
          549,
          443
         ]
        },
        {
         "name": "Saves",
         "type": "scatter",
         "x": [
          0,
          1,
          2,
          3,
          4,
          5,
          6,
          7,
          8,
          9,
          10,
          11,
          12,
          13,
          14,
          15,
          16,
          17,
          18,
          19,
          20,
          21,
          22,
          23,
          24,
          25,
          26,
          27,
          28,
          29,
          30,
          31,
          32,
          33,
          34,
          35,
          36,
          37,
          38,
          39,
          40,
          41,
          42,
          43,
          44,
          45,
          46,
          47,
          48,
          49,
          50,
          51,
          52,
          53,
          54,
          55,
          56,
          57,
          58,
          59,
          60,
          61,
          62,
          63,
          64,
          65,
          66,
          67,
          68,
          69,
          70,
          71,
          72,
          73,
          74,
          75,
          76,
          77,
          78,
          79,
          80,
          81,
          82,
          83,
          84,
          85,
          86,
          87,
          88,
          89,
          90,
          91,
          92,
          93,
          94,
          95,
          96,
          97,
          98,
          99,
          100,
          101,
          102,
          103,
          104,
          105,
          106,
          107,
          108,
          109,
          110,
          111,
          112,
          113,
          114,
          115,
          116,
          117,
          118
         ],
         "y": [
          98,
          194,
          41,
          172,
          96,
          74,
          22,
          135,
          155,
          122,
          28,
          122,
          119,
          121,
          100,
          101,
          111,
          106,
          82,
          40,
          49,
          72,
          167,
          63,
          144,
          135,
          61,
          40,
          139,
          52,
          84,
          81,
          79,
          105,
          90,
          34,
          45,
          98,
          35,
          49,
          252,
          167,
          111,
          90,
          144,
          263,
          137,
          67,
          288,
          668,
          42,
          342,
          48,
          250,
          219,
          118,
          143,
          99,
          89,
          148,
          42,
          171,
          109,
          38,
          421,
          38,
          116,
          225,
          144,
          51,
          104,
          33,
          174,
          46,
          179,
          34,
          99,
          174,
          70,
          149,
          207,
          318,
          101,
          111,
          106,
          82,
          40,
          137,
          67,
          288,
          668,
          42,
          63,
          144,
          135,
          61,
          40,
          139,
          52,
          393,
          152,
          83,
          74,
          94,
          188,
          214,
          73,
          285,
          469,
          504,
          149,
          55,
          273,
          182,
          573,
          135,
          36,
          1095,
          653
         ]
        },
        {
         "name": "Follows",
         "type": "scatter",
         "x": [
          0,
          1,
          2,
          3,
          4,
          5,
          6,
          7,
          8,
          9,
          10,
          11,
          12,
          13,
          14,
          15,
          16,
          17,
          18,
          19,
          20,
          21,
          22,
          23,
          24,
          25,
          26,
          27,
          28,
          29,
          30,
          31,
          32,
          33,
          34,
          35,
          36,
          37,
          38,
          39,
          40,
          41,
          42,
          43,
          44,
          45,
          46,
          47,
          48,
          49,
          50,
          51,
          52,
          53,
          54,
          55,
          56,
          57,
          58,
          59,
          60,
          61,
          62,
          63,
          64,
          65,
          66,
          67,
          68,
          69,
          70,
          71,
          72,
          73,
          74,
          75,
          76,
          77,
          78,
          79,
          80,
          81,
          82,
          83,
          84,
          85,
          86,
          87,
          88,
          89,
          90,
          91,
          92,
          93,
          94,
          95,
          96,
          97,
          98,
          99,
          100,
          101,
          102,
          103,
          104,
          105,
          106,
          107,
          108,
          109,
          110,
          111,
          112,
          113,
          114,
          115,
          116,
          117,
          118
         ],
         "y": [
          2,
          10,
          12,
          8,
          0,
          2,
          0,
          6,
          4,
          6,
          4,
          0,
          2,
          4,
          42,
          6,
          2,
          2,
          30,
          0,
          0,
          24,
          100,
          2,
          4,
          6,
          6,
          6,
          2,
          2,
          20,
          2,
          4,
          8,
          26,
          2,
          2,
          4,
          0,
          2,
          94,
          8,
          18,
          10,
          4,
          4,
          4,
          4,
          18,
          38,
          10,
          12,
          4,
          4,
          74,
          0,
          6,
          6,
          0,
          6,
          12,
          10,
          8,
          8,
          46,
          12,
          10,
          94,
          6,
          10,
          6,
          4,
          12,
          16,
          12,
          8,
          32,
          8,
          16,
          6,
          10,
          10,
          6,
          2,
          2,
          30,
          0,
          4,
          4,
          18,
          38,
          10,
          2,
          4,
          6,
          6,
          6,
          2,
          2,
          14,
          8,
          14,
          28,
          18,
          12,
          34,
          26,
          260,
          16,
          96,
          20,
          30,
          58,
          100,
          80,
          18,
          10,
          214,
          228
         ]
        }
       ],
       "layout": {
        "template": {
         "data": {
          "bar": [
           {
            "error_x": {
             "color": "#2a3f5f"
            },
            "error_y": {
             "color": "#2a3f5f"
            },
            "marker": {
             "line": {
              "color": "white",
              "width": 0.5
             },
             "pattern": {
              "fillmode": "overlay",
              "size": 10,
              "solidity": 0.2
             }
            },
            "type": "bar"
           }
          ],
          "barpolar": [
           {
            "marker": {
             "line": {
              "color": "white",
              "width": 0.5
             },
             "pattern": {
              "fillmode": "overlay",
              "size": 10,
              "solidity": 0.2
             }
            },
            "type": "barpolar"
           }
          ],
          "carpet": [
           {
            "aaxis": {
             "endlinecolor": "#2a3f5f",
             "gridcolor": "#C8D4E3",
             "linecolor": "#C8D4E3",
             "minorgridcolor": "#C8D4E3",
             "startlinecolor": "#2a3f5f"
            },
            "baxis": {
             "endlinecolor": "#2a3f5f",
             "gridcolor": "#C8D4E3",
             "linecolor": "#C8D4E3",
             "minorgridcolor": "#C8D4E3",
             "startlinecolor": "#2a3f5f"
            },
            "type": "carpet"
           }
          ],
          "choropleth": [
           {
            "colorbar": {
             "outlinewidth": 0,
             "ticks": ""
            },
            "type": "choropleth"
           }
          ],
          "contour": [
           {
            "colorbar": {
             "outlinewidth": 0,
             "ticks": ""
            },
            "colorscale": [
             [
              0,
              "#0d0887"
             ],
             [
              0.1111111111111111,
              "#46039f"
             ],
             [
              0.2222222222222222,
              "#7201a8"
             ],
             [
              0.3333333333333333,
              "#9c179e"
             ],
             [
              0.4444444444444444,
              "#bd3786"
             ],
             [
              0.5555555555555556,
              "#d8576b"
             ],
             [
              0.6666666666666666,
              "#ed7953"
             ],
             [
              0.7777777777777778,
              "#fb9f3a"
             ],
             [
              0.8888888888888888,
              "#fdca26"
             ],
             [
              1,
              "#f0f921"
             ]
            ],
            "type": "contour"
           }
          ],
          "contourcarpet": [
           {
            "colorbar": {
             "outlinewidth": 0,
             "ticks": ""
            },
            "type": "contourcarpet"
           }
          ],
          "heatmap": [
           {
            "colorbar": {
             "outlinewidth": 0,
             "ticks": ""
            },
            "colorscale": [
             [
              0,
              "#0d0887"
             ],
             [
              0.1111111111111111,
              "#46039f"
             ],
             [
              0.2222222222222222,
              "#7201a8"
             ],
             [
              0.3333333333333333,
              "#9c179e"
             ],
             [
              0.4444444444444444,
              "#bd3786"
             ],
             [
              0.5555555555555556,
              "#d8576b"
             ],
             [
              0.6666666666666666,
              "#ed7953"
             ],
             [
              0.7777777777777778,
              "#fb9f3a"
             ],
             [
              0.8888888888888888,
              "#fdca26"
             ],
             [
              1,
              "#f0f921"
             ]
            ],
            "type": "heatmap"
           }
          ],
          "heatmapgl": [
           {
            "colorbar": {
             "outlinewidth": 0,
             "ticks": ""
            },
            "colorscale": [
             [
              0,
              "#0d0887"
             ],
             [
              0.1111111111111111,
              "#46039f"
             ],
             [
              0.2222222222222222,
              "#7201a8"
             ],
             [
              0.3333333333333333,
              "#9c179e"
             ],
             [
              0.4444444444444444,
              "#bd3786"
             ],
             [
              0.5555555555555556,
              "#d8576b"
             ],
             [
              0.6666666666666666,
              "#ed7953"
             ],
             [
              0.7777777777777778,
              "#fb9f3a"
             ],
             [
              0.8888888888888888,
              "#fdca26"
             ],
             [
              1,
              "#f0f921"
             ]
            ],
            "type": "heatmapgl"
           }
          ],
          "histogram": [
           {
            "marker": {
             "pattern": {
              "fillmode": "overlay",
              "size": 10,
              "solidity": 0.2
             }
            },
            "type": "histogram"
           }
          ],
          "histogram2d": [
           {
            "colorbar": {
             "outlinewidth": 0,
             "ticks": ""
            },
            "colorscale": [
             [
              0,
              "#0d0887"
             ],
             [
              0.1111111111111111,
              "#46039f"
             ],
             [
              0.2222222222222222,
              "#7201a8"
             ],
             [
              0.3333333333333333,
              "#9c179e"
             ],
             [
              0.4444444444444444,
              "#bd3786"
             ],
             [
              0.5555555555555556,
              "#d8576b"
             ],
             [
              0.6666666666666666,
              "#ed7953"
             ],
             [
              0.7777777777777778,
              "#fb9f3a"
             ],
             [
              0.8888888888888888,
              "#fdca26"
             ],
             [
              1,
              "#f0f921"
             ]
            ],
            "type": "histogram2d"
           }
          ],
          "histogram2dcontour": [
           {
            "colorbar": {
             "outlinewidth": 0,
             "ticks": ""
            },
            "colorscale": [
             [
              0,
              "#0d0887"
             ],
             [
              0.1111111111111111,
              "#46039f"
             ],
             [
              0.2222222222222222,
              "#7201a8"
             ],
             [
              0.3333333333333333,
              "#9c179e"
             ],
             [
              0.4444444444444444,
              "#bd3786"
             ],
             [
              0.5555555555555556,
              "#d8576b"
             ],
             [
              0.6666666666666666,
              "#ed7953"
             ],
             [
              0.7777777777777778,
              "#fb9f3a"
             ],
             [
              0.8888888888888888,
              "#fdca26"
             ],
             [
              1,
              "#f0f921"
             ]
            ],
            "type": "histogram2dcontour"
           }
          ],
          "mesh3d": [
           {
            "colorbar": {
             "outlinewidth": 0,
             "ticks": ""
            },
            "type": "mesh3d"
           }
          ],
          "parcoords": [
           {
            "line": {
             "colorbar": {
              "outlinewidth": 0,
              "ticks": ""
             }
            },
            "type": "parcoords"
           }
          ],
          "pie": [
           {
            "automargin": true,
            "type": "pie"
           }
          ],
          "scatter": [
           {
            "fillpattern": {
             "fillmode": "overlay",
             "size": 10,
             "solidity": 0.2
            },
            "type": "scatter"
           }
          ],
          "scatter3d": [
           {
            "line": {
             "colorbar": {
              "outlinewidth": 0,
              "ticks": ""
             }
            },
            "marker": {
             "colorbar": {
              "outlinewidth": 0,
              "ticks": ""
             }
            },
            "type": "scatter3d"
           }
          ],
          "scattercarpet": [
           {
            "marker": {
             "colorbar": {
              "outlinewidth": 0,
              "ticks": ""
             }
            },
            "type": "scattercarpet"
           }
          ],
          "scattergeo": [
           {
            "marker": {
             "colorbar": {
              "outlinewidth": 0,
              "ticks": ""
             }
            },
            "type": "scattergeo"
           }
          ],
          "scattergl": [
           {
            "marker": {
             "colorbar": {
              "outlinewidth": 0,
              "ticks": ""
             }
            },
            "type": "scattergl"
           }
          ],
          "scattermapbox": [
           {
            "marker": {
             "colorbar": {
              "outlinewidth": 0,
              "ticks": ""
             }
            },
            "type": "scattermapbox"
           }
          ],
          "scatterpolar": [
           {
            "marker": {
             "colorbar": {
              "outlinewidth": 0,
              "ticks": ""
             }
            },
            "type": "scatterpolar"
           }
          ],
          "scatterpolargl": [
           {
            "marker": {
             "colorbar": {
              "outlinewidth": 0,
              "ticks": ""
             }
            },
            "type": "scatterpolargl"
           }
          ],
          "scatterternary": [
           {
            "marker": {
             "colorbar": {
              "outlinewidth": 0,
              "ticks": ""
             }
            },
            "type": "scatterternary"
           }
          ],
          "surface": [
           {
            "colorbar": {
             "outlinewidth": 0,
             "ticks": ""
            },
            "colorscale": [
             [
              0,
              "#0d0887"
             ],
             [
              0.1111111111111111,
              "#46039f"
             ],
             [
              0.2222222222222222,
              "#7201a8"
             ],
             [
              0.3333333333333333,
              "#9c179e"
             ],
             [
              0.4444444444444444,
              "#bd3786"
             ],
             [
              0.5555555555555556,
              "#d8576b"
             ],
             [
              0.6666666666666666,
              "#ed7953"
             ],
             [
              0.7777777777777778,
              "#fb9f3a"
             ],
             [
              0.8888888888888888,
              "#fdca26"
             ],
             [
              1,
              "#f0f921"
             ]
            ],
            "type": "surface"
           }
          ],
          "table": [
           {
            "cells": {
             "fill": {
              "color": "#EBF0F8"
             },
             "line": {
              "color": "white"
             }
            },
            "header": {
             "fill": {
              "color": "#C8D4E3"
             },
             "line": {
              "color": "white"
             }
            },
            "type": "table"
           }
          ]
         },
         "layout": {
          "annotationdefaults": {
           "arrowcolor": "#2a3f5f",
           "arrowhead": 0,
           "arrowwidth": 1
          },
          "autotypenumbers": "strict",
          "coloraxis": {
           "colorbar": {
            "outlinewidth": 0,
            "ticks": ""
           }
          },
          "colorscale": {
           "diverging": [
            [
             0,
             "#8e0152"
            ],
            [
             0.1,
             "#c51b7d"
            ],
            [
             0.2,
             "#de77ae"
            ],
            [
             0.3,
             "#f1b6da"
            ],
            [
             0.4,
             "#fde0ef"
            ],
            [
             0.5,
             "#f7f7f7"
            ],
            [
             0.6,
             "#e6f5d0"
            ],
            [
             0.7,
             "#b8e186"
            ],
            [
             0.8,
             "#7fbc41"
            ],
            [
             0.9,
             "#4d9221"
            ],
            [
             1,
             "#276419"
            ]
           ],
           "sequential": [
            [
             0,
             "#0d0887"
            ],
            [
             0.1111111111111111,
             "#46039f"
            ],
            [
             0.2222222222222222,
             "#7201a8"
            ],
            [
             0.3333333333333333,
             "#9c179e"
            ],
            [
             0.4444444444444444,
             "#bd3786"
            ],
            [
             0.5555555555555556,
             "#d8576b"
            ],
            [
             0.6666666666666666,
             "#ed7953"
            ],
            [
             0.7777777777777778,
             "#fb9f3a"
            ],
            [
             0.8888888888888888,
             "#fdca26"
            ],
            [
             1,
             "#f0f921"
            ]
           ],
           "sequentialminus": [
            [
             0,
             "#0d0887"
            ],
            [
             0.1111111111111111,
             "#46039f"
            ],
            [
             0.2222222222222222,
             "#7201a8"
            ],
            [
             0.3333333333333333,
             "#9c179e"
            ],
            [
             0.4444444444444444,
             "#bd3786"
            ],
            [
             0.5555555555555556,
             "#d8576b"
            ],
            [
             0.6666666666666666,
             "#ed7953"
            ],
            [
             0.7777777777777778,
             "#fb9f3a"
            ],
            [
             0.8888888888888888,
             "#fdca26"
            ],
            [
             1,
             "#f0f921"
            ]
           ]
          },
          "colorway": [
           "#636efa",
           "#EF553B",
           "#00cc96",
           "#ab63fa",
           "#FFA15A",
           "#19d3f3",
           "#FF6692",
           "#B6E880",
           "#FF97FF",
           "#FECB52"
          ],
          "font": {
           "color": "#2a3f5f"
          },
          "geo": {
           "bgcolor": "white",
           "lakecolor": "white",
           "landcolor": "white",
           "showlakes": true,
           "showland": true,
           "subunitcolor": "#C8D4E3"
          },
          "hoverlabel": {
           "align": "left"
          },
          "hovermode": "closest",
          "mapbox": {
           "style": "light"
          },
          "paper_bgcolor": "white",
          "plot_bgcolor": "white",
          "polar": {
           "angularaxis": {
            "gridcolor": "#EBF0F8",
            "linecolor": "#EBF0F8",
            "ticks": ""
           },
           "bgcolor": "white",
           "radialaxis": {
            "gridcolor": "#EBF0F8",
            "linecolor": "#EBF0F8",
            "ticks": ""
           }
          },
          "scene": {
           "xaxis": {
            "backgroundcolor": "white",
            "gridcolor": "#DFE8F3",
            "gridwidth": 2,
            "linecolor": "#EBF0F8",
            "showbackground": true,
            "ticks": "",
            "zerolinecolor": "#EBF0F8"
           },
           "yaxis": {
            "backgroundcolor": "white",
            "gridcolor": "#DFE8F3",
            "gridwidth": 2,
            "linecolor": "#EBF0F8",
            "showbackground": true,
            "ticks": "",
            "zerolinecolor": "#EBF0F8"
           },
           "zaxis": {
            "backgroundcolor": "white",
            "gridcolor": "#DFE8F3",
            "gridwidth": 2,
            "linecolor": "#EBF0F8",
            "showbackground": true,
            "ticks": "",
            "zerolinecolor": "#EBF0F8"
           }
          },
          "shapedefaults": {
           "line": {
            "color": "#2a3f5f"
           }
          },
          "ternary": {
           "aaxis": {
            "gridcolor": "#DFE8F3",
            "linecolor": "#A2B1C6",
            "ticks": ""
           },
           "baxis": {
            "gridcolor": "#DFE8F3",
            "linecolor": "#A2B1C6",
            "ticks": ""
           },
           "bgcolor": "white",
           "caxis": {
            "gridcolor": "#DFE8F3",
            "linecolor": "#A2B1C6",
            "ticks": ""
           }
          },
          "title": {
           "x": 0.05
          },
          "xaxis": {
           "automargin": true,
           "gridcolor": "#EBF0F8",
           "linecolor": "#EBF0F8",
           "ticks": "",
           "title": {
            "standoff": 15
           },
           "zerolinecolor": "#EBF0F8",
           "zerolinewidth": 2
          },
          "yaxis": {
           "automargin": true,
           "gridcolor": "#EBF0F8",
           "linecolor": "#EBF0F8",
           "ticks": "",
           "title": {
            "standoff": 15
           },
           "zerolinecolor": "#EBF0F8",
           "zerolinewidth": 2
          }
         }
        },
        "title": {
         "text": "Metrics Over Time"
        },
        "xaxis": {
         "title": {
          "text": "Date"
         }
        },
        "yaxis": {
         "title": {
          "text": "Count"
         }
        }
       }
      }
     },
     "metadata": {},
     "output_type": "display_data"
    }
   ],
   "source": [
    "fig = go.Figure()\n",
    "\n",
    "fig.add_trace(go.Scatter(x=data.index, y=data['Likes'], name='Likes'))\n",
    "fig.add_trace(go.Scatter(x=data.index, y=data['Saves'], name='Saves'))\n",
    "fig.add_trace(go.Scatter(x=data.index, y=data['Follows'], name='Follows'))\n",
    "\n",
    "fig.update_layout(title='Metrics Over Time', xaxis_title='Date', yaxis_title='Count')\n",
    "\n",
    "fig.show()"
   ]
  },
  {
   "cell_type": "markdown",
   "metadata": {},
   "source": [
    "- Now let's have  a look at the distribution of reach from different sources"
   ]
  },
  {
   "cell_type": "code",
   "execution_count": 12,
   "metadata": {},
   "outputs": [
    {
     "data": {
      "application/vnd.plotly.v1+json": {
       "config": {
        "plotlyServerURL": "https://plot.ly"
       },
       "data": [
        {
         "domain": {
          "x": [
           0,
           1
          ],
          "y": [
           0,
           1
          ]
         },
         "hovertemplate": "label=%{label}<br>value=%{value}<extra></extra>",
         "labels": [
          "From Home",
          "From Hashtags",
          "From Explore",
          "From Other"
         ],
         "legendgroup": "",
         "name": "",
         "showlegend": true,
         "type": "pie",
         "values": [
          294619,
          224614,
          128294,
          20360
         ]
        }
       ],
       "layout": {
        "legend": {
         "tracegroupgap": 0
        },
        "piecolorway": [
         "#FFB6C1",
         "#87CEFA",
         "#90EE90",
         "#FFDAB9"
        ],
        "template": {
         "data": {
          "bar": [
           {
            "error_x": {
             "color": "#2a3f5f"
            },
            "error_y": {
             "color": "#2a3f5f"
            },
            "marker": {
             "line": {
              "color": "white",
              "width": 0.5
             },
             "pattern": {
              "fillmode": "overlay",
              "size": 10,
              "solidity": 0.2
             }
            },
            "type": "bar"
           }
          ],
          "barpolar": [
           {
            "marker": {
             "line": {
              "color": "white",
              "width": 0.5
             },
             "pattern": {
              "fillmode": "overlay",
              "size": 10,
              "solidity": 0.2
             }
            },
            "type": "barpolar"
           }
          ],
          "carpet": [
           {
            "aaxis": {
             "endlinecolor": "#2a3f5f",
             "gridcolor": "#C8D4E3",
             "linecolor": "#C8D4E3",
             "minorgridcolor": "#C8D4E3",
             "startlinecolor": "#2a3f5f"
            },
            "baxis": {
             "endlinecolor": "#2a3f5f",
             "gridcolor": "#C8D4E3",
             "linecolor": "#C8D4E3",
             "minorgridcolor": "#C8D4E3",
             "startlinecolor": "#2a3f5f"
            },
            "type": "carpet"
           }
          ],
          "choropleth": [
           {
            "colorbar": {
             "outlinewidth": 0,
             "ticks": ""
            },
            "type": "choropleth"
           }
          ],
          "contour": [
           {
            "colorbar": {
             "outlinewidth": 0,
             "ticks": ""
            },
            "colorscale": [
             [
              0,
              "#0d0887"
             ],
             [
              0.1111111111111111,
              "#46039f"
             ],
             [
              0.2222222222222222,
              "#7201a8"
             ],
             [
              0.3333333333333333,
              "#9c179e"
             ],
             [
              0.4444444444444444,
              "#bd3786"
             ],
             [
              0.5555555555555556,
              "#d8576b"
             ],
             [
              0.6666666666666666,
              "#ed7953"
             ],
             [
              0.7777777777777778,
              "#fb9f3a"
             ],
             [
              0.8888888888888888,
              "#fdca26"
             ],
             [
              1,
              "#f0f921"
             ]
            ],
            "type": "contour"
           }
          ],
          "contourcarpet": [
           {
            "colorbar": {
             "outlinewidth": 0,
             "ticks": ""
            },
            "type": "contourcarpet"
           }
          ],
          "heatmap": [
           {
            "colorbar": {
             "outlinewidth": 0,
             "ticks": ""
            },
            "colorscale": [
             [
              0,
              "#0d0887"
             ],
             [
              0.1111111111111111,
              "#46039f"
             ],
             [
              0.2222222222222222,
              "#7201a8"
             ],
             [
              0.3333333333333333,
              "#9c179e"
             ],
             [
              0.4444444444444444,
              "#bd3786"
             ],
             [
              0.5555555555555556,
              "#d8576b"
             ],
             [
              0.6666666666666666,
              "#ed7953"
             ],
             [
              0.7777777777777778,
              "#fb9f3a"
             ],
             [
              0.8888888888888888,
              "#fdca26"
             ],
             [
              1,
              "#f0f921"
             ]
            ],
            "type": "heatmap"
           }
          ],
          "heatmapgl": [
           {
            "colorbar": {
             "outlinewidth": 0,
             "ticks": ""
            },
            "colorscale": [
             [
              0,
              "#0d0887"
             ],
             [
              0.1111111111111111,
              "#46039f"
             ],
             [
              0.2222222222222222,
              "#7201a8"
             ],
             [
              0.3333333333333333,
              "#9c179e"
             ],
             [
              0.4444444444444444,
              "#bd3786"
             ],
             [
              0.5555555555555556,
              "#d8576b"
             ],
             [
              0.6666666666666666,
              "#ed7953"
             ],
             [
              0.7777777777777778,
              "#fb9f3a"
             ],
             [
              0.8888888888888888,
              "#fdca26"
             ],
             [
              1,
              "#f0f921"
             ]
            ],
            "type": "heatmapgl"
           }
          ],
          "histogram": [
           {
            "marker": {
             "pattern": {
              "fillmode": "overlay",
              "size": 10,
              "solidity": 0.2
             }
            },
            "type": "histogram"
           }
          ],
          "histogram2d": [
           {
            "colorbar": {
             "outlinewidth": 0,
             "ticks": ""
            },
            "colorscale": [
             [
              0,
              "#0d0887"
             ],
             [
              0.1111111111111111,
              "#46039f"
             ],
             [
              0.2222222222222222,
              "#7201a8"
             ],
             [
              0.3333333333333333,
              "#9c179e"
             ],
             [
              0.4444444444444444,
              "#bd3786"
             ],
             [
              0.5555555555555556,
              "#d8576b"
             ],
             [
              0.6666666666666666,
              "#ed7953"
             ],
             [
              0.7777777777777778,
              "#fb9f3a"
             ],
             [
              0.8888888888888888,
              "#fdca26"
             ],
             [
              1,
              "#f0f921"
             ]
            ],
            "type": "histogram2d"
           }
          ],
          "histogram2dcontour": [
           {
            "colorbar": {
             "outlinewidth": 0,
             "ticks": ""
            },
            "colorscale": [
             [
              0,
              "#0d0887"
             ],
             [
              0.1111111111111111,
              "#46039f"
             ],
             [
              0.2222222222222222,
              "#7201a8"
             ],
             [
              0.3333333333333333,
              "#9c179e"
             ],
             [
              0.4444444444444444,
              "#bd3786"
             ],
             [
              0.5555555555555556,
              "#d8576b"
             ],
             [
              0.6666666666666666,
              "#ed7953"
             ],
             [
              0.7777777777777778,
              "#fb9f3a"
             ],
             [
              0.8888888888888888,
              "#fdca26"
             ],
             [
              1,
              "#f0f921"
             ]
            ],
            "type": "histogram2dcontour"
           }
          ],
          "mesh3d": [
           {
            "colorbar": {
             "outlinewidth": 0,
             "ticks": ""
            },
            "type": "mesh3d"
           }
          ],
          "parcoords": [
           {
            "line": {
             "colorbar": {
              "outlinewidth": 0,
              "ticks": ""
             }
            },
            "type": "parcoords"
           }
          ],
          "pie": [
           {
            "automargin": true,
            "type": "pie"
           }
          ],
          "scatter": [
           {
            "fillpattern": {
             "fillmode": "overlay",
             "size": 10,
             "solidity": 0.2
            },
            "type": "scatter"
           }
          ],
          "scatter3d": [
           {
            "line": {
             "colorbar": {
              "outlinewidth": 0,
              "ticks": ""
             }
            },
            "marker": {
             "colorbar": {
              "outlinewidth": 0,
              "ticks": ""
             }
            },
            "type": "scatter3d"
           }
          ],
          "scattercarpet": [
           {
            "marker": {
             "colorbar": {
              "outlinewidth": 0,
              "ticks": ""
             }
            },
            "type": "scattercarpet"
           }
          ],
          "scattergeo": [
           {
            "marker": {
             "colorbar": {
              "outlinewidth": 0,
              "ticks": ""
             }
            },
            "type": "scattergeo"
           }
          ],
          "scattergl": [
           {
            "marker": {
             "colorbar": {
              "outlinewidth": 0,
              "ticks": ""
             }
            },
            "type": "scattergl"
           }
          ],
          "scattermapbox": [
           {
            "marker": {
             "colorbar": {
              "outlinewidth": 0,
              "ticks": ""
             }
            },
            "type": "scattermapbox"
           }
          ],
          "scatterpolar": [
           {
            "marker": {
             "colorbar": {
              "outlinewidth": 0,
              "ticks": ""
             }
            },
            "type": "scatterpolar"
           }
          ],
          "scatterpolargl": [
           {
            "marker": {
             "colorbar": {
              "outlinewidth": 0,
              "ticks": ""
             }
            },
            "type": "scatterpolargl"
           }
          ],
          "scatterternary": [
           {
            "marker": {
             "colorbar": {
              "outlinewidth": 0,
              "ticks": ""
             }
            },
            "type": "scatterternary"
           }
          ],
          "surface": [
           {
            "colorbar": {
             "outlinewidth": 0,
             "ticks": ""
            },
            "colorscale": [
             [
              0,
              "#0d0887"
             ],
             [
              0.1111111111111111,
              "#46039f"
             ],
             [
              0.2222222222222222,
              "#7201a8"
             ],
             [
              0.3333333333333333,
              "#9c179e"
             ],
             [
              0.4444444444444444,
              "#bd3786"
             ],
             [
              0.5555555555555556,
              "#d8576b"
             ],
             [
              0.6666666666666666,
              "#ed7953"
             ],
             [
              0.7777777777777778,
              "#fb9f3a"
             ],
             [
              0.8888888888888888,
              "#fdca26"
             ],
             [
              1,
              "#f0f921"
             ]
            ],
            "type": "surface"
           }
          ],
          "table": [
           {
            "cells": {
             "fill": {
              "color": "#EBF0F8"
             },
             "line": {
              "color": "white"
             }
            },
            "header": {
             "fill": {
              "color": "#C8D4E3"
             },
             "line": {
              "color": "white"
             }
            },
            "type": "table"
           }
          ]
         },
         "layout": {
          "annotationdefaults": {
           "arrowcolor": "#2a3f5f",
           "arrowhead": 0,
           "arrowwidth": 1
          },
          "autotypenumbers": "strict",
          "coloraxis": {
           "colorbar": {
            "outlinewidth": 0,
            "ticks": ""
           }
          },
          "colorscale": {
           "diverging": [
            [
             0,
             "#8e0152"
            ],
            [
             0.1,
             "#c51b7d"
            ],
            [
             0.2,
             "#de77ae"
            ],
            [
             0.3,
             "#f1b6da"
            ],
            [
             0.4,
             "#fde0ef"
            ],
            [
             0.5,
             "#f7f7f7"
            ],
            [
             0.6,
             "#e6f5d0"
            ],
            [
             0.7,
             "#b8e186"
            ],
            [
             0.8,
             "#7fbc41"
            ],
            [
             0.9,
             "#4d9221"
            ],
            [
             1,
             "#276419"
            ]
           ],
           "sequential": [
            [
             0,
             "#0d0887"
            ],
            [
             0.1111111111111111,
             "#46039f"
            ],
            [
             0.2222222222222222,
             "#7201a8"
            ],
            [
             0.3333333333333333,
             "#9c179e"
            ],
            [
             0.4444444444444444,
             "#bd3786"
            ],
            [
             0.5555555555555556,
             "#d8576b"
            ],
            [
             0.6666666666666666,
             "#ed7953"
            ],
            [
             0.7777777777777778,
             "#fb9f3a"
            ],
            [
             0.8888888888888888,
             "#fdca26"
            ],
            [
             1,
             "#f0f921"
            ]
           ],
           "sequentialminus": [
            [
             0,
             "#0d0887"
            ],
            [
             0.1111111111111111,
             "#46039f"
            ],
            [
             0.2222222222222222,
             "#7201a8"
            ],
            [
             0.3333333333333333,
             "#9c179e"
            ],
            [
             0.4444444444444444,
             "#bd3786"
            ],
            [
             0.5555555555555556,
             "#d8576b"
            ],
            [
             0.6666666666666666,
             "#ed7953"
            ],
            [
             0.7777777777777778,
             "#fb9f3a"
            ],
            [
             0.8888888888888888,
             "#fdca26"
            ],
            [
             1,
             "#f0f921"
            ]
           ]
          },
          "colorway": [
           "#636efa",
           "#EF553B",
           "#00cc96",
           "#ab63fa",
           "#FFA15A",
           "#19d3f3",
           "#FF6692",
           "#B6E880",
           "#FF97FF",
           "#FECB52"
          ],
          "font": {
           "color": "#2a3f5f"
          },
          "geo": {
           "bgcolor": "white",
           "lakecolor": "white",
           "landcolor": "white",
           "showlakes": true,
           "showland": true,
           "subunitcolor": "#C8D4E3"
          },
          "hoverlabel": {
           "align": "left"
          },
          "hovermode": "closest",
          "mapbox": {
           "style": "light"
          },
          "paper_bgcolor": "white",
          "plot_bgcolor": "white",
          "polar": {
           "angularaxis": {
            "gridcolor": "#EBF0F8",
            "linecolor": "#EBF0F8",
            "ticks": ""
           },
           "bgcolor": "white",
           "radialaxis": {
            "gridcolor": "#EBF0F8",
            "linecolor": "#EBF0F8",
            "ticks": ""
           }
          },
          "scene": {
           "xaxis": {
            "backgroundcolor": "white",
            "gridcolor": "#DFE8F3",
            "gridwidth": 2,
            "linecolor": "#EBF0F8",
            "showbackground": true,
            "ticks": "",
            "zerolinecolor": "#EBF0F8"
           },
           "yaxis": {
            "backgroundcolor": "white",
            "gridcolor": "#DFE8F3",
            "gridwidth": 2,
            "linecolor": "#EBF0F8",
            "showbackground": true,
            "ticks": "",
            "zerolinecolor": "#EBF0F8"
           },
           "zaxis": {
            "backgroundcolor": "white",
            "gridcolor": "#DFE8F3",
            "gridwidth": 2,
            "linecolor": "#EBF0F8",
            "showbackground": true,
            "ticks": "",
            "zerolinecolor": "#EBF0F8"
           }
          },
          "shapedefaults": {
           "line": {
            "color": "#2a3f5f"
           }
          },
          "ternary": {
           "aaxis": {
            "gridcolor": "#DFE8F3",
            "linecolor": "#A2B1C6",
            "ticks": ""
           },
           "baxis": {
            "gridcolor": "#DFE8F3",
            "linecolor": "#A2B1C6",
            "ticks": ""
           },
           "bgcolor": "white",
           "caxis": {
            "gridcolor": "#DFE8F3",
            "linecolor": "#A2B1C6",
            "ticks": ""
           }
          },
          "title": {
           "x": 0.05
          },
          "xaxis": {
           "automargin": true,
           "gridcolor": "#EBF0F8",
           "linecolor": "#EBF0F8",
           "ticks": "",
           "title": {
            "standoff": 15
           },
           "zerolinecolor": "#EBF0F8",
           "zerolinewidth": 2
          },
          "yaxis": {
           "automargin": true,
           "gridcolor": "#EBF0F8",
           "linecolor": "#EBF0F8",
           "ticks": "",
           "title": {
            "standoff": 15
           },
           "zerolinecolor": "#EBF0F8",
           "zerolinewidth": 2
          }
         }
        },
        "title": {
         "text": "Reach from Different Sources"
        }
       }
      }
     },
     "metadata": {},
     "output_type": "display_data"
    }
   ],
   "source": [
    "reach_sources = ['From Home', 'From Hashtags', 'From Explore', 'From Other']\n",
    "reach_counts = [data[source].sum() for source in reach_sources]\n",
    "\n",
    "colors = ['#FFB6C1', '#87CEFA', '#90EE90', '#FFDAB9']\n",
    "\n",
    "fig = px.pie(data_frame=data, names=reach_sources, values=reach_counts, title='Reach from Different Sources', color_discrete_sequence=colors)\n",
    "\n",
    "fig.show()\n"
   ]
  },
  {
   "cell_type": "code",
   "execution_count": 14,
   "metadata": {},
   "outputs": [
    {
     "data": {
      "application/vnd.plotly.v1+json": {
       "config": {
        "plotlyServerURL": "https://plot.ly"
       },
       "data": [
        {
         "domain": {
          "x": [
           0,
           1
          ],
          "y": [
           0,
           1
          ]
         },
         "hovertemplate": "label=%{label}<br>value=%{value}<extra></extra>",
         "labels": [
          "Saves",
          "Comments",
          "Shares",
          "Likes"
         ],
         "legendgroup": "",
         "name": "",
         "showlegend": true,
         "type": "pie",
         "values": [
          18244,
          793,
          1114,
          20680
         ]
        }
       ],
       "layout": {
        "legend": {
         "tracegroupgap": 0
        },
        "piecolorway": [
         "#FFB6C1",
         "#87CEFA",
         "#90EE90",
         "#FFDAB9"
        ],
        "template": {
         "data": {
          "bar": [
           {
            "error_x": {
             "color": "#2a3f5f"
            },
            "error_y": {
             "color": "#2a3f5f"
            },
            "marker": {
             "line": {
              "color": "white",
              "width": 0.5
             },
             "pattern": {
              "fillmode": "overlay",
              "size": 10,
              "solidity": 0.2
             }
            },
            "type": "bar"
           }
          ],
          "barpolar": [
           {
            "marker": {
             "line": {
              "color": "white",
              "width": 0.5
             },
             "pattern": {
              "fillmode": "overlay",
              "size": 10,
              "solidity": 0.2
             }
            },
            "type": "barpolar"
           }
          ],
          "carpet": [
           {
            "aaxis": {
             "endlinecolor": "#2a3f5f",
             "gridcolor": "#C8D4E3",
             "linecolor": "#C8D4E3",
             "minorgridcolor": "#C8D4E3",
             "startlinecolor": "#2a3f5f"
            },
            "baxis": {
             "endlinecolor": "#2a3f5f",
             "gridcolor": "#C8D4E3",
             "linecolor": "#C8D4E3",
             "minorgridcolor": "#C8D4E3",
             "startlinecolor": "#2a3f5f"
            },
            "type": "carpet"
           }
          ],
          "choropleth": [
           {
            "colorbar": {
             "outlinewidth": 0,
             "ticks": ""
            },
            "type": "choropleth"
           }
          ],
          "contour": [
           {
            "colorbar": {
             "outlinewidth": 0,
             "ticks": ""
            },
            "colorscale": [
             [
              0,
              "#0d0887"
             ],
             [
              0.1111111111111111,
              "#46039f"
             ],
             [
              0.2222222222222222,
              "#7201a8"
             ],
             [
              0.3333333333333333,
              "#9c179e"
             ],
             [
              0.4444444444444444,
              "#bd3786"
             ],
             [
              0.5555555555555556,
              "#d8576b"
             ],
             [
              0.6666666666666666,
              "#ed7953"
             ],
             [
              0.7777777777777778,
              "#fb9f3a"
             ],
             [
              0.8888888888888888,
              "#fdca26"
             ],
             [
              1,
              "#f0f921"
             ]
            ],
            "type": "contour"
           }
          ],
          "contourcarpet": [
           {
            "colorbar": {
             "outlinewidth": 0,
             "ticks": ""
            },
            "type": "contourcarpet"
           }
          ],
          "heatmap": [
           {
            "colorbar": {
             "outlinewidth": 0,
             "ticks": ""
            },
            "colorscale": [
             [
              0,
              "#0d0887"
             ],
             [
              0.1111111111111111,
              "#46039f"
             ],
             [
              0.2222222222222222,
              "#7201a8"
             ],
             [
              0.3333333333333333,
              "#9c179e"
             ],
             [
              0.4444444444444444,
              "#bd3786"
             ],
             [
              0.5555555555555556,
              "#d8576b"
             ],
             [
              0.6666666666666666,
              "#ed7953"
             ],
             [
              0.7777777777777778,
              "#fb9f3a"
             ],
             [
              0.8888888888888888,
              "#fdca26"
             ],
             [
              1,
              "#f0f921"
             ]
            ],
            "type": "heatmap"
           }
          ],
          "heatmapgl": [
           {
            "colorbar": {
             "outlinewidth": 0,
             "ticks": ""
            },
            "colorscale": [
             [
              0,
              "#0d0887"
             ],
             [
              0.1111111111111111,
              "#46039f"
             ],
             [
              0.2222222222222222,
              "#7201a8"
             ],
             [
              0.3333333333333333,
              "#9c179e"
             ],
             [
              0.4444444444444444,
              "#bd3786"
             ],
             [
              0.5555555555555556,
              "#d8576b"
             ],
             [
              0.6666666666666666,
              "#ed7953"
             ],
             [
              0.7777777777777778,
              "#fb9f3a"
             ],
             [
              0.8888888888888888,
              "#fdca26"
             ],
             [
              1,
              "#f0f921"
             ]
            ],
            "type": "heatmapgl"
           }
          ],
          "histogram": [
           {
            "marker": {
             "pattern": {
              "fillmode": "overlay",
              "size": 10,
              "solidity": 0.2
             }
            },
            "type": "histogram"
           }
          ],
          "histogram2d": [
           {
            "colorbar": {
             "outlinewidth": 0,
             "ticks": ""
            },
            "colorscale": [
             [
              0,
              "#0d0887"
             ],
             [
              0.1111111111111111,
              "#46039f"
             ],
             [
              0.2222222222222222,
              "#7201a8"
             ],
             [
              0.3333333333333333,
              "#9c179e"
             ],
             [
              0.4444444444444444,
              "#bd3786"
             ],
             [
              0.5555555555555556,
              "#d8576b"
             ],
             [
              0.6666666666666666,
              "#ed7953"
             ],
             [
              0.7777777777777778,
              "#fb9f3a"
             ],
             [
              0.8888888888888888,
              "#fdca26"
             ],
             [
              1,
              "#f0f921"
             ]
            ],
            "type": "histogram2d"
           }
          ],
          "histogram2dcontour": [
           {
            "colorbar": {
             "outlinewidth": 0,
             "ticks": ""
            },
            "colorscale": [
             [
              0,
              "#0d0887"
             ],
             [
              0.1111111111111111,
              "#46039f"
             ],
             [
              0.2222222222222222,
              "#7201a8"
             ],
             [
              0.3333333333333333,
              "#9c179e"
             ],
             [
              0.4444444444444444,
              "#bd3786"
             ],
             [
              0.5555555555555556,
              "#d8576b"
             ],
             [
              0.6666666666666666,
              "#ed7953"
             ],
             [
              0.7777777777777778,
              "#fb9f3a"
             ],
             [
              0.8888888888888888,
              "#fdca26"
             ],
             [
              1,
              "#f0f921"
             ]
            ],
            "type": "histogram2dcontour"
           }
          ],
          "mesh3d": [
           {
            "colorbar": {
             "outlinewidth": 0,
             "ticks": ""
            },
            "type": "mesh3d"
           }
          ],
          "parcoords": [
           {
            "line": {
             "colorbar": {
              "outlinewidth": 0,
              "ticks": ""
             }
            },
            "type": "parcoords"
           }
          ],
          "pie": [
           {
            "automargin": true,
            "type": "pie"
           }
          ],
          "scatter": [
           {
            "fillpattern": {
             "fillmode": "overlay",
             "size": 10,
             "solidity": 0.2
            },
            "type": "scatter"
           }
          ],
          "scatter3d": [
           {
            "line": {
             "colorbar": {
              "outlinewidth": 0,
              "ticks": ""
             }
            },
            "marker": {
             "colorbar": {
              "outlinewidth": 0,
              "ticks": ""
             }
            },
            "type": "scatter3d"
           }
          ],
          "scattercarpet": [
           {
            "marker": {
             "colorbar": {
              "outlinewidth": 0,
              "ticks": ""
             }
            },
            "type": "scattercarpet"
           }
          ],
          "scattergeo": [
           {
            "marker": {
             "colorbar": {
              "outlinewidth": 0,
              "ticks": ""
             }
            },
            "type": "scattergeo"
           }
          ],
          "scattergl": [
           {
            "marker": {
             "colorbar": {
              "outlinewidth": 0,
              "ticks": ""
             }
            },
            "type": "scattergl"
           }
          ],
          "scattermapbox": [
           {
            "marker": {
             "colorbar": {
              "outlinewidth": 0,
              "ticks": ""
             }
            },
            "type": "scattermapbox"
           }
          ],
          "scatterpolar": [
           {
            "marker": {
             "colorbar": {
              "outlinewidth": 0,
              "ticks": ""
             }
            },
            "type": "scatterpolar"
           }
          ],
          "scatterpolargl": [
           {
            "marker": {
             "colorbar": {
              "outlinewidth": 0,
              "ticks": ""
             }
            },
            "type": "scatterpolargl"
           }
          ],
          "scatterternary": [
           {
            "marker": {
             "colorbar": {
              "outlinewidth": 0,
              "ticks": ""
             }
            },
            "type": "scatterternary"
           }
          ],
          "surface": [
           {
            "colorbar": {
             "outlinewidth": 0,
             "ticks": ""
            },
            "colorscale": [
             [
              0,
              "#0d0887"
             ],
             [
              0.1111111111111111,
              "#46039f"
             ],
             [
              0.2222222222222222,
              "#7201a8"
             ],
             [
              0.3333333333333333,
              "#9c179e"
             ],
             [
              0.4444444444444444,
              "#bd3786"
             ],
             [
              0.5555555555555556,
              "#d8576b"
             ],
             [
              0.6666666666666666,
              "#ed7953"
             ],
             [
              0.7777777777777778,
              "#fb9f3a"
             ],
             [
              0.8888888888888888,
              "#fdca26"
             ],
             [
              1,
              "#f0f921"
             ]
            ],
            "type": "surface"
           }
          ],
          "table": [
           {
            "cells": {
             "fill": {
              "color": "#EBF0F8"
             },
             "line": {
              "color": "white"
             }
            },
            "header": {
             "fill": {
              "color": "#C8D4E3"
             },
             "line": {
              "color": "white"
             }
            },
            "type": "table"
           }
          ]
         },
         "layout": {
          "annotationdefaults": {
           "arrowcolor": "#2a3f5f",
           "arrowhead": 0,
           "arrowwidth": 1
          },
          "autotypenumbers": "strict",
          "coloraxis": {
           "colorbar": {
            "outlinewidth": 0,
            "ticks": ""
           }
          },
          "colorscale": {
           "diverging": [
            [
             0,
             "#8e0152"
            ],
            [
             0.1,
             "#c51b7d"
            ],
            [
             0.2,
             "#de77ae"
            ],
            [
             0.3,
             "#f1b6da"
            ],
            [
             0.4,
             "#fde0ef"
            ],
            [
             0.5,
             "#f7f7f7"
            ],
            [
             0.6,
             "#e6f5d0"
            ],
            [
             0.7,
             "#b8e186"
            ],
            [
             0.8,
             "#7fbc41"
            ],
            [
             0.9,
             "#4d9221"
            ],
            [
             1,
             "#276419"
            ]
           ],
           "sequential": [
            [
             0,
             "#0d0887"
            ],
            [
             0.1111111111111111,
             "#46039f"
            ],
            [
             0.2222222222222222,
             "#7201a8"
            ],
            [
             0.3333333333333333,
             "#9c179e"
            ],
            [
             0.4444444444444444,
             "#bd3786"
            ],
            [
             0.5555555555555556,
             "#d8576b"
            ],
            [
             0.6666666666666666,
             "#ed7953"
            ],
            [
             0.7777777777777778,
             "#fb9f3a"
            ],
            [
             0.8888888888888888,
             "#fdca26"
            ],
            [
             1,
             "#f0f921"
            ]
           ],
           "sequentialminus": [
            [
             0,
             "#0d0887"
            ],
            [
             0.1111111111111111,
             "#46039f"
            ],
            [
             0.2222222222222222,
             "#7201a8"
            ],
            [
             0.3333333333333333,
             "#9c179e"
            ],
            [
             0.4444444444444444,
             "#bd3786"
            ],
            [
             0.5555555555555556,
             "#d8576b"
            ],
            [
             0.6666666666666666,
             "#ed7953"
            ],
            [
             0.7777777777777778,
             "#fb9f3a"
            ],
            [
             0.8888888888888888,
             "#fdca26"
            ],
            [
             1,
             "#f0f921"
            ]
           ]
          },
          "colorway": [
           "#636efa",
           "#EF553B",
           "#00cc96",
           "#ab63fa",
           "#FFA15A",
           "#19d3f3",
           "#FF6692",
           "#B6E880",
           "#FF97FF",
           "#FECB52"
          ],
          "font": {
           "color": "#2a3f5f"
          },
          "geo": {
           "bgcolor": "white",
           "lakecolor": "white",
           "landcolor": "white",
           "showlakes": true,
           "showland": true,
           "subunitcolor": "#C8D4E3"
          },
          "hoverlabel": {
           "align": "left"
          },
          "hovermode": "closest",
          "mapbox": {
           "style": "light"
          },
          "paper_bgcolor": "white",
          "plot_bgcolor": "white",
          "polar": {
           "angularaxis": {
            "gridcolor": "#EBF0F8",
            "linecolor": "#EBF0F8",
            "ticks": ""
           },
           "bgcolor": "white",
           "radialaxis": {
            "gridcolor": "#EBF0F8",
            "linecolor": "#EBF0F8",
            "ticks": ""
           }
          },
          "scene": {
           "xaxis": {
            "backgroundcolor": "white",
            "gridcolor": "#DFE8F3",
            "gridwidth": 2,
            "linecolor": "#EBF0F8",
            "showbackground": true,
            "ticks": "",
            "zerolinecolor": "#EBF0F8"
           },
           "yaxis": {
            "backgroundcolor": "white",
            "gridcolor": "#DFE8F3",
            "gridwidth": 2,
            "linecolor": "#EBF0F8",
            "showbackground": true,
            "ticks": "",
            "zerolinecolor": "#EBF0F8"
           },
           "zaxis": {
            "backgroundcolor": "white",
            "gridcolor": "#DFE8F3",
            "gridwidth": 2,
            "linecolor": "#EBF0F8",
            "showbackground": true,
            "ticks": "",
            "zerolinecolor": "#EBF0F8"
           }
          },
          "shapedefaults": {
           "line": {
            "color": "#2a3f5f"
           }
          },
          "ternary": {
           "aaxis": {
            "gridcolor": "#DFE8F3",
            "linecolor": "#A2B1C6",
            "ticks": ""
           },
           "baxis": {
            "gridcolor": "#DFE8F3",
            "linecolor": "#A2B1C6",
            "ticks": ""
           },
           "bgcolor": "white",
           "caxis": {
            "gridcolor": "#DFE8F3",
            "linecolor": "#A2B1C6",
            "ticks": ""
           }
          },
          "title": {
           "x": 0.05
          },
          "xaxis": {
           "automargin": true,
           "gridcolor": "#EBF0F8",
           "linecolor": "#EBF0F8",
           "ticks": "",
           "title": {
            "standoff": 15
           },
           "zerolinecolor": "#EBF0F8",
           "zerolinewidth": 2
          },
          "yaxis": {
           "automargin": true,
           "gridcolor": "#EBF0F8",
           "linecolor": "#EBF0F8",
           "ticks": "",
           "title": {
            "standoff": 15
           },
           "zerolinecolor": "#EBF0F8",
           "zerolinewidth": 2
          }
         }
        },
        "title": {
         "text": "Engagement Sources"
        }
       }
      }
     },
     "metadata": {},
     "output_type": "display_data"
    }
   ],
   "source": [
    "engagement_metrics = ['Saves', 'Comments', 'Shares', 'Likes']\n",
    "engagement_counts = [data[metric].sum() for metric in engagement_metrics]\n",
    "\n",
    "colors = ['#FFB6C1', '#87CEFA', '#90EE90', '#FFDAB9']\n",
    "\n",
    "fig = px.pie(data_frame=data, names=engagement_metrics, values=engagement_counts, title='Engagement Sources', color_discrete_sequence=colors)\n",
    "\n",
    "fig.show()"
   ]
  },
  {
   "cell_type": "markdown",
   "metadata": {},
   "source": [
    "- Now let's have a look at the relationship between th enumber of profile visits and follows"
   ]
  },
  {
   "cell_type": "code",
   "execution_count": 24,
   "metadata": {},
   "outputs": [
    {
     "data": {
      "application/vnd.plotly.v1+json": {
       "config": {
        "plotlyServerURL": "https://plot.ly"
       },
       "data": [
        {
         "hovertemplate": "Profile Visits=%{x}<br>Follows=%{y}<extra></extra>",
         "legendgroup": "",
         "marker": {
          "color": "#636efa",
          "symbol": "circle"
         },
         "mode": "markers",
         "name": "",
         "orientation": "v",
         "showlegend": false,
         "type": "scatter",
         "x": [
          35,
          48,
          62,
          23,
          8,
          9,
          26,
          12,
          36,
          31,
          29,
          15,
          8,
          20,
          181,
          17,
          16,
          21,
          77,
          10,
          9,
          11,
          144,
          14,
          10,
          19,
          69,
          11,
          19,
          9,
          57,
          13,
          11,
          24,
          81,
          4,
          7,
          14,
          18,
          8,
          330,
          21,
          19,
          32,
          19,
          21,
          14,
          30,
          39,
          42,
          31,
          20,
          12,
          22,
          306,
          13,
          26,
          16,
          15,
          15,
          39,
          21,
          8,
          45,
          50,
          37,
          25,
          347,
          26,
          48,
          16,
          26,
          17,
          52,
          22,
          41,
          155,
          12,
          22,
          20,
          23,
          25,
          17,
          16,
          21,
          77,
          10,
          14,
          30,
          39,
          42,
          31,
          14,
          10,
          19,
          69,
          11,
          19,
          9,
          38,
          42,
          92,
          75,
          21,
          26,
          39,
          74,
          467,
          24,
          70,
          22,
          46,
          61,
          237,
          73,
          20,
          34,
          148,
          611
         ],
         "xaxis": "x",
         "y": [
          2,
          10,
          12,
          8,
          0,
          2,
          0,
          6,
          4,
          6,
          4,
          0,
          2,
          4,
          42,
          6,
          2,
          2,
          30,
          0,
          0,
          24,
          100,
          2,
          4,
          6,
          6,
          6,
          2,
          2,
          20,
          2,
          4,
          8,
          26,
          2,
          2,
          4,
          0,
          2,
          94,
          8,
          18,
          10,
          4,
          4,
          4,
          4,
          18,
          38,
          10,
          12,
          4,
          4,
          74,
          0,
          6,
          6,
          0,
          6,
          12,
          10,
          8,
          8,
          46,
          12,
          10,
          94,
          6,
          10,
          6,
          4,
          12,
          16,
          12,
          8,
          32,
          8,
          16,
          6,
          10,
          10,
          6,
          2,
          2,
          30,
          0,
          4,
          4,
          18,
          38,
          10,
          2,
          4,
          6,
          6,
          6,
          2,
          2,
          14,
          8,
          14,
          28,
          18,
          12,
          34,
          26,
          260,
          16,
          96,
          20,
          30,
          58,
          100,
          80,
          18,
          10,
          214,
          228
         ],
         "yaxis": "y"
        },
        {
         "hovertemplate": "<b>OLS trendline</b><br>Follows = 0.400884 * Profile Visits + 0.46283<br>R<sup>2</sup>=0.727868<br><br>Profile Visits=%{x}<br>Follows=%{y} <b>(trend)</b><extra></extra>",
         "legendgroup": "",
         "marker": {
          "color": "#636efa",
          "symbol": "circle"
         },
         "mode": "lines",
         "name": "",
         "showlegend": false,
         "type": "scatter",
         "x": [
          4,
          7,
          8,
          8,
          8,
          8,
          9,
          9,
          9,
          9,
          10,
          10,
          10,
          10,
          11,
          11,
          11,
          11,
          12,
          12,
          12,
          13,
          13,
          14,
          14,
          14,
          14,
          14,
          15,
          15,
          15,
          16,
          16,
          16,
          16,
          17,
          17,
          17,
          18,
          19,
          19,
          19,
          19,
          19,
          19,
          20,
          20,
          20,
          20,
          21,
          21,
          21,
          21,
          21,
          21,
          22,
          22,
          22,
          22,
          23,
          23,
          24,
          24,
          25,
          25,
          26,
          26,
          26,
          26,
          26,
          29,
          30,
          30,
          31,
          31,
          31,
          32,
          34,
          35,
          36,
          37,
          38,
          39,
          39,
          39,
          39,
          41,
          42,
          42,
          42,
          45,
          46,
          48,
          48,
          50,
          52,
          57,
          61,
          62,
          69,
          69,
          70,
          73,
          74,
          75,
          77,
          77,
          81,
          92,
          144,
          148,
          155,
          181,
          237,
          306,
          330,
          347,
          467,
          611
         ],
         "xaxis": "x",
         "y": [
          2.066365070422533,
          3.269016056338026,
          3.669899718309857,
          3.669899718309857,
          3.669899718309857,
          3.669899718309857,
          4.0707833802816875,
          4.0707833802816875,
          4.0707833802816875,
          4.0707833802816875,
          4.471667042253519,
          4.471667042253519,
          4.471667042253519,
          4.471667042253519,
          4.87255070422535,
          4.87255070422535,
          4.87255070422535,
          4.87255070422535,
          5.273434366197181,
          5.273434366197181,
          5.273434366197181,
          5.6743180281690115,
          5.6743180281690115,
          6.075201690140843,
          6.075201690140843,
          6.075201690140843,
          6.075201690140843,
          6.075201690140843,
          6.476085352112674,
          6.476085352112674,
          6.476085352112674,
          6.876969014084505,
          6.876969014084505,
          6.876969014084505,
          6.876969014084505,
          7.277852676056336,
          7.277852676056336,
          7.277852676056336,
          7.678736338028167,
          8.079619999999998,
          8.079619999999998,
          8.079619999999998,
          8.079619999999998,
          8.079619999999998,
          8.079619999999998,
          8.480503661971829,
          8.480503661971829,
          8.480503661971829,
          8.480503661971829,
          8.88138732394366,
          8.88138732394366,
          8.88138732394366,
          8.88138732394366,
          8.88138732394366,
          8.88138732394366,
          9.282270985915492,
          9.282270985915492,
          9.282270985915492,
          9.282270985915492,
          9.683154647887322,
          9.683154647887322,
          10.084038309859153,
          10.084038309859153,
          10.484921971830984,
          10.484921971830984,
          10.885805633802814,
          10.885805633802814,
          10.885805633802814,
          10.885805633802814,
          10.885805633802814,
          12.088456619718308,
          12.48934028169014,
          12.48934028169014,
          12.89022394366197,
          12.89022394366197,
          12.89022394366197,
          13.291107605633801,
          14.092874929577462,
          14.493758591549295,
          14.894642253521125,
          15.295525915492956,
          15.696409577464788,
          16.097293239436617,
          16.097293239436617,
          16.097293239436617,
          16.097293239436617,
          16.89906056338028,
          17.29994422535211,
          17.29994422535211,
          17.29994422535211,
          18.502595211267604,
          18.903478873239436,
          19.705246197183097,
          19.705246197183097,
          20.50701352112676,
          21.30878084507042,
          23.313199154929578,
          24.9167338028169,
          25.317617464788732,
          28.123803098591548,
          28.123803098591548,
          28.52468676056338,
          29.727337746478874,
          30.128221408450703,
          30.529105070422535,
          31.330872394366196,
          31.330872394366196,
          32.934407042253525,
          37.34412732394367,
          58.19007774647888,
          59.79361239436619,
          62.59979802816902,
          73.02277323943662,
          95.47225830985916,
          123.13323098591549,
          132.75443887323945,
          139.56946112676056,
          187.6755005633803,
          245.40274788732395
         ],
         "yaxis": "y"
        }
       ],
       "layout": {
        "legend": {
         "tracegroupgap": 0
        },
        "template": {
         "data": {
          "bar": [
           {
            "error_x": {
             "color": "#2a3f5f"
            },
            "error_y": {
             "color": "#2a3f5f"
            },
            "marker": {
             "line": {
              "color": "white",
              "width": 0.5
             },
             "pattern": {
              "fillmode": "overlay",
              "size": 10,
              "solidity": 0.2
             }
            },
            "type": "bar"
           }
          ],
          "barpolar": [
           {
            "marker": {
             "line": {
              "color": "white",
              "width": 0.5
             },
             "pattern": {
              "fillmode": "overlay",
              "size": 10,
              "solidity": 0.2
             }
            },
            "type": "barpolar"
           }
          ],
          "carpet": [
           {
            "aaxis": {
             "endlinecolor": "#2a3f5f",
             "gridcolor": "#C8D4E3",
             "linecolor": "#C8D4E3",
             "minorgridcolor": "#C8D4E3",
             "startlinecolor": "#2a3f5f"
            },
            "baxis": {
             "endlinecolor": "#2a3f5f",
             "gridcolor": "#C8D4E3",
             "linecolor": "#C8D4E3",
             "minorgridcolor": "#C8D4E3",
             "startlinecolor": "#2a3f5f"
            },
            "type": "carpet"
           }
          ],
          "choropleth": [
           {
            "colorbar": {
             "outlinewidth": 0,
             "ticks": ""
            },
            "type": "choropleth"
           }
          ],
          "contour": [
           {
            "colorbar": {
             "outlinewidth": 0,
             "ticks": ""
            },
            "colorscale": [
             [
              0,
              "#0d0887"
             ],
             [
              0.1111111111111111,
              "#46039f"
             ],
             [
              0.2222222222222222,
              "#7201a8"
             ],
             [
              0.3333333333333333,
              "#9c179e"
             ],
             [
              0.4444444444444444,
              "#bd3786"
             ],
             [
              0.5555555555555556,
              "#d8576b"
             ],
             [
              0.6666666666666666,
              "#ed7953"
             ],
             [
              0.7777777777777778,
              "#fb9f3a"
             ],
             [
              0.8888888888888888,
              "#fdca26"
             ],
             [
              1,
              "#f0f921"
             ]
            ],
            "type": "contour"
           }
          ],
          "contourcarpet": [
           {
            "colorbar": {
             "outlinewidth": 0,
             "ticks": ""
            },
            "type": "contourcarpet"
           }
          ],
          "heatmap": [
           {
            "colorbar": {
             "outlinewidth": 0,
             "ticks": ""
            },
            "colorscale": [
             [
              0,
              "#0d0887"
             ],
             [
              0.1111111111111111,
              "#46039f"
             ],
             [
              0.2222222222222222,
              "#7201a8"
             ],
             [
              0.3333333333333333,
              "#9c179e"
             ],
             [
              0.4444444444444444,
              "#bd3786"
             ],
             [
              0.5555555555555556,
              "#d8576b"
             ],
             [
              0.6666666666666666,
              "#ed7953"
             ],
             [
              0.7777777777777778,
              "#fb9f3a"
             ],
             [
              0.8888888888888888,
              "#fdca26"
             ],
             [
              1,
              "#f0f921"
             ]
            ],
            "type": "heatmap"
           }
          ],
          "heatmapgl": [
           {
            "colorbar": {
             "outlinewidth": 0,
             "ticks": ""
            },
            "colorscale": [
             [
              0,
              "#0d0887"
             ],
             [
              0.1111111111111111,
              "#46039f"
             ],
             [
              0.2222222222222222,
              "#7201a8"
             ],
             [
              0.3333333333333333,
              "#9c179e"
             ],
             [
              0.4444444444444444,
              "#bd3786"
             ],
             [
              0.5555555555555556,
              "#d8576b"
             ],
             [
              0.6666666666666666,
              "#ed7953"
             ],
             [
              0.7777777777777778,
              "#fb9f3a"
             ],
             [
              0.8888888888888888,
              "#fdca26"
             ],
             [
              1,
              "#f0f921"
             ]
            ],
            "type": "heatmapgl"
           }
          ],
          "histogram": [
           {
            "marker": {
             "pattern": {
              "fillmode": "overlay",
              "size": 10,
              "solidity": 0.2
             }
            },
            "type": "histogram"
           }
          ],
          "histogram2d": [
           {
            "colorbar": {
             "outlinewidth": 0,
             "ticks": ""
            },
            "colorscale": [
             [
              0,
              "#0d0887"
             ],
             [
              0.1111111111111111,
              "#46039f"
             ],
             [
              0.2222222222222222,
              "#7201a8"
             ],
             [
              0.3333333333333333,
              "#9c179e"
             ],
             [
              0.4444444444444444,
              "#bd3786"
             ],
             [
              0.5555555555555556,
              "#d8576b"
             ],
             [
              0.6666666666666666,
              "#ed7953"
             ],
             [
              0.7777777777777778,
              "#fb9f3a"
             ],
             [
              0.8888888888888888,
              "#fdca26"
             ],
             [
              1,
              "#f0f921"
             ]
            ],
            "type": "histogram2d"
           }
          ],
          "histogram2dcontour": [
           {
            "colorbar": {
             "outlinewidth": 0,
             "ticks": ""
            },
            "colorscale": [
             [
              0,
              "#0d0887"
             ],
             [
              0.1111111111111111,
              "#46039f"
             ],
             [
              0.2222222222222222,
              "#7201a8"
             ],
             [
              0.3333333333333333,
              "#9c179e"
             ],
             [
              0.4444444444444444,
              "#bd3786"
             ],
             [
              0.5555555555555556,
              "#d8576b"
             ],
             [
              0.6666666666666666,
              "#ed7953"
             ],
             [
              0.7777777777777778,
              "#fb9f3a"
             ],
             [
              0.8888888888888888,
              "#fdca26"
             ],
             [
              1,
              "#f0f921"
             ]
            ],
            "type": "histogram2dcontour"
           }
          ],
          "mesh3d": [
           {
            "colorbar": {
             "outlinewidth": 0,
             "ticks": ""
            },
            "type": "mesh3d"
           }
          ],
          "parcoords": [
           {
            "line": {
             "colorbar": {
              "outlinewidth": 0,
              "ticks": ""
             }
            },
            "type": "parcoords"
           }
          ],
          "pie": [
           {
            "automargin": true,
            "type": "pie"
           }
          ],
          "scatter": [
           {
            "fillpattern": {
             "fillmode": "overlay",
             "size": 10,
             "solidity": 0.2
            },
            "type": "scatter"
           }
          ],
          "scatter3d": [
           {
            "line": {
             "colorbar": {
              "outlinewidth": 0,
              "ticks": ""
             }
            },
            "marker": {
             "colorbar": {
              "outlinewidth": 0,
              "ticks": ""
             }
            },
            "type": "scatter3d"
           }
          ],
          "scattercarpet": [
           {
            "marker": {
             "colorbar": {
              "outlinewidth": 0,
              "ticks": ""
             }
            },
            "type": "scattercarpet"
           }
          ],
          "scattergeo": [
           {
            "marker": {
             "colorbar": {
              "outlinewidth": 0,
              "ticks": ""
             }
            },
            "type": "scattergeo"
           }
          ],
          "scattergl": [
           {
            "marker": {
             "colorbar": {
              "outlinewidth": 0,
              "ticks": ""
             }
            },
            "type": "scattergl"
           }
          ],
          "scattermapbox": [
           {
            "marker": {
             "colorbar": {
              "outlinewidth": 0,
              "ticks": ""
             }
            },
            "type": "scattermapbox"
           }
          ],
          "scatterpolar": [
           {
            "marker": {
             "colorbar": {
              "outlinewidth": 0,
              "ticks": ""
             }
            },
            "type": "scatterpolar"
           }
          ],
          "scatterpolargl": [
           {
            "marker": {
             "colorbar": {
              "outlinewidth": 0,
              "ticks": ""
             }
            },
            "type": "scatterpolargl"
           }
          ],
          "scatterternary": [
           {
            "marker": {
             "colorbar": {
              "outlinewidth": 0,
              "ticks": ""
             }
            },
            "type": "scatterternary"
           }
          ],
          "surface": [
           {
            "colorbar": {
             "outlinewidth": 0,
             "ticks": ""
            },
            "colorscale": [
             [
              0,
              "#0d0887"
             ],
             [
              0.1111111111111111,
              "#46039f"
             ],
             [
              0.2222222222222222,
              "#7201a8"
             ],
             [
              0.3333333333333333,
              "#9c179e"
             ],
             [
              0.4444444444444444,
              "#bd3786"
             ],
             [
              0.5555555555555556,
              "#d8576b"
             ],
             [
              0.6666666666666666,
              "#ed7953"
             ],
             [
              0.7777777777777778,
              "#fb9f3a"
             ],
             [
              0.8888888888888888,
              "#fdca26"
             ],
             [
              1,
              "#f0f921"
             ]
            ],
            "type": "surface"
           }
          ],
          "table": [
           {
            "cells": {
             "fill": {
              "color": "#EBF0F8"
             },
             "line": {
              "color": "white"
             }
            },
            "header": {
             "fill": {
              "color": "#C8D4E3"
             },
             "line": {
              "color": "white"
             }
            },
            "type": "table"
           }
          ]
         },
         "layout": {
          "annotationdefaults": {
           "arrowcolor": "#2a3f5f",
           "arrowhead": 0,
           "arrowwidth": 1
          },
          "autotypenumbers": "strict",
          "coloraxis": {
           "colorbar": {
            "outlinewidth": 0,
            "ticks": ""
           }
          },
          "colorscale": {
           "diverging": [
            [
             0,
             "#8e0152"
            ],
            [
             0.1,
             "#c51b7d"
            ],
            [
             0.2,
             "#de77ae"
            ],
            [
             0.3,
             "#f1b6da"
            ],
            [
             0.4,
             "#fde0ef"
            ],
            [
             0.5,
             "#f7f7f7"
            ],
            [
             0.6,
             "#e6f5d0"
            ],
            [
             0.7,
             "#b8e186"
            ],
            [
             0.8,
             "#7fbc41"
            ],
            [
             0.9,
             "#4d9221"
            ],
            [
             1,
             "#276419"
            ]
           ],
           "sequential": [
            [
             0,
             "#0d0887"
            ],
            [
             0.1111111111111111,
             "#46039f"
            ],
            [
             0.2222222222222222,
             "#7201a8"
            ],
            [
             0.3333333333333333,
             "#9c179e"
            ],
            [
             0.4444444444444444,
             "#bd3786"
            ],
            [
             0.5555555555555556,
             "#d8576b"
            ],
            [
             0.6666666666666666,
             "#ed7953"
            ],
            [
             0.7777777777777778,
             "#fb9f3a"
            ],
            [
             0.8888888888888888,
             "#fdca26"
            ],
            [
             1,
             "#f0f921"
            ]
           ],
           "sequentialminus": [
            [
             0,
             "#0d0887"
            ],
            [
             0.1111111111111111,
             "#46039f"
            ],
            [
             0.2222222222222222,
             "#7201a8"
            ],
            [
             0.3333333333333333,
             "#9c179e"
            ],
            [
             0.4444444444444444,
             "#bd3786"
            ],
            [
             0.5555555555555556,
             "#d8576b"
            ],
            [
             0.6666666666666666,
             "#ed7953"
            ],
            [
             0.7777777777777778,
             "#fb9f3a"
            ],
            [
             0.8888888888888888,
             "#fdca26"
            ],
            [
             1,
             "#f0f921"
            ]
           ]
          },
          "colorway": [
           "#636efa",
           "#EF553B",
           "#00cc96",
           "#ab63fa",
           "#FFA15A",
           "#19d3f3",
           "#FF6692",
           "#B6E880",
           "#FF97FF",
           "#FECB52"
          ],
          "font": {
           "color": "#2a3f5f"
          },
          "geo": {
           "bgcolor": "white",
           "lakecolor": "white",
           "landcolor": "white",
           "showlakes": true,
           "showland": true,
           "subunitcolor": "#C8D4E3"
          },
          "hoverlabel": {
           "align": "left"
          },
          "hovermode": "closest",
          "mapbox": {
           "style": "light"
          },
          "paper_bgcolor": "white",
          "plot_bgcolor": "white",
          "polar": {
           "angularaxis": {
            "gridcolor": "#EBF0F8",
            "linecolor": "#EBF0F8",
            "ticks": ""
           },
           "bgcolor": "white",
           "radialaxis": {
            "gridcolor": "#EBF0F8",
            "linecolor": "#EBF0F8",
            "ticks": ""
           }
          },
          "scene": {
           "xaxis": {
            "backgroundcolor": "white",
            "gridcolor": "#DFE8F3",
            "gridwidth": 2,
            "linecolor": "#EBF0F8",
            "showbackground": true,
            "ticks": "",
            "zerolinecolor": "#EBF0F8"
           },
           "yaxis": {
            "backgroundcolor": "white",
            "gridcolor": "#DFE8F3",
            "gridwidth": 2,
            "linecolor": "#EBF0F8",
            "showbackground": true,
            "ticks": "",
            "zerolinecolor": "#EBF0F8"
           },
           "zaxis": {
            "backgroundcolor": "white",
            "gridcolor": "#DFE8F3",
            "gridwidth": 2,
            "linecolor": "#EBF0F8",
            "showbackground": true,
            "ticks": "",
            "zerolinecolor": "#EBF0F8"
           }
          },
          "shapedefaults": {
           "line": {
            "color": "#2a3f5f"
           }
          },
          "ternary": {
           "aaxis": {
            "gridcolor": "#DFE8F3",
            "linecolor": "#A2B1C6",
            "ticks": ""
           },
           "baxis": {
            "gridcolor": "#DFE8F3",
            "linecolor": "#A2B1C6",
            "ticks": ""
           },
           "bgcolor": "white",
           "caxis": {
            "gridcolor": "#DFE8F3",
            "linecolor": "#A2B1C6",
            "ticks": ""
           }
          },
          "title": {
           "x": 0.05
          },
          "xaxis": {
           "automargin": true,
           "gridcolor": "#EBF0F8",
           "linecolor": "#EBF0F8",
           "ticks": "",
           "title": {
            "standoff": 15
           },
           "zerolinecolor": "#EBF0F8",
           "zerolinewidth": 2
          },
          "yaxis": {
           "automargin": true,
           "gridcolor": "#EBF0F8",
           "linecolor": "#EBF0F8",
           "ticks": "",
           "title": {
            "standoff": 15
           },
           "zerolinecolor": "#EBF0F8",
           "zerolinewidth": 2
          }
         }
        },
        "title": {
         "text": "Profile Visits vs. Follows"
        },
        "xaxis": {
         "anchor": "y",
         "domain": [
          0,
          1
         ],
         "title": {
          "text": "Profile Visits"
         }
        },
        "yaxis": {
         "anchor": "x",
         "domain": [
          0,
          1
         ],
         "title": {
          "text": "Follows"
         }
        }
       }
      }
     },
     "metadata": {},
     "output_type": "display_data"
    }
   ],
   "source": [
    "fig = px.scatter(data_frame=data, x='Profile Visits', y='Follows', trendline='ols', title='Profile Visits vs. Follows')\n",
    "\n",
    "fig.show()"
   ]
  },
  {
   "cell_type": "markdown",
   "metadata": {},
   "source": [
    "- Now let's have a look at the type of hastags used in the posts using a wordcloud"
   ]
  },
  {
   "cell_type": "code",
   "execution_count": 25,
   "metadata": {},
   "outputs": [
    {
     "data": {
      "application/vnd.plotly.v1+json": {
       "config": {
        "plotlyServerURL": "https://plot.ly"
       },
       "data": [
        {
         "hovertemplate": "x: %{x}<br>y: %{y}<br>color: [%{z[0]}, %{z[1]}, %{z[2]}]<extra></extra>",
         "name": "0",
         "source": "data:image/png;base64,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",
         "type": "image",
         "xaxis": "x",
         "yaxis": "y"
        }
       ],
       "layout": {
        "template": {
         "data": {
          "bar": [
           {
            "error_x": {
             "color": "#2a3f5f"
            },
            "error_y": {
             "color": "#2a3f5f"
            },
            "marker": {
             "line": {
              "color": "white",
              "width": 0.5
             },
             "pattern": {
              "fillmode": "overlay",
              "size": 10,
              "solidity": 0.2
             }
            },
            "type": "bar"
           }
          ],
          "barpolar": [
           {
            "marker": {
             "line": {
              "color": "white",
              "width": 0.5
             },
             "pattern": {
              "fillmode": "overlay",
              "size": 10,
              "solidity": 0.2
             }
            },
            "type": "barpolar"
           }
          ],
          "carpet": [
           {
            "aaxis": {
             "endlinecolor": "#2a3f5f",
             "gridcolor": "#C8D4E3",
             "linecolor": "#C8D4E3",
             "minorgridcolor": "#C8D4E3",
             "startlinecolor": "#2a3f5f"
            },
            "baxis": {
             "endlinecolor": "#2a3f5f",
             "gridcolor": "#C8D4E3",
             "linecolor": "#C8D4E3",
             "minorgridcolor": "#C8D4E3",
             "startlinecolor": "#2a3f5f"
            },
            "type": "carpet"
           }
          ],
          "choropleth": [
           {
            "colorbar": {
             "outlinewidth": 0,
             "ticks": ""
            },
            "type": "choropleth"
           }
          ],
          "contour": [
           {
            "colorbar": {
             "outlinewidth": 0,
             "ticks": ""
            },
            "colorscale": [
             [
              0,
              "#0d0887"
             ],
             [
              0.1111111111111111,
              "#46039f"
             ],
             [
              0.2222222222222222,
              "#7201a8"
             ],
             [
              0.3333333333333333,
              "#9c179e"
             ],
             [
              0.4444444444444444,
              "#bd3786"
             ],
             [
              0.5555555555555556,
              "#d8576b"
             ],
             [
              0.6666666666666666,
              "#ed7953"
             ],
             [
              0.7777777777777778,
              "#fb9f3a"
             ],
             [
              0.8888888888888888,
              "#fdca26"
             ],
             [
              1,
              "#f0f921"
             ]
            ],
            "type": "contour"
           }
          ],
          "contourcarpet": [
           {
            "colorbar": {
             "outlinewidth": 0,
             "ticks": ""
            },
            "type": "contourcarpet"
           }
          ],
          "heatmap": [
           {
            "colorbar": {
             "outlinewidth": 0,
             "ticks": ""
            },
            "colorscale": [
             [
              0,
              "#0d0887"
             ],
             [
              0.1111111111111111,
              "#46039f"
             ],
             [
              0.2222222222222222,
              "#7201a8"
             ],
             [
              0.3333333333333333,
              "#9c179e"
             ],
             [
              0.4444444444444444,
              "#bd3786"
             ],
             [
              0.5555555555555556,
              "#d8576b"
             ],
             [
              0.6666666666666666,
              "#ed7953"
             ],
             [
              0.7777777777777778,
              "#fb9f3a"
             ],
             [
              0.8888888888888888,
              "#fdca26"
             ],
             [
              1,
              "#f0f921"
             ]
            ],
            "type": "heatmap"
           }
          ],
          "heatmapgl": [
           {
            "colorbar": {
             "outlinewidth": 0,
             "ticks": ""
            },
            "colorscale": [
             [
              0,
              "#0d0887"
             ],
             [
              0.1111111111111111,
              "#46039f"
             ],
             [
              0.2222222222222222,
              "#7201a8"
             ],
             [
              0.3333333333333333,
              "#9c179e"
             ],
             [
              0.4444444444444444,
              "#bd3786"
             ],
             [
              0.5555555555555556,
              "#d8576b"
             ],
             [
              0.6666666666666666,
              "#ed7953"
             ],
             [
              0.7777777777777778,
              "#fb9f3a"
             ],
             [
              0.8888888888888888,
              "#fdca26"
             ],
             [
              1,
              "#f0f921"
             ]
            ],
            "type": "heatmapgl"
           }
          ],
          "histogram": [
           {
            "marker": {
             "pattern": {
              "fillmode": "overlay",
              "size": 10,
              "solidity": 0.2
             }
            },
            "type": "histogram"
           }
          ],
          "histogram2d": [
           {
            "colorbar": {
             "outlinewidth": 0,
             "ticks": ""
            },
            "colorscale": [
             [
              0,
              "#0d0887"
             ],
             [
              0.1111111111111111,
              "#46039f"
             ],
             [
              0.2222222222222222,
              "#7201a8"
             ],
             [
              0.3333333333333333,
              "#9c179e"
             ],
             [
              0.4444444444444444,
              "#bd3786"
             ],
             [
              0.5555555555555556,
              "#d8576b"
             ],
             [
              0.6666666666666666,
              "#ed7953"
             ],
             [
              0.7777777777777778,
              "#fb9f3a"
             ],
             [
              0.8888888888888888,
              "#fdca26"
             ],
             [
              1,
              "#f0f921"
             ]
            ],
            "type": "histogram2d"
           }
          ],
          "histogram2dcontour": [
           {
            "colorbar": {
             "outlinewidth": 0,
             "ticks": ""
            },
            "colorscale": [
             [
              0,
              "#0d0887"
             ],
             [
              0.1111111111111111,
              "#46039f"
             ],
             [
              0.2222222222222222,
              "#7201a8"
             ],
             [
              0.3333333333333333,
              "#9c179e"
             ],
             [
              0.4444444444444444,
              "#bd3786"
             ],
             [
              0.5555555555555556,
              "#d8576b"
             ],
             [
              0.6666666666666666,
              "#ed7953"
             ],
             [
              0.7777777777777778,
              "#fb9f3a"
             ],
             [
              0.8888888888888888,
              "#fdca26"
             ],
             [
              1,
              "#f0f921"
             ]
            ],
            "type": "histogram2dcontour"
           }
          ],
          "mesh3d": [
           {
            "colorbar": {
             "outlinewidth": 0,
             "ticks": ""
            },
            "type": "mesh3d"
           }
          ],
          "parcoords": [
           {
            "line": {
             "colorbar": {
              "outlinewidth": 0,
              "ticks": ""
             }
            },
            "type": "parcoords"
           }
          ],
          "pie": [
           {
            "automargin": true,
            "type": "pie"
           }
          ],
          "scatter": [
           {
            "fillpattern": {
             "fillmode": "overlay",
             "size": 10,
             "solidity": 0.2
            },
            "type": "scatter"
           }
          ],
          "scatter3d": [
           {
            "line": {
             "colorbar": {
              "outlinewidth": 0,
              "ticks": ""
             }
            },
            "marker": {
             "colorbar": {
              "outlinewidth": 0,
              "ticks": ""
             }
            },
            "type": "scatter3d"
           }
          ],
          "scattercarpet": [
           {
            "marker": {
             "colorbar": {
              "outlinewidth": 0,
              "ticks": ""
             }
            },
            "type": "scattercarpet"
           }
          ],
          "scattergeo": [
           {
            "marker": {
             "colorbar": {
              "outlinewidth": 0,
              "ticks": ""
             }
            },
            "type": "scattergeo"
           }
          ],
          "scattergl": [
           {
            "marker": {
             "colorbar": {
              "outlinewidth": 0,
              "ticks": ""
             }
            },
            "type": "scattergl"
           }
          ],
          "scattermapbox": [
           {
            "marker": {
             "colorbar": {
              "outlinewidth": 0,
              "ticks": ""
             }
            },
            "type": "scattermapbox"
           }
          ],
          "scatterpolar": [
           {
            "marker": {
             "colorbar": {
              "outlinewidth": 0,
              "ticks": ""
             }
            },
            "type": "scatterpolar"
           }
          ],
          "scatterpolargl": [
           {
            "marker": {
             "colorbar": {
              "outlinewidth": 0,
              "ticks": ""
             }
            },
            "type": "scatterpolargl"
           }
          ],
          "scatterternary": [
           {
            "marker": {
             "colorbar": {
              "outlinewidth": 0,
              "ticks": ""
             }
            },
            "type": "scatterternary"
           }
          ],
          "surface": [
           {
            "colorbar": {
             "outlinewidth": 0,
             "ticks": ""
            },
            "colorscale": [
             [
              0,
              "#0d0887"
             ],
             [
              0.1111111111111111,
              "#46039f"
             ],
             [
              0.2222222222222222,
              "#7201a8"
             ],
             [
              0.3333333333333333,
              "#9c179e"
             ],
             [
              0.4444444444444444,
              "#bd3786"
             ],
             [
              0.5555555555555556,
              "#d8576b"
             ],
             [
              0.6666666666666666,
              "#ed7953"
             ],
             [
              0.7777777777777778,
              "#fb9f3a"
             ],
             [
              0.8888888888888888,
              "#fdca26"
             ],
             [
              1,
              "#f0f921"
             ]
            ],
            "type": "surface"
           }
          ],
          "table": [
           {
            "cells": {
             "fill": {
              "color": "#EBF0F8"
             },
             "line": {
              "color": "white"
             }
            },
            "header": {
             "fill": {
              "color": "#C8D4E3"
             },
             "line": {
              "color": "white"
             }
            },
            "type": "table"
           }
          ]
         },
         "layout": {
          "annotationdefaults": {
           "arrowcolor": "#2a3f5f",
           "arrowhead": 0,
           "arrowwidth": 1
          },
          "autotypenumbers": "strict",
          "coloraxis": {
           "colorbar": {
            "outlinewidth": 0,
            "ticks": ""
           }
          },
          "colorscale": {
           "diverging": [
            [
             0,
             "#8e0152"
            ],
            [
             0.1,
             "#c51b7d"
            ],
            [
             0.2,
             "#de77ae"
            ],
            [
             0.3,
             "#f1b6da"
            ],
            [
             0.4,
             "#fde0ef"
            ],
            [
             0.5,
             "#f7f7f7"
            ],
            [
             0.6,
             "#e6f5d0"
            ],
            [
             0.7,
             "#b8e186"
            ],
            [
             0.8,
             "#7fbc41"
            ],
            [
             0.9,
             "#4d9221"
            ],
            [
             1,
             "#276419"
            ]
           ],
           "sequential": [
            [
             0,
             "#0d0887"
            ],
            [
             0.1111111111111111,
             "#46039f"
            ],
            [
             0.2222222222222222,
             "#7201a8"
            ],
            [
             0.3333333333333333,
             "#9c179e"
            ],
            [
             0.4444444444444444,
             "#bd3786"
            ],
            [
             0.5555555555555556,
             "#d8576b"
            ],
            [
             0.6666666666666666,
             "#ed7953"
            ],
            [
             0.7777777777777778,
             "#fb9f3a"
            ],
            [
             0.8888888888888888,
             "#fdca26"
            ],
            [
             1,
             "#f0f921"
            ]
           ],
           "sequentialminus": [
            [
             0,
             "#0d0887"
            ],
            [
             0.1111111111111111,
             "#46039f"
            ],
            [
             0.2222222222222222,
             "#7201a8"
            ],
            [
             0.3333333333333333,
             "#9c179e"
            ],
            [
             0.4444444444444444,
             "#bd3786"
            ],
            [
             0.5555555555555556,
             "#d8576b"
            ],
            [
             0.6666666666666666,
             "#ed7953"
            ],
            [
             0.7777777777777778,
             "#fb9f3a"
            ],
            [
             0.8888888888888888,
             "#fdca26"
            ],
            [
             1,
             "#f0f921"
            ]
           ]
          },
          "colorway": [
           "#636efa",
           "#EF553B",
           "#00cc96",
           "#ab63fa",
           "#FFA15A",
           "#19d3f3",
           "#FF6692",
           "#B6E880",
           "#FF97FF",
           "#FECB52"
          ],
          "font": {
           "color": "#2a3f5f"
          },
          "geo": {
           "bgcolor": "white",
           "lakecolor": "white",
           "landcolor": "white",
           "showlakes": true,
           "showland": true,
           "subunitcolor": "#C8D4E3"
          },
          "hoverlabel": {
           "align": "left"
          },
          "hovermode": "closest",
          "mapbox": {
           "style": "light"
          },
          "paper_bgcolor": "white",
          "plot_bgcolor": "white",
          "polar": {
           "angularaxis": {
            "gridcolor": "#EBF0F8",
            "linecolor": "#EBF0F8",
            "ticks": ""
           },
           "bgcolor": "white",
           "radialaxis": {
            "gridcolor": "#EBF0F8",
            "linecolor": "#EBF0F8",
            "ticks": ""
           }
          },
          "scene": {
           "xaxis": {
            "backgroundcolor": "white",
            "gridcolor": "#DFE8F3",
            "gridwidth": 2,
            "linecolor": "#EBF0F8",
            "showbackground": true,
            "ticks": "",
            "zerolinecolor": "#EBF0F8"
           },
           "yaxis": {
            "backgroundcolor": "white",
            "gridcolor": "#DFE8F3",
            "gridwidth": 2,
            "linecolor": "#EBF0F8",
            "showbackground": true,
            "ticks": "",
            "zerolinecolor": "#EBF0F8"
           },
           "zaxis": {
            "backgroundcolor": "white",
            "gridcolor": "#DFE8F3",
            "gridwidth": 2,
            "linecolor": "#EBF0F8",
            "showbackground": true,
            "ticks": "",
            "zerolinecolor": "#EBF0F8"
           }
          },
          "shapedefaults": {
           "line": {
            "color": "#2a3f5f"
           }
          },
          "ternary": {
           "aaxis": {
            "gridcolor": "#DFE8F3",
            "linecolor": "#A2B1C6",
            "ticks": ""
           },
           "baxis": {
            "gridcolor": "#DFE8F3",
            "linecolor": "#A2B1C6",
            "ticks": ""
           },
           "bgcolor": "white",
           "caxis": {
            "gridcolor": "#DFE8F3",
            "linecolor": "#A2B1C6",
            "ticks": ""
           }
          },
          "title": {
           "x": 0.05
          },
          "xaxis": {
           "automargin": true,
           "gridcolor": "#EBF0F8",
           "linecolor": "#EBF0F8",
           "ticks": "",
           "title": {
            "standoff": 15
           },
           "zerolinecolor": "#EBF0F8",
           "zerolinewidth": 2
          },
          "yaxis": {
           "automargin": true,
           "gridcolor": "#EBF0F8",
           "linecolor": "#EBF0F8",
           "ticks": "",
           "title": {
            "standoff": 15
           },
           "zerolinecolor": "#EBF0F8",
           "zerolinewidth": 2
          }
         }
        },
        "title": {
         "text": "Hashtags Word Cloud"
        },
        "xaxis": {
         "anchor": "y",
         "domain": [
          0,
          1
         ]
        },
        "yaxis": {
         "anchor": "x",
         "domain": [
          0,
          1
         ]
        }
       }
      }
     },
     "metadata": {},
     "output_type": "display_data"
    }
   ],
   "source": [
    "from wordcloud import WordCloud\n",
    "\n",
    "hashtags = ' '.join(data['Hashtags'].astype(str))\n",
    "wordcloud = WordCloud().generate(hashtags)\n",
    "\n",
    "fig = px.imshow(wordcloud, title='Hashtags Word Cloud')\n",
    "\n",
    "fig.show()"
   ]
  }
 ],
 "metadata": {
  "kernelspec": {
   "display_name": ".venv",
   "language": "python",
   "name": "python3"
  },
  "language_info": {
   "codemirror_mode": {
    "name": "ipython",
    "version": 3
   },
   "file_extension": ".py",
   "mimetype": "text/x-python",
   "name": "python",
   "nbconvert_exporter": "python",
   "pygments_lexer": "ipython3",
   "version": "3.12.2"
  }
 },
 "nbformat": 4,
 "nbformat_minor": 2
}
