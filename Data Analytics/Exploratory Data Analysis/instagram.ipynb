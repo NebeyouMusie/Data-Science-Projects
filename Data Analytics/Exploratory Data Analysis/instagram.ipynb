{
 "cells": [
  {
   "cell_type": "code",
   "execution_count": 1,
   "metadata": {},
   "outputs": [],
   "source": [
    "import pandas as pd\n",
    "import plotly.express as px\n",
    "import plotly.graph_objects as go\n",
    "import plotly.io as pio\n",
    "pio.templates.default = \"plotly_white\""
   ]
  },
  {
   "cell_type": "code",
   "execution_count": 2,
   "metadata": {},
   "outputs": [
    {
     "data": {
      "text/html": [
       "<div>\n",
       "<style scoped>\n",
       "    .dataframe tbody tr th:only-of-type {\n",
       "        vertical-align: middle;\n",
       "    }\n",
       "\n",
       "    .dataframe tbody tr th {\n",
       "        vertical-align: top;\n",
       "    }\n",
       "\n",
       "    .dataframe thead th {\n",
       "        text-align: right;\n",
       "    }\n",
       "</style>\n",
       "<table border=\"1\" class=\"dataframe\">\n",
       "  <thead>\n",
       "    <tr style=\"text-align: right;\">\n",
       "      <th></th>\n",
       "      <th>Impressions</th>\n",
       "      <th>From Home</th>\n",
       "      <th>From Hashtags</th>\n",
       "      <th>From Explore</th>\n",
       "      <th>From Other</th>\n",
       "      <th>Saves</th>\n",
       "      <th>Comments</th>\n",
       "      <th>Shares</th>\n",
       "      <th>Likes</th>\n",
       "      <th>Profile Visits</th>\n",
       "      <th>Follows</th>\n",
       "      <th>Caption</th>\n",
       "      <th>Hashtags</th>\n",
       "    </tr>\n",
       "  </thead>\n",
       "  <tbody>\n",
       "    <tr>\n",
       "      <th>0</th>\n",
       "      <td>3920</td>\n",
       "      <td>2586</td>\n",
       "      <td>1028</td>\n",
       "      <td>619</td>\n",
       "      <td>56</td>\n",
       "      <td>98</td>\n",
       "      <td>9</td>\n",
       "      <td>5</td>\n",
       "      <td>162</td>\n",
       "      <td>35</td>\n",
       "      <td>2</td>\n",
       "      <td>Here are some of the most important data visua...</td>\n",
       "      <td>#finance #money #business #investing #investme...</td>\n",
       "    </tr>\n",
       "    <tr>\n",
       "      <th>1</th>\n",
       "      <td>5394</td>\n",
       "      <td>2727</td>\n",
       "      <td>1838</td>\n",
       "      <td>1174</td>\n",
       "      <td>78</td>\n",
       "      <td>194</td>\n",
       "      <td>7</td>\n",
       "      <td>14</td>\n",
       "      <td>224</td>\n",
       "      <td>48</td>\n",
       "      <td>10</td>\n",
       "      <td>Here are some of the best data science project...</td>\n",
       "      <td>#healthcare #health #covid #data #datascience ...</td>\n",
       "    </tr>\n",
       "    <tr>\n",
       "      <th>2</th>\n",
       "      <td>4021</td>\n",
       "      <td>2085</td>\n",
       "      <td>1188</td>\n",
       "      <td>0</td>\n",
       "      <td>533</td>\n",
       "      <td>41</td>\n",
       "      <td>11</td>\n",
       "      <td>1</td>\n",
       "      <td>131</td>\n",
       "      <td>62</td>\n",
       "      <td>12</td>\n",
       "      <td>Learn how to train a machine learning model an...</td>\n",
       "      <td>#data #datascience #dataanalysis #dataanalytic...</td>\n",
       "    </tr>\n",
       "    <tr>\n",
       "      <th>3</th>\n",
       "      <td>4528</td>\n",
       "      <td>2700</td>\n",
       "      <td>621</td>\n",
       "      <td>932</td>\n",
       "      <td>73</td>\n",
       "      <td>172</td>\n",
       "      <td>10</td>\n",
       "      <td>7</td>\n",
       "      <td>213</td>\n",
       "      <td>23</td>\n",
       "      <td>8</td>\n",
       "      <td>Heres how you can write a Python program to d...</td>\n",
       "      <td>#python #pythonprogramming #pythonprojects #py...</td>\n",
       "    </tr>\n",
       "    <tr>\n",
       "      <th>4</th>\n",
       "      <td>2518</td>\n",
       "      <td>1704</td>\n",
       "      <td>255</td>\n",
       "      <td>279</td>\n",
       "      <td>37</td>\n",
       "      <td>96</td>\n",
       "      <td>5</td>\n",
       "      <td>4</td>\n",
       "      <td>123</td>\n",
       "      <td>8</td>\n",
       "      <td>0</td>\n",
       "      <td>Plotting annotations while visualizing your da...</td>\n",
       "      <td>#datavisualization #datascience #data #dataana...</td>\n",
       "    </tr>\n",
       "  </tbody>\n",
       "</table>\n",
       "</div>"
      ],
      "text/plain": [
       "   Impressions  From Home  From Hashtags  From Explore  From Other  Saves  \\\n",
       "0         3920       2586           1028           619          56     98   \n",
       "1         5394       2727           1838          1174          78    194   \n",
       "2         4021       2085           1188             0         533     41   \n",
       "3         4528       2700            621           932          73    172   \n",
       "4         2518       1704            255           279          37     96   \n",
       "\n",
       "   Comments  Shares  Likes  Profile Visits  Follows  \\\n",
       "0         9       5    162              35        2   \n",
       "1         7      14    224              48       10   \n",
       "2        11       1    131              62       12   \n",
       "3        10       7    213              23        8   \n",
       "4         5       4    123               8        0   \n",
       "\n",
       "                                             Caption  \\\n",
       "0  Here are some of the most important data visua...   \n",
       "1  Here are some of the best data science project...   \n",
       "2  Learn how to train a machine learning model an...   \n",
       "3  Heres how you can write a Python program to d...   \n",
       "4  Plotting annotations while visualizing your da...   \n",
       "\n",
       "                                            Hashtags  \n",
       "0  #finance #money #business #investing #investme...  \n",
       "1  #healthcare #health #covid #data #datascience ...  \n",
       "2  #data #datascience #dataanalysis #dataanalytic...  \n",
       "3  #python #pythonprogramming #pythonprojects #py...  \n",
       "4  #datavisualization #datascience #data #dataana...  "
      ]
     },
     "execution_count": 2,
     "metadata": {},
     "output_type": "execute_result"
    }
   ],
   "source": [
    "pd.set_option('display.max_columns', None)\n",
    "\n",
    "data = pd.read_csv('instagram data.csv', encoding='latin-1')\n",
    "\n",
    "data.head()"
   ]
  },
  {
   "cell_type": "code",
   "execution_count": 3,
   "metadata": {},
   "outputs": [
    {
     "data": {
      "text/plain": [
       "Index(['Impressions', 'From Home', 'From Hashtags', 'From Explore',\n",
       "       'From Other', 'Saves', 'Comments', 'Shares', 'Likes', 'Profile Visits',\n",
       "       'Follows', 'Caption', 'Hashtags'],\n",
       "      dtype='object')"
      ]
     },
     "execution_count": 3,
     "metadata": {},
     "output_type": "execute_result"
    }
   ],
   "source": [
    "# Let's check what the columns of the data include\n",
    "\n",
    "data.columns"
   ]
  },
  {
   "cell_type": "code",
   "execution_count": 4,
   "metadata": {},
   "outputs": [
    {
     "name": "stdout",
     "output_type": "stream",
     "text": [
      "<class 'pandas.core.frame.DataFrame'>\n",
      "RangeIndex: 119 entries, 0 to 118\n",
      "Data columns (total 13 columns):\n",
      " #   Column          Non-Null Count  Dtype \n",
      "---  ------          --------------  ----- \n",
      " 0   Impressions     119 non-null    int64 \n",
      " 1   From Home       119 non-null    int64 \n",
      " 2   From Hashtags   119 non-null    int64 \n",
      " 3   From Explore    119 non-null    int64 \n",
      " 4   From Other      119 non-null    int64 \n",
      " 5   Saves           119 non-null    int64 \n",
      " 6   Comments        119 non-null    int64 \n",
      " 7   Shares          119 non-null    int64 \n",
      " 8   Likes           119 non-null    int64 \n",
      " 9   Profile Visits  119 non-null    int64 \n",
      " 10  Follows         119 non-null    int64 \n",
      " 11  Caption         119 non-null    object\n",
      " 12  Hashtags        119 non-null    object\n",
      "dtypes: int64(11), object(2)\n",
      "memory usage: 12.2+ KB\n"
     ]
    }
   ],
   "source": [
    "# Now let's check the column information\n",
    "\n",
    "data.info()"
   ]
  },
  {
   "cell_type": "code",
   "execution_count": 5,
   "metadata": {},
   "outputs": [
    {
     "data": {
      "text/html": [
       "<div>\n",
       "<style scoped>\n",
       "    .dataframe tbody tr th:only-of-type {\n",
       "        vertical-align: middle;\n",
       "    }\n",
       "\n",
       "    .dataframe tbody tr th {\n",
       "        vertical-align: top;\n",
       "    }\n",
       "\n",
       "    .dataframe thead th {\n",
       "        text-align: right;\n",
       "    }\n",
       "</style>\n",
       "<table border=\"1\" class=\"dataframe\">\n",
       "  <thead>\n",
       "    <tr style=\"text-align: right;\">\n",
       "      <th></th>\n",
       "      <th>Impressions</th>\n",
       "      <th>From Home</th>\n",
       "      <th>From Hashtags</th>\n",
       "      <th>From Explore</th>\n",
       "      <th>From Other</th>\n",
       "      <th>Saves</th>\n",
       "      <th>Comments</th>\n",
       "      <th>Shares</th>\n",
       "      <th>Likes</th>\n",
       "      <th>Profile Visits</th>\n",
       "      <th>Follows</th>\n",
       "    </tr>\n",
       "  </thead>\n",
       "  <tbody>\n",
       "    <tr>\n",
       "      <th>count</th>\n",
       "      <td>119.000000</td>\n",
       "      <td>119.000000</td>\n",
       "      <td>119.000000</td>\n",
       "      <td>119.000000</td>\n",
       "      <td>119.000000</td>\n",
       "      <td>119.000000</td>\n",
       "      <td>119.000000</td>\n",
       "      <td>119.000000</td>\n",
       "      <td>119.000000</td>\n",
       "      <td>119.000000</td>\n",
       "      <td>119.000000</td>\n",
       "    </tr>\n",
       "    <tr>\n",
       "      <th>mean</th>\n",
       "      <td>5703.991597</td>\n",
       "      <td>2475.789916</td>\n",
       "      <td>1887.512605</td>\n",
       "      <td>1078.100840</td>\n",
       "      <td>171.092437</td>\n",
       "      <td>153.310924</td>\n",
       "      <td>6.663866</td>\n",
       "      <td>9.361345</td>\n",
       "      <td>173.781513</td>\n",
       "      <td>50.621849</td>\n",
       "      <td>20.756303</td>\n",
       "    </tr>\n",
       "    <tr>\n",
       "      <th>std</th>\n",
       "      <td>4843.780105</td>\n",
       "      <td>1489.386348</td>\n",
       "      <td>1884.361443</td>\n",
       "      <td>2613.026132</td>\n",
       "      <td>289.431031</td>\n",
       "      <td>156.317731</td>\n",
       "      <td>3.544576</td>\n",
       "      <td>10.089205</td>\n",
       "      <td>82.378947</td>\n",
       "      <td>87.088402</td>\n",
       "      <td>40.921580</td>\n",
       "    </tr>\n",
       "    <tr>\n",
       "      <th>min</th>\n",
       "      <td>1941.000000</td>\n",
       "      <td>1133.000000</td>\n",
       "      <td>116.000000</td>\n",
       "      <td>0.000000</td>\n",
       "      <td>9.000000</td>\n",
       "      <td>22.000000</td>\n",
       "      <td>0.000000</td>\n",
       "      <td>0.000000</td>\n",
       "      <td>72.000000</td>\n",
       "      <td>4.000000</td>\n",
       "      <td>0.000000</td>\n",
       "    </tr>\n",
       "    <tr>\n",
       "      <th>25%</th>\n",
       "      <td>3467.000000</td>\n",
       "      <td>1945.000000</td>\n",
       "      <td>726.000000</td>\n",
       "      <td>157.500000</td>\n",
       "      <td>38.000000</td>\n",
       "      <td>65.000000</td>\n",
       "      <td>4.000000</td>\n",
       "      <td>3.000000</td>\n",
       "      <td>121.500000</td>\n",
       "      <td>15.000000</td>\n",
       "      <td>4.000000</td>\n",
       "    </tr>\n",
       "    <tr>\n",
       "      <th>50%</th>\n",
       "      <td>4289.000000</td>\n",
       "      <td>2207.000000</td>\n",
       "      <td>1278.000000</td>\n",
       "      <td>326.000000</td>\n",
       "      <td>74.000000</td>\n",
       "      <td>109.000000</td>\n",
       "      <td>6.000000</td>\n",
       "      <td>6.000000</td>\n",
       "      <td>151.000000</td>\n",
       "      <td>23.000000</td>\n",
       "      <td>8.000000</td>\n",
       "    </tr>\n",
       "    <tr>\n",
       "      <th>75%</th>\n",
       "      <td>6138.000000</td>\n",
       "      <td>2602.500000</td>\n",
       "      <td>2363.500000</td>\n",
       "      <td>689.500000</td>\n",
       "      <td>196.000000</td>\n",
       "      <td>169.000000</td>\n",
       "      <td>8.000000</td>\n",
       "      <td>13.500000</td>\n",
       "      <td>204.000000</td>\n",
       "      <td>42.000000</td>\n",
       "      <td>18.000000</td>\n",
       "    </tr>\n",
       "    <tr>\n",
       "      <th>max</th>\n",
       "      <td>36919.000000</td>\n",
       "      <td>13473.000000</td>\n",
       "      <td>11817.000000</td>\n",
       "      <td>17414.000000</td>\n",
       "      <td>2547.000000</td>\n",
       "      <td>1095.000000</td>\n",
       "      <td>19.000000</td>\n",
       "      <td>75.000000</td>\n",
       "      <td>549.000000</td>\n",
       "      <td>611.000000</td>\n",
       "      <td>260.000000</td>\n",
       "    </tr>\n",
       "  </tbody>\n",
       "</table>\n",
       "</div>"
      ],
      "text/plain": [
       "        Impressions     From Home  From Hashtags  From Explore   From Other  \\\n",
       "count    119.000000    119.000000     119.000000    119.000000   119.000000   \n",
       "mean    5703.991597   2475.789916    1887.512605   1078.100840   171.092437   \n",
       "std     4843.780105   1489.386348    1884.361443   2613.026132   289.431031   \n",
       "min     1941.000000   1133.000000     116.000000      0.000000     9.000000   \n",
       "25%     3467.000000   1945.000000     726.000000    157.500000    38.000000   \n",
       "50%     4289.000000   2207.000000    1278.000000    326.000000    74.000000   \n",
       "75%     6138.000000   2602.500000    2363.500000    689.500000   196.000000   \n",
       "max    36919.000000  13473.000000   11817.000000  17414.000000  2547.000000   \n",
       "\n",
       "             Saves    Comments      Shares       Likes  Profile Visits  \\\n",
       "count   119.000000  119.000000  119.000000  119.000000      119.000000   \n",
       "mean    153.310924    6.663866    9.361345  173.781513       50.621849   \n",
       "std     156.317731    3.544576   10.089205   82.378947       87.088402   \n",
       "min      22.000000    0.000000    0.000000   72.000000        4.000000   \n",
       "25%      65.000000    4.000000    3.000000  121.500000       15.000000   \n",
       "50%     109.000000    6.000000    6.000000  151.000000       23.000000   \n",
       "75%     169.000000    8.000000   13.500000  204.000000       42.000000   \n",
       "max    1095.000000   19.000000   75.000000  549.000000      611.000000   \n",
       "\n",
       "          Follows  \n",
       "count  119.000000  \n",
       "mean    20.756303  \n",
       "std     40.921580  \n",
       "min      0.000000  \n",
       "25%      4.000000  \n",
       "50%      8.000000  \n",
       "75%     18.000000  \n",
       "max    260.000000  "
      ]
     },
     "execution_count": 5,
     "metadata": {},
     "output_type": "execute_result"
    }
   ],
   "source": [
    "# Now let's look at the descriptive statistics of the data\n",
    "\n",
    "data.describe() "
   ]
  },
  {
   "cell_type": "markdown",
   "metadata": {},
   "source": [
    "- Let's look if our data have any missing values"
   ]
  },
  {
   "cell_type": "code",
   "execution_count": 6,
   "metadata": {},
   "outputs": [
    {
     "data": {
      "text/plain": [
       "Impressions       0\n",
       "From Home         0\n",
       "From Hashtags     0\n",
       "From Explore      0\n",
       "From Other        0\n",
       "Saves             0\n",
       "Comments          0\n",
       "Shares            0\n",
       "Likes             0\n",
       "Profile Visits    0\n",
       "Follows           0\n",
       "Caption           0\n",
       "Hashtags          0\n",
       "dtype: int64"
      ]
     },
     "execution_count": 6,
     "metadata": {},
     "output_type": "execute_result"
    }
   ],
   "source": [
    "data.isnull().sum()"
   ]
  },
  {
   "cell_type": "markdown",
   "metadata": {},
   "source": [
    "- let’s have a look at the distribution of the Impressions"
   ]
  },
  {
   "cell_type": "code",
   "execution_count": 7,
   "metadata": {},
   "outputs": [
    {
     "data": {
      "application/vnd.plotly.v1+json": {
       "config": {
        "plotlyServerURL": "https://plot.ly"
       },
       "data": [
        {
         "alignmentgroup": "True",
         "bingroup": "x",
         "hovertemplate": "Impressions=%{x}<br>count=%{y}<extra></extra>",
         "legendgroup": "",
         "marker": {
          "color": "#636efa",
          "pattern": {
           "shape": ""
          }
         },
         "name": "",
         "nbinsx": 10,
         "offsetgroup": "",
         "orientation": "v",
         "showlegend": false,
         "type": "histogram",
         "x": [
          3920,
          5394,
          4021,
          4528,
          2518,
          3884,
          2621,
          3541,
          3749,
          4115,
          2218,
          3234,
          4344,
          3216,
          9453,
          5055,
          4002,
          3169,
          6168,
          2407,
          2064,
          3973,
          7281,
          3052,
          4628,
          4082,
          5394,
          2766,
          3924,
          3015,
          6666,
          3854,
          4355,
          4343,
          6108,
          2523,
          2327,
          3990,
          2191,
          1941,
          16062,
          4998,
          4289,
          3880,
          3786,
          4298,
          3630,
          2826,
          7407,
          10386,
          2998,
          7018,
          2941,
          6432,
          10667,
          3988,
          4978,
          3388,
          4467,
          3246,
          5072,
          6339,
          4239,
          3454,
          7571,
          3333,
          3818,
          10933,
          5058,
          3601,
          3480,
          3525,
          3606,
          5542,
          6559,
          3623,
          10493,
          4446,
          2957,
          5538,
          4681,
          5273,
          5055,
          4002,
          3169,
          6168,
          2407,
          3630,
          2826,
          7407,
          10386,
          2998,
          3052,
          4628,
          4082,
          5394,
          2766,
          3924,
          3015,
          5409,
          5323,
          8001,
          4150,
          4609,
          6348,
          11068,
          7231,
          17396,
          6814,
          17713,
          5563,
          4842,
          11149,
          10206,
          13700,
          5731,
          4139,
          32695,
          36919
         ],
         "xaxis": "x",
         "yaxis": "y"
        }
       ],
       "layout": {
        "barmode": "relative",
        "legend": {
         "tracegroupgap": 0
        },
        "template": {
         "data": {
          "bar": [
           {
            "error_x": {
             "color": "#2a3f5f"
            },
            "error_y": {
             "color": "#2a3f5f"
            },
            "marker": {
             "line": {
              "color": "white",
              "width": 0.5
             },
             "pattern": {
              "fillmode": "overlay",
              "size": 10,
              "solidity": 0.2
             }
            },
            "type": "bar"
           }
          ],
          "barpolar": [
           {
            "marker": {
             "line": {
              "color": "white",
              "width": 0.5
             },
             "pattern": {
              "fillmode": "overlay",
              "size": 10,
              "solidity": 0.2
             }
            },
            "type": "barpolar"
           }
          ],
          "carpet": [
           {
            "aaxis": {
             "endlinecolor": "#2a3f5f",
             "gridcolor": "#C8D4E3",
             "linecolor": "#C8D4E3",
             "minorgridcolor": "#C8D4E3",
             "startlinecolor": "#2a3f5f"
            },
            "baxis": {
             "endlinecolor": "#2a3f5f",
             "gridcolor": "#C8D4E3",
             "linecolor": "#C8D4E3",
             "minorgridcolor": "#C8D4E3",
             "startlinecolor": "#2a3f5f"
            },
            "type": "carpet"
           }
          ],
          "choropleth": [
           {
            "colorbar": {
             "outlinewidth": 0,
             "ticks": ""
            },
            "type": "choropleth"
           }
          ],
          "contour": [
           {
            "colorbar": {
             "outlinewidth": 0,
             "ticks": ""
            },
            "colorscale": [
             [
              0,
              "#0d0887"
             ],
             [
              0.1111111111111111,
              "#46039f"
             ],
             [
              0.2222222222222222,
              "#7201a8"
             ],
             [
              0.3333333333333333,
              "#9c179e"
             ],
             [
              0.4444444444444444,
              "#bd3786"
             ],
             [
              0.5555555555555556,
              "#d8576b"
             ],
             [
              0.6666666666666666,
              "#ed7953"
             ],
             [
              0.7777777777777778,
              "#fb9f3a"
             ],
             [
              0.8888888888888888,
              "#fdca26"
             ],
             [
              1,
              "#f0f921"
             ]
            ],
            "type": "contour"
           }
          ],
          "contourcarpet": [
           {
            "colorbar": {
             "outlinewidth": 0,
             "ticks": ""
            },
            "type": "contourcarpet"
           }
          ],
          "heatmap": [
           {
            "colorbar": {
             "outlinewidth": 0,
             "ticks": ""
            },
            "colorscale": [
             [
              0,
              "#0d0887"
             ],
             [
              0.1111111111111111,
              "#46039f"
             ],
             [
              0.2222222222222222,
              "#7201a8"
             ],
             [
              0.3333333333333333,
              "#9c179e"
             ],
             [
              0.4444444444444444,
              "#bd3786"
             ],
             [
              0.5555555555555556,
              "#d8576b"
             ],
             [
              0.6666666666666666,
              "#ed7953"
             ],
             [
              0.7777777777777778,
              "#fb9f3a"
             ],
             [
              0.8888888888888888,
              "#fdca26"
             ],
             [
              1,
              "#f0f921"
             ]
            ],
            "type": "heatmap"
           }
          ],
          "heatmapgl": [
           {
            "colorbar": {
             "outlinewidth": 0,
             "ticks": ""
            },
            "colorscale": [
             [
              0,
              "#0d0887"
             ],
             [
              0.1111111111111111,
              "#46039f"
             ],
             [
              0.2222222222222222,
              "#7201a8"
             ],
             [
              0.3333333333333333,
              "#9c179e"
             ],
             [
              0.4444444444444444,
              "#bd3786"
             ],
             [
              0.5555555555555556,
              "#d8576b"
             ],
             [
              0.6666666666666666,
              "#ed7953"
             ],
             [
              0.7777777777777778,
              "#fb9f3a"
             ],
             [
              0.8888888888888888,
              "#fdca26"
             ],
             [
              1,
              "#f0f921"
             ]
            ],
            "type": "heatmapgl"
           }
          ],
          "histogram": [
           {
            "marker": {
             "pattern": {
              "fillmode": "overlay",
              "size": 10,
              "solidity": 0.2
             }
            },
            "type": "histogram"
           }
          ],
          "histogram2d": [
           {
            "colorbar": {
             "outlinewidth": 0,
             "ticks": ""
            },
            "colorscale": [
             [
              0,
              "#0d0887"
             ],
             [
              0.1111111111111111,
              "#46039f"
             ],
             [
              0.2222222222222222,
              "#7201a8"
             ],
             [
              0.3333333333333333,
              "#9c179e"
             ],
             [
              0.4444444444444444,
              "#bd3786"
             ],
             [
              0.5555555555555556,
              "#d8576b"
             ],
             [
              0.6666666666666666,
              "#ed7953"
             ],
             [
              0.7777777777777778,
              "#fb9f3a"
             ],
             [
              0.8888888888888888,
              "#fdca26"
             ],
             [
              1,
              "#f0f921"
             ]
            ],
            "type": "histogram2d"
           }
          ],
          "histogram2dcontour": [
           {
            "colorbar": {
             "outlinewidth": 0,
             "ticks": ""
            },
            "colorscale": [
             [
              0,
              "#0d0887"
             ],
             [
              0.1111111111111111,
              "#46039f"
             ],
             [
              0.2222222222222222,
              "#7201a8"
             ],
             [
              0.3333333333333333,
              "#9c179e"
             ],
             [
              0.4444444444444444,
              "#bd3786"
             ],
             [
              0.5555555555555556,
              "#d8576b"
             ],
             [
              0.6666666666666666,
              "#ed7953"
             ],
             [
              0.7777777777777778,
              "#fb9f3a"
             ],
             [
              0.8888888888888888,
              "#fdca26"
             ],
             [
              1,
              "#f0f921"
             ]
            ],
            "type": "histogram2dcontour"
           }
          ],
          "mesh3d": [
           {
            "colorbar": {
             "outlinewidth": 0,
             "ticks": ""
            },
            "type": "mesh3d"
           }
          ],
          "parcoords": [
           {
            "line": {
             "colorbar": {
              "outlinewidth": 0,
              "ticks": ""
             }
            },
            "type": "parcoords"
           }
          ],
          "pie": [
           {
            "automargin": true,
            "type": "pie"
           }
          ],
          "scatter": [
           {
            "fillpattern": {
             "fillmode": "overlay",
             "size": 10,
             "solidity": 0.2
            },
            "type": "scatter"
           }
          ],
          "scatter3d": [
           {
            "line": {
             "colorbar": {
              "outlinewidth": 0,
              "ticks": ""
             }
            },
            "marker": {
             "colorbar": {
              "outlinewidth": 0,
              "ticks": ""
             }
            },
            "type": "scatter3d"
           }
          ],
          "scattercarpet": [
           {
            "marker": {
             "colorbar": {
              "outlinewidth": 0,
              "ticks": ""
             }
            },
            "type": "scattercarpet"
           }
          ],
          "scattergeo": [
           {
            "marker": {
             "colorbar": {
              "outlinewidth": 0,
              "ticks": ""
             }
            },
            "type": "scattergeo"
           }
          ],
          "scattergl": [
           {
            "marker": {
             "colorbar": {
              "outlinewidth": 0,
              "ticks": ""
             }
            },
            "type": "scattergl"
           }
          ],
          "scattermapbox": [
           {
            "marker": {
             "colorbar": {
              "outlinewidth": 0,
              "ticks": ""
             }
            },
            "type": "scattermapbox"
           }
          ],
          "scatterpolar": [
           {
            "marker": {
             "colorbar": {
              "outlinewidth": 0,
              "ticks": ""
             }
            },
            "type": "scatterpolar"
           }
          ],
          "scatterpolargl": [
           {
            "marker": {
             "colorbar": {
              "outlinewidth": 0,
              "ticks": ""
             }
            },
            "type": "scatterpolargl"
           }
          ],
          "scatterternary": [
           {
            "marker": {
             "colorbar": {
              "outlinewidth": 0,
              "ticks": ""
             }
            },
            "type": "scatterternary"
           }
          ],
          "surface": [
           {
            "colorbar": {
             "outlinewidth": 0,
             "ticks": ""
            },
            "colorscale": [
             [
              0,
              "#0d0887"
             ],
             [
              0.1111111111111111,
              "#46039f"
             ],
             [
              0.2222222222222222,
              "#7201a8"
             ],
             [
              0.3333333333333333,
              "#9c179e"
             ],
             [
              0.4444444444444444,
              "#bd3786"
             ],
             [
              0.5555555555555556,
              "#d8576b"
             ],
             [
              0.6666666666666666,
              "#ed7953"
             ],
             [
              0.7777777777777778,
              "#fb9f3a"
             ],
             [
              0.8888888888888888,
              "#fdca26"
             ],
             [
              1,
              "#f0f921"
             ]
            ],
            "type": "surface"
           }
          ],
          "table": [
           {
            "cells": {
             "fill": {
              "color": "#EBF0F8"
             },
             "line": {
              "color": "white"
             }
            },
            "header": {
             "fill": {
              "color": "#C8D4E3"
             },
             "line": {
              "color": "white"
             }
            },
            "type": "table"
           }
          ]
         },
         "layout": {
          "annotationdefaults": {
           "arrowcolor": "#2a3f5f",
           "arrowhead": 0,
           "arrowwidth": 1
          },
          "autotypenumbers": "strict",
          "coloraxis": {
           "colorbar": {
            "outlinewidth": 0,
            "ticks": ""
           }
          },
          "colorscale": {
           "diverging": [
            [
             0,
             "#8e0152"
            ],
            [
             0.1,
             "#c51b7d"
            ],
            [
             0.2,
             "#de77ae"
            ],
            [
             0.3,
             "#f1b6da"
            ],
            [
             0.4,
             "#fde0ef"
            ],
            [
             0.5,
             "#f7f7f7"
            ],
            [
             0.6,
             "#e6f5d0"
            ],
            [
             0.7,
             "#b8e186"
            ],
            [
             0.8,
             "#7fbc41"
            ],
            [
             0.9,
             "#4d9221"
            ],
            [
             1,
             "#276419"
            ]
           ],
           "sequential": [
            [
             0,
             "#0d0887"
            ],
            [
             0.1111111111111111,
             "#46039f"
            ],
            [
             0.2222222222222222,
             "#7201a8"
            ],
            [
             0.3333333333333333,
             "#9c179e"
            ],
            [
             0.4444444444444444,
             "#bd3786"
            ],
            [
             0.5555555555555556,
             "#d8576b"
            ],
            [
             0.6666666666666666,
             "#ed7953"
            ],
            [
             0.7777777777777778,
             "#fb9f3a"
            ],
            [
             0.8888888888888888,
             "#fdca26"
            ],
            [
             1,
             "#f0f921"
            ]
           ],
           "sequentialminus": [
            [
             0,
             "#0d0887"
            ],
            [
             0.1111111111111111,
             "#46039f"
            ],
            [
             0.2222222222222222,
             "#7201a8"
            ],
            [
             0.3333333333333333,
             "#9c179e"
            ],
            [
             0.4444444444444444,
             "#bd3786"
            ],
            [
             0.5555555555555556,
             "#d8576b"
            ],
            [
             0.6666666666666666,
             "#ed7953"
            ],
            [
             0.7777777777777778,
             "#fb9f3a"
            ],
            [
             0.8888888888888888,
             "#fdca26"
            ],
            [
             1,
             "#f0f921"
            ]
           ]
          },
          "colorway": [
           "#636efa",
           "#EF553B",
           "#00cc96",
           "#ab63fa",
           "#FFA15A",
           "#19d3f3",
           "#FF6692",
           "#B6E880",
           "#FF97FF",
           "#FECB52"
          ],
          "font": {
           "color": "#2a3f5f"
          },
          "geo": {
           "bgcolor": "white",
           "lakecolor": "white",
           "landcolor": "white",
           "showlakes": true,
           "showland": true,
           "subunitcolor": "#C8D4E3"
          },
          "hoverlabel": {
           "align": "left"
          },
          "hovermode": "closest",
          "mapbox": {
           "style": "light"
          },
          "paper_bgcolor": "white",
          "plot_bgcolor": "white",
          "polar": {
           "angularaxis": {
            "gridcolor": "#EBF0F8",
            "linecolor": "#EBF0F8",
            "ticks": ""
           },
           "bgcolor": "white",
           "radialaxis": {
            "gridcolor": "#EBF0F8",
            "linecolor": "#EBF0F8",
            "ticks": ""
           }
          },
          "scene": {
           "xaxis": {
            "backgroundcolor": "white",
            "gridcolor": "#DFE8F3",
            "gridwidth": 2,
            "linecolor": "#EBF0F8",
            "showbackground": true,
            "ticks": "",
            "zerolinecolor": "#EBF0F8"
           },
           "yaxis": {
            "backgroundcolor": "white",
            "gridcolor": "#DFE8F3",
            "gridwidth": 2,
            "linecolor": "#EBF0F8",
            "showbackground": true,
            "ticks": "",
            "zerolinecolor": "#EBF0F8"
           },
           "zaxis": {
            "backgroundcolor": "white",
            "gridcolor": "#DFE8F3",
            "gridwidth": 2,
            "linecolor": "#EBF0F8",
            "showbackground": true,
            "ticks": "",
            "zerolinecolor": "#EBF0F8"
           }
          },
          "shapedefaults": {
           "line": {
            "color": "#2a3f5f"
           }
          },
          "ternary": {
           "aaxis": {
            "gridcolor": "#DFE8F3",
            "linecolor": "#A2B1C6",
            "ticks": ""
           },
           "baxis": {
            "gridcolor": "#DFE8F3",
            "linecolor": "#A2B1C6",
            "ticks": ""
           },
           "bgcolor": "white",
           "caxis": {
            "gridcolor": "#DFE8F3",
            "linecolor": "#A2B1C6",
            "ticks": ""
           }
          },
          "title": {
           "x": 0.05
          },
          "xaxis": {
           "automargin": true,
           "gridcolor": "#EBF0F8",
           "linecolor": "#EBF0F8",
           "ticks": "",
           "title": {
            "standoff": 15
           },
           "zerolinecolor": "#EBF0F8",
           "zerolinewidth": 2
          },
          "yaxis": {
           "automargin": true,
           "gridcolor": "#EBF0F8",
           "linecolor": "#EBF0F8",
           "ticks": "",
           "title": {
            "standoff": 15
           },
           "zerolinecolor": "#EBF0F8",
           "zerolinewidth": 2
          }
         }
        },
        "title": {
         "text": "Distribution of Impressions"
        },
        "xaxis": {
         "anchor": "y",
         "domain": [
          0,
          1
         ],
         "title": {
          "text": "Impressions"
         }
        },
        "yaxis": {
         "anchor": "x",
         "domain": [
          0,
          1
         ],
         "title": {
          "text": "count"
         }
        }
       }
      }
     },
     "metadata": {},
     "output_type": "display_data"
    }
   ],
   "source": [
    "fig = px.histogram(data, x=\"Impressions\", nbins=10, title='Distribution of Impressions')\n",
    "fig.show()"
   ]
  },
  {
   "cell_type": "markdown",
   "metadata": {},
   "source": [
    "- Now let’s have a look at the number of impressions on each post over time"
   ]
  },
  {
   "cell_type": "code",
   "execution_count": 8,
   "metadata": {},
   "outputs": [
    {
     "data": {
      "application/vnd.plotly.v1+json": {
       "config": {
        "plotlyServerURL": "https://plot.ly"
       },
       "data": [
        {
         "hovertemplate": "index=%{x}<br>Impressions=%{y}<extra></extra>",
         "legendgroup": "",
         "line": {
          "color": "#636efa",
          "dash": "solid"
         },
         "marker": {
          "symbol": "circle"
         },
         "mode": "lines",
         "name": "",
         "orientation": "v",
         "showlegend": false,
         "type": "scatter",
         "x": [
          0,
          1,
          2,
          3,
          4,
          5,
          6,
          7,
          8,
          9,
          10,
          11,
          12,
          13,
          14,
          15,
          16,
          17,
          18,
          19,
          20,
          21,
          22,
          23,
          24,
          25,
          26,
          27,
          28,
          29,
          30,
          31,
          32,
          33,
          34,
          35,
          36,
          37,
          38,
          39,
          40,
          41,
          42,
          43,
          44,
          45,
          46,
          47,
          48,
          49,
          50,
          51,
          52,
          53,
          54,
          55,
          56,
          57,
          58,
          59,
          60,
          61,
          62,
          63,
          64,
          65,
          66,
          67,
          68,
          69,
          70,
          71,
          72,
          73,
          74,
          75,
          76,
          77,
          78,
          79,
          80,
          81,
          82,
          83,
          84,
          85,
          86,
          87,
          88,
          89,
          90,
          91,
          92,
          93,
          94,
          95,
          96,
          97,
          98,
          99,
          100,
          101,
          102,
          103,
          104,
          105,
          106,
          107,
          108,
          109,
          110,
          111,
          112,
          113,
          114,
          115,
          116,
          117,
          118
         ],
         "xaxis": "x",
         "y": [
          3920,
          5394,
          4021,
          4528,
          2518,
          3884,
          2621,
          3541,
          3749,
          4115,
          2218,
          3234,
          4344,
          3216,
          9453,
          5055,
          4002,
          3169,
          6168,
          2407,
          2064,
          3973,
          7281,
          3052,
          4628,
          4082,
          5394,
          2766,
          3924,
          3015,
          6666,
          3854,
          4355,
          4343,
          6108,
          2523,
          2327,
          3990,
          2191,
          1941,
          16062,
          4998,
          4289,
          3880,
          3786,
          4298,
          3630,
          2826,
          7407,
          10386,
          2998,
          7018,
          2941,
          6432,
          10667,
          3988,
          4978,
          3388,
          4467,
          3246,
          5072,
          6339,
          4239,
          3454,
          7571,
          3333,
          3818,
          10933,
          5058,
          3601,
          3480,
          3525,
          3606,
          5542,
          6559,
          3623,
          10493,
          4446,
          2957,
          5538,
          4681,
          5273,
          5055,
          4002,
          3169,
          6168,
          2407,
          3630,
          2826,
          7407,
          10386,
          2998,
          3052,
          4628,
          4082,
          5394,
          2766,
          3924,
          3015,
          5409,
          5323,
          8001,
          4150,
          4609,
          6348,
          11068,
          7231,
          17396,
          6814,
          17713,
          5563,
          4842,
          11149,
          10206,
          13700,
          5731,
          4139,
          32695,
          36919
         ],
         "yaxis": "y"
        }
       ],
       "layout": {
        "legend": {
         "tracegroupgap": 0
        },
        "template": {
         "data": {
          "bar": [
           {
            "error_x": {
             "color": "#2a3f5f"
            },
            "error_y": {
             "color": "#2a3f5f"
            },
            "marker": {
             "line": {
              "color": "white",
              "width": 0.5
             },
             "pattern": {
              "fillmode": "overlay",
              "size": 10,
              "solidity": 0.2
             }
            },
            "type": "bar"
           }
          ],
          "barpolar": [
           {
            "marker": {
             "line": {
              "color": "white",
              "width": 0.5
             },
             "pattern": {
              "fillmode": "overlay",
              "size": 10,
              "solidity": 0.2
             }
            },
            "type": "barpolar"
           }
          ],
          "carpet": [
           {
            "aaxis": {
             "endlinecolor": "#2a3f5f",
             "gridcolor": "#C8D4E3",
             "linecolor": "#C8D4E3",
             "minorgridcolor": "#C8D4E3",
             "startlinecolor": "#2a3f5f"
            },
            "baxis": {
             "endlinecolor": "#2a3f5f",
             "gridcolor": "#C8D4E3",
             "linecolor": "#C8D4E3",
             "minorgridcolor": "#C8D4E3",
             "startlinecolor": "#2a3f5f"
            },
            "type": "carpet"
           }
          ],
          "choropleth": [
           {
            "colorbar": {
             "outlinewidth": 0,
             "ticks": ""
            },
            "type": "choropleth"
           }
          ],
          "contour": [
           {
            "colorbar": {
             "outlinewidth": 0,
             "ticks": ""
            },
            "colorscale": [
             [
              0,
              "#0d0887"
             ],
             [
              0.1111111111111111,
              "#46039f"
             ],
             [
              0.2222222222222222,
              "#7201a8"
             ],
             [
              0.3333333333333333,
              "#9c179e"
             ],
             [
              0.4444444444444444,
              "#bd3786"
             ],
             [
              0.5555555555555556,
              "#d8576b"
             ],
             [
              0.6666666666666666,
              "#ed7953"
             ],
             [
              0.7777777777777778,
              "#fb9f3a"
             ],
             [
              0.8888888888888888,
              "#fdca26"
             ],
             [
              1,
              "#f0f921"
             ]
            ],
            "type": "contour"
           }
          ],
          "contourcarpet": [
           {
            "colorbar": {
             "outlinewidth": 0,
             "ticks": ""
            },
            "type": "contourcarpet"
           }
          ],
          "heatmap": [
           {
            "colorbar": {
             "outlinewidth": 0,
             "ticks": ""
            },
            "colorscale": [
             [
              0,
              "#0d0887"
             ],
             [
              0.1111111111111111,
              "#46039f"
             ],
             [
              0.2222222222222222,
              "#7201a8"
             ],
             [
              0.3333333333333333,
              "#9c179e"
             ],
             [
              0.4444444444444444,
              "#bd3786"
             ],
             [
              0.5555555555555556,
              "#d8576b"
             ],
             [
              0.6666666666666666,
              "#ed7953"
             ],
             [
              0.7777777777777778,
              "#fb9f3a"
             ],
             [
              0.8888888888888888,
              "#fdca26"
             ],
             [
              1,
              "#f0f921"
             ]
            ],
            "type": "heatmap"
           }
          ],
          "heatmapgl": [
           {
            "colorbar": {
             "outlinewidth": 0,
             "ticks": ""
            },
            "colorscale": [
             [
              0,
              "#0d0887"
             ],
             [
              0.1111111111111111,
              "#46039f"
             ],
             [
              0.2222222222222222,
              "#7201a8"
             ],
             [
              0.3333333333333333,
              "#9c179e"
             ],
             [
              0.4444444444444444,
              "#bd3786"
             ],
             [
              0.5555555555555556,
              "#d8576b"
             ],
             [
              0.6666666666666666,
              "#ed7953"
             ],
             [
              0.7777777777777778,
              "#fb9f3a"
             ],
             [
              0.8888888888888888,
              "#fdca26"
             ],
             [
              1,
              "#f0f921"
             ]
            ],
            "type": "heatmapgl"
           }
          ],
          "histogram": [
           {
            "marker": {
             "pattern": {
              "fillmode": "overlay",
              "size": 10,
              "solidity": 0.2
             }
            },
            "type": "histogram"
           }
          ],
          "histogram2d": [
           {
            "colorbar": {
             "outlinewidth": 0,
             "ticks": ""
            },
            "colorscale": [
             [
              0,
              "#0d0887"
             ],
             [
              0.1111111111111111,
              "#46039f"
             ],
             [
              0.2222222222222222,
              "#7201a8"
             ],
             [
              0.3333333333333333,
              "#9c179e"
             ],
             [
              0.4444444444444444,
              "#bd3786"
             ],
             [
              0.5555555555555556,
              "#d8576b"
             ],
             [
              0.6666666666666666,
              "#ed7953"
             ],
             [
              0.7777777777777778,
              "#fb9f3a"
             ],
             [
              0.8888888888888888,
              "#fdca26"
             ],
             [
              1,
              "#f0f921"
             ]
            ],
            "type": "histogram2d"
           }
          ],
          "histogram2dcontour": [
           {
            "colorbar": {
             "outlinewidth": 0,
             "ticks": ""
            },
            "colorscale": [
             [
              0,
              "#0d0887"
             ],
             [
              0.1111111111111111,
              "#46039f"
             ],
             [
              0.2222222222222222,
              "#7201a8"
             ],
             [
              0.3333333333333333,
              "#9c179e"
             ],
             [
              0.4444444444444444,
              "#bd3786"
             ],
             [
              0.5555555555555556,
              "#d8576b"
             ],
             [
              0.6666666666666666,
              "#ed7953"
             ],
             [
              0.7777777777777778,
              "#fb9f3a"
             ],
             [
              0.8888888888888888,
              "#fdca26"
             ],
             [
              1,
              "#f0f921"
             ]
            ],
            "type": "histogram2dcontour"
           }
          ],
          "mesh3d": [
           {
            "colorbar": {
             "outlinewidth": 0,
             "ticks": ""
            },
            "type": "mesh3d"
           }
          ],
          "parcoords": [
           {
            "line": {
             "colorbar": {
              "outlinewidth": 0,
              "ticks": ""
             }
            },
            "type": "parcoords"
           }
          ],
          "pie": [
           {
            "automargin": true,
            "type": "pie"
           }
          ],
          "scatter": [
           {
            "fillpattern": {
             "fillmode": "overlay",
             "size": 10,
             "solidity": 0.2
            },
            "type": "scatter"
           }
          ],
          "scatter3d": [
           {
            "line": {
             "colorbar": {
              "outlinewidth": 0,
              "ticks": ""
             }
            },
            "marker": {
             "colorbar": {
              "outlinewidth": 0,
              "ticks": ""
             }
            },
            "type": "scatter3d"
           }
          ],
          "scattercarpet": [
           {
            "marker": {
             "colorbar": {
              "outlinewidth": 0,
              "ticks": ""
             }
            },
            "type": "scattercarpet"
           }
          ],
          "scattergeo": [
           {
            "marker": {
             "colorbar": {
              "outlinewidth": 0,
              "ticks": ""
             }
            },
            "type": "scattergeo"
           }
          ],
          "scattergl": [
           {
            "marker": {
             "colorbar": {
              "outlinewidth": 0,
              "ticks": ""
             }
            },
            "type": "scattergl"
           }
          ],
          "scattermapbox": [
           {
            "marker": {
             "colorbar": {
              "outlinewidth": 0,
              "ticks": ""
             }
            },
            "type": "scattermapbox"
           }
          ],
          "scatterpolar": [
           {
            "marker": {
             "colorbar": {
              "outlinewidth": 0,
              "ticks": ""
             }
            },
            "type": "scatterpolar"
           }
          ],
          "scatterpolargl": [
           {
            "marker": {
             "colorbar": {
              "outlinewidth": 0,
              "ticks": ""
             }
            },
            "type": "scatterpolargl"
           }
          ],
          "scatterternary": [
           {
            "marker": {
             "colorbar": {
              "outlinewidth": 0,
              "ticks": ""
             }
            },
            "type": "scatterternary"
           }
          ],
          "surface": [
           {
            "colorbar": {
             "outlinewidth": 0,
             "ticks": ""
            },
            "colorscale": [
             [
              0,
              "#0d0887"
             ],
             [
              0.1111111111111111,
              "#46039f"
             ],
             [
              0.2222222222222222,
              "#7201a8"
             ],
             [
              0.3333333333333333,
              "#9c179e"
             ],
             [
              0.4444444444444444,
              "#bd3786"
             ],
             [
              0.5555555555555556,
              "#d8576b"
             ],
             [
              0.6666666666666666,
              "#ed7953"
             ],
             [
              0.7777777777777778,
              "#fb9f3a"
             ],
             [
              0.8888888888888888,
              "#fdca26"
             ],
             [
              1,
              "#f0f921"
             ]
            ],
            "type": "surface"
           }
          ],
          "table": [
           {
            "cells": {
             "fill": {
              "color": "#EBF0F8"
             },
             "line": {
              "color": "white"
             }
            },
            "header": {
             "fill": {
              "color": "#C8D4E3"
             },
             "line": {
              "color": "white"
             }
            },
            "type": "table"
           }
          ]
         },
         "layout": {
          "annotationdefaults": {
           "arrowcolor": "#2a3f5f",
           "arrowhead": 0,
           "arrowwidth": 1
          },
          "autotypenumbers": "strict",
          "coloraxis": {
           "colorbar": {
            "outlinewidth": 0,
            "ticks": ""
           }
          },
          "colorscale": {
           "diverging": [
            [
             0,
             "#8e0152"
            ],
            [
             0.1,
             "#c51b7d"
            ],
            [
             0.2,
             "#de77ae"
            ],
            [
             0.3,
             "#f1b6da"
            ],
            [
             0.4,
             "#fde0ef"
            ],
            [
             0.5,
             "#f7f7f7"
            ],
            [
             0.6,
             "#e6f5d0"
            ],
            [
             0.7,
             "#b8e186"
            ],
            [
             0.8,
             "#7fbc41"
            ],
            [
             0.9,
             "#4d9221"
            ],
            [
             1,
             "#276419"
            ]
           ],
           "sequential": [
            [
             0,
             "#0d0887"
            ],
            [
             0.1111111111111111,
             "#46039f"
            ],
            [
             0.2222222222222222,
             "#7201a8"
            ],
            [
             0.3333333333333333,
             "#9c179e"
            ],
            [
             0.4444444444444444,
             "#bd3786"
            ],
            [
             0.5555555555555556,
             "#d8576b"
            ],
            [
             0.6666666666666666,
             "#ed7953"
            ],
            [
             0.7777777777777778,
             "#fb9f3a"
            ],
            [
             0.8888888888888888,
             "#fdca26"
            ],
            [
             1,
             "#f0f921"
            ]
           ],
           "sequentialminus": [
            [
             0,
             "#0d0887"
            ],
            [
             0.1111111111111111,
             "#46039f"
            ],
            [
             0.2222222222222222,
             "#7201a8"
            ],
            [
             0.3333333333333333,
             "#9c179e"
            ],
            [
             0.4444444444444444,
             "#bd3786"
            ],
            [
             0.5555555555555556,
             "#d8576b"
            ],
            [
             0.6666666666666666,
             "#ed7953"
            ],
            [
             0.7777777777777778,
             "#fb9f3a"
            ],
            [
             0.8888888888888888,
             "#fdca26"
            ],
            [
             1,
             "#f0f921"
            ]
           ]
          },
          "colorway": [
           "#636efa",
           "#EF553B",
           "#00cc96",
           "#ab63fa",
           "#FFA15A",
           "#19d3f3",
           "#FF6692",
           "#B6E880",
           "#FF97FF",
           "#FECB52"
          ],
          "font": {
           "color": "#2a3f5f"
          },
          "geo": {
           "bgcolor": "white",
           "lakecolor": "white",
           "landcolor": "white",
           "showlakes": true,
           "showland": true,
           "subunitcolor": "#C8D4E3"
          },
          "hoverlabel": {
           "align": "left"
          },
          "hovermode": "closest",
          "mapbox": {
           "style": "light"
          },
          "paper_bgcolor": "white",
          "plot_bgcolor": "white",
          "polar": {
           "angularaxis": {
            "gridcolor": "#EBF0F8",
            "linecolor": "#EBF0F8",
            "ticks": ""
           },
           "bgcolor": "white",
           "radialaxis": {
            "gridcolor": "#EBF0F8",
            "linecolor": "#EBF0F8",
            "ticks": ""
           }
          },
          "scene": {
           "xaxis": {
            "backgroundcolor": "white",
            "gridcolor": "#DFE8F3",
            "gridwidth": 2,
            "linecolor": "#EBF0F8",
            "showbackground": true,
            "ticks": "",
            "zerolinecolor": "#EBF0F8"
           },
           "yaxis": {
            "backgroundcolor": "white",
            "gridcolor": "#DFE8F3",
            "gridwidth": 2,
            "linecolor": "#EBF0F8",
            "showbackground": true,
            "ticks": "",
            "zerolinecolor": "#EBF0F8"
           },
           "zaxis": {
            "backgroundcolor": "white",
            "gridcolor": "#DFE8F3",
            "gridwidth": 2,
            "linecolor": "#EBF0F8",
            "showbackground": true,
            "ticks": "",
            "zerolinecolor": "#EBF0F8"
           }
          },
          "shapedefaults": {
           "line": {
            "color": "#2a3f5f"
           }
          },
          "ternary": {
           "aaxis": {
            "gridcolor": "#DFE8F3",
            "linecolor": "#A2B1C6",
            "ticks": ""
           },
           "baxis": {
            "gridcolor": "#DFE8F3",
            "linecolor": "#A2B1C6",
            "ticks": ""
           },
           "bgcolor": "white",
           "caxis": {
            "gridcolor": "#DFE8F3",
            "linecolor": "#A2B1C6",
            "ticks": ""
           }
          },
          "title": {
           "x": 0.05
          },
          "xaxis": {
           "automargin": true,
           "gridcolor": "#EBF0F8",
           "linecolor": "#EBF0F8",
           "ticks": "",
           "title": {
            "standoff": 15
           },
           "zerolinecolor": "#EBF0F8",
           "zerolinewidth": 2
          },
          "yaxis": {
           "automargin": true,
           "gridcolor": "#EBF0F8",
           "linecolor": "#EBF0F8",
           "ticks": "",
           "title": {
            "standoff": 15
           },
           "zerolinecolor": "#EBF0F8",
           "zerolinewidth": 2
          }
         }
        },
        "title": {
         "text": "Impressions Over Time"
        },
        "xaxis": {
         "anchor": "y",
         "domain": [
          0,
          1
         ],
         "title": {
          "text": "index"
         }
        },
        "yaxis": {
         "anchor": "x",
         "domain": [
          0,
          1
         ],
         "title": {
          "text": "Impressions"
         }
        }
       }
      }
     },
     "metadata": {},
     "output_type": "display_data"
    }
   ],
   "source": [
    "fig = px.line(data, x= data.index, y=\"Impressions\", title=\"Impressions Over Time\")\n",
    "fig.show()"
   ]
  },
  {
   "cell_type": "markdown",
   "metadata": {},
   "source": [
    "- Now let's have a look at al the metrics like Likes, Saves, and Follows from each post over time "
   ]
  },
  {
   "cell_type": "code",
   "execution_count": 9,
   "metadata": {},
   "outputs": [
    {
     "data": {
      "application/vnd.plotly.v1+json": {
       "config": {
        "plotlyServerURL": "https://plot.ly"
       },
       "data": [
        {
         "name": "Likes",
         "type": "scatter",
         "x": [
          0,
          1,
          2,
          3,
          4,
          5,
          6,
          7,
          8,
          9,
          10,
          11,
          12,
          13,
          14,
          15,
          16,
          17,
          18,
          19,
          20,
          21,
          22,
          23,
          24,
          25,
          26,
          27,
          28,
          29,
          30,
          31,
          32,
          33,
          34,
          35,
          36,
          37,
          38,
          39,
          40,
          41,
          42,
          43,
          44,
          45,
          46,
          47,
          48,
          49,
          50,
          51,
          52,
          53,
          54,
          55,
          56,
          57,
          58,
          59,
          60,
          61,
          62,
          63,
          64,
          65,
          66,
          67,
          68,
          69,
          70,
          71,
          72,
          73,
          74,
          75,
          76,
          77,
          78,
          79,
          80,
          81,
          82,
          83,
          84,
          85,
          86,
          87,
          88,
          89,
          90,
          91,
          92,
          93,
          94,
          95,
          96,
          97,
          98,
          99,
          100,
          101,
          102,
          103,
          104,
          105,
          106,
          107,
          108,
          109,
          110,
          111,
          112,
          113,
          114,
          115,
          116,
          117,
          118
         ],
         "y": [
          162,
          224,
          131,
          213,
          123,
          144,
          76,
          124,
          159,
          191,
          81,
          151,
          162,
          142,
          294,
          159,
          205,
          121,
          151,
          72,
          76,
          91,
          195,
          129,
          160,
          175,
          147,
          114,
          151,
          92,
          214,
          150,
          122,
          152,
          196,
          86,
          85,
          156,
          72,
          82,
          416,
          180,
          150,
          127,
          167,
          225,
          137,
          114,
          263,
          328,
          126,
          236,
          99,
          212,
          297,
          142,
          186,
          112,
          149,
          132,
          115,
          248,
          178,
          107,
          269,
          96,
          134,
          301,
          187,
          94,
          114,
          96,
          138,
          122,
          257,
          95,
          244,
          190,
          118,
          178,
          170,
          250,
          159,
          205,
          121,
          151,
          72,
          137,
          114,
          263,
          328,
          126,
          129,
          160,
          175,
          147,
          114,
          151,
          92,
          275,
          192,
          203,
          145,
          168,
          194,
          250,
          171,
          416,
          249,
          308,
          163,
          86,
          210,
          172,
          373,
          148,
          92,
          549,
          443
         ]
        },
        {
         "name": "Saves",
         "type": "scatter",
         "x": [
          0,
          1,
          2,
          3,
          4,
          5,
          6,
          7,
          8,
          9,
          10,
          11,
          12,
          13,
          14,
          15,
          16,
          17,
          18,
          19,
          20,
          21,
          22,
          23,
          24,
          25,
          26,
          27,
          28,
          29,
          30,
          31,
          32,
          33,
          34,
          35,
          36,
          37,
          38,
          39,
          40,
          41,
          42,
          43,
          44,
          45,
          46,
          47,
          48,
          49,
          50,
          51,
          52,
          53,
          54,
          55,
          56,
          57,
          58,
          59,
          60,
          61,
          62,
          63,
          64,
          65,
          66,
          67,
          68,
          69,
          70,
          71,
          72,
          73,
          74,
          75,
          76,
          77,
          78,
          79,
          80,
          81,
          82,
          83,
          84,
          85,
          86,
          87,
          88,
          89,
          90,
          91,
          92,
          93,
          94,
          95,
          96,
          97,
          98,
          99,
          100,
          101,
          102,
          103,
          104,
          105,
          106,
          107,
          108,
          109,
          110,
          111,
          112,
          113,
          114,
          115,
          116,
          117,
          118
         ],
         "y": [
          98,
          194,
          41,
          172,
          96,
          74,
          22,
          135,
          155,
          122,
          28,
          122,
          119,
          121,
          100,
          101,
          111,
          106,
          82,
          40,
          49,
          72,
          167,
          63,
          144,
          135,
          61,
          40,
          139,
          52,
          84,
          81,
          79,
          105,
          90,
          34,
          45,
          98,
          35,
          49,
          252,
          167,
          111,
          90,
          144,
          263,
          137,
          67,
          288,
          668,
          42,
          342,
          48,
          250,
          219,
          118,
          143,
          99,
          89,
          148,
          42,
          171,
          109,
          38,
          421,
          38,
          116,
          225,
          144,
          51,
          104,
          33,
          174,
          46,
          179,
          34,
          99,
          174,
          70,
          149,
          207,
          318,
          101,
          111,
          106,
          82,
          40,
          137,
          67,
          288,
          668,
          42,
          63,
          144,
          135,
          61,
          40,
          139,
          52,
          393,
          152,
          83,
          74,
          94,
          188,
          214,
          73,
          285,
          469,
          504,
          149,
          55,
          273,
          182,
          573,
          135,
          36,
          1095,
          653
         ]
        },
        {
         "name": "Follows",
         "type": "scatter",
         "x": [
          0,
          1,
          2,
          3,
          4,
          5,
          6,
          7,
          8,
          9,
          10,
          11,
          12,
          13,
          14,
          15,
          16,
          17,
          18,
          19,
          20,
          21,
          22,
          23,
          24,
          25,
          26,
          27,
          28,
          29,
          30,
          31,
          32,
          33,
          34,
          35,
          36,
          37,
          38,
          39,
          40,
          41,
          42,
          43,
          44,
          45,
          46,
          47,
          48,
          49,
          50,
          51,
          52,
          53,
          54,
          55,
          56,
          57,
          58,
          59,
          60,
          61,
          62,
          63,
          64,
          65,
          66,
          67,
          68,
          69,
          70,
          71,
          72,
          73,
          74,
          75,
          76,
          77,
          78,
          79,
          80,
          81,
          82,
          83,
          84,
          85,
          86,
          87,
          88,
          89,
          90,
          91,
          92,
          93,
          94,
          95,
          96,
          97,
          98,
          99,
          100,
          101,
          102,
          103,
          104,
          105,
          106,
          107,
          108,
          109,
          110,
          111,
          112,
          113,
          114,
          115,
          116,
          117,
          118
         ],
         "y": [
          2,
          10,
          12,
          8,
          0,
          2,
          0,
          6,
          4,
          6,
          4,
          0,
          2,
          4,
          42,
          6,
          2,
          2,
          30,
          0,
          0,
          24,
          100,
          2,
          4,
          6,
          6,
          6,
          2,
          2,
          20,
          2,
          4,
          8,
          26,
          2,
          2,
          4,
          0,
          2,
          94,
          8,
          18,
          10,
          4,
          4,
          4,
          4,
          18,
          38,
          10,
          12,
          4,
          4,
          74,
          0,
          6,
          6,
          0,
          6,
          12,
          10,
          8,
          8,
          46,
          12,
          10,
          94,
          6,
          10,
          6,
          4,
          12,
          16,
          12,
          8,
          32,
          8,
          16,
          6,
          10,
          10,
          6,
          2,
          2,
          30,
          0,
          4,
          4,
          18,
          38,
          10,
          2,
          4,
          6,
          6,
          6,
          2,
          2,
          14,
          8,
          14,
          28,
          18,
          12,
          34,
          26,
          260,
          16,
          96,
          20,
          30,
          58,
          100,
          80,
          18,
          10,
          214,
          228
         ]
        }
       ],
       "layout": {
        "template": {
         "data": {
          "bar": [
           {
            "error_x": {
             "color": "#2a3f5f"
            },
            "error_y": {
             "color": "#2a3f5f"
            },
            "marker": {
             "line": {
              "color": "white",
              "width": 0.5
             },
             "pattern": {
              "fillmode": "overlay",
              "size": 10,
              "solidity": 0.2
             }
            },
            "type": "bar"
           }
          ],
          "barpolar": [
           {
            "marker": {
             "line": {
              "color": "white",
              "width": 0.5
             },
             "pattern": {
              "fillmode": "overlay",
              "size": 10,
              "solidity": 0.2
             }
            },
            "type": "barpolar"
           }
          ],
          "carpet": [
           {
            "aaxis": {
             "endlinecolor": "#2a3f5f",
             "gridcolor": "#C8D4E3",
             "linecolor": "#C8D4E3",
             "minorgridcolor": "#C8D4E3",
             "startlinecolor": "#2a3f5f"
            },
            "baxis": {
             "endlinecolor": "#2a3f5f",
             "gridcolor": "#C8D4E3",
             "linecolor": "#C8D4E3",
             "minorgridcolor": "#C8D4E3",
             "startlinecolor": "#2a3f5f"
            },
            "type": "carpet"
           }
          ],
          "choropleth": [
           {
            "colorbar": {
             "outlinewidth": 0,
             "ticks": ""
            },
            "type": "choropleth"
           }
          ],
          "contour": [
           {
            "colorbar": {
             "outlinewidth": 0,
             "ticks": ""
            },
            "colorscale": [
             [
              0,
              "#0d0887"
             ],
             [
              0.1111111111111111,
              "#46039f"
             ],
             [
              0.2222222222222222,
              "#7201a8"
             ],
             [
              0.3333333333333333,
              "#9c179e"
             ],
             [
              0.4444444444444444,
              "#bd3786"
             ],
             [
              0.5555555555555556,
              "#d8576b"
             ],
             [
              0.6666666666666666,
              "#ed7953"
             ],
             [
              0.7777777777777778,
              "#fb9f3a"
             ],
             [
              0.8888888888888888,
              "#fdca26"
             ],
             [
              1,
              "#f0f921"
             ]
            ],
            "type": "contour"
           }
          ],
          "contourcarpet": [
           {
            "colorbar": {
             "outlinewidth": 0,
             "ticks": ""
            },
            "type": "contourcarpet"
           }
          ],
          "heatmap": [
           {
            "colorbar": {
             "outlinewidth": 0,
             "ticks": ""
            },
            "colorscale": [
             [
              0,
              "#0d0887"
             ],
             [
              0.1111111111111111,
              "#46039f"
             ],
             [
              0.2222222222222222,
              "#7201a8"
             ],
             [
              0.3333333333333333,
              "#9c179e"
             ],
             [
              0.4444444444444444,
              "#bd3786"
             ],
             [
              0.5555555555555556,
              "#d8576b"
             ],
             [
              0.6666666666666666,
              "#ed7953"
             ],
             [
              0.7777777777777778,
              "#fb9f3a"
             ],
             [
              0.8888888888888888,
              "#fdca26"
             ],
             [
              1,
              "#f0f921"
             ]
            ],
            "type": "heatmap"
           }
          ],
          "heatmapgl": [
           {
            "colorbar": {
             "outlinewidth": 0,
             "ticks": ""
            },
            "colorscale": [
             [
              0,
              "#0d0887"
             ],
             [
              0.1111111111111111,
              "#46039f"
             ],
             [
              0.2222222222222222,
              "#7201a8"
             ],
             [
              0.3333333333333333,
              "#9c179e"
             ],
             [
              0.4444444444444444,
              "#bd3786"
             ],
             [
              0.5555555555555556,
              "#d8576b"
             ],
             [
              0.6666666666666666,
              "#ed7953"
             ],
             [
              0.7777777777777778,
              "#fb9f3a"
             ],
             [
              0.8888888888888888,
              "#fdca26"
             ],
             [
              1,
              "#f0f921"
             ]
            ],
            "type": "heatmapgl"
           }
          ],
          "histogram": [
           {
            "marker": {
             "pattern": {
              "fillmode": "overlay",
              "size": 10,
              "solidity": 0.2
             }
            },
            "type": "histogram"
           }
          ],
          "histogram2d": [
           {
            "colorbar": {
             "outlinewidth": 0,
             "ticks": ""
            },
            "colorscale": [
             [
              0,
              "#0d0887"
             ],
             [
              0.1111111111111111,
              "#46039f"
             ],
             [
              0.2222222222222222,
              "#7201a8"
             ],
             [
              0.3333333333333333,
              "#9c179e"
             ],
             [
              0.4444444444444444,
              "#bd3786"
             ],
             [
              0.5555555555555556,
              "#d8576b"
             ],
             [
              0.6666666666666666,
              "#ed7953"
             ],
             [
              0.7777777777777778,
              "#fb9f3a"
             ],
             [
              0.8888888888888888,
              "#fdca26"
             ],
             [
              1,
              "#f0f921"
             ]
            ],
            "type": "histogram2d"
           }
          ],
          "histogram2dcontour": [
           {
            "colorbar": {
             "outlinewidth": 0,
             "ticks": ""
            },
            "colorscale": [
             [
              0,
              "#0d0887"
             ],
             [
              0.1111111111111111,
              "#46039f"
             ],
             [
              0.2222222222222222,
              "#7201a8"
             ],
             [
              0.3333333333333333,
              "#9c179e"
             ],
             [
              0.4444444444444444,
              "#bd3786"
             ],
             [
              0.5555555555555556,
              "#d8576b"
             ],
             [
              0.6666666666666666,
              "#ed7953"
             ],
             [
              0.7777777777777778,
              "#fb9f3a"
             ],
             [
              0.8888888888888888,
              "#fdca26"
             ],
             [
              1,
              "#f0f921"
             ]
            ],
            "type": "histogram2dcontour"
           }
          ],
          "mesh3d": [
           {
            "colorbar": {
             "outlinewidth": 0,
             "ticks": ""
            },
            "type": "mesh3d"
           }
          ],
          "parcoords": [
           {
            "line": {
             "colorbar": {
              "outlinewidth": 0,
              "ticks": ""
             }
            },
            "type": "parcoords"
           }
          ],
          "pie": [
           {
            "automargin": true,
            "type": "pie"
           }
          ],
          "scatter": [
           {
            "fillpattern": {
             "fillmode": "overlay",
             "size": 10,
             "solidity": 0.2
            },
            "type": "scatter"
           }
          ],
          "scatter3d": [
           {
            "line": {
             "colorbar": {
              "outlinewidth": 0,
              "ticks": ""
             }
            },
            "marker": {
             "colorbar": {
              "outlinewidth": 0,
              "ticks": ""
             }
            },
            "type": "scatter3d"
           }
          ],
          "scattercarpet": [
           {
            "marker": {
             "colorbar": {
              "outlinewidth": 0,
              "ticks": ""
             }
            },
            "type": "scattercarpet"
           }
          ],
          "scattergeo": [
           {
            "marker": {
             "colorbar": {
              "outlinewidth": 0,
              "ticks": ""
             }
            },
            "type": "scattergeo"
           }
          ],
          "scattergl": [
           {
            "marker": {
             "colorbar": {
              "outlinewidth": 0,
              "ticks": ""
             }
            },
            "type": "scattergl"
           }
          ],
          "scattermapbox": [
           {
            "marker": {
             "colorbar": {
              "outlinewidth": 0,
              "ticks": ""
             }
            },
            "type": "scattermapbox"
           }
          ],
          "scatterpolar": [
           {
            "marker": {
             "colorbar": {
              "outlinewidth": 0,
              "ticks": ""
             }
            },
            "type": "scatterpolar"
           }
          ],
          "scatterpolargl": [
           {
            "marker": {
             "colorbar": {
              "outlinewidth": 0,
              "ticks": ""
             }
            },
            "type": "scatterpolargl"
           }
          ],
          "scatterternary": [
           {
            "marker": {
             "colorbar": {
              "outlinewidth": 0,
              "ticks": ""
             }
            },
            "type": "scatterternary"
           }
          ],
          "surface": [
           {
            "colorbar": {
             "outlinewidth": 0,
             "ticks": ""
            },
            "colorscale": [
             [
              0,
              "#0d0887"
             ],
             [
              0.1111111111111111,
              "#46039f"
             ],
             [
              0.2222222222222222,
              "#7201a8"
             ],
             [
              0.3333333333333333,
              "#9c179e"
             ],
             [
              0.4444444444444444,
              "#bd3786"
             ],
             [
              0.5555555555555556,
              "#d8576b"
             ],
             [
              0.6666666666666666,
              "#ed7953"
             ],
             [
              0.7777777777777778,
              "#fb9f3a"
             ],
             [
              0.8888888888888888,
              "#fdca26"
             ],
             [
              1,
              "#f0f921"
             ]
            ],
            "type": "surface"
           }
          ],
          "table": [
           {
            "cells": {
             "fill": {
              "color": "#EBF0F8"
             },
             "line": {
              "color": "white"
             }
            },
            "header": {
             "fill": {
              "color": "#C8D4E3"
             },
             "line": {
              "color": "white"
             }
            },
            "type": "table"
           }
          ]
         },
         "layout": {
          "annotationdefaults": {
           "arrowcolor": "#2a3f5f",
           "arrowhead": 0,
           "arrowwidth": 1
          },
          "autotypenumbers": "strict",
          "coloraxis": {
           "colorbar": {
            "outlinewidth": 0,
            "ticks": ""
           }
          },
          "colorscale": {
           "diverging": [
            [
             0,
             "#8e0152"
            ],
            [
             0.1,
             "#c51b7d"
            ],
            [
             0.2,
             "#de77ae"
            ],
            [
             0.3,
             "#f1b6da"
            ],
            [
             0.4,
             "#fde0ef"
            ],
            [
             0.5,
             "#f7f7f7"
            ],
            [
             0.6,
             "#e6f5d0"
            ],
            [
             0.7,
             "#b8e186"
            ],
            [
             0.8,
             "#7fbc41"
            ],
            [
             0.9,
             "#4d9221"
            ],
            [
             1,
             "#276419"
            ]
           ],
           "sequential": [
            [
             0,
             "#0d0887"
            ],
            [
             0.1111111111111111,
             "#46039f"
            ],
            [
             0.2222222222222222,
             "#7201a8"
            ],
            [
             0.3333333333333333,
             "#9c179e"
            ],
            [
             0.4444444444444444,
             "#bd3786"
            ],
            [
             0.5555555555555556,
             "#d8576b"
            ],
            [
             0.6666666666666666,
             "#ed7953"
            ],
            [
             0.7777777777777778,
             "#fb9f3a"
            ],
            [
             0.8888888888888888,
             "#fdca26"
            ],
            [
             1,
             "#f0f921"
            ]
           ],
           "sequentialminus": [
            [
             0,
             "#0d0887"
            ],
            [
             0.1111111111111111,
             "#46039f"
            ],
            [
             0.2222222222222222,
             "#7201a8"
            ],
            [
             0.3333333333333333,
             "#9c179e"
            ],
            [
             0.4444444444444444,
             "#bd3786"
            ],
            [
             0.5555555555555556,
             "#d8576b"
            ],
            [
             0.6666666666666666,
             "#ed7953"
            ],
            [
             0.7777777777777778,
             "#fb9f3a"
            ],
            [
             0.8888888888888888,
             "#fdca26"
            ],
            [
             1,
             "#f0f921"
            ]
           ]
          },
          "colorway": [
           "#636efa",
           "#EF553B",
           "#00cc96",
           "#ab63fa",
           "#FFA15A",
           "#19d3f3",
           "#FF6692",
           "#B6E880",
           "#FF97FF",
           "#FECB52"
          ],
          "font": {
           "color": "#2a3f5f"
          },
          "geo": {
           "bgcolor": "white",
           "lakecolor": "white",
           "landcolor": "white",
           "showlakes": true,
           "showland": true,
           "subunitcolor": "#C8D4E3"
          },
          "hoverlabel": {
           "align": "left"
          },
          "hovermode": "closest",
          "mapbox": {
           "style": "light"
          },
          "paper_bgcolor": "white",
          "plot_bgcolor": "white",
          "polar": {
           "angularaxis": {
            "gridcolor": "#EBF0F8",
            "linecolor": "#EBF0F8",
            "ticks": ""
           },
           "bgcolor": "white",
           "radialaxis": {
            "gridcolor": "#EBF0F8",
            "linecolor": "#EBF0F8",
            "ticks": ""
           }
          },
          "scene": {
           "xaxis": {
            "backgroundcolor": "white",
            "gridcolor": "#DFE8F3",
            "gridwidth": 2,
            "linecolor": "#EBF0F8",
            "showbackground": true,
            "ticks": "",
            "zerolinecolor": "#EBF0F8"
           },
           "yaxis": {
            "backgroundcolor": "white",
            "gridcolor": "#DFE8F3",
            "gridwidth": 2,
            "linecolor": "#EBF0F8",
            "showbackground": true,
            "ticks": "",
            "zerolinecolor": "#EBF0F8"
           },
           "zaxis": {
            "backgroundcolor": "white",
            "gridcolor": "#DFE8F3",
            "gridwidth": 2,
            "linecolor": "#EBF0F8",
            "showbackground": true,
            "ticks": "",
            "zerolinecolor": "#EBF0F8"
           }
          },
          "shapedefaults": {
           "line": {
            "color": "#2a3f5f"
           }
          },
          "ternary": {
           "aaxis": {
            "gridcolor": "#DFE8F3",
            "linecolor": "#A2B1C6",
            "ticks": ""
           },
           "baxis": {
            "gridcolor": "#DFE8F3",
            "linecolor": "#A2B1C6",
            "ticks": ""
           },
           "bgcolor": "white",
           "caxis": {
            "gridcolor": "#DFE8F3",
            "linecolor": "#A2B1C6",
            "ticks": ""
           }
          },
          "title": {
           "x": 0.05
          },
          "xaxis": {
           "automargin": true,
           "gridcolor": "#EBF0F8",
           "linecolor": "#EBF0F8",
           "ticks": "",
           "title": {
            "standoff": 15
           },
           "zerolinecolor": "#EBF0F8",
           "zerolinewidth": 2
          },
          "yaxis": {
           "automargin": true,
           "gridcolor": "#EBF0F8",
           "linecolor": "#EBF0F8",
           "ticks": "",
           "title": {
            "standoff": 15
           },
           "zerolinecolor": "#EBF0F8",
           "zerolinewidth": 2
          }
         }
        },
        "title": {
         "text": "Metrics Over Time"
        },
        "xaxis": {
         "title": {
          "text": "Date"
         }
        },
        "yaxis": {
         "title": {
          "text": "Count"
         }
        }
       }
      }
     },
     "metadata": {},
     "output_type": "display_data"
    }
   ],
   "source": [
    "fig = go.Figure()\n",
    "\n",
    "fig.add_trace(go.Scatter(x=data.index, y=data['Likes'], name='Likes'))\n",
    "fig.add_trace(go.Scatter(x=data.index, y=data['Saves'], name='Saves'))\n",
    "fig.add_trace(go.Scatter(x=data.index, y=data['Follows'], name='Follows'))\n",
    "\n",
    "fig.update_layout(title='Metrics Over Time', xaxis_title='Date', yaxis_title='Count')\n",
    "\n",
    "fig.show()"
   ]
  },
  {
   "cell_type": "markdown",
   "metadata": {},
   "source": [
    "- Now let's have  a look at the distribution of reach from different sources"
   ]
  },
  {
   "cell_type": "code",
   "execution_count": 10,
   "metadata": {},
   "outputs": [
    {
     "data": {
      "application/vnd.plotly.v1+json": {
       "config": {
        "plotlyServerURL": "https://plot.ly"
       },
       "data": [
        {
         "domain": {
          "x": [
           0,
           1
          ],
          "y": [
           0,
           1
          ]
         },
         "hovertemplate": "label=%{label}<br>value=%{value}<extra></extra>",
         "labels": [
          "From Home",
          "From Hashtags",
          "From Explore",
          "From Other"
         ],
         "legendgroup": "",
         "name": "",
         "showlegend": true,
         "type": "pie",
         "values": [
          294619,
          224614,
          128294,
          20360
         ]
        }
       ],
       "layout": {
        "legend": {
         "tracegroupgap": 0
        },
        "piecolorway": [
         "#FFB6C1",
         "#87CEFA",
         "#90EE90",
         "#FFDAB9"
        ],
        "template": {
         "data": {
          "bar": [
           {
            "error_x": {
             "color": "#2a3f5f"
            },
            "error_y": {
             "color": "#2a3f5f"
            },
            "marker": {
             "line": {
              "color": "white",
              "width": 0.5
             },
             "pattern": {
              "fillmode": "overlay",
              "size": 10,
              "solidity": 0.2
             }
            },
            "type": "bar"
           }
          ],
          "barpolar": [
           {
            "marker": {
             "line": {
              "color": "white",
              "width": 0.5
             },
             "pattern": {
              "fillmode": "overlay",
              "size": 10,
              "solidity": 0.2
             }
            },
            "type": "barpolar"
           }
          ],
          "carpet": [
           {
            "aaxis": {
             "endlinecolor": "#2a3f5f",
             "gridcolor": "#C8D4E3",
             "linecolor": "#C8D4E3",
             "minorgridcolor": "#C8D4E3",
             "startlinecolor": "#2a3f5f"
            },
            "baxis": {
             "endlinecolor": "#2a3f5f",
             "gridcolor": "#C8D4E3",
             "linecolor": "#C8D4E3",
             "minorgridcolor": "#C8D4E3",
             "startlinecolor": "#2a3f5f"
            },
            "type": "carpet"
           }
          ],
          "choropleth": [
           {
            "colorbar": {
             "outlinewidth": 0,
             "ticks": ""
            },
            "type": "choropleth"
           }
          ],
          "contour": [
           {
            "colorbar": {
             "outlinewidth": 0,
             "ticks": ""
            },
            "colorscale": [
             [
              0,
              "#0d0887"
             ],
             [
              0.1111111111111111,
              "#46039f"
             ],
             [
              0.2222222222222222,
              "#7201a8"
             ],
             [
              0.3333333333333333,
              "#9c179e"
             ],
             [
              0.4444444444444444,
              "#bd3786"
             ],
             [
              0.5555555555555556,
              "#d8576b"
             ],
             [
              0.6666666666666666,
              "#ed7953"
             ],
             [
              0.7777777777777778,
              "#fb9f3a"
             ],
             [
              0.8888888888888888,
              "#fdca26"
             ],
             [
              1,
              "#f0f921"
             ]
            ],
            "type": "contour"
           }
          ],
          "contourcarpet": [
           {
            "colorbar": {
             "outlinewidth": 0,
             "ticks": ""
            },
            "type": "contourcarpet"
           }
          ],
          "heatmap": [
           {
            "colorbar": {
             "outlinewidth": 0,
             "ticks": ""
            },
            "colorscale": [
             [
              0,
              "#0d0887"
             ],
             [
              0.1111111111111111,
              "#46039f"
             ],
             [
              0.2222222222222222,
              "#7201a8"
             ],
             [
              0.3333333333333333,
              "#9c179e"
             ],
             [
              0.4444444444444444,
              "#bd3786"
             ],
             [
              0.5555555555555556,
              "#d8576b"
             ],
             [
              0.6666666666666666,
              "#ed7953"
             ],
             [
              0.7777777777777778,
              "#fb9f3a"
             ],
             [
              0.8888888888888888,
              "#fdca26"
             ],
             [
              1,
              "#f0f921"
             ]
            ],
            "type": "heatmap"
           }
          ],
          "heatmapgl": [
           {
            "colorbar": {
             "outlinewidth": 0,
             "ticks": ""
            },
            "colorscale": [
             [
              0,
              "#0d0887"
             ],
             [
              0.1111111111111111,
              "#46039f"
             ],
             [
              0.2222222222222222,
              "#7201a8"
             ],
             [
              0.3333333333333333,
              "#9c179e"
             ],
             [
              0.4444444444444444,
              "#bd3786"
             ],
             [
              0.5555555555555556,
              "#d8576b"
             ],
             [
              0.6666666666666666,
              "#ed7953"
             ],
             [
              0.7777777777777778,
              "#fb9f3a"
             ],
             [
              0.8888888888888888,
              "#fdca26"
             ],
             [
              1,
              "#f0f921"
             ]
            ],
            "type": "heatmapgl"
           }
          ],
          "histogram": [
           {
            "marker": {
             "pattern": {
              "fillmode": "overlay",
              "size": 10,
              "solidity": 0.2
             }
            },
            "type": "histogram"
           }
          ],
          "histogram2d": [
           {
            "colorbar": {
             "outlinewidth": 0,
             "ticks": ""
            },
            "colorscale": [
             [
              0,
              "#0d0887"
             ],
             [
              0.1111111111111111,
              "#46039f"
             ],
             [
              0.2222222222222222,
              "#7201a8"
             ],
             [
              0.3333333333333333,
              "#9c179e"
             ],
             [
              0.4444444444444444,
              "#bd3786"
             ],
             [
              0.5555555555555556,
              "#d8576b"
             ],
             [
              0.6666666666666666,
              "#ed7953"
             ],
             [
              0.7777777777777778,
              "#fb9f3a"
             ],
             [
              0.8888888888888888,
              "#fdca26"
             ],
             [
              1,
              "#f0f921"
             ]
            ],
            "type": "histogram2d"
           }
          ],
          "histogram2dcontour": [
           {
            "colorbar": {
             "outlinewidth": 0,
             "ticks": ""
            },
            "colorscale": [
             [
              0,
              "#0d0887"
             ],
             [
              0.1111111111111111,
              "#46039f"
             ],
             [
              0.2222222222222222,
              "#7201a8"
             ],
             [
              0.3333333333333333,
              "#9c179e"
             ],
             [
              0.4444444444444444,
              "#bd3786"
             ],
             [
              0.5555555555555556,
              "#d8576b"
             ],
             [
              0.6666666666666666,
              "#ed7953"
             ],
             [
              0.7777777777777778,
              "#fb9f3a"
             ],
             [
              0.8888888888888888,
              "#fdca26"
             ],
             [
              1,
              "#f0f921"
             ]
            ],
            "type": "histogram2dcontour"
           }
          ],
          "mesh3d": [
           {
            "colorbar": {
             "outlinewidth": 0,
             "ticks": ""
            },
            "type": "mesh3d"
           }
          ],
          "parcoords": [
           {
            "line": {
             "colorbar": {
              "outlinewidth": 0,
              "ticks": ""
             }
            },
            "type": "parcoords"
           }
          ],
          "pie": [
           {
            "automargin": true,
            "type": "pie"
           }
          ],
          "scatter": [
           {
            "fillpattern": {
             "fillmode": "overlay",
             "size": 10,
             "solidity": 0.2
            },
            "type": "scatter"
           }
          ],
          "scatter3d": [
           {
            "line": {
             "colorbar": {
              "outlinewidth": 0,
              "ticks": ""
             }
            },
            "marker": {
             "colorbar": {
              "outlinewidth": 0,
              "ticks": ""
             }
            },
            "type": "scatter3d"
           }
          ],
          "scattercarpet": [
           {
            "marker": {
             "colorbar": {
              "outlinewidth": 0,
              "ticks": ""
             }
            },
            "type": "scattercarpet"
           }
          ],
          "scattergeo": [
           {
            "marker": {
             "colorbar": {
              "outlinewidth": 0,
              "ticks": ""
             }
            },
            "type": "scattergeo"
           }
          ],
          "scattergl": [
           {
            "marker": {
             "colorbar": {
              "outlinewidth": 0,
              "ticks": ""
             }
            },
            "type": "scattergl"
           }
          ],
          "scattermapbox": [
           {
            "marker": {
             "colorbar": {
              "outlinewidth": 0,
              "ticks": ""
             }
            },
            "type": "scattermapbox"
           }
          ],
          "scatterpolar": [
           {
            "marker": {
             "colorbar": {
              "outlinewidth": 0,
              "ticks": ""
             }
            },
            "type": "scatterpolar"
           }
          ],
          "scatterpolargl": [
           {
            "marker": {
             "colorbar": {
              "outlinewidth": 0,
              "ticks": ""
             }
            },
            "type": "scatterpolargl"
           }
          ],
          "scatterternary": [
           {
            "marker": {
             "colorbar": {
              "outlinewidth": 0,
              "ticks": ""
             }
            },
            "type": "scatterternary"
           }
          ],
          "surface": [
           {
            "colorbar": {
             "outlinewidth": 0,
             "ticks": ""
            },
            "colorscale": [
             [
              0,
              "#0d0887"
             ],
             [
              0.1111111111111111,
              "#46039f"
             ],
             [
              0.2222222222222222,
              "#7201a8"
             ],
             [
              0.3333333333333333,
              "#9c179e"
             ],
             [
              0.4444444444444444,
              "#bd3786"
             ],
             [
              0.5555555555555556,
              "#d8576b"
             ],
             [
              0.6666666666666666,
              "#ed7953"
             ],
             [
              0.7777777777777778,
              "#fb9f3a"
             ],
             [
              0.8888888888888888,
              "#fdca26"
             ],
             [
              1,
              "#f0f921"
             ]
            ],
            "type": "surface"
           }
          ],
          "table": [
           {
            "cells": {
             "fill": {
              "color": "#EBF0F8"
             },
             "line": {
              "color": "white"
             }
            },
            "header": {
             "fill": {
              "color": "#C8D4E3"
             },
             "line": {
              "color": "white"
             }
            },
            "type": "table"
           }
          ]
         },
         "layout": {
          "annotationdefaults": {
           "arrowcolor": "#2a3f5f",
           "arrowhead": 0,
           "arrowwidth": 1
          },
          "autotypenumbers": "strict",
          "coloraxis": {
           "colorbar": {
            "outlinewidth": 0,
            "ticks": ""
           }
          },
          "colorscale": {
           "diverging": [
            [
             0,
             "#8e0152"
            ],
            [
             0.1,
             "#c51b7d"
            ],
            [
             0.2,
             "#de77ae"
            ],
            [
             0.3,
             "#f1b6da"
            ],
            [
             0.4,
             "#fde0ef"
            ],
            [
             0.5,
             "#f7f7f7"
            ],
            [
             0.6,
             "#e6f5d0"
            ],
            [
             0.7,
             "#b8e186"
            ],
            [
             0.8,
             "#7fbc41"
            ],
            [
             0.9,
             "#4d9221"
            ],
            [
             1,
             "#276419"
            ]
           ],
           "sequential": [
            [
             0,
             "#0d0887"
            ],
            [
             0.1111111111111111,
             "#46039f"
            ],
            [
             0.2222222222222222,
             "#7201a8"
            ],
            [
             0.3333333333333333,
             "#9c179e"
            ],
            [
             0.4444444444444444,
             "#bd3786"
            ],
            [
             0.5555555555555556,
             "#d8576b"
            ],
            [
             0.6666666666666666,
             "#ed7953"
            ],
            [
             0.7777777777777778,
             "#fb9f3a"
            ],
            [
             0.8888888888888888,
             "#fdca26"
            ],
            [
             1,
             "#f0f921"
            ]
           ],
           "sequentialminus": [
            [
             0,
             "#0d0887"
            ],
            [
             0.1111111111111111,
             "#46039f"
            ],
            [
             0.2222222222222222,
             "#7201a8"
            ],
            [
             0.3333333333333333,
             "#9c179e"
            ],
            [
             0.4444444444444444,
             "#bd3786"
            ],
            [
             0.5555555555555556,
             "#d8576b"
            ],
            [
             0.6666666666666666,
             "#ed7953"
            ],
            [
             0.7777777777777778,
             "#fb9f3a"
            ],
            [
             0.8888888888888888,
             "#fdca26"
            ],
            [
             1,
             "#f0f921"
            ]
           ]
          },
          "colorway": [
           "#636efa",
           "#EF553B",
           "#00cc96",
           "#ab63fa",
           "#FFA15A",
           "#19d3f3",
           "#FF6692",
           "#B6E880",
           "#FF97FF",
           "#FECB52"
          ],
          "font": {
           "color": "#2a3f5f"
          },
          "geo": {
           "bgcolor": "white",
           "lakecolor": "white",
           "landcolor": "white",
           "showlakes": true,
           "showland": true,
           "subunitcolor": "#C8D4E3"
          },
          "hoverlabel": {
           "align": "left"
          },
          "hovermode": "closest",
          "mapbox": {
           "style": "light"
          },
          "paper_bgcolor": "white",
          "plot_bgcolor": "white",
          "polar": {
           "angularaxis": {
            "gridcolor": "#EBF0F8",
            "linecolor": "#EBF0F8",
            "ticks": ""
           },
           "bgcolor": "white",
           "radialaxis": {
            "gridcolor": "#EBF0F8",
            "linecolor": "#EBF0F8",
            "ticks": ""
           }
          },
          "scene": {
           "xaxis": {
            "backgroundcolor": "white",
            "gridcolor": "#DFE8F3",
            "gridwidth": 2,
            "linecolor": "#EBF0F8",
            "showbackground": true,
            "ticks": "",
            "zerolinecolor": "#EBF0F8"
           },
           "yaxis": {
            "backgroundcolor": "white",
            "gridcolor": "#DFE8F3",
            "gridwidth": 2,
            "linecolor": "#EBF0F8",
            "showbackground": true,
            "ticks": "",
            "zerolinecolor": "#EBF0F8"
           },
           "zaxis": {
            "backgroundcolor": "white",
            "gridcolor": "#DFE8F3",
            "gridwidth": 2,
            "linecolor": "#EBF0F8",
            "showbackground": true,
            "ticks": "",
            "zerolinecolor": "#EBF0F8"
           }
          },
          "shapedefaults": {
           "line": {
            "color": "#2a3f5f"
           }
          },
          "ternary": {
           "aaxis": {
            "gridcolor": "#DFE8F3",
            "linecolor": "#A2B1C6",
            "ticks": ""
           },
           "baxis": {
            "gridcolor": "#DFE8F3",
            "linecolor": "#A2B1C6",
            "ticks": ""
           },
           "bgcolor": "white",
           "caxis": {
            "gridcolor": "#DFE8F3",
            "linecolor": "#A2B1C6",
            "ticks": ""
           }
          },
          "title": {
           "x": 0.05
          },
          "xaxis": {
           "automargin": true,
           "gridcolor": "#EBF0F8",
           "linecolor": "#EBF0F8",
           "ticks": "",
           "title": {
            "standoff": 15
           },
           "zerolinecolor": "#EBF0F8",
           "zerolinewidth": 2
          },
          "yaxis": {
           "automargin": true,
           "gridcolor": "#EBF0F8",
           "linecolor": "#EBF0F8",
           "ticks": "",
           "title": {
            "standoff": 15
           },
           "zerolinecolor": "#EBF0F8",
           "zerolinewidth": 2
          }
         }
        },
        "title": {
         "text": "Reach from Different Sources"
        }
       }
      }
     },
     "metadata": {},
     "output_type": "display_data"
    }
   ],
   "source": [
    "reach_sources = ['From Home', 'From Hashtags', 'From Explore', 'From Other']\n",
    "reach_counts = [data[source].sum() for source in reach_sources]\n",
    "\n",
    "colors = ['#FFB6C1', '#87CEFA', '#90EE90', '#FFDAB9']\n",
    "\n",
    "fig = px.pie(data_frame=data, names=reach_sources, values=reach_counts, title='Reach from Different Sources', color_discrete_sequence=colors)\n",
    "\n",
    "fig.show()\n"
   ]
  },
  {
   "cell_type": "code",
   "execution_count": 11,
   "metadata": {},
   "outputs": [
    {
     "data": {
      "application/vnd.plotly.v1+json": {
       "config": {
        "plotlyServerURL": "https://plot.ly"
       },
       "data": [
        {
         "domain": {
          "x": [
           0,
           1
          ],
          "y": [
           0,
           1
          ]
         },
         "hovertemplate": "label=%{label}<br>value=%{value}<extra></extra>",
         "labels": [
          "Saves",
          "Comments",
          "Shares",
          "Likes"
         ],
         "legendgroup": "",
         "name": "",
         "showlegend": true,
         "type": "pie",
         "values": [
          18244,
          793,
          1114,
          20680
         ]
        }
       ],
       "layout": {
        "legend": {
         "tracegroupgap": 0
        },
        "piecolorway": [
         "#FFB6C1",
         "#87CEFA",
         "#90EE90",
         "#FFDAB9"
        ],
        "template": {
         "data": {
          "bar": [
           {
            "error_x": {
             "color": "#2a3f5f"
            },
            "error_y": {
             "color": "#2a3f5f"
            },
            "marker": {
             "line": {
              "color": "white",
              "width": 0.5
             },
             "pattern": {
              "fillmode": "overlay",
              "size": 10,
              "solidity": 0.2
             }
            },
            "type": "bar"
           }
          ],
          "barpolar": [
           {
            "marker": {
             "line": {
              "color": "white",
              "width": 0.5
             },
             "pattern": {
              "fillmode": "overlay",
              "size": 10,
              "solidity": 0.2
             }
            },
            "type": "barpolar"
           }
          ],
          "carpet": [
           {
            "aaxis": {
             "endlinecolor": "#2a3f5f",
             "gridcolor": "#C8D4E3",
             "linecolor": "#C8D4E3",
             "minorgridcolor": "#C8D4E3",
             "startlinecolor": "#2a3f5f"
            },
            "baxis": {
             "endlinecolor": "#2a3f5f",
             "gridcolor": "#C8D4E3",
             "linecolor": "#C8D4E3",
             "minorgridcolor": "#C8D4E3",
             "startlinecolor": "#2a3f5f"
            },
            "type": "carpet"
           }
          ],
          "choropleth": [
           {
            "colorbar": {
             "outlinewidth": 0,
             "ticks": ""
            },
            "type": "choropleth"
           }
          ],
          "contour": [
           {
            "colorbar": {
             "outlinewidth": 0,
             "ticks": ""
            },
            "colorscale": [
             [
              0,
              "#0d0887"
             ],
             [
              0.1111111111111111,
              "#46039f"
             ],
             [
              0.2222222222222222,
              "#7201a8"
             ],
             [
              0.3333333333333333,
              "#9c179e"
             ],
             [
              0.4444444444444444,
              "#bd3786"
             ],
             [
              0.5555555555555556,
              "#d8576b"
             ],
             [
              0.6666666666666666,
              "#ed7953"
             ],
             [
              0.7777777777777778,
              "#fb9f3a"
             ],
             [
              0.8888888888888888,
              "#fdca26"
             ],
             [
              1,
              "#f0f921"
             ]
            ],
            "type": "contour"
           }
          ],
          "contourcarpet": [
           {
            "colorbar": {
             "outlinewidth": 0,
             "ticks": ""
            },
            "type": "contourcarpet"
           }
          ],
          "heatmap": [
           {
            "colorbar": {
             "outlinewidth": 0,
             "ticks": ""
            },
            "colorscale": [
             [
              0,
              "#0d0887"
             ],
             [
              0.1111111111111111,
              "#46039f"
             ],
             [
              0.2222222222222222,
              "#7201a8"
             ],
             [
              0.3333333333333333,
              "#9c179e"
             ],
             [
              0.4444444444444444,
              "#bd3786"
             ],
             [
              0.5555555555555556,
              "#d8576b"
             ],
             [
              0.6666666666666666,
              "#ed7953"
             ],
             [
              0.7777777777777778,
              "#fb9f3a"
             ],
             [
              0.8888888888888888,
              "#fdca26"
             ],
             [
              1,
              "#f0f921"
             ]
            ],
            "type": "heatmap"
           }
          ],
          "heatmapgl": [
           {
            "colorbar": {
             "outlinewidth": 0,
             "ticks": ""
            },
            "colorscale": [
             [
              0,
              "#0d0887"
             ],
             [
              0.1111111111111111,
              "#46039f"
             ],
             [
              0.2222222222222222,
              "#7201a8"
             ],
             [
              0.3333333333333333,
              "#9c179e"
             ],
             [
              0.4444444444444444,
              "#bd3786"
             ],
             [
              0.5555555555555556,
              "#d8576b"
             ],
             [
              0.6666666666666666,
              "#ed7953"
             ],
             [
              0.7777777777777778,
              "#fb9f3a"
             ],
             [
              0.8888888888888888,
              "#fdca26"
             ],
             [
              1,
              "#f0f921"
             ]
            ],
            "type": "heatmapgl"
           }
          ],
          "histogram": [
           {
            "marker": {
             "pattern": {
              "fillmode": "overlay",
              "size": 10,
              "solidity": 0.2
             }
            },
            "type": "histogram"
           }
          ],
          "histogram2d": [
           {
            "colorbar": {
             "outlinewidth": 0,
             "ticks": ""
            },
            "colorscale": [
             [
              0,
              "#0d0887"
             ],
             [
              0.1111111111111111,
              "#46039f"
             ],
             [
              0.2222222222222222,
              "#7201a8"
             ],
             [
              0.3333333333333333,
              "#9c179e"
             ],
             [
              0.4444444444444444,
              "#bd3786"
             ],
             [
              0.5555555555555556,
              "#d8576b"
             ],
             [
              0.6666666666666666,
              "#ed7953"
             ],
             [
              0.7777777777777778,
              "#fb9f3a"
             ],
             [
              0.8888888888888888,
              "#fdca26"
             ],
             [
              1,
              "#f0f921"
             ]
            ],
            "type": "histogram2d"
           }
          ],
          "histogram2dcontour": [
           {
            "colorbar": {
             "outlinewidth": 0,
             "ticks": ""
            },
            "colorscale": [
             [
              0,
              "#0d0887"
             ],
             [
              0.1111111111111111,
              "#46039f"
             ],
             [
              0.2222222222222222,
              "#7201a8"
             ],
             [
              0.3333333333333333,
              "#9c179e"
             ],
             [
              0.4444444444444444,
              "#bd3786"
             ],
             [
              0.5555555555555556,
              "#d8576b"
             ],
             [
              0.6666666666666666,
              "#ed7953"
             ],
             [
              0.7777777777777778,
              "#fb9f3a"
             ],
             [
              0.8888888888888888,
              "#fdca26"
             ],
             [
              1,
              "#f0f921"
             ]
            ],
            "type": "histogram2dcontour"
           }
          ],
          "mesh3d": [
           {
            "colorbar": {
             "outlinewidth": 0,
             "ticks": ""
            },
            "type": "mesh3d"
           }
          ],
          "parcoords": [
           {
            "line": {
             "colorbar": {
              "outlinewidth": 0,
              "ticks": ""
             }
            },
            "type": "parcoords"
           }
          ],
          "pie": [
           {
            "automargin": true,
            "type": "pie"
           }
          ],
          "scatter": [
           {
            "fillpattern": {
             "fillmode": "overlay",
             "size": 10,
             "solidity": 0.2
            },
            "type": "scatter"
           }
          ],
          "scatter3d": [
           {
            "line": {
             "colorbar": {
              "outlinewidth": 0,
              "ticks": ""
             }
            },
            "marker": {
             "colorbar": {
              "outlinewidth": 0,
              "ticks": ""
             }
            },
            "type": "scatter3d"
           }
          ],
          "scattercarpet": [
           {
            "marker": {
             "colorbar": {
              "outlinewidth": 0,
              "ticks": ""
             }
            },
            "type": "scattercarpet"
           }
          ],
          "scattergeo": [
           {
            "marker": {
             "colorbar": {
              "outlinewidth": 0,
              "ticks": ""
             }
            },
            "type": "scattergeo"
           }
          ],
          "scattergl": [
           {
            "marker": {
             "colorbar": {
              "outlinewidth": 0,
              "ticks": ""
             }
            },
            "type": "scattergl"
           }
          ],
          "scattermapbox": [
           {
            "marker": {
             "colorbar": {
              "outlinewidth": 0,
              "ticks": ""
             }
            },
            "type": "scattermapbox"
           }
          ],
          "scatterpolar": [
           {
            "marker": {
             "colorbar": {
              "outlinewidth": 0,
              "ticks": ""
             }
            },
            "type": "scatterpolar"
           }
          ],
          "scatterpolargl": [
           {
            "marker": {
             "colorbar": {
              "outlinewidth": 0,
              "ticks": ""
             }
            },
            "type": "scatterpolargl"
           }
          ],
          "scatterternary": [
           {
            "marker": {
             "colorbar": {
              "outlinewidth": 0,
              "ticks": ""
             }
            },
            "type": "scatterternary"
           }
          ],
          "surface": [
           {
            "colorbar": {
             "outlinewidth": 0,
             "ticks": ""
            },
            "colorscale": [
             [
              0,
              "#0d0887"
             ],
             [
              0.1111111111111111,
              "#46039f"
             ],
             [
              0.2222222222222222,
              "#7201a8"
             ],
             [
              0.3333333333333333,
              "#9c179e"
             ],
             [
              0.4444444444444444,
              "#bd3786"
             ],
             [
              0.5555555555555556,
              "#d8576b"
             ],
             [
              0.6666666666666666,
              "#ed7953"
             ],
             [
              0.7777777777777778,
              "#fb9f3a"
             ],
             [
              0.8888888888888888,
              "#fdca26"
             ],
             [
              1,
              "#f0f921"
             ]
            ],
            "type": "surface"
           }
          ],
          "table": [
           {
            "cells": {
             "fill": {
              "color": "#EBF0F8"
             },
             "line": {
              "color": "white"
             }
            },
            "header": {
             "fill": {
              "color": "#C8D4E3"
             },
             "line": {
              "color": "white"
             }
            },
            "type": "table"
           }
          ]
         },
         "layout": {
          "annotationdefaults": {
           "arrowcolor": "#2a3f5f",
           "arrowhead": 0,
           "arrowwidth": 1
          },
          "autotypenumbers": "strict",
          "coloraxis": {
           "colorbar": {
            "outlinewidth": 0,
            "ticks": ""
           }
          },
          "colorscale": {
           "diverging": [
            [
             0,
             "#8e0152"
            ],
            [
             0.1,
             "#c51b7d"
            ],
            [
             0.2,
             "#de77ae"
            ],
            [
             0.3,
             "#f1b6da"
            ],
            [
             0.4,
             "#fde0ef"
            ],
            [
             0.5,
             "#f7f7f7"
            ],
            [
             0.6,
             "#e6f5d0"
            ],
            [
             0.7,
             "#b8e186"
            ],
            [
             0.8,
             "#7fbc41"
            ],
            [
             0.9,
             "#4d9221"
            ],
            [
             1,
             "#276419"
            ]
           ],
           "sequential": [
            [
             0,
             "#0d0887"
            ],
            [
             0.1111111111111111,
             "#46039f"
            ],
            [
             0.2222222222222222,
             "#7201a8"
            ],
            [
             0.3333333333333333,
             "#9c179e"
            ],
            [
             0.4444444444444444,
             "#bd3786"
            ],
            [
             0.5555555555555556,
             "#d8576b"
            ],
            [
             0.6666666666666666,
             "#ed7953"
            ],
            [
             0.7777777777777778,
             "#fb9f3a"
            ],
            [
             0.8888888888888888,
             "#fdca26"
            ],
            [
             1,
             "#f0f921"
            ]
           ],
           "sequentialminus": [
            [
             0,
             "#0d0887"
            ],
            [
             0.1111111111111111,
             "#46039f"
            ],
            [
             0.2222222222222222,
             "#7201a8"
            ],
            [
             0.3333333333333333,
             "#9c179e"
            ],
            [
             0.4444444444444444,
             "#bd3786"
            ],
            [
             0.5555555555555556,
             "#d8576b"
            ],
            [
             0.6666666666666666,
             "#ed7953"
            ],
            [
             0.7777777777777778,
             "#fb9f3a"
            ],
            [
             0.8888888888888888,
             "#fdca26"
            ],
            [
             1,
             "#f0f921"
            ]
           ]
          },
          "colorway": [
           "#636efa",
           "#EF553B",
           "#00cc96",
           "#ab63fa",
           "#FFA15A",
           "#19d3f3",
           "#FF6692",
           "#B6E880",
           "#FF97FF",
           "#FECB52"
          ],
          "font": {
           "color": "#2a3f5f"
          },
          "geo": {
           "bgcolor": "white",
           "lakecolor": "white",
           "landcolor": "white",
           "showlakes": true,
           "showland": true,
           "subunitcolor": "#C8D4E3"
          },
          "hoverlabel": {
           "align": "left"
          },
          "hovermode": "closest",
          "mapbox": {
           "style": "light"
          },
          "paper_bgcolor": "white",
          "plot_bgcolor": "white",
          "polar": {
           "angularaxis": {
            "gridcolor": "#EBF0F8",
            "linecolor": "#EBF0F8",
            "ticks": ""
           },
           "bgcolor": "white",
           "radialaxis": {
            "gridcolor": "#EBF0F8",
            "linecolor": "#EBF0F8",
            "ticks": ""
           }
          },
          "scene": {
           "xaxis": {
            "backgroundcolor": "white",
            "gridcolor": "#DFE8F3",
            "gridwidth": 2,
            "linecolor": "#EBF0F8",
            "showbackground": true,
            "ticks": "",
            "zerolinecolor": "#EBF0F8"
           },
           "yaxis": {
            "backgroundcolor": "white",
            "gridcolor": "#DFE8F3",
            "gridwidth": 2,
            "linecolor": "#EBF0F8",
            "showbackground": true,
            "ticks": "",
            "zerolinecolor": "#EBF0F8"
           },
           "zaxis": {
            "backgroundcolor": "white",
            "gridcolor": "#DFE8F3",
            "gridwidth": 2,
            "linecolor": "#EBF0F8",
            "showbackground": true,
            "ticks": "",
            "zerolinecolor": "#EBF0F8"
           }
          },
          "shapedefaults": {
           "line": {
            "color": "#2a3f5f"
           }
          },
          "ternary": {
           "aaxis": {
            "gridcolor": "#DFE8F3",
            "linecolor": "#A2B1C6",
            "ticks": ""
           },
           "baxis": {
            "gridcolor": "#DFE8F3",
            "linecolor": "#A2B1C6",
            "ticks": ""
           },
           "bgcolor": "white",
           "caxis": {
            "gridcolor": "#DFE8F3",
            "linecolor": "#A2B1C6",
            "ticks": ""
           }
          },
          "title": {
           "x": 0.05
          },
          "xaxis": {
           "automargin": true,
           "gridcolor": "#EBF0F8",
           "linecolor": "#EBF0F8",
           "ticks": "",
           "title": {
            "standoff": 15
           },
           "zerolinecolor": "#EBF0F8",
           "zerolinewidth": 2
          },
          "yaxis": {
           "automargin": true,
           "gridcolor": "#EBF0F8",
           "linecolor": "#EBF0F8",
           "ticks": "",
           "title": {
            "standoff": 15
           },
           "zerolinecolor": "#EBF0F8",
           "zerolinewidth": 2
          }
         }
        },
        "title": {
         "text": "Engagement Sources"
        }
       }
      }
     },
     "metadata": {},
     "output_type": "display_data"
    }
   ],
   "source": [
    "engagement_metrics = ['Saves', 'Comments', 'Shares', 'Likes']\n",
    "engagement_counts = [data[metric].sum() for metric in engagement_metrics]\n",
    "\n",
    "colors = ['#FFB6C1', '#87CEFA', '#90EE90', '#FFDAB9']\n",
    "\n",
    "fig = px.pie(data_frame=data, names=engagement_metrics, values=engagement_counts, title='Engagement Sources', color_discrete_sequence=colors)\n",
    "\n",
    "fig.show()"
   ]
  },
  {
   "cell_type": "markdown",
   "metadata": {},
   "source": [
    "- Now let's have a look at the relationship between th enumber of profile visits and follows"
   ]
  },
  {
   "cell_type": "code",
   "execution_count": 12,
   "metadata": {},
   "outputs": [
    {
     "data": {
      "application/vnd.plotly.v1+json": {
       "config": {
        "plotlyServerURL": "https://plot.ly"
       },
       "data": [
        {
         "hovertemplate": "Profile Visits=%{x}<br>Follows=%{y}<extra></extra>",
         "legendgroup": "",
         "marker": {
          "color": "#636efa",
          "symbol": "circle"
         },
         "mode": "markers",
         "name": "",
         "orientation": "v",
         "showlegend": false,
         "type": "scatter",
         "x": [
          35,
          48,
          62,
          23,
          8,
          9,
          26,
          12,
          36,
          31,
          29,
          15,
          8,
          20,
          181,
          17,
          16,
          21,
          77,
          10,
          9,
          11,
          144,
          14,
          10,
          19,
          69,
          11,
          19,
          9,
          57,
          13,
          11,
          24,
          81,
          4,
          7,
          14,
          18,
          8,
          330,
          21,
          19,
          32,
          19,
          21,
          14,
          30,
          39,
          42,
          31,
          20,
          12,
          22,
          306,
          13,
          26,
          16,
          15,
          15,
          39,
          21,
          8,
          45,
          50,
          37,
          25,
          347,
          26,
          48,
          16,
          26,
          17,
          52,
          22,
          41,
          155,
          12,
          22,
          20,
          23,
          25,
          17,
          16,
          21,
          77,
          10,
          14,
          30,
          39,
          42,
          31,
          14,
          10,
          19,
          69,
          11,
          19,
          9,
          38,
          42,
          92,
          75,
          21,
          26,
          39,
          74,
          467,
          24,
          70,
          22,
          46,
          61,
          237,
          73,
          20,
          34,
          148,
          611
         ],
         "xaxis": "x",
         "y": [
          2,
          10,
          12,
          8,
          0,
          2,
          0,
          6,
          4,
          6,
          4,
          0,
          2,
          4,
          42,
          6,
          2,
          2,
          30,
          0,
          0,
          24,
          100,
          2,
          4,
          6,
          6,
          6,
          2,
          2,
          20,
          2,
          4,
          8,
          26,
          2,
          2,
          4,
          0,
          2,
          94,
          8,
          18,
          10,
          4,
          4,
          4,
          4,
          18,
          38,
          10,
          12,
          4,
          4,
          74,
          0,
          6,
          6,
          0,
          6,
          12,
          10,
          8,
          8,
          46,
          12,
          10,
          94,
          6,
          10,
          6,
          4,
          12,
          16,
          12,
          8,
          32,
          8,
          16,
          6,
          10,
          10,
          6,
          2,
          2,
          30,
          0,
          4,
          4,
          18,
          38,
          10,
          2,
          4,
          6,
          6,
          6,
          2,
          2,
          14,
          8,
          14,
          28,
          18,
          12,
          34,
          26,
          260,
          16,
          96,
          20,
          30,
          58,
          100,
          80,
          18,
          10,
          214,
          228
         ],
         "yaxis": "y"
        },
        {
         "hovertemplate": "<b>OLS trendline</b><br>Follows = 0.400884 * Profile Visits + 0.46283<br>R<sup>2</sup>=0.727868<br><br>Profile Visits=%{x}<br>Follows=%{y} <b>(trend)</b><extra></extra>",
         "legendgroup": "",
         "marker": {
          "color": "#636efa",
          "symbol": "circle"
         },
         "mode": "lines",
         "name": "",
         "showlegend": false,
         "type": "scatter",
         "x": [
          4,
          7,
          8,
          8,
          8,
          8,
          9,
          9,
          9,
          9,
          10,
          10,
          10,
          10,
          11,
          11,
          11,
          11,
          12,
          12,
          12,
          13,
          13,
          14,
          14,
          14,
          14,
          14,
          15,
          15,
          15,
          16,
          16,
          16,
          16,
          17,
          17,
          17,
          18,
          19,
          19,
          19,
          19,
          19,
          19,
          20,
          20,
          20,
          20,
          21,
          21,
          21,
          21,
          21,
          21,
          22,
          22,
          22,
          22,
          23,
          23,
          24,
          24,
          25,
          25,
          26,
          26,
          26,
          26,
          26,
          29,
          30,
          30,
          31,
          31,
          31,
          32,
          34,
          35,
          36,
          37,
          38,
          39,
          39,
          39,
          39,
          41,
          42,
          42,
          42,
          45,
          46,
          48,
          48,
          50,
          52,
          57,
          61,
          62,
          69,
          69,
          70,
          73,
          74,
          75,
          77,
          77,
          81,
          92,
          144,
          148,
          155,
          181,
          237,
          306,
          330,
          347,
          467,
          611
         ],
         "xaxis": "x",
         "y": [
          2.066365070422533,
          3.269016056338026,
          3.669899718309857,
          3.669899718309857,
          3.669899718309857,
          3.669899718309857,
          4.0707833802816875,
          4.0707833802816875,
          4.0707833802816875,
          4.0707833802816875,
          4.471667042253519,
          4.471667042253519,
          4.471667042253519,
          4.471667042253519,
          4.87255070422535,
          4.87255070422535,
          4.87255070422535,
          4.87255070422535,
          5.273434366197181,
          5.273434366197181,
          5.273434366197181,
          5.6743180281690115,
          5.6743180281690115,
          6.075201690140843,
          6.075201690140843,
          6.075201690140843,
          6.075201690140843,
          6.075201690140843,
          6.476085352112674,
          6.476085352112674,
          6.476085352112674,
          6.876969014084505,
          6.876969014084505,
          6.876969014084505,
          6.876969014084505,
          7.277852676056336,
          7.277852676056336,
          7.277852676056336,
          7.678736338028167,
          8.079619999999998,
          8.079619999999998,
          8.079619999999998,
          8.079619999999998,
          8.079619999999998,
          8.079619999999998,
          8.480503661971829,
          8.480503661971829,
          8.480503661971829,
          8.480503661971829,
          8.88138732394366,
          8.88138732394366,
          8.88138732394366,
          8.88138732394366,
          8.88138732394366,
          8.88138732394366,
          9.282270985915492,
          9.282270985915492,
          9.282270985915492,
          9.282270985915492,
          9.683154647887322,
          9.683154647887322,
          10.084038309859153,
          10.084038309859153,
          10.484921971830984,
          10.484921971830984,
          10.885805633802814,
          10.885805633802814,
          10.885805633802814,
          10.885805633802814,
          10.885805633802814,
          12.088456619718308,
          12.48934028169014,
          12.48934028169014,
          12.89022394366197,
          12.89022394366197,
          12.89022394366197,
          13.291107605633801,
          14.092874929577462,
          14.493758591549295,
          14.894642253521125,
          15.295525915492956,
          15.696409577464788,
          16.097293239436617,
          16.097293239436617,
          16.097293239436617,
          16.097293239436617,
          16.89906056338028,
          17.29994422535211,
          17.29994422535211,
          17.29994422535211,
          18.502595211267604,
          18.903478873239436,
          19.705246197183097,
          19.705246197183097,
          20.50701352112676,
          21.30878084507042,
          23.313199154929578,
          24.9167338028169,
          25.317617464788732,
          28.123803098591548,
          28.123803098591548,
          28.52468676056338,
          29.727337746478874,
          30.128221408450703,
          30.529105070422535,
          31.330872394366196,
          31.330872394366196,
          32.934407042253525,
          37.34412732394367,
          58.19007774647888,
          59.79361239436619,
          62.59979802816902,
          73.02277323943662,
          95.47225830985916,
          123.13323098591549,
          132.75443887323945,
          139.56946112676056,
          187.6755005633803,
          245.40274788732395
         ],
         "yaxis": "y"
        }
       ],
       "layout": {
        "legend": {
         "tracegroupgap": 0
        },
        "template": {
         "data": {
          "bar": [
           {
            "error_x": {
             "color": "#2a3f5f"
            },
            "error_y": {
             "color": "#2a3f5f"
            },
            "marker": {
             "line": {
              "color": "white",
              "width": 0.5
             },
             "pattern": {
              "fillmode": "overlay",
              "size": 10,
              "solidity": 0.2
             }
            },
            "type": "bar"
           }
          ],
          "barpolar": [
           {
            "marker": {
             "line": {
              "color": "white",
              "width": 0.5
             },
             "pattern": {
              "fillmode": "overlay",
              "size": 10,
              "solidity": 0.2
             }
            },
            "type": "barpolar"
           }
          ],
          "carpet": [
           {
            "aaxis": {
             "endlinecolor": "#2a3f5f",
             "gridcolor": "#C8D4E3",
             "linecolor": "#C8D4E3",
             "minorgridcolor": "#C8D4E3",
             "startlinecolor": "#2a3f5f"
            },
            "baxis": {
             "endlinecolor": "#2a3f5f",
             "gridcolor": "#C8D4E3",
             "linecolor": "#C8D4E3",
             "minorgridcolor": "#C8D4E3",
             "startlinecolor": "#2a3f5f"
            },
            "type": "carpet"
           }
          ],
          "choropleth": [
           {
            "colorbar": {
             "outlinewidth": 0,
             "ticks": ""
            },
            "type": "choropleth"
           }
          ],
          "contour": [
           {
            "colorbar": {
             "outlinewidth": 0,
             "ticks": ""
            },
            "colorscale": [
             [
              0,
              "#0d0887"
             ],
             [
              0.1111111111111111,
              "#46039f"
             ],
             [
              0.2222222222222222,
              "#7201a8"
             ],
             [
              0.3333333333333333,
              "#9c179e"
             ],
             [
              0.4444444444444444,
              "#bd3786"
             ],
             [
              0.5555555555555556,
              "#d8576b"
             ],
             [
              0.6666666666666666,
              "#ed7953"
             ],
             [
              0.7777777777777778,
              "#fb9f3a"
             ],
             [
              0.8888888888888888,
              "#fdca26"
             ],
             [
              1,
              "#f0f921"
             ]
            ],
            "type": "contour"
           }
          ],
          "contourcarpet": [
           {
            "colorbar": {
             "outlinewidth": 0,
             "ticks": ""
            },
            "type": "contourcarpet"
           }
          ],
          "heatmap": [
           {
            "colorbar": {
             "outlinewidth": 0,
             "ticks": ""
            },
            "colorscale": [
             [
              0,
              "#0d0887"
             ],
             [
              0.1111111111111111,
              "#46039f"
             ],
             [
              0.2222222222222222,
              "#7201a8"
             ],
             [
              0.3333333333333333,
              "#9c179e"
             ],
             [
              0.4444444444444444,
              "#bd3786"
             ],
             [
              0.5555555555555556,
              "#d8576b"
             ],
             [
              0.6666666666666666,
              "#ed7953"
             ],
             [
              0.7777777777777778,
              "#fb9f3a"
             ],
             [
              0.8888888888888888,
              "#fdca26"
             ],
             [
              1,
              "#f0f921"
             ]
            ],
            "type": "heatmap"
           }
          ],
          "heatmapgl": [
           {
            "colorbar": {
             "outlinewidth": 0,
             "ticks": ""
            },
            "colorscale": [
             [
              0,
              "#0d0887"
             ],
             [
              0.1111111111111111,
              "#46039f"
             ],
             [
              0.2222222222222222,
              "#7201a8"
             ],
             [
              0.3333333333333333,
              "#9c179e"
             ],
             [
              0.4444444444444444,
              "#bd3786"
             ],
             [
              0.5555555555555556,
              "#d8576b"
             ],
             [
              0.6666666666666666,
              "#ed7953"
             ],
             [
              0.7777777777777778,
              "#fb9f3a"
             ],
             [
              0.8888888888888888,
              "#fdca26"
             ],
             [
              1,
              "#f0f921"
             ]
            ],
            "type": "heatmapgl"
           }
          ],
          "histogram": [
           {
            "marker": {
             "pattern": {
              "fillmode": "overlay",
              "size": 10,
              "solidity": 0.2
             }
            },
            "type": "histogram"
           }
          ],
          "histogram2d": [
           {
            "colorbar": {
             "outlinewidth": 0,
             "ticks": ""
            },
            "colorscale": [
             [
              0,
              "#0d0887"
             ],
             [
              0.1111111111111111,
              "#46039f"
             ],
             [
              0.2222222222222222,
              "#7201a8"
             ],
             [
              0.3333333333333333,
              "#9c179e"
             ],
             [
              0.4444444444444444,
              "#bd3786"
             ],
             [
              0.5555555555555556,
              "#d8576b"
             ],
             [
              0.6666666666666666,
              "#ed7953"
             ],
             [
              0.7777777777777778,
              "#fb9f3a"
             ],
             [
              0.8888888888888888,
              "#fdca26"
             ],
             [
              1,
              "#f0f921"
             ]
            ],
            "type": "histogram2d"
           }
          ],
          "histogram2dcontour": [
           {
            "colorbar": {
             "outlinewidth": 0,
             "ticks": ""
            },
            "colorscale": [
             [
              0,
              "#0d0887"
             ],
             [
              0.1111111111111111,
              "#46039f"
             ],
             [
              0.2222222222222222,
              "#7201a8"
             ],
             [
              0.3333333333333333,
              "#9c179e"
             ],
             [
              0.4444444444444444,
              "#bd3786"
             ],
             [
              0.5555555555555556,
              "#d8576b"
             ],
             [
              0.6666666666666666,
              "#ed7953"
             ],
             [
              0.7777777777777778,
              "#fb9f3a"
             ],
             [
              0.8888888888888888,
              "#fdca26"
             ],
             [
              1,
              "#f0f921"
             ]
            ],
            "type": "histogram2dcontour"
           }
          ],
          "mesh3d": [
           {
            "colorbar": {
             "outlinewidth": 0,
             "ticks": ""
            },
            "type": "mesh3d"
           }
          ],
          "parcoords": [
           {
            "line": {
             "colorbar": {
              "outlinewidth": 0,
              "ticks": ""
             }
            },
            "type": "parcoords"
           }
          ],
          "pie": [
           {
            "automargin": true,
            "type": "pie"
           }
          ],
          "scatter": [
           {
            "fillpattern": {
             "fillmode": "overlay",
             "size": 10,
             "solidity": 0.2
            },
            "type": "scatter"
           }
          ],
          "scatter3d": [
           {
            "line": {
             "colorbar": {
              "outlinewidth": 0,
              "ticks": ""
             }
            },
            "marker": {
             "colorbar": {
              "outlinewidth": 0,
              "ticks": ""
             }
            },
            "type": "scatter3d"
           }
          ],
          "scattercarpet": [
           {
            "marker": {
             "colorbar": {
              "outlinewidth": 0,
              "ticks": ""
             }
            },
            "type": "scattercarpet"
           }
          ],
          "scattergeo": [
           {
            "marker": {
             "colorbar": {
              "outlinewidth": 0,
              "ticks": ""
             }
            },
            "type": "scattergeo"
           }
          ],
          "scattergl": [
           {
            "marker": {
             "colorbar": {
              "outlinewidth": 0,
              "ticks": ""
             }
            },
            "type": "scattergl"
           }
          ],
          "scattermapbox": [
           {
            "marker": {
             "colorbar": {
              "outlinewidth": 0,
              "ticks": ""
             }
            },
            "type": "scattermapbox"
           }
          ],
          "scatterpolar": [
           {
            "marker": {
             "colorbar": {
              "outlinewidth": 0,
              "ticks": ""
             }
            },
            "type": "scatterpolar"
           }
          ],
          "scatterpolargl": [
           {
            "marker": {
             "colorbar": {
              "outlinewidth": 0,
              "ticks": ""
             }
            },
            "type": "scatterpolargl"
           }
          ],
          "scatterternary": [
           {
            "marker": {
             "colorbar": {
              "outlinewidth": 0,
              "ticks": ""
             }
            },
            "type": "scatterternary"
           }
          ],
          "surface": [
           {
            "colorbar": {
             "outlinewidth": 0,
             "ticks": ""
            },
            "colorscale": [
             [
              0,
              "#0d0887"
             ],
             [
              0.1111111111111111,
              "#46039f"
             ],
             [
              0.2222222222222222,
              "#7201a8"
             ],
             [
              0.3333333333333333,
              "#9c179e"
             ],
             [
              0.4444444444444444,
              "#bd3786"
             ],
             [
              0.5555555555555556,
              "#d8576b"
             ],
             [
              0.6666666666666666,
              "#ed7953"
             ],
             [
              0.7777777777777778,
              "#fb9f3a"
             ],
             [
              0.8888888888888888,
              "#fdca26"
             ],
             [
              1,
              "#f0f921"
             ]
            ],
            "type": "surface"
           }
          ],
          "table": [
           {
            "cells": {
             "fill": {
              "color": "#EBF0F8"
             },
             "line": {
              "color": "white"
             }
            },
            "header": {
             "fill": {
              "color": "#C8D4E3"
             },
             "line": {
              "color": "white"
             }
            },
            "type": "table"
           }
          ]
         },
         "layout": {
          "annotationdefaults": {
           "arrowcolor": "#2a3f5f",
           "arrowhead": 0,
           "arrowwidth": 1
          },
          "autotypenumbers": "strict",
          "coloraxis": {
           "colorbar": {
            "outlinewidth": 0,
            "ticks": ""
           }
          },
          "colorscale": {
           "diverging": [
            [
             0,
             "#8e0152"
            ],
            [
             0.1,
             "#c51b7d"
            ],
            [
             0.2,
             "#de77ae"
            ],
            [
             0.3,
             "#f1b6da"
            ],
            [
             0.4,
             "#fde0ef"
            ],
            [
             0.5,
             "#f7f7f7"
            ],
            [
             0.6,
             "#e6f5d0"
            ],
            [
             0.7,
             "#b8e186"
            ],
            [
             0.8,
             "#7fbc41"
            ],
            [
             0.9,
             "#4d9221"
            ],
            [
             1,
             "#276419"
            ]
           ],
           "sequential": [
            [
             0,
             "#0d0887"
            ],
            [
             0.1111111111111111,
             "#46039f"
            ],
            [
             0.2222222222222222,
             "#7201a8"
            ],
            [
             0.3333333333333333,
             "#9c179e"
            ],
            [
             0.4444444444444444,
             "#bd3786"
            ],
            [
             0.5555555555555556,
             "#d8576b"
            ],
            [
             0.6666666666666666,
             "#ed7953"
            ],
            [
             0.7777777777777778,
             "#fb9f3a"
            ],
            [
             0.8888888888888888,
             "#fdca26"
            ],
            [
             1,
             "#f0f921"
            ]
           ],
           "sequentialminus": [
            [
             0,
             "#0d0887"
            ],
            [
             0.1111111111111111,
             "#46039f"
            ],
            [
             0.2222222222222222,
             "#7201a8"
            ],
            [
             0.3333333333333333,
             "#9c179e"
            ],
            [
             0.4444444444444444,
             "#bd3786"
            ],
            [
             0.5555555555555556,
             "#d8576b"
            ],
            [
             0.6666666666666666,
             "#ed7953"
            ],
            [
             0.7777777777777778,
             "#fb9f3a"
            ],
            [
             0.8888888888888888,
             "#fdca26"
            ],
            [
             1,
             "#f0f921"
            ]
           ]
          },
          "colorway": [
           "#636efa",
           "#EF553B",
           "#00cc96",
           "#ab63fa",
           "#FFA15A",
           "#19d3f3",
           "#FF6692",
           "#B6E880",
           "#FF97FF",
           "#FECB52"
          ],
          "font": {
           "color": "#2a3f5f"
          },
          "geo": {
           "bgcolor": "white",
           "lakecolor": "white",
           "landcolor": "white",
           "showlakes": true,
           "showland": true,
           "subunitcolor": "#C8D4E3"
          },
          "hoverlabel": {
           "align": "left"
          },
          "hovermode": "closest",
          "mapbox": {
           "style": "light"
          },
          "paper_bgcolor": "white",
          "plot_bgcolor": "white",
          "polar": {
           "angularaxis": {
            "gridcolor": "#EBF0F8",
            "linecolor": "#EBF0F8",
            "ticks": ""
           },
           "bgcolor": "white",
           "radialaxis": {
            "gridcolor": "#EBF0F8",
            "linecolor": "#EBF0F8",
            "ticks": ""
           }
          },
          "scene": {
           "xaxis": {
            "backgroundcolor": "white",
            "gridcolor": "#DFE8F3",
            "gridwidth": 2,
            "linecolor": "#EBF0F8",
            "showbackground": true,
            "ticks": "",
            "zerolinecolor": "#EBF0F8"
           },
           "yaxis": {
            "backgroundcolor": "white",
            "gridcolor": "#DFE8F3",
            "gridwidth": 2,
            "linecolor": "#EBF0F8",
            "showbackground": true,
            "ticks": "",
            "zerolinecolor": "#EBF0F8"
           },
           "zaxis": {
            "backgroundcolor": "white",
            "gridcolor": "#DFE8F3",
            "gridwidth": 2,
            "linecolor": "#EBF0F8",
            "showbackground": true,
            "ticks": "",
            "zerolinecolor": "#EBF0F8"
           }
          },
          "shapedefaults": {
           "line": {
            "color": "#2a3f5f"
           }
          },
          "ternary": {
           "aaxis": {
            "gridcolor": "#DFE8F3",
            "linecolor": "#A2B1C6",
            "ticks": ""
           },
           "baxis": {
            "gridcolor": "#DFE8F3",
            "linecolor": "#A2B1C6",
            "ticks": ""
           },
           "bgcolor": "white",
           "caxis": {
            "gridcolor": "#DFE8F3",
            "linecolor": "#A2B1C6",
            "ticks": ""
           }
          },
          "title": {
           "x": 0.05
          },
          "xaxis": {
           "automargin": true,
           "gridcolor": "#EBF0F8",
           "linecolor": "#EBF0F8",
           "ticks": "",
           "title": {
            "standoff": 15
           },
           "zerolinecolor": "#EBF0F8",
           "zerolinewidth": 2
          },
          "yaxis": {
           "automargin": true,
           "gridcolor": "#EBF0F8",
           "linecolor": "#EBF0F8",
           "ticks": "",
           "title": {
            "standoff": 15
           },
           "zerolinecolor": "#EBF0F8",
           "zerolinewidth": 2
          }
         }
        },
        "title": {
         "text": "Profile Visits vs. Follows"
        },
        "xaxis": {
         "anchor": "y",
         "domain": [
          0,
          1
         ],
         "title": {
          "text": "Profile Visits"
         }
        },
        "yaxis": {
         "anchor": "x",
         "domain": [
          0,
          1
         ],
         "title": {
          "text": "Follows"
         }
        }
       }
      }
     },
     "metadata": {},
     "output_type": "display_data"
    }
   ],
   "source": [
    "fig = px.scatter(data_frame=data, x='Profile Visits', y='Follows', trendline='ols', title='Profile Visits vs. Follows')\n",
    "\n",
    "fig.show()"
   ]
  },
  {
   "cell_type": "markdown",
   "metadata": {},
   "source": [
    "- Now let's have a look at the type of hastags used in the posts using a wordcloud"
   ]
  },
  {
   "cell_type": "code",
   "execution_count": 13,
   "metadata": {},
   "outputs": [
    {
     "data": {
      "application/vnd.plotly.v1+json": {
       "config": {
        "plotlyServerURL": "https://plot.ly"
       },
       "data": [
        {
         "hovertemplate": "x: %{x}<br>y: %{y}<br>color: [%{z[0]}, %{z[1]}, %{z[2]}]<extra></extra>",
         "name": "0",
         "source": "data:image/png;base64,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",
         "type": "image",
         "xaxis": "x",
         "yaxis": "y"
        }
       ],
       "layout": {
        "template": {
         "data": {
          "bar": [
           {
            "error_x": {
             "color": "#2a3f5f"
            },
            "error_y": {
             "color": "#2a3f5f"
            },
            "marker": {
             "line": {
              "color": "white",
              "width": 0.5
             },
             "pattern": {
              "fillmode": "overlay",
              "size": 10,
              "solidity": 0.2
             }
            },
            "type": "bar"
           }
          ],
          "barpolar": [
           {
            "marker": {
             "line": {
              "color": "white",
              "width": 0.5
             },
             "pattern": {
              "fillmode": "overlay",
              "size": 10,
              "solidity": 0.2
             }
            },
            "type": "barpolar"
           }
          ],
          "carpet": [
           {
            "aaxis": {
             "endlinecolor": "#2a3f5f",
             "gridcolor": "#C8D4E3",
             "linecolor": "#C8D4E3",
             "minorgridcolor": "#C8D4E3",
             "startlinecolor": "#2a3f5f"
            },
            "baxis": {
             "endlinecolor": "#2a3f5f",
             "gridcolor": "#C8D4E3",
             "linecolor": "#C8D4E3",
             "minorgridcolor": "#C8D4E3",
             "startlinecolor": "#2a3f5f"
            },
            "type": "carpet"
           }
          ],
          "choropleth": [
           {
            "colorbar": {
             "outlinewidth": 0,
             "ticks": ""
            },
            "type": "choropleth"
           }
          ],
          "contour": [
           {
            "colorbar": {
             "outlinewidth": 0,
             "ticks": ""
            },
            "colorscale": [
             [
              0,
              "#0d0887"
             ],
             [
              0.1111111111111111,
              "#46039f"
             ],
             [
              0.2222222222222222,
              "#7201a8"
             ],
             [
              0.3333333333333333,
              "#9c179e"
             ],
             [
              0.4444444444444444,
              "#bd3786"
             ],
             [
              0.5555555555555556,
              "#d8576b"
             ],
             [
              0.6666666666666666,
              "#ed7953"
             ],
             [
              0.7777777777777778,
              "#fb9f3a"
             ],
             [
              0.8888888888888888,
              "#fdca26"
             ],
             [
              1,
              "#f0f921"
             ]
            ],
            "type": "contour"
           }
          ],
          "contourcarpet": [
           {
            "colorbar": {
             "outlinewidth": 0,
             "ticks": ""
            },
            "type": "contourcarpet"
           }
          ],
          "heatmap": [
           {
            "colorbar": {
             "outlinewidth": 0,
             "ticks": ""
            },
            "colorscale": [
             [
              0,
              "#0d0887"
             ],
             [
              0.1111111111111111,
              "#46039f"
             ],
             [
              0.2222222222222222,
              "#7201a8"
             ],
             [
              0.3333333333333333,
              "#9c179e"
             ],
             [
              0.4444444444444444,
              "#bd3786"
             ],
             [
              0.5555555555555556,
              "#d8576b"
             ],
             [
              0.6666666666666666,
              "#ed7953"
             ],
             [
              0.7777777777777778,
              "#fb9f3a"
             ],
             [
              0.8888888888888888,
              "#fdca26"
             ],
             [
              1,
              "#f0f921"
             ]
            ],
            "type": "heatmap"
           }
          ],
          "heatmapgl": [
           {
            "colorbar": {
             "outlinewidth": 0,
             "ticks": ""
            },
            "colorscale": [
             [
              0,
              "#0d0887"
             ],
             [
              0.1111111111111111,
              "#46039f"
             ],
             [
              0.2222222222222222,
              "#7201a8"
             ],
             [
              0.3333333333333333,
              "#9c179e"
             ],
             [
              0.4444444444444444,
              "#bd3786"
             ],
             [
              0.5555555555555556,
              "#d8576b"
             ],
             [
              0.6666666666666666,
              "#ed7953"
             ],
             [
              0.7777777777777778,
              "#fb9f3a"
             ],
             [
              0.8888888888888888,
              "#fdca26"
             ],
             [
              1,
              "#f0f921"
             ]
            ],
            "type": "heatmapgl"
           }
          ],
          "histogram": [
           {
            "marker": {
             "pattern": {
              "fillmode": "overlay",
              "size": 10,
              "solidity": 0.2
             }
            },
            "type": "histogram"
           }
          ],
          "histogram2d": [
           {
            "colorbar": {
             "outlinewidth": 0,
             "ticks": ""
            },
            "colorscale": [
             [
              0,
              "#0d0887"
             ],
             [
              0.1111111111111111,
              "#46039f"
             ],
             [
              0.2222222222222222,
              "#7201a8"
             ],
             [
              0.3333333333333333,
              "#9c179e"
             ],
             [
              0.4444444444444444,
              "#bd3786"
             ],
             [
              0.5555555555555556,
              "#d8576b"
             ],
             [
              0.6666666666666666,
              "#ed7953"
             ],
             [
              0.7777777777777778,
              "#fb9f3a"
             ],
             [
              0.8888888888888888,
              "#fdca26"
             ],
             [
              1,
              "#f0f921"
             ]
            ],
            "type": "histogram2d"
           }
          ],
          "histogram2dcontour": [
           {
            "colorbar": {
             "outlinewidth": 0,
             "ticks": ""
            },
            "colorscale": [
             [
              0,
              "#0d0887"
             ],
             [
              0.1111111111111111,
              "#46039f"
             ],
             [
              0.2222222222222222,
              "#7201a8"
             ],
             [
              0.3333333333333333,
              "#9c179e"
             ],
             [
              0.4444444444444444,
              "#bd3786"
             ],
             [
              0.5555555555555556,
              "#d8576b"
             ],
             [
              0.6666666666666666,
              "#ed7953"
             ],
             [
              0.7777777777777778,
              "#fb9f3a"
             ],
             [
              0.8888888888888888,
              "#fdca26"
             ],
             [
              1,
              "#f0f921"
             ]
            ],
            "type": "histogram2dcontour"
           }
          ],
          "mesh3d": [
           {
            "colorbar": {
             "outlinewidth": 0,
             "ticks": ""
            },
            "type": "mesh3d"
           }
          ],
          "parcoords": [
           {
            "line": {
             "colorbar": {
              "outlinewidth": 0,
              "ticks": ""
             }
            },
            "type": "parcoords"
           }
          ],
          "pie": [
           {
            "automargin": true,
            "type": "pie"
           }
          ],
          "scatter": [
           {
            "fillpattern": {
             "fillmode": "overlay",
             "size": 10,
             "solidity": 0.2
            },
            "type": "scatter"
           }
          ],
          "scatter3d": [
           {
            "line": {
             "colorbar": {
              "outlinewidth": 0,
              "ticks": ""
             }
            },
            "marker": {
             "colorbar": {
              "outlinewidth": 0,
              "ticks": ""
             }
            },
            "type": "scatter3d"
           }
          ],
          "scattercarpet": [
           {
            "marker": {
             "colorbar": {
              "outlinewidth": 0,
              "ticks": ""
             }
            },
            "type": "scattercarpet"
           }
          ],
          "scattergeo": [
           {
            "marker": {
             "colorbar": {
              "outlinewidth": 0,
              "ticks": ""
             }
            },
            "type": "scattergeo"
           }
          ],
          "scattergl": [
           {
            "marker": {
             "colorbar": {
              "outlinewidth": 0,
              "ticks": ""
             }
            },
            "type": "scattergl"
           }
          ],
          "scattermapbox": [
           {
            "marker": {
             "colorbar": {
              "outlinewidth": 0,
              "ticks": ""
             }
            },
            "type": "scattermapbox"
           }
          ],
          "scatterpolar": [
           {
            "marker": {
             "colorbar": {
              "outlinewidth": 0,
              "ticks": ""
             }
            },
            "type": "scatterpolar"
           }
          ],
          "scatterpolargl": [
           {
            "marker": {
             "colorbar": {
              "outlinewidth": 0,
              "ticks": ""
             }
            },
            "type": "scatterpolargl"
           }
          ],
          "scatterternary": [
           {
            "marker": {
             "colorbar": {
              "outlinewidth": 0,
              "ticks": ""
             }
            },
            "type": "scatterternary"
           }
          ],
          "surface": [
           {
            "colorbar": {
             "outlinewidth": 0,
             "ticks": ""
            },
            "colorscale": [
             [
              0,
              "#0d0887"
             ],
             [
              0.1111111111111111,
              "#46039f"
             ],
             [
              0.2222222222222222,
              "#7201a8"
             ],
             [
              0.3333333333333333,
              "#9c179e"
             ],
             [
              0.4444444444444444,
              "#bd3786"
             ],
             [
              0.5555555555555556,
              "#d8576b"
             ],
             [
              0.6666666666666666,
              "#ed7953"
             ],
             [
              0.7777777777777778,
              "#fb9f3a"
             ],
             [
              0.8888888888888888,
              "#fdca26"
             ],
             [
              1,
              "#f0f921"
             ]
            ],
            "type": "surface"
           }
          ],
          "table": [
           {
            "cells": {
             "fill": {
              "color": "#EBF0F8"
             },
             "line": {
              "color": "white"
             }
            },
            "header": {
             "fill": {
              "color": "#C8D4E3"
             },
             "line": {
              "color": "white"
             }
            },
            "type": "table"
           }
          ]
         },
         "layout": {
          "annotationdefaults": {
           "arrowcolor": "#2a3f5f",
           "arrowhead": 0,
           "arrowwidth": 1
          },
          "autotypenumbers": "strict",
          "coloraxis": {
           "colorbar": {
            "outlinewidth": 0,
            "ticks": ""
           }
          },
          "colorscale": {
           "diverging": [
            [
             0,
             "#8e0152"
            ],
            [
             0.1,
             "#c51b7d"
            ],
            [
             0.2,
             "#de77ae"
            ],
            [
             0.3,
             "#f1b6da"
            ],
            [
             0.4,
             "#fde0ef"
            ],
            [
             0.5,
             "#f7f7f7"
            ],
            [
             0.6,
             "#e6f5d0"
            ],
            [
             0.7,
             "#b8e186"
            ],
            [
             0.8,
             "#7fbc41"
            ],
            [
             0.9,
             "#4d9221"
            ],
            [
             1,
             "#276419"
            ]
           ],
           "sequential": [
            [
             0,
             "#0d0887"
            ],
            [
             0.1111111111111111,
             "#46039f"
            ],
            [
             0.2222222222222222,
             "#7201a8"
            ],
            [
             0.3333333333333333,
             "#9c179e"
            ],
            [
             0.4444444444444444,
             "#bd3786"
            ],
            [
             0.5555555555555556,
             "#d8576b"
            ],
            [
             0.6666666666666666,
             "#ed7953"
            ],
            [
             0.7777777777777778,
             "#fb9f3a"
            ],
            [
             0.8888888888888888,
             "#fdca26"
            ],
            [
             1,
             "#f0f921"
            ]
           ],
           "sequentialminus": [
            [
             0,
             "#0d0887"
            ],
            [
             0.1111111111111111,
             "#46039f"
            ],
            [
             0.2222222222222222,
             "#7201a8"
            ],
            [
             0.3333333333333333,
             "#9c179e"
            ],
            [
             0.4444444444444444,
             "#bd3786"
            ],
            [
             0.5555555555555556,
             "#d8576b"
            ],
            [
             0.6666666666666666,
             "#ed7953"
            ],
            [
             0.7777777777777778,
             "#fb9f3a"
            ],
            [
             0.8888888888888888,
             "#fdca26"
            ],
            [
             1,
             "#f0f921"
            ]
           ]
          },
          "colorway": [
           "#636efa",
           "#EF553B",
           "#00cc96",
           "#ab63fa",
           "#FFA15A",
           "#19d3f3",
           "#FF6692",
           "#B6E880",
           "#FF97FF",
           "#FECB52"
          ],
          "font": {
           "color": "#2a3f5f"
          },
          "geo": {
           "bgcolor": "white",
           "lakecolor": "white",
           "landcolor": "white",
           "showlakes": true,
           "showland": true,
           "subunitcolor": "#C8D4E3"
          },
          "hoverlabel": {
           "align": "left"
          },
          "hovermode": "closest",
          "mapbox": {
           "style": "light"
          },
          "paper_bgcolor": "white",
          "plot_bgcolor": "white",
          "polar": {
           "angularaxis": {
            "gridcolor": "#EBF0F8",
            "linecolor": "#EBF0F8",
            "ticks": ""
           },
           "bgcolor": "white",
           "radialaxis": {
            "gridcolor": "#EBF0F8",
            "linecolor": "#EBF0F8",
            "ticks": ""
           }
          },
          "scene": {
           "xaxis": {
            "backgroundcolor": "white",
            "gridcolor": "#DFE8F3",
            "gridwidth": 2,
            "linecolor": "#EBF0F8",
            "showbackground": true,
            "ticks": "",
            "zerolinecolor": "#EBF0F8"
           },
           "yaxis": {
            "backgroundcolor": "white",
            "gridcolor": "#DFE8F3",
            "gridwidth": 2,
            "linecolor": "#EBF0F8",
            "showbackground": true,
            "ticks": "",
            "zerolinecolor": "#EBF0F8"
           },
           "zaxis": {
            "backgroundcolor": "white",
            "gridcolor": "#DFE8F3",
            "gridwidth": 2,
            "linecolor": "#EBF0F8",
            "showbackground": true,
            "ticks": "",
            "zerolinecolor": "#EBF0F8"
           }
          },
          "shapedefaults": {
           "line": {
            "color": "#2a3f5f"
           }
          },
          "ternary": {
           "aaxis": {
            "gridcolor": "#DFE8F3",
            "linecolor": "#A2B1C6",
            "ticks": ""
           },
           "baxis": {
            "gridcolor": "#DFE8F3",
            "linecolor": "#A2B1C6",
            "ticks": ""
           },
           "bgcolor": "white",
           "caxis": {
            "gridcolor": "#DFE8F3",
            "linecolor": "#A2B1C6",
            "ticks": ""
           }
          },
          "title": {
           "x": 0.05
          },
          "xaxis": {
           "automargin": true,
           "gridcolor": "#EBF0F8",
           "linecolor": "#EBF0F8",
           "ticks": "",
           "title": {
            "standoff": 15
           },
           "zerolinecolor": "#EBF0F8",
           "zerolinewidth": 2
          },
          "yaxis": {
           "automargin": true,
           "gridcolor": "#EBF0F8",
           "linecolor": "#EBF0F8",
           "ticks": "",
           "title": {
            "standoff": 15
           },
           "zerolinecolor": "#EBF0F8",
           "zerolinewidth": 2
          }
         }
        },
        "title": {
         "text": "Hashtags Word Cloud"
        },
        "xaxis": {
         "anchor": "y",
         "domain": [
          0,
          1
         ]
        },
        "yaxis": {
         "anchor": "x",
         "domain": [
          0,
          1
         ]
        }
       }
      }
     },
     "metadata": {},
     "output_type": "display_data"
    }
   ],
   "source": [
    "from wordcloud import WordCloud\n",
    "\n",
    "hashtags = ' '.join(data['Hashtags'].astype(str))\n",
    "wordcloud = WordCloud().generate(hashtags)\n",
    "\n",
    "fig = px.imshow(wordcloud, title='Hashtags Word Cloud')\n",
    "\n",
    "fig.show()"
   ]
  },
  {
   "cell_type": "markdown",
   "metadata": {},
   "source": [
    "- Now let's have a look at the correlataion between all the features"
   ]
  },
  {
   "cell_type": "code",
   "execution_count": 14,
   "metadata": {},
   "outputs": [
    {
     "data": {
      "application/vnd.plotly.v1+json": {
       "config": {
        "plotlyServerURL": "https://plot.ly"
       },
       "data": [
        {
         "colorscale": [
          [
           0,
           "rgb(103,0,31)"
          ],
          [
           0.1,
           "rgb(178,24,43)"
          ],
          [
           0.2,
           "rgb(214,96,77)"
          ],
          [
           0.3,
           "rgb(244,165,130)"
          ],
          [
           0.4,
           "rgb(253,219,199)"
          ],
          [
           0.5,
           "rgb(247,247,247)"
          ],
          [
           0.6,
           "rgb(209,229,240)"
          ],
          [
           0.7,
           "rgb(146,197,222)"
          ],
          [
           0.8,
           "rgb(67,147,195)"
          ],
          [
           0.9,
           "rgb(33,102,172)"
          ],
          [
           1,
           "rgb(5,48,97)"
          ]
         ],
         "type": "heatmap",
         "x": [
          "Impressions",
          "From Home",
          "From Hashtags",
          "From Explore",
          "From Other",
          "Saves",
          "Comments",
          "Shares",
          "Likes",
          "Profile Visits",
          "Follows"
         ],
         "y": [
          "Impressions",
          "From Home",
          "From Hashtags",
          "From Explore",
          "From Other",
          "Saves",
          "Comments",
          "Shares",
          "Likes",
          "Profile Visits",
          "Follows"
         ],
         "z": [
          [
           1,
           0.8446984764644079,
           0.5607600444158378,
           0.8936074202433567,
           0.5929604758091378,
           0.7792314114268593,
           -0.028523933548663824,
           0.6346751252181763,
           0.8498353377178177,
           0.7609809286546657,
           0.8893634430344086
          ],
          [
           0.8446984764644079,
           1,
           0.1775156543309878,
           0.800573110578866,
           0.5556659551465412,
           0.768817005684724,
           0.012716248342545502,
           0.6749850448685393,
           0.698329637893805,
           0.531076205366268,
           0.6726750588858736
          ],
          [
           0.5607600444158378,
           0.1775156543309878,
           1,
           0.1904532189703739,
           0.2296233181732429,
           0.30592870314657494,
           0.1614388259073108,
           0.21951145515685286,
           0.6621242000877943,
           0.6913449048454711,
           0.5554854735531087
          ],
          [
           0.8936074202433567,
           0.800573110578866,
           0.1904532189703739,
           1,
           0.49568473618614567,
           0.7478028035868068,
           -0.15856537914498336,
           0.6157309658741993,
           0.653699336224973,
           0.5318502558055156,
           0.7960189422044351
          ],
          [
           0.5929604758091378,
           0.5556659551465412,
           0.2296233181732429,
           0.49568473618614567,
           1,
           0.3319068864386735,
           -0.1087029734222875,
           0.15683375635736396,
           0.3935104122090607,
           0.6330799446255249,
           0.5467370225356449
          ],
          [
           0.7792314114268593,
           0.768817005684724,
           0.30592870314657494,
           0.7478028035868068,
           0.3319068864386735,
           1,
           -0.026912263707560984,
           0.860324185158795,
           0.8456432932068351,
           0.36062821319868793,
           0.6284608823148304
          ],
          [
           -0.028523933548663824,
           0.012716248342545502,
           0.1614388259073108,
           -0.15856537914498336,
           -0.1087029734222875,
           -0.026912263707560984,
           1,
           0.016932532855360494,
           0.1235861027264814,
           0.09671424134518669,
           -0.060630774375331827
          ],
          [
           0.6346751252181763,
           0.6749850448685393,
           0.21951145515685286,
           0.6157309658741993,
           0.15683375635736396,
           0.860324185158795,
           0.016932532855360494,
           1,
           0.707794002688105,
           0.24536082330737743,
           0.4930698051158401
          ],
          [
           0.8498353377178177,
           0.698329637893805,
           0.6621242000877943,
           0.653699336224973,
           0.3935104122090607,
           0.8456432932068351,
           0.1235861027264814,
           0.707794002688105,
           1,
           0.6261070345218044,
           0.746333165592919
          ],
          [
           0.7609809286546657,
           0.531076205366268,
           0.6913449048454711,
           0.5318502558055156,
           0.6330799446255249,
           0.36062821319868793,
           0.09671424134518669,
           0.24536082330737743,
           0.6261070345218044,
           1,
           0.8531517459145104
          ],
          [
           0.8893634430344086,
           0.6726750588858736,
           0.5554854735531087,
           0.7960189422044351,
           0.5467370225356449,
           0.6284608823148304,
           -0.060630774375331827,
           0.4930698051158401,
           0.746333165592919,
           0.8531517459145104,
           1
          ]
         ],
         "zmax": 1,
         "zmin": -1
        }
       ],
       "layout": {
        "template": {
         "data": {
          "bar": [
           {
            "error_x": {
             "color": "#2a3f5f"
            },
            "error_y": {
             "color": "#2a3f5f"
            },
            "marker": {
             "line": {
              "color": "white",
              "width": 0.5
             },
             "pattern": {
              "fillmode": "overlay",
              "size": 10,
              "solidity": 0.2
             }
            },
            "type": "bar"
           }
          ],
          "barpolar": [
           {
            "marker": {
             "line": {
              "color": "white",
              "width": 0.5
             },
             "pattern": {
              "fillmode": "overlay",
              "size": 10,
              "solidity": 0.2
             }
            },
            "type": "barpolar"
           }
          ],
          "carpet": [
           {
            "aaxis": {
             "endlinecolor": "#2a3f5f",
             "gridcolor": "#C8D4E3",
             "linecolor": "#C8D4E3",
             "minorgridcolor": "#C8D4E3",
             "startlinecolor": "#2a3f5f"
            },
            "baxis": {
             "endlinecolor": "#2a3f5f",
             "gridcolor": "#C8D4E3",
             "linecolor": "#C8D4E3",
             "minorgridcolor": "#C8D4E3",
             "startlinecolor": "#2a3f5f"
            },
            "type": "carpet"
           }
          ],
          "choropleth": [
           {
            "colorbar": {
             "outlinewidth": 0,
             "ticks": ""
            },
            "type": "choropleth"
           }
          ],
          "contour": [
           {
            "colorbar": {
             "outlinewidth": 0,
             "ticks": ""
            },
            "colorscale": [
             [
              0,
              "#0d0887"
             ],
             [
              0.1111111111111111,
              "#46039f"
             ],
             [
              0.2222222222222222,
              "#7201a8"
             ],
             [
              0.3333333333333333,
              "#9c179e"
             ],
             [
              0.4444444444444444,
              "#bd3786"
             ],
             [
              0.5555555555555556,
              "#d8576b"
             ],
             [
              0.6666666666666666,
              "#ed7953"
             ],
             [
              0.7777777777777778,
              "#fb9f3a"
             ],
             [
              0.8888888888888888,
              "#fdca26"
             ],
             [
              1,
              "#f0f921"
             ]
            ],
            "type": "contour"
           }
          ],
          "contourcarpet": [
           {
            "colorbar": {
             "outlinewidth": 0,
             "ticks": ""
            },
            "type": "contourcarpet"
           }
          ],
          "heatmap": [
           {
            "colorbar": {
             "outlinewidth": 0,
             "ticks": ""
            },
            "colorscale": [
             [
              0,
              "#0d0887"
             ],
             [
              0.1111111111111111,
              "#46039f"
             ],
             [
              0.2222222222222222,
              "#7201a8"
             ],
             [
              0.3333333333333333,
              "#9c179e"
             ],
             [
              0.4444444444444444,
              "#bd3786"
             ],
             [
              0.5555555555555556,
              "#d8576b"
             ],
             [
              0.6666666666666666,
              "#ed7953"
             ],
             [
              0.7777777777777778,
              "#fb9f3a"
             ],
             [
              0.8888888888888888,
              "#fdca26"
             ],
             [
              1,
              "#f0f921"
             ]
            ],
            "type": "heatmap"
           }
          ],
          "heatmapgl": [
           {
            "colorbar": {
             "outlinewidth": 0,
             "ticks": ""
            },
            "colorscale": [
             [
              0,
              "#0d0887"
             ],
             [
              0.1111111111111111,
              "#46039f"
             ],
             [
              0.2222222222222222,
              "#7201a8"
             ],
             [
              0.3333333333333333,
              "#9c179e"
             ],
             [
              0.4444444444444444,
              "#bd3786"
             ],
             [
              0.5555555555555556,
              "#d8576b"
             ],
             [
              0.6666666666666666,
              "#ed7953"
             ],
             [
              0.7777777777777778,
              "#fb9f3a"
             ],
             [
              0.8888888888888888,
              "#fdca26"
             ],
             [
              1,
              "#f0f921"
             ]
            ],
            "type": "heatmapgl"
           }
          ],
          "histogram": [
           {
            "marker": {
             "pattern": {
              "fillmode": "overlay",
              "size": 10,
              "solidity": 0.2
             }
            },
            "type": "histogram"
           }
          ],
          "histogram2d": [
           {
            "colorbar": {
             "outlinewidth": 0,
             "ticks": ""
            },
            "colorscale": [
             [
              0,
              "#0d0887"
             ],
             [
              0.1111111111111111,
              "#46039f"
             ],
             [
              0.2222222222222222,
              "#7201a8"
             ],
             [
              0.3333333333333333,
              "#9c179e"
             ],
             [
              0.4444444444444444,
              "#bd3786"
             ],
             [
              0.5555555555555556,
              "#d8576b"
             ],
             [
              0.6666666666666666,
              "#ed7953"
             ],
             [
              0.7777777777777778,
              "#fb9f3a"
             ],
             [
              0.8888888888888888,
              "#fdca26"
             ],
             [
              1,
              "#f0f921"
             ]
            ],
            "type": "histogram2d"
           }
          ],
          "histogram2dcontour": [
           {
            "colorbar": {
             "outlinewidth": 0,
             "ticks": ""
            },
            "colorscale": [
             [
              0,
              "#0d0887"
             ],
             [
              0.1111111111111111,
              "#46039f"
             ],
             [
              0.2222222222222222,
              "#7201a8"
             ],
             [
              0.3333333333333333,
              "#9c179e"
             ],
             [
              0.4444444444444444,
              "#bd3786"
             ],
             [
              0.5555555555555556,
              "#d8576b"
             ],
             [
              0.6666666666666666,
              "#ed7953"
             ],
             [
              0.7777777777777778,
              "#fb9f3a"
             ],
             [
              0.8888888888888888,
              "#fdca26"
             ],
             [
              1,
              "#f0f921"
             ]
            ],
            "type": "histogram2dcontour"
           }
          ],
          "mesh3d": [
           {
            "colorbar": {
             "outlinewidth": 0,
             "ticks": ""
            },
            "type": "mesh3d"
           }
          ],
          "parcoords": [
           {
            "line": {
             "colorbar": {
              "outlinewidth": 0,
              "ticks": ""
             }
            },
            "type": "parcoords"
           }
          ],
          "pie": [
           {
            "automargin": true,
            "type": "pie"
           }
          ],
          "scatter": [
           {
            "fillpattern": {
             "fillmode": "overlay",
             "size": 10,
             "solidity": 0.2
            },
            "type": "scatter"
           }
          ],
          "scatter3d": [
           {
            "line": {
             "colorbar": {
              "outlinewidth": 0,
              "ticks": ""
             }
            },
            "marker": {
             "colorbar": {
              "outlinewidth": 0,
              "ticks": ""
             }
            },
            "type": "scatter3d"
           }
          ],
          "scattercarpet": [
           {
            "marker": {
             "colorbar": {
              "outlinewidth": 0,
              "ticks": ""
             }
            },
            "type": "scattercarpet"
           }
          ],
          "scattergeo": [
           {
            "marker": {
             "colorbar": {
              "outlinewidth": 0,
              "ticks": ""
             }
            },
            "type": "scattergeo"
           }
          ],
          "scattergl": [
           {
            "marker": {
             "colorbar": {
              "outlinewidth": 0,
              "ticks": ""
             }
            },
            "type": "scattergl"
           }
          ],
          "scattermapbox": [
           {
            "marker": {
             "colorbar": {
              "outlinewidth": 0,
              "ticks": ""
             }
            },
            "type": "scattermapbox"
           }
          ],
          "scatterpolar": [
           {
            "marker": {
             "colorbar": {
              "outlinewidth": 0,
              "ticks": ""
             }
            },
            "type": "scatterpolar"
           }
          ],
          "scatterpolargl": [
           {
            "marker": {
             "colorbar": {
              "outlinewidth": 0,
              "ticks": ""
             }
            },
            "type": "scatterpolargl"
           }
          ],
          "scatterternary": [
           {
            "marker": {
             "colorbar": {
              "outlinewidth": 0,
              "ticks": ""
             }
            },
            "type": "scatterternary"
           }
          ],
          "surface": [
           {
            "colorbar": {
             "outlinewidth": 0,
             "ticks": ""
            },
            "colorscale": [
             [
              0,
              "#0d0887"
             ],
             [
              0.1111111111111111,
              "#46039f"
             ],
             [
              0.2222222222222222,
              "#7201a8"
             ],
             [
              0.3333333333333333,
              "#9c179e"
             ],
             [
              0.4444444444444444,
              "#bd3786"
             ],
             [
              0.5555555555555556,
              "#d8576b"
             ],
             [
              0.6666666666666666,
              "#ed7953"
             ],
             [
              0.7777777777777778,
              "#fb9f3a"
             ],
             [
              0.8888888888888888,
              "#fdca26"
             ],
             [
              1,
              "#f0f921"
             ]
            ],
            "type": "surface"
           }
          ],
          "table": [
           {
            "cells": {
             "fill": {
              "color": "#EBF0F8"
             },
             "line": {
              "color": "white"
             }
            },
            "header": {
             "fill": {
              "color": "#C8D4E3"
             },
             "line": {
              "color": "white"
             }
            },
            "type": "table"
           }
          ]
         },
         "layout": {
          "annotationdefaults": {
           "arrowcolor": "#2a3f5f",
           "arrowhead": 0,
           "arrowwidth": 1
          },
          "autotypenumbers": "strict",
          "coloraxis": {
           "colorbar": {
            "outlinewidth": 0,
            "ticks": ""
           }
          },
          "colorscale": {
           "diverging": [
            [
             0,
             "#8e0152"
            ],
            [
             0.1,
             "#c51b7d"
            ],
            [
             0.2,
             "#de77ae"
            ],
            [
             0.3,
             "#f1b6da"
            ],
            [
             0.4,
             "#fde0ef"
            ],
            [
             0.5,
             "#f7f7f7"
            ],
            [
             0.6,
             "#e6f5d0"
            ],
            [
             0.7,
             "#b8e186"
            ],
            [
             0.8,
             "#7fbc41"
            ],
            [
             0.9,
             "#4d9221"
            ],
            [
             1,
             "#276419"
            ]
           ],
           "sequential": [
            [
             0,
             "#0d0887"
            ],
            [
             0.1111111111111111,
             "#46039f"
            ],
            [
             0.2222222222222222,
             "#7201a8"
            ],
            [
             0.3333333333333333,
             "#9c179e"
            ],
            [
             0.4444444444444444,
             "#bd3786"
            ],
            [
             0.5555555555555556,
             "#d8576b"
            ],
            [
             0.6666666666666666,
             "#ed7953"
            ],
            [
             0.7777777777777778,
             "#fb9f3a"
            ],
            [
             0.8888888888888888,
             "#fdca26"
            ],
            [
             1,
             "#f0f921"
            ]
           ],
           "sequentialminus": [
            [
             0,
             "#0d0887"
            ],
            [
             0.1111111111111111,
             "#46039f"
            ],
            [
             0.2222222222222222,
             "#7201a8"
            ],
            [
             0.3333333333333333,
             "#9c179e"
            ],
            [
             0.4444444444444444,
             "#bd3786"
            ],
            [
             0.5555555555555556,
             "#d8576b"
            ],
            [
             0.6666666666666666,
             "#ed7953"
            ],
            [
             0.7777777777777778,
             "#fb9f3a"
            ],
            [
             0.8888888888888888,
             "#fdca26"
            ],
            [
             1,
             "#f0f921"
            ]
           ]
          },
          "colorway": [
           "#636efa",
           "#EF553B",
           "#00cc96",
           "#ab63fa",
           "#FFA15A",
           "#19d3f3",
           "#FF6692",
           "#B6E880",
           "#FF97FF",
           "#FECB52"
          ],
          "font": {
           "color": "#2a3f5f"
          },
          "geo": {
           "bgcolor": "white",
           "lakecolor": "white",
           "landcolor": "white",
           "showlakes": true,
           "showland": true,
           "subunitcolor": "#C8D4E3"
          },
          "hoverlabel": {
           "align": "left"
          },
          "hovermode": "closest",
          "mapbox": {
           "style": "light"
          },
          "paper_bgcolor": "white",
          "plot_bgcolor": "white",
          "polar": {
           "angularaxis": {
            "gridcolor": "#EBF0F8",
            "linecolor": "#EBF0F8",
            "ticks": ""
           },
           "bgcolor": "white",
           "radialaxis": {
            "gridcolor": "#EBF0F8",
            "linecolor": "#EBF0F8",
            "ticks": ""
           }
          },
          "scene": {
           "xaxis": {
            "backgroundcolor": "white",
            "gridcolor": "#DFE8F3",
            "gridwidth": 2,
            "linecolor": "#EBF0F8",
            "showbackground": true,
            "ticks": "",
            "zerolinecolor": "#EBF0F8"
           },
           "yaxis": {
            "backgroundcolor": "white",
            "gridcolor": "#DFE8F3",
            "gridwidth": 2,
            "linecolor": "#EBF0F8",
            "showbackground": true,
            "ticks": "",
            "zerolinecolor": "#EBF0F8"
           },
           "zaxis": {
            "backgroundcolor": "white",
            "gridcolor": "#DFE8F3",
            "gridwidth": 2,
            "linecolor": "#EBF0F8",
            "showbackground": true,
            "ticks": "",
            "zerolinecolor": "#EBF0F8"
           }
          },
          "shapedefaults": {
           "line": {
            "color": "#2a3f5f"
           }
          },
          "ternary": {
           "aaxis": {
            "gridcolor": "#DFE8F3",
            "linecolor": "#A2B1C6",
            "ticks": ""
           },
           "baxis": {
            "gridcolor": "#DFE8F3",
            "linecolor": "#A2B1C6",
            "ticks": ""
           },
           "bgcolor": "white",
           "caxis": {
            "gridcolor": "#DFE8F3",
            "linecolor": "#A2B1C6",
            "ticks": ""
           }
          },
          "title": {
           "x": 0.05
          },
          "xaxis": {
           "automargin": true,
           "gridcolor": "#EBF0F8",
           "linecolor": "#EBF0F8",
           "ticks": "",
           "title": {
            "standoff": 15
           },
           "zerolinecolor": "#EBF0F8",
           "zerolinewidth": 2
          },
          "yaxis": {
           "automargin": true,
           "gridcolor": "#EBF0F8",
           "linecolor": "#EBF0F8",
           "ticks": "",
           "title": {
            "standoff": 15
           },
           "zerolinecolor": "#EBF0F8",
           "zerolinewidth": 2
          }
         }
        },
        "title": {
         "text": "Correlation Matrix"
        },
        "xaxis": {
         "title": {
          "text": "Features"
         }
        },
        "yaxis": {
         "title": {
          "text": "Features"
         }
        }
       }
      }
     },
     "metadata": {},
     "output_type": "display_data"
    }
   ],
   "source": [
    "# Select only numeric columns from the DataFrame because the corr() method can only be used on numeric data,\n",
    "numeric_data = data.select_dtypes(int)\n",
    "\n",
    "# Compute the correlation matrix on the numeric data\n",
    "corr_matrix = numeric_data.corr()\n",
    "\n",
    "fig = go.Figure(data=go.Heatmap(z=corr_matrix.values, x=corr_matrix.columns, y=corr_matrix.index, colorscale='RdBu', zmin=-1, zmax=1))\n",
    "\n",
    "fig.update_layout(title='Correlation Matrix', xaxis_title='Features', yaxis_title='Features')\n",
    "\n",
    "fig.show()"
   ]
  },
  {
   "cell_type": "code",
   "execution_count": 15,
   "metadata": {},
   "outputs": [
    {
     "data": {
      "application/vnd.plotly.v1+json": {
       "config": {
        "plotlyServerURL": "https://plot.ly"
       },
       "data": [
        {
         "alignmentgroup": "True",
         "hovertemplate": "Hashtag=%{x}<br>Count=%{y}<extra></extra>",
         "legendgroup": "",
         "marker": {
          "color": "#636efa",
          "pattern": {
           "shape": ""
          }
         },
         "name": "",
         "offsetgroup": "",
         "orientation": "v",
         "showlegend": false,
         "textposition": "auto",
         "type": "bar",
         "x": [
          "#thecleverprogrammer",
          "#amankharwal",
          "#python",
          "#machinelearning",
          "#pythonprogramming",
          "#datascience",
          "#ai",
          "#pythonprojects",
          "#artificialintelligence",
          "#data",
          "#dataanalytics",
          "#datascientist",
          "#pythoncode",
          "#dataanalysis",
          "#deeplearning",
          "#datascienceprojects",
          "#machinelearningprojects",
          "#programming",
          "#technology",
          "#coding",
          "#tech",
          "#computerscience",
          "#bigdata",
          "#pythonlearning",
          "#pythoncoding",
          "#pythondeveloper",
          "#datavisualization",
          "#pythonprogrammer",
          "#analytics",
          "#business",
          "#statistics",
          "#machinelearningalgorithms",
          "#dataanalyst",
          "#webdevelopment",
          "#algorithm",
          "#software",
          "#naturallanguageprocessing",
          "#algorithms",
          "#nlp",
          "#neuralnetwork",
          "#ml",
          "#database",
          "#javascript",
          "#code",
          "#coder",
          "#programmer",
          "#java",
          "#softwaredeveloper",
          "#codinglife",
          "#sentimentanalysis",
          "#sentiment",
          "#webdeveloper",
          "#css",
          "#html",
          "#machinelearningmodels",
          "#developer",
          "#timeseriesanalysis",
          "#iot",
          "#analysis",
          "#timeseriesmalaysia",
          "#businessintelligence",
          "#datasciencejobs",
          "#datasciencetraining",
          "#datascienceeducation",
          "#datasciencecourse",
          "#datamining",
          "#time",
          "#timeseries",
          "#php",
          "#programminglife",
          "#hacking",
          "#programmingmemes",
          "#programmers",
          "#neuralnetworks",
          "#webdesign",
          "#dataviz",
          "#linux",
          "#casestudy",
          "#businessmodel",
          "#zomato",
          "#money",
          "#interview",
          "#finance",
          "#powerbi",
          "#tensorflow",
          "#job",
          "#artificialintelligenceai",
          "#investing",
          "#trading",
          "#stockmarket",
          "#healthcare",
          "#health",
          "#covid",
          "#investment",
          "#cryptocurrency",
          "#bitcoin",
          "#dataanalysisprojects",
          "#businessanalytics",
          "#python3",
          "#roadmap",
          "#codinginterview",
          "#pythonprogramminglanguage",
          "#otp",
          "#innovation",
          "#recommendationsystem",
          "#recommendations",
          "#recommended",
          "#otpverification",
          "#projects",
          "#casestudies",
          "#amazonfinds",
          "#security",
          "#cybersecurity",
          "#network",
          "#internet",
          "#cloud",
          "#recommendation",
          "#careergoals",
          "#jobsearch",
          "#work",
          "#tableau",
          "#stocks",
          "#forex",
          "#candlestick",
          "#candlestickcharts",
          "#career",
          "#jobs",
          "#stressdetection",
          "#education",
          "#success",
          "#motivation",
          "#clustering",
          "#careerdevelopment",
          "#careeradvice",
          "#digitalmarketing",
          "#media",
          "#socialmedia",
          "#IT",
          "#marketing",
          "#students",
          "#resume",
          "#goals",
          "#careers",
          "#stress",
          "#sql",
          "#pythonbooks",
          "#mysql",
          "#softskills",
          "#instagramreach",
          "#instagram",
          "#ukraine",
          "#pythonprogram",
          "#whatsapp",
          "@codergallery",
          "#google",
          "#news",
          "#flipkart",
          "#bookstagram",
          "#alexnet",
          "#bigdataanalytics",
          "#qrcodes",
          "#datascienceinterview",
          "#facebook",
          "#boxplots"
         ],
         "xaxis": "x",
         "y": [
          117,
          117,
          109,
          97,
          95,
          94,
          91,
          90,
          89,
          88,
          87,
          83,
          78,
          77,
          75,
          43,
          43,
          26,
          25,
          24,
          23,
          21,
          20,
          19,
          19,
          19,
          19,
          19,
          16,
          16,
          14,
          13,
          12,
          10,
          9,
          9,
          9,
          9,
          9,
          8,
          8,
          7,
          7,
          7,
          7,
          7,
          7,
          7,
          7,
          7,
          7,
          7,
          7,
          7,
          7,
          7,
          6,
          6,
          6,
          6,
          6,
          6,
          6,
          6,
          6,
          6,
          6,
          6,
          5,
          5,
          5,
          5,
          5,
          5,
          5,
          5,
          5,
          4,
          4,
          4,
          4,
          4,
          4,
          4,
          4,
          4,
          4,
          4,
          3,
          3,
          3,
          3,
          3,
          3,
          3,
          3,
          3,
          3,
          2,
          2,
          2,
          2,
          2,
          2,
          2,
          2,
          2,
          2,
          2,
          2,
          2,
          2,
          2,
          2,
          2,
          2,
          2,
          2,
          2,
          2,
          2,
          2,
          2,
          2,
          2,
          2,
          2,
          2,
          2,
          2,
          2,
          2,
          2,
          2,
          2,
          2,
          2,
          2,
          2,
          2,
          2,
          2,
          2,
          2,
          1,
          1,
          1,
          1,
          1,
          1,
          1,
          1,
          1,
          1,
          1,
          1,
          1,
          1,
          1,
          1,
          1,
          1,
          1,
          1
         ],
         "yaxis": "y"
        }
       ],
       "layout": {
        "barmode": "relative",
        "legend": {
         "tracegroupgap": 0
        },
        "template": {
         "data": {
          "bar": [
           {
            "error_x": {
             "color": "#2a3f5f"
            },
            "error_y": {
             "color": "#2a3f5f"
            },
            "marker": {
             "line": {
              "color": "white",
              "width": 0.5
             },
             "pattern": {
              "fillmode": "overlay",
              "size": 10,
              "solidity": 0.2
             }
            },
            "type": "bar"
           }
          ],
          "barpolar": [
           {
            "marker": {
             "line": {
              "color": "white",
              "width": 0.5
             },
             "pattern": {
              "fillmode": "overlay",
              "size": 10,
              "solidity": 0.2
             }
            },
            "type": "barpolar"
           }
          ],
          "carpet": [
           {
            "aaxis": {
             "endlinecolor": "#2a3f5f",
             "gridcolor": "#C8D4E3",
             "linecolor": "#C8D4E3",
             "minorgridcolor": "#C8D4E3",
             "startlinecolor": "#2a3f5f"
            },
            "baxis": {
             "endlinecolor": "#2a3f5f",
             "gridcolor": "#C8D4E3",
             "linecolor": "#C8D4E3",
             "minorgridcolor": "#C8D4E3",
             "startlinecolor": "#2a3f5f"
            },
            "type": "carpet"
           }
          ],
          "choropleth": [
           {
            "colorbar": {
             "outlinewidth": 0,
             "ticks": ""
            },
            "type": "choropleth"
           }
          ],
          "contour": [
           {
            "colorbar": {
             "outlinewidth": 0,
             "ticks": ""
            },
            "colorscale": [
             [
              0,
              "#0d0887"
             ],
             [
              0.1111111111111111,
              "#46039f"
             ],
             [
              0.2222222222222222,
              "#7201a8"
             ],
             [
              0.3333333333333333,
              "#9c179e"
             ],
             [
              0.4444444444444444,
              "#bd3786"
             ],
             [
              0.5555555555555556,
              "#d8576b"
             ],
             [
              0.6666666666666666,
              "#ed7953"
             ],
             [
              0.7777777777777778,
              "#fb9f3a"
             ],
             [
              0.8888888888888888,
              "#fdca26"
             ],
             [
              1,
              "#f0f921"
             ]
            ],
            "type": "contour"
           }
          ],
          "contourcarpet": [
           {
            "colorbar": {
             "outlinewidth": 0,
             "ticks": ""
            },
            "type": "contourcarpet"
           }
          ],
          "heatmap": [
           {
            "colorbar": {
             "outlinewidth": 0,
             "ticks": ""
            },
            "colorscale": [
             [
              0,
              "#0d0887"
             ],
             [
              0.1111111111111111,
              "#46039f"
             ],
             [
              0.2222222222222222,
              "#7201a8"
             ],
             [
              0.3333333333333333,
              "#9c179e"
             ],
             [
              0.4444444444444444,
              "#bd3786"
             ],
             [
              0.5555555555555556,
              "#d8576b"
             ],
             [
              0.6666666666666666,
              "#ed7953"
             ],
             [
              0.7777777777777778,
              "#fb9f3a"
             ],
             [
              0.8888888888888888,
              "#fdca26"
             ],
             [
              1,
              "#f0f921"
             ]
            ],
            "type": "heatmap"
           }
          ],
          "heatmapgl": [
           {
            "colorbar": {
             "outlinewidth": 0,
             "ticks": ""
            },
            "colorscale": [
             [
              0,
              "#0d0887"
             ],
             [
              0.1111111111111111,
              "#46039f"
             ],
             [
              0.2222222222222222,
              "#7201a8"
             ],
             [
              0.3333333333333333,
              "#9c179e"
             ],
             [
              0.4444444444444444,
              "#bd3786"
             ],
             [
              0.5555555555555556,
              "#d8576b"
             ],
             [
              0.6666666666666666,
              "#ed7953"
             ],
             [
              0.7777777777777778,
              "#fb9f3a"
             ],
             [
              0.8888888888888888,
              "#fdca26"
             ],
             [
              1,
              "#f0f921"
             ]
            ],
            "type": "heatmapgl"
           }
          ],
          "histogram": [
           {
            "marker": {
             "pattern": {
              "fillmode": "overlay",
              "size": 10,
              "solidity": 0.2
             }
            },
            "type": "histogram"
           }
          ],
          "histogram2d": [
           {
            "colorbar": {
             "outlinewidth": 0,
             "ticks": ""
            },
            "colorscale": [
             [
              0,
              "#0d0887"
             ],
             [
              0.1111111111111111,
              "#46039f"
             ],
             [
              0.2222222222222222,
              "#7201a8"
             ],
             [
              0.3333333333333333,
              "#9c179e"
             ],
             [
              0.4444444444444444,
              "#bd3786"
             ],
             [
              0.5555555555555556,
              "#d8576b"
             ],
             [
              0.6666666666666666,
              "#ed7953"
             ],
             [
              0.7777777777777778,
              "#fb9f3a"
             ],
             [
              0.8888888888888888,
              "#fdca26"
             ],
             [
              1,
              "#f0f921"
             ]
            ],
            "type": "histogram2d"
           }
          ],
          "histogram2dcontour": [
           {
            "colorbar": {
             "outlinewidth": 0,
             "ticks": ""
            },
            "colorscale": [
             [
              0,
              "#0d0887"
             ],
             [
              0.1111111111111111,
              "#46039f"
             ],
             [
              0.2222222222222222,
              "#7201a8"
             ],
             [
              0.3333333333333333,
              "#9c179e"
             ],
             [
              0.4444444444444444,
              "#bd3786"
             ],
             [
              0.5555555555555556,
              "#d8576b"
             ],
             [
              0.6666666666666666,
              "#ed7953"
             ],
             [
              0.7777777777777778,
              "#fb9f3a"
             ],
             [
              0.8888888888888888,
              "#fdca26"
             ],
             [
              1,
              "#f0f921"
             ]
            ],
            "type": "histogram2dcontour"
           }
          ],
          "mesh3d": [
           {
            "colorbar": {
             "outlinewidth": 0,
             "ticks": ""
            },
            "type": "mesh3d"
           }
          ],
          "parcoords": [
           {
            "line": {
             "colorbar": {
              "outlinewidth": 0,
              "ticks": ""
             }
            },
            "type": "parcoords"
           }
          ],
          "pie": [
           {
            "automargin": true,
            "type": "pie"
           }
          ],
          "scatter": [
           {
            "fillpattern": {
             "fillmode": "overlay",
             "size": 10,
             "solidity": 0.2
            },
            "type": "scatter"
           }
          ],
          "scatter3d": [
           {
            "line": {
             "colorbar": {
              "outlinewidth": 0,
              "ticks": ""
             }
            },
            "marker": {
             "colorbar": {
              "outlinewidth": 0,
              "ticks": ""
             }
            },
            "type": "scatter3d"
           }
          ],
          "scattercarpet": [
           {
            "marker": {
             "colorbar": {
              "outlinewidth": 0,
              "ticks": ""
             }
            },
            "type": "scattercarpet"
           }
          ],
          "scattergeo": [
           {
            "marker": {
             "colorbar": {
              "outlinewidth": 0,
              "ticks": ""
             }
            },
            "type": "scattergeo"
           }
          ],
          "scattergl": [
           {
            "marker": {
             "colorbar": {
              "outlinewidth": 0,
              "ticks": ""
             }
            },
            "type": "scattergl"
           }
          ],
          "scattermapbox": [
           {
            "marker": {
             "colorbar": {
              "outlinewidth": 0,
              "ticks": ""
             }
            },
            "type": "scattermapbox"
           }
          ],
          "scatterpolar": [
           {
            "marker": {
             "colorbar": {
              "outlinewidth": 0,
              "ticks": ""
             }
            },
            "type": "scatterpolar"
           }
          ],
          "scatterpolargl": [
           {
            "marker": {
             "colorbar": {
              "outlinewidth": 0,
              "ticks": ""
             }
            },
            "type": "scatterpolargl"
           }
          ],
          "scatterternary": [
           {
            "marker": {
             "colorbar": {
              "outlinewidth": 0,
              "ticks": ""
             }
            },
            "type": "scatterternary"
           }
          ],
          "surface": [
           {
            "colorbar": {
             "outlinewidth": 0,
             "ticks": ""
            },
            "colorscale": [
             [
              0,
              "#0d0887"
             ],
             [
              0.1111111111111111,
              "#46039f"
             ],
             [
              0.2222222222222222,
              "#7201a8"
             ],
             [
              0.3333333333333333,
              "#9c179e"
             ],
             [
              0.4444444444444444,
              "#bd3786"
             ],
             [
              0.5555555555555556,
              "#d8576b"
             ],
             [
              0.6666666666666666,
              "#ed7953"
             ],
             [
              0.7777777777777778,
              "#fb9f3a"
             ],
             [
              0.8888888888888888,
              "#fdca26"
             ],
             [
              1,
              "#f0f921"
             ]
            ],
            "type": "surface"
           }
          ],
          "table": [
           {
            "cells": {
             "fill": {
              "color": "#EBF0F8"
             },
             "line": {
              "color": "white"
             }
            },
            "header": {
             "fill": {
              "color": "#C8D4E3"
             },
             "line": {
              "color": "white"
             }
            },
            "type": "table"
           }
          ]
         },
         "layout": {
          "annotationdefaults": {
           "arrowcolor": "#2a3f5f",
           "arrowhead": 0,
           "arrowwidth": 1
          },
          "autotypenumbers": "strict",
          "coloraxis": {
           "colorbar": {
            "outlinewidth": 0,
            "ticks": ""
           }
          },
          "colorscale": {
           "diverging": [
            [
             0,
             "#8e0152"
            ],
            [
             0.1,
             "#c51b7d"
            ],
            [
             0.2,
             "#de77ae"
            ],
            [
             0.3,
             "#f1b6da"
            ],
            [
             0.4,
             "#fde0ef"
            ],
            [
             0.5,
             "#f7f7f7"
            ],
            [
             0.6,
             "#e6f5d0"
            ],
            [
             0.7,
             "#b8e186"
            ],
            [
             0.8,
             "#7fbc41"
            ],
            [
             0.9,
             "#4d9221"
            ],
            [
             1,
             "#276419"
            ]
           ],
           "sequential": [
            [
             0,
             "#0d0887"
            ],
            [
             0.1111111111111111,
             "#46039f"
            ],
            [
             0.2222222222222222,
             "#7201a8"
            ],
            [
             0.3333333333333333,
             "#9c179e"
            ],
            [
             0.4444444444444444,
             "#bd3786"
            ],
            [
             0.5555555555555556,
             "#d8576b"
            ],
            [
             0.6666666666666666,
             "#ed7953"
            ],
            [
             0.7777777777777778,
             "#fb9f3a"
            ],
            [
             0.8888888888888888,
             "#fdca26"
            ],
            [
             1,
             "#f0f921"
            ]
           ],
           "sequentialminus": [
            [
             0,
             "#0d0887"
            ],
            [
             0.1111111111111111,
             "#46039f"
            ],
            [
             0.2222222222222222,
             "#7201a8"
            ],
            [
             0.3333333333333333,
             "#9c179e"
            ],
            [
             0.4444444444444444,
             "#bd3786"
            ],
            [
             0.5555555555555556,
             "#d8576b"
            ],
            [
             0.6666666666666666,
             "#ed7953"
            ],
            [
             0.7777777777777778,
             "#fb9f3a"
            ],
            [
             0.8888888888888888,
             "#fdca26"
            ],
            [
             1,
             "#f0f921"
            ]
           ]
          },
          "colorway": [
           "#636efa",
           "#EF553B",
           "#00cc96",
           "#ab63fa",
           "#FFA15A",
           "#19d3f3",
           "#FF6692",
           "#B6E880",
           "#FF97FF",
           "#FECB52"
          ],
          "font": {
           "color": "#2a3f5f"
          },
          "geo": {
           "bgcolor": "white",
           "lakecolor": "white",
           "landcolor": "white",
           "showlakes": true,
           "showland": true,
           "subunitcolor": "#C8D4E3"
          },
          "hoverlabel": {
           "align": "left"
          },
          "hovermode": "closest",
          "mapbox": {
           "style": "light"
          },
          "paper_bgcolor": "white",
          "plot_bgcolor": "white",
          "polar": {
           "angularaxis": {
            "gridcolor": "#EBF0F8",
            "linecolor": "#EBF0F8",
            "ticks": ""
           },
           "bgcolor": "white",
           "radialaxis": {
            "gridcolor": "#EBF0F8",
            "linecolor": "#EBF0F8",
            "ticks": ""
           }
          },
          "scene": {
           "xaxis": {
            "backgroundcolor": "white",
            "gridcolor": "#DFE8F3",
            "gridwidth": 2,
            "linecolor": "#EBF0F8",
            "showbackground": true,
            "ticks": "",
            "zerolinecolor": "#EBF0F8"
           },
           "yaxis": {
            "backgroundcolor": "white",
            "gridcolor": "#DFE8F3",
            "gridwidth": 2,
            "linecolor": "#EBF0F8",
            "showbackground": true,
            "ticks": "",
            "zerolinecolor": "#EBF0F8"
           },
           "zaxis": {
            "backgroundcolor": "white",
            "gridcolor": "#DFE8F3",
            "gridwidth": 2,
            "linecolor": "#EBF0F8",
            "showbackground": true,
            "ticks": "",
            "zerolinecolor": "#EBF0F8"
           }
          },
          "shapedefaults": {
           "line": {
            "color": "#2a3f5f"
           }
          },
          "ternary": {
           "aaxis": {
            "gridcolor": "#DFE8F3",
            "linecolor": "#A2B1C6",
            "ticks": ""
           },
           "baxis": {
            "gridcolor": "#DFE8F3",
            "linecolor": "#A2B1C6",
            "ticks": ""
           },
           "bgcolor": "white",
           "caxis": {
            "gridcolor": "#DFE8F3",
            "linecolor": "#A2B1C6",
            "ticks": ""
           }
          },
          "title": {
           "x": 0.05
          },
          "xaxis": {
           "automargin": true,
           "gridcolor": "#EBF0F8",
           "linecolor": "#EBF0F8",
           "ticks": "",
           "title": {
            "standoff": 15
           },
           "zerolinecolor": "#EBF0F8",
           "zerolinewidth": 2
          },
          "yaxis": {
           "automargin": true,
           "gridcolor": "#EBF0F8",
           "linecolor": "#EBF0F8",
           "ticks": "",
           "title": {
            "standoff": 15
           },
           "zerolinecolor": "#EBF0F8",
           "zerolinewidth": 2
          }
         }
        },
        "title": {
         "text": "Distribution of Hashtags"
        },
        "xaxis": {
         "anchor": "y",
         "domain": [
          0,
          1
         ],
         "title": {
          "text": "Hashtag"
         }
        },
        "yaxis": {
         "anchor": "x",
         "domain": [
          0,
          1
         ],
         "title": {
          "text": "Count"
         }
        }
       }
      }
     },
     "metadata": {},
     "output_type": "display_data"
    }
   ],
   "source": [
    "# Create a list to store all hashtags\n",
    "all_hashtags = []\n",
    "\n",
    "# Iterate through each row in the 'Hashtags' column\n",
    "for row in data['Hashtags']:\n",
    "    hashtags = str(row).split()\n",
    "    hashtags = [tag.strip() for tag in hashtags]\n",
    "    all_hashtags.extend(hashtags)\n",
    "\n",
    "# Create a pandas DataFrame to store the hashtag distribution\n",
    "hashtag_distribution = pd.Series(all_hashtags).value_counts().reset_index()\n",
    "hashtag_distribution.columns = ['Hashtag', 'Count']\n",
    "\n",
    "fig = px.bar(hashtag_distribution, x='Hashtag', \n",
    "             y='Count', title='Distribution of Hashtags')\n",
    "fig.show()\n"
   ]
  },
  {
   "cell_type": "markdown",
   "metadata": {},
   "source": [
    "- Now let’s have a look at the distribution of likes and impressions received from the presence of each hashtag on the post"
   ]
  },
  {
   "cell_type": "code",
   "execution_count": 20,
   "metadata": {},
   "outputs": [
    {
     "data": {
      "application/vnd.plotly.v1+json": {
       "config": {
        "plotlyServerURL": "https://plot.ly"
       },
       "data": [
        {
         "alignmentgroup": "True",
         "hovertemplate": "Hashtag=%{x}<br>Likes=%{y}<extra></extra>",
         "legendgroup": "",
         "marker": {
          "color": "#636efa",
          "pattern": {
           "shape": ""
          }
         },
         "name": "",
         "offsetgroup": "",
         "orientation": "v",
         "showlegend": false,
         "textposition": "auto",
         "type": "bar",
         "x": [
          "#finance",
          "#money",
          "#business",
          "#investing",
          "#investment",
          "#trading",
          "#stockmarket",
          "#data",
          "#datascience",
          "#dataanalysis",
          "#dataanalytics",
          "#datascientist",
          "#machinelearning",
          "#python",
          "#pythonprogramming",
          "#pythonprojects",
          "#pythoncode",
          "#artificialintelligence",
          "#ai",
          "#dataanalyst",
          "#amankharwal",
          "#thecleverprogrammer",
          "#healthcare",
          "#health",
          "#covid",
          "#deeplearning",
          "#machinelearningprojects",
          "#datascienceprojects",
          "#machinelearningmodels",
          "#pythonlearning",
          "#pythondeveloper",
          "#pythoncoding",
          "#pythonprogrammer",
          "#datavisualization",
          "#bigdata",
          "#dataviz",
          "#analytics",
          "#technology",
          "#programming",
          "#statistics",
          "#coding",
          "#businessintelligence",
          "#datamining",
          "#tech",
          "#computerscience",
          "#tableau",
          "#database",
          "#algorithm",
          "#algorithms",
          "#machinelearningalgorithms",
          "#ml",
          "#softskills",
          "#stocks",
          "#forex",
          "#candlestick",
          "#candlestickcharts",
          "#pythonbooks",
          "#bookstagram",
          "#powerbi",
          "#dataanalysisprojects",
          "#businessanalytics",
          "#neuralnetwork",
          "#neuralnetworks",
          "#tensorflow",
          "#artificialintelligenceai",
          "#alexnet",
          "#sentimentanalysis",
          "#sentiment",
          "#nlp",
          "#naturallanguageprocessing",
          "#timeseries",
          "#time",
          "#timeseriesanalysis",
          "#iot",
          "#analysis",
          "#timeseriesmalaysia",
          "#career",
          "#job",
          "#jobs",
          "#jobsearch",
          "#education",
          "#success",
          "#careergoals",
          "#motivation",
          "#work",
          "#careerdevelopment",
          "#careers",
          "#goals",
          "#resume",
          "#students",
          "#careeradvice",
          "#marketing",
          "#digitalmarketing",
          "#media",
          "#socialmedia",
          "#IT",
          "#webdevelopment",
          "#stress",
          "#stressdetection",
          "#zomato",
          "#casestudy",
          "#businessmodel",
          "#boxplots",
          "#programmer",
          "#developer",
          "#javascript",
          "#code",
          "#coder",
          "#java",
          "#html",
          "#css",
          "#webdeveloper",
          "#software",
          "#codinglife",
          "#softwaredeveloper",
          "#linux",
          "#programmingmemes",
          "#webdesign",
          "#programmers",
          "#php",
          "#programminglife",
          "#hacking",
          "#bitcoin",
          "#cryptocurrency",
          "#projects",
          "#casestudies",
          "#amazonfinds",
          "#security",
          "#cybersecurity",
          "#network",
          "#internet",
          "#cloud",
          "#innovation",
          "#google",
          "#facebook",
          "#interview",
          "#datascienceinterview",
          "#otp",
          "#otpverification",
          "#qrcodes",
          "#bigdataanalytics",
          "#recommended",
          "#recommendations",
          "#recommendationsystem",
          "#recommendation",
          "#codinginterview",
          "#flipkart",
          "#news",
          "#pythonprogram",
          "@codergallery",
          "#whatsapp",
          "#roadmap",
          "#ukraine",
          "#instagram",
          "#instagramreach",
          "#datasciencejobs",
          "#datasciencetraining",
          "#datascienceeducation",
          "#datasciencecourse",
          "#sql",
          "#mysql",
          "#python3",
          "#pythonprogramminglanguage",
          "#clustering"
         ],
         "xaxis": "x",
         "y": [
          529,
          529,
          2012,
          529,
          380,
          380,
          380,
          15077,
          16311,
          13801,
          15283,
          14703,
          16509,
          18238,
          16251,
          16818,
          14239,
          15515,
          15733,
          1845,
          20462,
          20462,
          729,
          729,
          729,
          13204,
          8458,
          8458,
          761,
          3659,
          3659,
          3659,
          3659,
          2382,
          2671,
          567,
          2001,
          3187,
          3355,
          1766,
          3129,
          728,
          728,
          2961,
          2818,
          265,
          887,
          1615,
          1615,
          2065,
          1058,
          144,
          218,
          218,
          218,
          218,
          124,
          124,
          529,
          387,
          387,
          1120,
          600,
          450,
          450,
          81,
          1057,
          1057,
          1238,
          1238,
          812,
          812,
          812,
          812,
          812,
          812,
          410,
          680,
          410,
          410,
          410,
          410,
          410,
          410,
          410,
          410,
          410,
          410,
          410,
          410,
          410,
          410,
          410,
          410,
          410,
          410,
          1456,
          302,
          302,
          328,
          328,
          328,
          76,
          878,
          878,
          878,
          878,
          878,
          878,
          878,
          878,
          878,
          1113,
          878,
          878,
          608,
          608,
          608,
          608,
          608,
          608,
          608,
          390,
          390,
          302,
          302,
          184,
          235,
          235,
          235,
          235,
          235,
          235,
          150,
          85,
          600,
          180,
          272,
          272,
          167,
          142,
          373,
          373,
          373,
          373,
          270,
          94,
          96,
          118,
          118,
          178,
          525,
          203,
          171,
          171,
          1814,
          1814,
          1814,
          1814,
          308,
          308,
          296,
          296,
          240
         ],
         "yaxis": "y"
        }
       ],
       "layout": {
        "barmode": "relative",
        "legend": {
         "tracegroupgap": 0
        },
        "template": {
         "data": {
          "bar": [
           {
            "error_x": {
             "color": "#2a3f5f"
            },
            "error_y": {
             "color": "#2a3f5f"
            },
            "marker": {
             "line": {
              "color": "white",
              "width": 0.5
             },
             "pattern": {
              "fillmode": "overlay",
              "size": 10,
              "solidity": 0.2
             }
            },
            "type": "bar"
           }
          ],
          "barpolar": [
           {
            "marker": {
             "line": {
              "color": "white",
              "width": 0.5
             },
             "pattern": {
              "fillmode": "overlay",
              "size": 10,
              "solidity": 0.2
             }
            },
            "type": "barpolar"
           }
          ],
          "carpet": [
           {
            "aaxis": {
             "endlinecolor": "#2a3f5f",
             "gridcolor": "#C8D4E3",
             "linecolor": "#C8D4E3",
             "minorgridcolor": "#C8D4E3",
             "startlinecolor": "#2a3f5f"
            },
            "baxis": {
             "endlinecolor": "#2a3f5f",
             "gridcolor": "#C8D4E3",
             "linecolor": "#C8D4E3",
             "minorgridcolor": "#C8D4E3",
             "startlinecolor": "#2a3f5f"
            },
            "type": "carpet"
           }
          ],
          "choropleth": [
           {
            "colorbar": {
             "outlinewidth": 0,
             "ticks": ""
            },
            "type": "choropleth"
           }
          ],
          "contour": [
           {
            "colorbar": {
             "outlinewidth": 0,
             "ticks": ""
            },
            "colorscale": [
             [
              0,
              "#0d0887"
             ],
             [
              0.1111111111111111,
              "#46039f"
             ],
             [
              0.2222222222222222,
              "#7201a8"
             ],
             [
              0.3333333333333333,
              "#9c179e"
             ],
             [
              0.4444444444444444,
              "#bd3786"
             ],
             [
              0.5555555555555556,
              "#d8576b"
             ],
             [
              0.6666666666666666,
              "#ed7953"
             ],
             [
              0.7777777777777778,
              "#fb9f3a"
             ],
             [
              0.8888888888888888,
              "#fdca26"
             ],
             [
              1,
              "#f0f921"
             ]
            ],
            "type": "contour"
           }
          ],
          "contourcarpet": [
           {
            "colorbar": {
             "outlinewidth": 0,
             "ticks": ""
            },
            "type": "contourcarpet"
           }
          ],
          "heatmap": [
           {
            "colorbar": {
             "outlinewidth": 0,
             "ticks": ""
            },
            "colorscale": [
             [
              0,
              "#0d0887"
             ],
             [
              0.1111111111111111,
              "#46039f"
             ],
             [
              0.2222222222222222,
              "#7201a8"
             ],
             [
              0.3333333333333333,
              "#9c179e"
             ],
             [
              0.4444444444444444,
              "#bd3786"
             ],
             [
              0.5555555555555556,
              "#d8576b"
             ],
             [
              0.6666666666666666,
              "#ed7953"
             ],
             [
              0.7777777777777778,
              "#fb9f3a"
             ],
             [
              0.8888888888888888,
              "#fdca26"
             ],
             [
              1,
              "#f0f921"
             ]
            ],
            "type": "heatmap"
           }
          ],
          "heatmapgl": [
           {
            "colorbar": {
             "outlinewidth": 0,
             "ticks": ""
            },
            "colorscale": [
             [
              0,
              "#0d0887"
             ],
             [
              0.1111111111111111,
              "#46039f"
             ],
             [
              0.2222222222222222,
              "#7201a8"
             ],
             [
              0.3333333333333333,
              "#9c179e"
             ],
             [
              0.4444444444444444,
              "#bd3786"
             ],
             [
              0.5555555555555556,
              "#d8576b"
             ],
             [
              0.6666666666666666,
              "#ed7953"
             ],
             [
              0.7777777777777778,
              "#fb9f3a"
             ],
             [
              0.8888888888888888,
              "#fdca26"
             ],
             [
              1,
              "#f0f921"
             ]
            ],
            "type": "heatmapgl"
           }
          ],
          "histogram": [
           {
            "marker": {
             "pattern": {
              "fillmode": "overlay",
              "size": 10,
              "solidity": 0.2
             }
            },
            "type": "histogram"
           }
          ],
          "histogram2d": [
           {
            "colorbar": {
             "outlinewidth": 0,
             "ticks": ""
            },
            "colorscale": [
             [
              0,
              "#0d0887"
             ],
             [
              0.1111111111111111,
              "#46039f"
             ],
             [
              0.2222222222222222,
              "#7201a8"
             ],
             [
              0.3333333333333333,
              "#9c179e"
             ],
             [
              0.4444444444444444,
              "#bd3786"
             ],
             [
              0.5555555555555556,
              "#d8576b"
             ],
             [
              0.6666666666666666,
              "#ed7953"
             ],
             [
              0.7777777777777778,
              "#fb9f3a"
             ],
             [
              0.8888888888888888,
              "#fdca26"
             ],
             [
              1,
              "#f0f921"
             ]
            ],
            "type": "histogram2d"
           }
          ],
          "histogram2dcontour": [
           {
            "colorbar": {
             "outlinewidth": 0,
             "ticks": ""
            },
            "colorscale": [
             [
              0,
              "#0d0887"
             ],
             [
              0.1111111111111111,
              "#46039f"
             ],
             [
              0.2222222222222222,
              "#7201a8"
             ],
             [
              0.3333333333333333,
              "#9c179e"
             ],
             [
              0.4444444444444444,
              "#bd3786"
             ],
             [
              0.5555555555555556,
              "#d8576b"
             ],
             [
              0.6666666666666666,
              "#ed7953"
             ],
             [
              0.7777777777777778,
              "#fb9f3a"
             ],
             [
              0.8888888888888888,
              "#fdca26"
             ],
             [
              1,
              "#f0f921"
             ]
            ],
            "type": "histogram2dcontour"
           }
          ],
          "mesh3d": [
           {
            "colorbar": {
             "outlinewidth": 0,
             "ticks": ""
            },
            "type": "mesh3d"
           }
          ],
          "parcoords": [
           {
            "line": {
             "colorbar": {
              "outlinewidth": 0,
              "ticks": ""
             }
            },
            "type": "parcoords"
           }
          ],
          "pie": [
           {
            "automargin": true,
            "type": "pie"
           }
          ],
          "scatter": [
           {
            "fillpattern": {
             "fillmode": "overlay",
             "size": 10,
             "solidity": 0.2
            },
            "type": "scatter"
           }
          ],
          "scatter3d": [
           {
            "line": {
             "colorbar": {
              "outlinewidth": 0,
              "ticks": ""
             }
            },
            "marker": {
             "colorbar": {
              "outlinewidth": 0,
              "ticks": ""
             }
            },
            "type": "scatter3d"
           }
          ],
          "scattercarpet": [
           {
            "marker": {
             "colorbar": {
              "outlinewidth": 0,
              "ticks": ""
             }
            },
            "type": "scattercarpet"
           }
          ],
          "scattergeo": [
           {
            "marker": {
             "colorbar": {
              "outlinewidth": 0,
              "ticks": ""
             }
            },
            "type": "scattergeo"
           }
          ],
          "scattergl": [
           {
            "marker": {
             "colorbar": {
              "outlinewidth": 0,
              "ticks": ""
             }
            },
            "type": "scattergl"
           }
          ],
          "scattermapbox": [
           {
            "marker": {
             "colorbar": {
              "outlinewidth": 0,
              "ticks": ""
             }
            },
            "type": "scattermapbox"
           }
          ],
          "scatterpolar": [
           {
            "marker": {
             "colorbar": {
              "outlinewidth": 0,
              "ticks": ""
             }
            },
            "type": "scatterpolar"
           }
          ],
          "scatterpolargl": [
           {
            "marker": {
             "colorbar": {
              "outlinewidth": 0,
              "ticks": ""
             }
            },
            "type": "scatterpolargl"
           }
          ],
          "scatterternary": [
           {
            "marker": {
             "colorbar": {
              "outlinewidth": 0,
              "ticks": ""
             }
            },
            "type": "scatterternary"
           }
          ],
          "surface": [
           {
            "colorbar": {
             "outlinewidth": 0,
             "ticks": ""
            },
            "colorscale": [
             [
              0,
              "#0d0887"
             ],
             [
              0.1111111111111111,
              "#46039f"
             ],
             [
              0.2222222222222222,
              "#7201a8"
             ],
             [
              0.3333333333333333,
              "#9c179e"
             ],
             [
              0.4444444444444444,
              "#bd3786"
             ],
             [
              0.5555555555555556,
              "#d8576b"
             ],
             [
              0.6666666666666666,
              "#ed7953"
             ],
             [
              0.7777777777777778,
              "#fb9f3a"
             ],
             [
              0.8888888888888888,
              "#fdca26"
             ],
             [
              1,
              "#f0f921"
             ]
            ],
            "type": "surface"
           }
          ],
          "table": [
           {
            "cells": {
             "fill": {
              "color": "#EBF0F8"
             },
             "line": {
              "color": "white"
             }
            },
            "header": {
             "fill": {
              "color": "#C8D4E3"
             },
             "line": {
              "color": "white"
             }
            },
            "type": "table"
           }
          ]
         },
         "layout": {
          "annotationdefaults": {
           "arrowcolor": "#2a3f5f",
           "arrowhead": 0,
           "arrowwidth": 1
          },
          "autotypenumbers": "strict",
          "coloraxis": {
           "colorbar": {
            "outlinewidth": 0,
            "ticks": ""
           }
          },
          "colorscale": {
           "diverging": [
            [
             0,
             "#8e0152"
            ],
            [
             0.1,
             "#c51b7d"
            ],
            [
             0.2,
             "#de77ae"
            ],
            [
             0.3,
             "#f1b6da"
            ],
            [
             0.4,
             "#fde0ef"
            ],
            [
             0.5,
             "#f7f7f7"
            ],
            [
             0.6,
             "#e6f5d0"
            ],
            [
             0.7,
             "#b8e186"
            ],
            [
             0.8,
             "#7fbc41"
            ],
            [
             0.9,
             "#4d9221"
            ],
            [
             1,
             "#276419"
            ]
           ],
           "sequential": [
            [
             0,
             "#0d0887"
            ],
            [
             0.1111111111111111,
             "#46039f"
            ],
            [
             0.2222222222222222,
             "#7201a8"
            ],
            [
             0.3333333333333333,
             "#9c179e"
            ],
            [
             0.4444444444444444,
             "#bd3786"
            ],
            [
             0.5555555555555556,
             "#d8576b"
            ],
            [
             0.6666666666666666,
             "#ed7953"
            ],
            [
             0.7777777777777778,
             "#fb9f3a"
            ],
            [
             0.8888888888888888,
             "#fdca26"
            ],
            [
             1,
             "#f0f921"
            ]
           ],
           "sequentialminus": [
            [
             0,
             "#0d0887"
            ],
            [
             0.1111111111111111,
             "#46039f"
            ],
            [
             0.2222222222222222,
             "#7201a8"
            ],
            [
             0.3333333333333333,
             "#9c179e"
            ],
            [
             0.4444444444444444,
             "#bd3786"
            ],
            [
             0.5555555555555556,
             "#d8576b"
            ],
            [
             0.6666666666666666,
             "#ed7953"
            ],
            [
             0.7777777777777778,
             "#fb9f3a"
            ],
            [
             0.8888888888888888,
             "#fdca26"
            ],
            [
             1,
             "#f0f921"
            ]
           ]
          },
          "colorway": [
           "#636efa",
           "#EF553B",
           "#00cc96",
           "#ab63fa",
           "#FFA15A",
           "#19d3f3",
           "#FF6692",
           "#B6E880",
           "#FF97FF",
           "#FECB52"
          ],
          "font": {
           "color": "#2a3f5f"
          },
          "geo": {
           "bgcolor": "white",
           "lakecolor": "white",
           "landcolor": "white",
           "showlakes": true,
           "showland": true,
           "subunitcolor": "#C8D4E3"
          },
          "hoverlabel": {
           "align": "left"
          },
          "hovermode": "closest",
          "mapbox": {
           "style": "light"
          },
          "paper_bgcolor": "white",
          "plot_bgcolor": "white",
          "polar": {
           "angularaxis": {
            "gridcolor": "#EBF0F8",
            "linecolor": "#EBF0F8",
            "ticks": ""
           },
           "bgcolor": "white",
           "radialaxis": {
            "gridcolor": "#EBF0F8",
            "linecolor": "#EBF0F8",
            "ticks": ""
           }
          },
          "scene": {
           "xaxis": {
            "backgroundcolor": "white",
            "gridcolor": "#DFE8F3",
            "gridwidth": 2,
            "linecolor": "#EBF0F8",
            "showbackground": true,
            "ticks": "",
            "zerolinecolor": "#EBF0F8"
           },
           "yaxis": {
            "backgroundcolor": "white",
            "gridcolor": "#DFE8F3",
            "gridwidth": 2,
            "linecolor": "#EBF0F8",
            "showbackground": true,
            "ticks": "",
            "zerolinecolor": "#EBF0F8"
           },
           "zaxis": {
            "backgroundcolor": "white",
            "gridcolor": "#DFE8F3",
            "gridwidth": 2,
            "linecolor": "#EBF0F8",
            "showbackground": true,
            "ticks": "",
            "zerolinecolor": "#EBF0F8"
           }
          },
          "shapedefaults": {
           "line": {
            "color": "#2a3f5f"
           }
          },
          "ternary": {
           "aaxis": {
            "gridcolor": "#DFE8F3",
            "linecolor": "#A2B1C6",
            "ticks": ""
           },
           "baxis": {
            "gridcolor": "#DFE8F3",
            "linecolor": "#A2B1C6",
            "ticks": ""
           },
           "bgcolor": "white",
           "caxis": {
            "gridcolor": "#DFE8F3",
            "linecolor": "#A2B1C6",
            "ticks": ""
           }
          },
          "title": {
           "x": 0.05
          },
          "xaxis": {
           "automargin": true,
           "gridcolor": "#EBF0F8",
           "linecolor": "#EBF0F8",
           "ticks": "",
           "title": {
            "standoff": 15
           },
           "zerolinecolor": "#EBF0F8",
           "zerolinewidth": 2
          },
          "yaxis": {
           "automargin": true,
           "gridcolor": "#EBF0F8",
           "linecolor": "#EBF0F8",
           "ticks": "",
           "title": {
            "standoff": 15
           },
           "zerolinecolor": "#EBF0F8",
           "zerolinewidth": 2
          }
         }
        },
        "title": {
         "text": "Likes Distribution for Each Hashtag"
        },
        "xaxis": {
         "anchor": "y",
         "domain": [
          0,
          1
         ],
         "title": {
          "text": "Hashtag"
         }
        },
        "yaxis": {
         "anchor": "x",
         "domain": [
          0,
          1
         ],
         "title": {
          "text": "Likes"
         }
        }
       }
      }
     },
     "metadata": {},
     "output_type": "display_data"
    },
    {
     "data": {
      "application/vnd.plotly.v1+json": {
       "config": {
        "plotlyServerURL": "https://plot.ly"
       },
       "data": [
        {
         "alignmentgroup": "True",
         "hovertemplate": "Hashtag=%{x}<br>Impressions=%{y}<extra></extra>",
         "legendgroup": "",
         "marker": {
          "color": "#636efa",
          "pattern": {
           "shape": ""
          }
         },
         "name": "",
         "offsetgroup": "",
         "orientation": "v",
         "showlegend": false,
         "textposition": "auto",
         "type": "bar",
         "x": [
          "#finance",
          "#money",
          "#business",
          "#investing",
          "#investment",
          "#trading",
          "#stockmarket",
          "#data",
          "#datascience",
          "#dataanalysis",
          "#dataanalytics",
          "#datascientist",
          "#machinelearning",
          "#python",
          "#pythonprogramming",
          "#pythonprojects",
          "#pythoncode",
          "#artificialintelligence",
          "#ai",
          "#dataanalyst",
          "#amankharwal",
          "#thecleverprogrammer",
          "#healthcare",
          "#health",
          "#covid",
          "#deeplearning",
          "#machinelearningprojects",
          "#datascienceprojects",
          "#machinelearningmodels",
          "#pythonlearning",
          "#pythondeveloper",
          "#pythoncoding",
          "#pythonprogrammer",
          "#datavisualization",
          "#bigdata",
          "#dataviz",
          "#analytics",
          "#technology",
          "#programming",
          "#statistics",
          "#coding",
          "#businessintelligence",
          "#datamining",
          "#tech",
          "#computerscience",
          "#tableau",
          "#database",
          "#algorithm",
          "#algorithms",
          "#machinelearningalgorithms",
          "#ml",
          "#softskills",
          "#stocks",
          "#forex",
          "#candlestick",
          "#candlestickcharts",
          "#pythonbooks",
          "#bookstagram",
          "#powerbi",
          "#dataanalysisprojects",
          "#businessanalytics",
          "#neuralnetwork",
          "#neuralnetworks",
          "#tensorflow",
          "#artificialintelligenceai",
          "#alexnet",
          "#sentimentanalysis",
          "#sentiment",
          "#nlp",
          "#naturallanguageprocessing",
          "#timeseries",
          "#time",
          "#timeseriesanalysis",
          "#iot",
          "#analysis",
          "#timeseriesmalaysia",
          "#career",
          "#job",
          "#jobs",
          "#jobsearch",
          "#education",
          "#success",
          "#careergoals",
          "#motivation",
          "#work",
          "#careerdevelopment",
          "#careers",
          "#goals",
          "#resume",
          "#students",
          "#careeradvice",
          "#marketing",
          "#digitalmarketing",
          "#media",
          "#socialmedia",
          "#IT",
          "#webdevelopment",
          "#stress",
          "#stressdetection",
          "#zomato",
          "#casestudy",
          "#businessmodel",
          "#boxplots",
          "#programmer",
          "#developer",
          "#javascript",
          "#code",
          "#coder",
          "#java",
          "#html",
          "#css",
          "#webdeveloper",
          "#software",
          "#codinglife",
          "#softwaredeveloper",
          "#linux",
          "#programmingmemes",
          "#webdesign",
          "#programmers",
          "#php",
          "#programminglife",
          "#hacking",
          "#bitcoin",
          "#cryptocurrency",
          "#projects",
          "#casestudies",
          "#amazonfinds",
          "#security",
          "#cybersecurity",
          "#network",
          "#internet",
          "#cloud",
          "#innovation",
          "#google",
          "#facebook",
          "#interview",
          "#datascienceinterview",
          "#otp",
          "#otpverification",
          "#qrcodes",
          "#bigdataanalytics",
          "#recommended",
          "#recommendations",
          "#recommendationsystem",
          "#recommendation",
          "#codinginterview",
          "#flipkart",
          "#news",
          "#pythonprogram",
          "@codergallery",
          "#whatsapp",
          "#roadmap",
          "#ukraine",
          "#instagram",
          "#instagramreach",
          "#datasciencejobs",
          "#datasciencetraining",
          "#datascienceeducation",
          "#datasciencecourse",
          "#sql",
          "#mysql",
          "#python3",
          "#pythonprogramminglanguage",
          "#clustering"
         ],
         "xaxis": "x",
         "y": [
          14224,
          14224,
          51387,
          14224,
          9757,
          9757,
          9757,
          484761,
          524640,
          457923,
          497787,
          483746,
          532627,
          578243,
          525346,
          567608,
          470276,
          506190,
          512027,
          47051,
          672166,
          672166,
          18292,
          18292,
          18292,
          445317,
          297427,
          297427,
          27201,
          135901,
          135901,
          135901,
          135901,
          64864,
          70884,
          15438,
          53464,
          85523,
          90132,
          47283,
          83264,
          17971,
          17971,
          78655,
          75019,
          6506,
          22088,
          57289,
          57289,
          71529,
          30316,
          3884,
          5837,
          5837,
          5837,
          5837,
          3541,
          3541,
          13389,
          9401,
          9401,
          31660,
          18529,
          14240,
          14240,
          2218,
          34102,
          34102,
          42567,
          42567,
          22444,
          22444,
          22444,
          22444,
          22444,
          22444,
          8004,
          14856,
          8004,
          8004,
          8004,
          8004,
          8004,
          8004,
          8004,
          8004,
          8004,
          8004,
          8004,
          8004,
          8004,
          8004,
          8004,
          8004,
          8004,
          8004,
          35456,
          12336,
          12336,
          10844,
          10844,
          10844,
          2064,
          22843,
          22843,
          22843,
          22843,
          22843,
          22843,
          22843,
          22843,
          22843,
          29024,
          22843,
          22843,
          15991,
          15991,
          15991,
          15991,
          15991,
          15991,
          15991,
          14121,
          14121,
          7848,
          7848,
          6030,
          6181,
          6181,
          6181,
          6181,
          6181,
          6181,
          3854,
          2327,
          16139,
          4998,
          8030,
          8030,
          3786,
          3988,
          10036,
          10036,
          10036,
          10036,
          6852,
          3601,
          3525,
          2957,
          2957,
          5538,
          10682,
          8001,
          7231,
          7231,
          86691,
          86691,
          86691,
          86691,
          17713,
          17713,
          15991,
          15991,
          9870
         ],
         "yaxis": "y"
        }
       ],
       "layout": {
        "barmode": "relative",
        "legend": {
         "tracegroupgap": 0
        },
        "template": {
         "data": {
          "bar": [
           {
            "error_x": {
             "color": "#2a3f5f"
            },
            "error_y": {
             "color": "#2a3f5f"
            },
            "marker": {
             "line": {
              "color": "white",
              "width": 0.5
             },
             "pattern": {
              "fillmode": "overlay",
              "size": 10,
              "solidity": 0.2
             }
            },
            "type": "bar"
           }
          ],
          "barpolar": [
           {
            "marker": {
             "line": {
              "color": "white",
              "width": 0.5
             },
             "pattern": {
              "fillmode": "overlay",
              "size": 10,
              "solidity": 0.2
             }
            },
            "type": "barpolar"
           }
          ],
          "carpet": [
           {
            "aaxis": {
             "endlinecolor": "#2a3f5f",
             "gridcolor": "#C8D4E3",
             "linecolor": "#C8D4E3",
             "minorgridcolor": "#C8D4E3",
             "startlinecolor": "#2a3f5f"
            },
            "baxis": {
             "endlinecolor": "#2a3f5f",
             "gridcolor": "#C8D4E3",
             "linecolor": "#C8D4E3",
             "minorgridcolor": "#C8D4E3",
             "startlinecolor": "#2a3f5f"
            },
            "type": "carpet"
           }
          ],
          "choropleth": [
           {
            "colorbar": {
             "outlinewidth": 0,
             "ticks": ""
            },
            "type": "choropleth"
           }
          ],
          "contour": [
           {
            "colorbar": {
             "outlinewidth": 0,
             "ticks": ""
            },
            "colorscale": [
             [
              0,
              "#0d0887"
             ],
             [
              0.1111111111111111,
              "#46039f"
             ],
             [
              0.2222222222222222,
              "#7201a8"
             ],
             [
              0.3333333333333333,
              "#9c179e"
             ],
             [
              0.4444444444444444,
              "#bd3786"
             ],
             [
              0.5555555555555556,
              "#d8576b"
             ],
             [
              0.6666666666666666,
              "#ed7953"
             ],
             [
              0.7777777777777778,
              "#fb9f3a"
             ],
             [
              0.8888888888888888,
              "#fdca26"
             ],
             [
              1,
              "#f0f921"
             ]
            ],
            "type": "contour"
           }
          ],
          "contourcarpet": [
           {
            "colorbar": {
             "outlinewidth": 0,
             "ticks": ""
            },
            "type": "contourcarpet"
           }
          ],
          "heatmap": [
           {
            "colorbar": {
             "outlinewidth": 0,
             "ticks": ""
            },
            "colorscale": [
             [
              0,
              "#0d0887"
             ],
             [
              0.1111111111111111,
              "#46039f"
             ],
             [
              0.2222222222222222,
              "#7201a8"
             ],
             [
              0.3333333333333333,
              "#9c179e"
             ],
             [
              0.4444444444444444,
              "#bd3786"
             ],
             [
              0.5555555555555556,
              "#d8576b"
             ],
             [
              0.6666666666666666,
              "#ed7953"
             ],
             [
              0.7777777777777778,
              "#fb9f3a"
             ],
             [
              0.8888888888888888,
              "#fdca26"
             ],
             [
              1,
              "#f0f921"
             ]
            ],
            "type": "heatmap"
           }
          ],
          "heatmapgl": [
           {
            "colorbar": {
             "outlinewidth": 0,
             "ticks": ""
            },
            "colorscale": [
             [
              0,
              "#0d0887"
             ],
             [
              0.1111111111111111,
              "#46039f"
             ],
             [
              0.2222222222222222,
              "#7201a8"
             ],
             [
              0.3333333333333333,
              "#9c179e"
             ],
             [
              0.4444444444444444,
              "#bd3786"
             ],
             [
              0.5555555555555556,
              "#d8576b"
             ],
             [
              0.6666666666666666,
              "#ed7953"
             ],
             [
              0.7777777777777778,
              "#fb9f3a"
             ],
             [
              0.8888888888888888,
              "#fdca26"
             ],
             [
              1,
              "#f0f921"
             ]
            ],
            "type": "heatmapgl"
           }
          ],
          "histogram": [
           {
            "marker": {
             "pattern": {
              "fillmode": "overlay",
              "size": 10,
              "solidity": 0.2
             }
            },
            "type": "histogram"
           }
          ],
          "histogram2d": [
           {
            "colorbar": {
             "outlinewidth": 0,
             "ticks": ""
            },
            "colorscale": [
             [
              0,
              "#0d0887"
             ],
             [
              0.1111111111111111,
              "#46039f"
             ],
             [
              0.2222222222222222,
              "#7201a8"
             ],
             [
              0.3333333333333333,
              "#9c179e"
             ],
             [
              0.4444444444444444,
              "#bd3786"
             ],
             [
              0.5555555555555556,
              "#d8576b"
             ],
             [
              0.6666666666666666,
              "#ed7953"
             ],
             [
              0.7777777777777778,
              "#fb9f3a"
             ],
             [
              0.8888888888888888,
              "#fdca26"
             ],
             [
              1,
              "#f0f921"
             ]
            ],
            "type": "histogram2d"
           }
          ],
          "histogram2dcontour": [
           {
            "colorbar": {
             "outlinewidth": 0,
             "ticks": ""
            },
            "colorscale": [
             [
              0,
              "#0d0887"
             ],
             [
              0.1111111111111111,
              "#46039f"
             ],
             [
              0.2222222222222222,
              "#7201a8"
             ],
             [
              0.3333333333333333,
              "#9c179e"
             ],
             [
              0.4444444444444444,
              "#bd3786"
             ],
             [
              0.5555555555555556,
              "#d8576b"
             ],
             [
              0.6666666666666666,
              "#ed7953"
             ],
             [
              0.7777777777777778,
              "#fb9f3a"
             ],
             [
              0.8888888888888888,
              "#fdca26"
             ],
             [
              1,
              "#f0f921"
             ]
            ],
            "type": "histogram2dcontour"
           }
          ],
          "mesh3d": [
           {
            "colorbar": {
             "outlinewidth": 0,
             "ticks": ""
            },
            "type": "mesh3d"
           }
          ],
          "parcoords": [
           {
            "line": {
             "colorbar": {
              "outlinewidth": 0,
              "ticks": ""
             }
            },
            "type": "parcoords"
           }
          ],
          "pie": [
           {
            "automargin": true,
            "type": "pie"
           }
          ],
          "scatter": [
           {
            "fillpattern": {
             "fillmode": "overlay",
             "size": 10,
             "solidity": 0.2
            },
            "type": "scatter"
           }
          ],
          "scatter3d": [
           {
            "line": {
             "colorbar": {
              "outlinewidth": 0,
              "ticks": ""
             }
            },
            "marker": {
             "colorbar": {
              "outlinewidth": 0,
              "ticks": ""
             }
            },
            "type": "scatter3d"
           }
          ],
          "scattercarpet": [
           {
            "marker": {
             "colorbar": {
              "outlinewidth": 0,
              "ticks": ""
             }
            },
            "type": "scattercarpet"
           }
          ],
          "scattergeo": [
           {
            "marker": {
             "colorbar": {
              "outlinewidth": 0,
              "ticks": ""
             }
            },
            "type": "scattergeo"
           }
          ],
          "scattergl": [
           {
            "marker": {
             "colorbar": {
              "outlinewidth": 0,
              "ticks": ""
             }
            },
            "type": "scattergl"
           }
          ],
          "scattermapbox": [
           {
            "marker": {
             "colorbar": {
              "outlinewidth": 0,
              "ticks": ""
             }
            },
            "type": "scattermapbox"
           }
          ],
          "scatterpolar": [
           {
            "marker": {
             "colorbar": {
              "outlinewidth": 0,
              "ticks": ""
             }
            },
            "type": "scatterpolar"
           }
          ],
          "scatterpolargl": [
           {
            "marker": {
             "colorbar": {
              "outlinewidth": 0,
              "ticks": ""
             }
            },
            "type": "scatterpolargl"
           }
          ],
          "scatterternary": [
           {
            "marker": {
             "colorbar": {
              "outlinewidth": 0,
              "ticks": ""
             }
            },
            "type": "scatterternary"
           }
          ],
          "surface": [
           {
            "colorbar": {
             "outlinewidth": 0,
             "ticks": ""
            },
            "colorscale": [
             [
              0,
              "#0d0887"
             ],
             [
              0.1111111111111111,
              "#46039f"
             ],
             [
              0.2222222222222222,
              "#7201a8"
             ],
             [
              0.3333333333333333,
              "#9c179e"
             ],
             [
              0.4444444444444444,
              "#bd3786"
             ],
             [
              0.5555555555555556,
              "#d8576b"
             ],
             [
              0.6666666666666666,
              "#ed7953"
             ],
             [
              0.7777777777777778,
              "#fb9f3a"
             ],
             [
              0.8888888888888888,
              "#fdca26"
             ],
             [
              1,
              "#f0f921"
             ]
            ],
            "type": "surface"
           }
          ],
          "table": [
           {
            "cells": {
             "fill": {
              "color": "#EBF0F8"
             },
             "line": {
              "color": "white"
             }
            },
            "header": {
             "fill": {
              "color": "#C8D4E3"
             },
             "line": {
              "color": "white"
             }
            },
            "type": "table"
           }
          ]
         },
         "layout": {
          "annotationdefaults": {
           "arrowcolor": "#2a3f5f",
           "arrowhead": 0,
           "arrowwidth": 1
          },
          "autotypenumbers": "strict",
          "coloraxis": {
           "colorbar": {
            "outlinewidth": 0,
            "ticks": ""
           }
          },
          "colorscale": {
           "diverging": [
            [
             0,
             "#8e0152"
            ],
            [
             0.1,
             "#c51b7d"
            ],
            [
             0.2,
             "#de77ae"
            ],
            [
             0.3,
             "#f1b6da"
            ],
            [
             0.4,
             "#fde0ef"
            ],
            [
             0.5,
             "#f7f7f7"
            ],
            [
             0.6,
             "#e6f5d0"
            ],
            [
             0.7,
             "#b8e186"
            ],
            [
             0.8,
             "#7fbc41"
            ],
            [
             0.9,
             "#4d9221"
            ],
            [
             1,
             "#276419"
            ]
           ],
           "sequential": [
            [
             0,
             "#0d0887"
            ],
            [
             0.1111111111111111,
             "#46039f"
            ],
            [
             0.2222222222222222,
             "#7201a8"
            ],
            [
             0.3333333333333333,
             "#9c179e"
            ],
            [
             0.4444444444444444,
             "#bd3786"
            ],
            [
             0.5555555555555556,
             "#d8576b"
            ],
            [
             0.6666666666666666,
             "#ed7953"
            ],
            [
             0.7777777777777778,
             "#fb9f3a"
            ],
            [
             0.8888888888888888,
             "#fdca26"
            ],
            [
             1,
             "#f0f921"
            ]
           ],
           "sequentialminus": [
            [
             0,
             "#0d0887"
            ],
            [
             0.1111111111111111,
             "#46039f"
            ],
            [
             0.2222222222222222,
             "#7201a8"
            ],
            [
             0.3333333333333333,
             "#9c179e"
            ],
            [
             0.4444444444444444,
             "#bd3786"
            ],
            [
             0.5555555555555556,
             "#d8576b"
            ],
            [
             0.6666666666666666,
             "#ed7953"
            ],
            [
             0.7777777777777778,
             "#fb9f3a"
            ],
            [
             0.8888888888888888,
             "#fdca26"
            ],
            [
             1,
             "#f0f921"
            ]
           ]
          },
          "colorway": [
           "#636efa",
           "#EF553B",
           "#00cc96",
           "#ab63fa",
           "#FFA15A",
           "#19d3f3",
           "#FF6692",
           "#B6E880",
           "#FF97FF",
           "#FECB52"
          ],
          "font": {
           "color": "#2a3f5f"
          },
          "geo": {
           "bgcolor": "white",
           "lakecolor": "white",
           "landcolor": "white",
           "showlakes": true,
           "showland": true,
           "subunitcolor": "#C8D4E3"
          },
          "hoverlabel": {
           "align": "left"
          },
          "hovermode": "closest",
          "mapbox": {
           "style": "light"
          },
          "paper_bgcolor": "white",
          "plot_bgcolor": "white",
          "polar": {
           "angularaxis": {
            "gridcolor": "#EBF0F8",
            "linecolor": "#EBF0F8",
            "ticks": ""
           },
           "bgcolor": "white",
           "radialaxis": {
            "gridcolor": "#EBF0F8",
            "linecolor": "#EBF0F8",
            "ticks": ""
           }
          },
          "scene": {
           "xaxis": {
            "backgroundcolor": "white",
            "gridcolor": "#DFE8F3",
            "gridwidth": 2,
            "linecolor": "#EBF0F8",
            "showbackground": true,
            "ticks": "",
            "zerolinecolor": "#EBF0F8"
           },
           "yaxis": {
            "backgroundcolor": "white",
            "gridcolor": "#DFE8F3",
            "gridwidth": 2,
            "linecolor": "#EBF0F8",
            "showbackground": true,
            "ticks": "",
            "zerolinecolor": "#EBF0F8"
           },
           "zaxis": {
            "backgroundcolor": "white",
            "gridcolor": "#DFE8F3",
            "gridwidth": 2,
            "linecolor": "#EBF0F8",
            "showbackground": true,
            "ticks": "",
            "zerolinecolor": "#EBF0F8"
           }
          },
          "shapedefaults": {
           "line": {
            "color": "#2a3f5f"
           }
          },
          "ternary": {
           "aaxis": {
            "gridcolor": "#DFE8F3",
            "linecolor": "#A2B1C6",
            "ticks": ""
           },
           "baxis": {
            "gridcolor": "#DFE8F3",
            "linecolor": "#A2B1C6",
            "ticks": ""
           },
           "bgcolor": "white",
           "caxis": {
            "gridcolor": "#DFE8F3",
            "linecolor": "#A2B1C6",
            "ticks": ""
           }
          },
          "title": {
           "x": 0.05
          },
          "xaxis": {
           "automargin": true,
           "gridcolor": "#EBF0F8",
           "linecolor": "#EBF0F8",
           "ticks": "",
           "title": {
            "standoff": 15
           },
           "zerolinecolor": "#EBF0F8",
           "zerolinewidth": 2
          },
          "yaxis": {
           "automargin": true,
           "gridcolor": "#EBF0F8",
           "linecolor": "#EBF0F8",
           "ticks": "",
           "title": {
            "standoff": 15
           },
           "zerolinecolor": "#EBF0F8",
           "zerolinewidth": 2
          }
         }
        },
        "title": {
         "text": "Impressions Distribution for Each Hashtag"
        },
        "xaxis": {
         "anchor": "y",
         "domain": [
          0,
          1
         ],
         "title": {
          "text": "Hashtag"
         }
        },
        "yaxis": {
         "anchor": "x",
         "domain": [
          0,
          1
         ],
         "title": {
          "text": "Impressions"
         }
        }
       }
      }
     },
     "metadata": {},
     "output_type": "display_data"
    }
   ],
   "source": [
    "# Create a dictionary to store the likes and ipressions for each hashtag\n",
    "\n",
    "hashtag_likes = {}\n",
    "hashtag_impressions = {}\n",
    "\n",
    "# Iterate through each row in the dataset\n",
    "for index, row in data.iterrows():\n",
    "  hashtags = str(row['Hashtags']).split()\n",
    "  for hashtag  in hashtags:\n",
    "    hashtag = hashtag.strip()\n",
    "    if hashtag not in hashtag_likes:\n",
    "      hashtag_likes[hashtag] = 0\n",
    "      hashtag_impressions[hashtag] = 0\n",
    "    hashtag_likes[hashtag] += row['Likes']\n",
    "    hashtag_impressions[hashtag] += row['Impressions']\n",
    "\n",
    "# Create a DataFrame for likes distribution\n",
    "likes_distribution = pd.DataFrame(list(hashtag_likes.items()), columns=['Hashtag', 'Likes'])\n",
    "\n",
    "# Create a DataFrame for impressions distribution\n",
    "impressions_distribution = pd.DataFrame(list(hashtag_impressions.items()), columns=['Hashtag', 'Impressions'])\n",
    "\n",
    "fig_likes = px.bar(likes_distribution, x='Hashtag', y='Likes', title='Likes Distribution for Each Hashtag')\n",
    "\n",
    "fig_impressions = px.bar(impressions_distribution, x='Hashtag', y='Impressions', title='Impressions Distribution for Each Hashtag')\n",
    "\n",
    "fig_likes.show()\n",
    "fig_impressions.show()"
   ]
  }
 ],
 "metadata": {
  "kernelspec": {
   "display_name": ".venv",
   "language": "python",
   "name": "python3"
  },
  "language_info": {
   "codemirror_mode": {
    "name": "ipython",
    "version": 3
   },
   "file_extension": ".py",
   "mimetype": "text/x-python",
   "name": "python",
   "nbconvert_exporter": "python",
   "pygments_lexer": "ipython3",
   "version": "3.12.2"
  }
 },
 "nbformat": 4,
 "nbformat_minor": 2
}
