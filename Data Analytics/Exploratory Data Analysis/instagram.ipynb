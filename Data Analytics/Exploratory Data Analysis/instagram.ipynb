{
 "cells": [
  {
   "cell_type": "code",
   "execution_count": 17,
   "metadata": {},
   "outputs": [],
   "source": [
    "import pandas as pd\n",
    "import plotly.express as px\n",
    "import plotly.graph_objects as go\n",
    "import plotly.io as pio"
   ]
  },
  {
   "cell_type": "code",
   "execution_count": 2,
   "metadata": {},
   "outputs": [
    {
     "data": {
      "text/html": [
       "<div>\n",
       "<style scoped>\n",
       "    .dataframe tbody tr th:only-of-type {\n",
       "        vertical-align: middle;\n",
       "    }\n",
       "\n",
       "    .dataframe tbody tr th {\n",
       "        vertical-align: top;\n",
       "    }\n",
       "\n",
       "    .dataframe thead th {\n",
       "        text-align: right;\n",
       "    }\n",
       "</style>\n",
       "<table border=\"1\" class=\"dataframe\">\n",
       "  <thead>\n",
       "    <tr style=\"text-align: right;\">\n",
       "      <th></th>\n",
       "      <th>Impressions</th>\n",
       "      <th>From Home</th>\n",
       "      <th>From Hashtags</th>\n",
       "      <th>From Explore</th>\n",
       "      <th>From Other</th>\n",
       "      <th>Saves</th>\n",
       "      <th>Comments</th>\n",
       "      <th>Shares</th>\n",
       "      <th>Likes</th>\n",
       "      <th>Profile Visits</th>\n",
       "      <th>Follows</th>\n",
       "      <th>Caption</th>\n",
       "      <th>Hashtags</th>\n",
       "    </tr>\n",
       "  </thead>\n",
       "  <tbody>\n",
       "    <tr>\n",
       "      <th>0</th>\n",
       "      <td>3920</td>\n",
       "      <td>2586</td>\n",
       "      <td>1028</td>\n",
       "      <td>619</td>\n",
       "      <td>56</td>\n",
       "      <td>98</td>\n",
       "      <td>9</td>\n",
       "      <td>5</td>\n",
       "      <td>162</td>\n",
       "      <td>35</td>\n",
       "      <td>2</td>\n",
       "      <td>Here are some of the most important data visua...</td>\n",
       "      <td>#finance #money #business #investing #investme...</td>\n",
       "    </tr>\n",
       "    <tr>\n",
       "      <th>1</th>\n",
       "      <td>5394</td>\n",
       "      <td>2727</td>\n",
       "      <td>1838</td>\n",
       "      <td>1174</td>\n",
       "      <td>78</td>\n",
       "      <td>194</td>\n",
       "      <td>7</td>\n",
       "      <td>14</td>\n",
       "      <td>224</td>\n",
       "      <td>48</td>\n",
       "      <td>10</td>\n",
       "      <td>Here are some of the best data science project...</td>\n",
       "      <td>#healthcare #health #covid #data #datascience ...</td>\n",
       "    </tr>\n",
       "    <tr>\n",
       "      <th>2</th>\n",
       "      <td>4021</td>\n",
       "      <td>2085</td>\n",
       "      <td>1188</td>\n",
       "      <td>0</td>\n",
       "      <td>533</td>\n",
       "      <td>41</td>\n",
       "      <td>11</td>\n",
       "      <td>1</td>\n",
       "      <td>131</td>\n",
       "      <td>62</td>\n",
       "      <td>12</td>\n",
       "      <td>Learn how to train a machine learning model an...</td>\n",
       "      <td>#data #datascience #dataanalysis #dataanalytic...</td>\n",
       "    </tr>\n",
       "    <tr>\n",
       "      <th>3</th>\n",
       "      <td>4528</td>\n",
       "      <td>2700</td>\n",
       "      <td>621</td>\n",
       "      <td>932</td>\n",
       "      <td>73</td>\n",
       "      <td>172</td>\n",
       "      <td>10</td>\n",
       "      <td>7</td>\n",
       "      <td>213</td>\n",
       "      <td>23</td>\n",
       "      <td>8</td>\n",
       "      <td>Heres how you can write a Python program to d...</td>\n",
       "      <td>#python #pythonprogramming #pythonprojects #py...</td>\n",
       "    </tr>\n",
       "    <tr>\n",
       "      <th>4</th>\n",
       "      <td>2518</td>\n",
       "      <td>1704</td>\n",
       "      <td>255</td>\n",
       "      <td>279</td>\n",
       "      <td>37</td>\n",
       "      <td>96</td>\n",
       "      <td>5</td>\n",
       "      <td>4</td>\n",
       "      <td>123</td>\n",
       "      <td>8</td>\n",
       "      <td>0</td>\n",
       "      <td>Plotting annotations while visualizing your da...</td>\n",
       "      <td>#datavisualization #datascience #data #dataana...</td>\n",
       "    </tr>\n",
       "  </tbody>\n",
       "</table>\n",
       "</div>"
      ],
      "text/plain": [
       "   Impressions  From Home  From Hashtags  From Explore  From Other  Saves  \\\n",
       "0         3920       2586           1028           619          56     98   \n",
       "1         5394       2727           1838          1174          78    194   \n",
       "2         4021       2085           1188             0         533     41   \n",
       "3         4528       2700            621           932          73    172   \n",
       "4         2518       1704            255           279          37     96   \n",
       "\n",
       "   Comments  Shares  Likes  Profile Visits  Follows  \\\n",
       "0         9       5    162              35        2   \n",
       "1         7      14    224              48       10   \n",
       "2        11       1    131              62       12   \n",
       "3        10       7    213              23        8   \n",
       "4         5       4    123               8        0   \n",
       "\n",
       "                                             Caption  \\\n",
       "0  Here are some of the most important data visua...   \n",
       "1  Here are some of the best data science project...   \n",
       "2  Learn how to train a machine learning model an...   \n",
       "3  Heres how you can write a Python program to d...   \n",
       "4  Plotting annotations while visualizing your da...   \n",
       "\n",
       "                                            Hashtags  \n",
       "0  #finance #money #business #investing #investme...  \n",
       "1  #healthcare #health #covid #data #datascience ...  \n",
       "2  #data #datascience #dataanalysis #dataanalytic...  \n",
       "3  #python #pythonprogramming #pythonprojects #py...  \n",
       "4  #datavisualization #datascience #data #dataana...  "
      ]
     },
     "execution_count": 2,
     "metadata": {},
     "output_type": "execute_result"
    }
   ],
   "source": [
    "pd.set_option('display.max_columns', None)\n",
    "\n",
    "data = pd.read_csv('instagram data.csv', encoding='latin-1')\n",
    "\n",
    "data.head()"
   ]
  },
  {
   "cell_type": "code",
   "execution_count": 3,
   "metadata": {},
   "outputs": [
    {
     "data": {
      "text/plain": [
       "Index(['Impressions', 'From Home', 'From Hashtags', 'From Explore',\n",
       "       'From Other', 'Saves', 'Comments', 'Shares', 'Likes', 'Profile Visits',\n",
       "       'Follows', 'Caption', 'Hashtags'],\n",
       "      dtype='object')"
      ]
     },
     "execution_count": 3,
     "metadata": {},
     "output_type": "execute_result"
    }
   ],
   "source": [
    "# Let's check what the columns of the data include\n",
    "\n",
    "data.columns"
   ]
  },
  {
   "cell_type": "code",
   "execution_count": 4,
   "metadata": {},
   "outputs": [
    {
     "name": "stdout",
     "output_type": "stream",
     "text": [
      "<class 'pandas.core.frame.DataFrame'>\n",
      "RangeIndex: 119 entries, 0 to 118\n",
      "Data columns (total 13 columns):\n",
      " #   Column          Non-Null Count  Dtype \n",
      "---  ------          --------------  ----- \n",
      " 0   Impressions     119 non-null    int64 \n",
      " 1   From Home       119 non-null    int64 \n",
      " 2   From Hashtags   119 non-null    int64 \n",
      " 3   From Explore    119 non-null    int64 \n",
      " 4   From Other      119 non-null    int64 \n",
      " 5   Saves           119 non-null    int64 \n",
      " 6   Comments        119 non-null    int64 \n",
      " 7   Shares          119 non-null    int64 \n",
      " 8   Likes           119 non-null    int64 \n",
      " 9   Profile Visits  119 non-null    int64 \n",
      " 10  Follows         119 non-null    int64 \n",
      " 11  Caption         119 non-null    object\n",
      " 12  Hashtags        119 non-null    object\n",
      "dtypes: int64(11), object(2)\n",
      "memory usage: 12.2+ KB\n"
     ]
    }
   ],
   "source": [
    "# Now let's check the column information\n",
    "\n",
    "data.info()"
   ]
  },
  {
   "cell_type": "code",
   "execution_count": 5,
   "metadata": {},
   "outputs": [
    {
     "data": {
      "text/html": [
       "<div>\n",
       "<style scoped>\n",
       "    .dataframe tbody tr th:only-of-type {\n",
       "        vertical-align: middle;\n",
       "    }\n",
       "\n",
       "    .dataframe tbody tr th {\n",
       "        vertical-align: top;\n",
       "    }\n",
       "\n",
       "    .dataframe thead th {\n",
       "        text-align: right;\n",
       "    }\n",
       "</style>\n",
       "<table border=\"1\" class=\"dataframe\">\n",
       "  <thead>\n",
       "    <tr style=\"text-align: right;\">\n",
       "      <th></th>\n",
       "      <th>Impressions</th>\n",
       "      <th>From Home</th>\n",
       "      <th>From Hashtags</th>\n",
       "      <th>From Explore</th>\n",
       "      <th>From Other</th>\n",
       "      <th>Saves</th>\n",
       "      <th>Comments</th>\n",
       "      <th>Shares</th>\n",
       "      <th>Likes</th>\n",
       "      <th>Profile Visits</th>\n",
       "      <th>Follows</th>\n",
       "    </tr>\n",
       "  </thead>\n",
       "  <tbody>\n",
       "    <tr>\n",
       "      <th>count</th>\n",
       "      <td>119.000000</td>\n",
       "      <td>119.000000</td>\n",
       "      <td>119.000000</td>\n",
       "      <td>119.000000</td>\n",
       "      <td>119.000000</td>\n",
       "      <td>119.000000</td>\n",
       "      <td>119.000000</td>\n",
       "      <td>119.000000</td>\n",
       "      <td>119.000000</td>\n",
       "      <td>119.000000</td>\n",
       "      <td>119.000000</td>\n",
       "    </tr>\n",
       "    <tr>\n",
       "      <th>mean</th>\n",
       "      <td>5703.991597</td>\n",
       "      <td>2475.789916</td>\n",
       "      <td>1887.512605</td>\n",
       "      <td>1078.100840</td>\n",
       "      <td>171.092437</td>\n",
       "      <td>153.310924</td>\n",
       "      <td>6.663866</td>\n",
       "      <td>9.361345</td>\n",
       "      <td>173.781513</td>\n",
       "      <td>50.621849</td>\n",
       "      <td>20.756303</td>\n",
       "    </tr>\n",
       "    <tr>\n",
       "      <th>std</th>\n",
       "      <td>4843.780105</td>\n",
       "      <td>1489.386348</td>\n",
       "      <td>1884.361443</td>\n",
       "      <td>2613.026132</td>\n",
       "      <td>289.431031</td>\n",
       "      <td>156.317731</td>\n",
       "      <td>3.544576</td>\n",
       "      <td>10.089205</td>\n",
       "      <td>82.378947</td>\n",
       "      <td>87.088402</td>\n",
       "      <td>40.921580</td>\n",
       "    </tr>\n",
       "    <tr>\n",
       "      <th>min</th>\n",
       "      <td>1941.000000</td>\n",
       "      <td>1133.000000</td>\n",
       "      <td>116.000000</td>\n",
       "      <td>0.000000</td>\n",
       "      <td>9.000000</td>\n",
       "      <td>22.000000</td>\n",
       "      <td>0.000000</td>\n",
       "      <td>0.000000</td>\n",
       "      <td>72.000000</td>\n",
       "      <td>4.000000</td>\n",
       "      <td>0.000000</td>\n",
       "    </tr>\n",
       "    <tr>\n",
       "      <th>25%</th>\n",
       "      <td>3467.000000</td>\n",
       "      <td>1945.000000</td>\n",
       "      <td>726.000000</td>\n",
       "      <td>157.500000</td>\n",
       "      <td>38.000000</td>\n",
       "      <td>65.000000</td>\n",
       "      <td>4.000000</td>\n",
       "      <td>3.000000</td>\n",
       "      <td>121.500000</td>\n",
       "      <td>15.000000</td>\n",
       "      <td>4.000000</td>\n",
       "    </tr>\n",
       "    <tr>\n",
       "      <th>50%</th>\n",
       "      <td>4289.000000</td>\n",
       "      <td>2207.000000</td>\n",
       "      <td>1278.000000</td>\n",
       "      <td>326.000000</td>\n",
       "      <td>74.000000</td>\n",
       "      <td>109.000000</td>\n",
       "      <td>6.000000</td>\n",
       "      <td>6.000000</td>\n",
       "      <td>151.000000</td>\n",
       "      <td>23.000000</td>\n",
       "      <td>8.000000</td>\n",
       "    </tr>\n",
       "    <tr>\n",
       "      <th>75%</th>\n",
       "      <td>6138.000000</td>\n",
       "      <td>2602.500000</td>\n",
       "      <td>2363.500000</td>\n",
       "      <td>689.500000</td>\n",
       "      <td>196.000000</td>\n",
       "      <td>169.000000</td>\n",
       "      <td>8.000000</td>\n",
       "      <td>13.500000</td>\n",
       "      <td>204.000000</td>\n",
       "      <td>42.000000</td>\n",
       "      <td>18.000000</td>\n",
       "    </tr>\n",
       "    <tr>\n",
       "      <th>max</th>\n",
       "      <td>36919.000000</td>\n",
       "      <td>13473.000000</td>\n",
       "      <td>11817.000000</td>\n",
       "      <td>17414.000000</td>\n",
       "      <td>2547.000000</td>\n",
       "      <td>1095.000000</td>\n",
       "      <td>19.000000</td>\n",
       "      <td>75.000000</td>\n",
       "      <td>549.000000</td>\n",
       "      <td>611.000000</td>\n",
       "      <td>260.000000</td>\n",
       "    </tr>\n",
       "  </tbody>\n",
       "</table>\n",
       "</div>"
      ],
      "text/plain": [
       "        Impressions     From Home  From Hashtags  From Explore   From Other  \\\n",
       "count    119.000000    119.000000     119.000000    119.000000   119.000000   \n",
       "mean    5703.991597   2475.789916    1887.512605   1078.100840   171.092437   \n",
       "std     4843.780105   1489.386348    1884.361443   2613.026132   289.431031   \n",
       "min     1941.000000   1133.000000     116.000000      0.000000     9.000000   \n",
       "25%     3467.000000   1945.000000     726.000000    157.500000    38.000000   \n",
       "50%     4289.000000   2207.000000    1278.000000    326.000000    74.000000   \n",
       "75%     6138.000000   2602.500000    2363.500000    689.500000   196.000000   \n",
       "max    36919.000000  13473.000000   11817.000000  17414.000000  2547.000000   \n",
       "\n",
       "             Saves    Comments      Shares       Likes  Profile Visits  \\\n",
       "count   119.000000  119.000000  119.000000  119.000000      119.000000   \n",
       "mean    153.310924    6.663866    9.361345  173.781513       50.621849   \n",
       "std     156.317731    3.544576   10.089205   82.378947       87.088402   \n",
       "min      22.000000    0.000000    0.000000   72.000000        4.000000   \n",
       "25%      65.000000    4.000000    3.000000  121.500000       15.000000   \n",
       "50%     109.000000    6.000000    6.000000  151.000000       23.000000   \n",
       "75%     169.000000    8.000000   13.500000  204.000000       42.000000   \n",
       "max    1095.000000   19.000000   75.000000  549.000000      611.000000   \n",
       "\n",
       "          Follows  \n",
       "count  119.000000  \n",
       "mean    20.756303  \n",
       "std     40.921580  \n",
       "min      0.000000  \n",
       "25%      4.000000  \n",
       "50%      8.000000  \n",
       "75%     18.000000  \n",
       "max    260.000000  "
      ]
     },
     "execution_count": 5,
     "metadata": {},
     "output_type": "execute_result"
    }
   ],
   "source": [
    "# Now let's look at the descriptive statistics of the data\n",
    "\n",
    "data.describe() "
   ]
  },
  {
   "cell_type": "markdown",
   "metadata": {},
   "source": [
    "- Let's look if our data have any missing values"
   ]
  },
  {
   "cell_type": "code",
   "execution_count": 6,
   "metadata": {},
   "outputs": [
    {
     "data": {
      "text/plain": [
       "Impressions       0\n",
       "From Home         0\n",
       "From Hashtags     0\n",
       "From Explore      0\n",
       "From Other        0\n",
       "Saves             0\n",
       "Comments          0\n",
       "Shares            0\n",
       "Likes             0\n",
       "Profile Visits    0\n",
       "Follows           0\n",
       "Caption           0\n",
       "Hashtags          0\n",
       "dtype: int64"
      ]
     },
     "execution_count": 6,
     "metadata": {},
     "output_type": "execute_result"
    }
   ],
   "source": [
    "data.isnull().sum()"
   ]
  },
  {
   "cell_type": "markdown",
   "metadata": {},
   "source": [
    "- let’s have a look at the distribution of the Impressions"
   ]
  },
  {
   "cell_type": "code",
   "execution_count": 21,
   "metadata": {},
   "outputs": [
    {
     "data": {
      "application/vnd.plotly.v1+json": {
       "config": {
        "plotlyServerURL": "https://plot.ly"
       },
       "data": [
        {
         "alignmentgroup": "True",
         "bingroup": "x",
         "hovertemplate": "Impressions=%{x}<br>count=%{y}<extra></extra>",
         "legendgroup": "",
         "marker": {
          "color": "#636efa",
          "pattern": {
           "shape": ""
          }
         },
         "name": "",
         "nbinsx": 10,
         "offsetgroup": "",
         "orientation": "v",
         "showlegend": false,
         "type": "histogram",
         "x": [
          3920,
          5394,
          4021,
          4528,
          2518,
          3884,
          2621,
          3541,
          3749,
          4115,
          2218,
          3234,
          4344,
          3216,
          9453,
          5055,
          4002,
          3169,
          6168,
          2407,
          2064,
          3973,
          7281,
          3052,
          4628,
          4082,
          5394,
          2766,
          3924,
          3015,
          6666,
          3854,
          4355,
          4343,
          6108,
          2523,
          2327,
          3990,
          2191,
          1941,
          16062,
          4998,
          4289,
          3880,
          3786,
          4298,
          3630,
          2826,
          7407,
          10386,
          2998,
          7018,
          2941,
          6432,
          10667,
          3988,
          4978,
          3388,
          4467,
          3246,
          5072,
          6339,
          4239,
          3454,
          7571,
          3333,
          3818,
          10933,
          5058,
          3601,
          3480,
          3525,
          3606,
          5542,
          6559,
          3623,
          10493,
          4446,
          2957,
          5538,
          4681,
          5273,
          5055,
          4002,
          3169,
          6168,
          2407,
          3630,
          2826,
          7407,
          10386,
          2998,
          3052,
          4628,
          4082,
          5394,
          2766,
          3924,
          3015,
          5409,
          5323,
          8001,
          4150,
          4609,
          6348,
          11068,
          7231,
          17396,
          6814,
          17713,
          5563,
          4842,
          11149,
          10206,
          13700,
          5731,
          4139,
          32695,
          36919
         ],
         "xaxis": "x",
         "yaxis": "y"
        }
       ],
       "layout": {
        "barmode": "relative",
        "legend": {
         "tracegroupgap": 0
        },
        "template": {
         "data": {
          "bar": [
           {
            "error_x": {
             "color": "#2a3f5f"
            },
            "error_y": {
             "color": "#2a3f5f"
            },
            "marker": {
             "line": {
              "color": "white",
              "width": 0.5
             },
             "pattern": {
              "fillmode": "overlay",
              "size": 10,
              "solidity": 0.2
             }
            },
            "type": "bar"
           }
          ],
          "barpolar": [
           {
            "marker": {
             "line": {
              "color": "white",
              "width": 0.5
             },
             "pattern": {
              "fillmode": "overlay",
              "size": 10,
              "solidity": 0.2
             }
            },
            "type": "barpolar"
           }
          ],
          "carpet": [
           {
            "aaxis": {
             "endlinecolor": "#2a3f5f",
             "gridcolor": "#C8D4E3",
             "linecolor": "#C8D4E3",
             "minorgridcolor": "#C8D4E3",
             "startlinecolor": "#2a3f5f"
            },
            "baxis": {
             "endlinecolor": "#2a3f5f",
             "gridcolor": "#C8D4E3",
             "linecolor": "#C8D4E3",
             "minorgridcolor": "#C8D4E3",
             "startlinecolor": "#2a3f5f"
            },
            "type": "carpet"
           }
          ],
          "choropleth": [
           {
            "colorbar": {
             "outlinewidth": 0,
             "ticks": ""
            },
            "type": "choropleth"
           }
          ],
          "contour": [
           {
            "colorbar": {
             "outlinewidth": 0,
             "ticks": ""
            },
            "colorscale": [
             [
              0,
              "#0d0887"
             ],
             [
              0.1111111111111111,
              "#46039f"
             ],
             [
              0.2222222222222222,
              "#7201a8"
             ],
             [
              0.3333333333333333,
              "#9c179e"
             ],
             [
              0.4444444444444444,
              "#bd3786"
             ],
             [
              0.5555555555555556,
              "#d8576b"
             ],
             [
              0.6666666666666666,
              "#ed7953"
             ],
             [
              0.7777777777777778,
              "#fb9f3a"
             ],
             [
              0.8888888888888888,
              "#fdca26"
             ],
             [
              1,
              "#f0f921"
             ]
            ],
            "type": "contour"
           }
          ],
          "contourcarpet": [
           {
            "colorbar": {
             "outlinewidth": 0,
             "ticks": ""
            },
            "type": "contourcarpet"
           }
          ],
          "heatmap": [
           {
            "colorbar": {
             "outlinewidth": 0,
             "ticks": ""
            },
            "colorscale": [
             [
              0,
              "#0d0887"
             ],
             [
              0.1111111111111111,
              "#46039f"
             ],
             [
              0.2222222222222222,
              "#7201a8"
             ],
             [
              0.3333333333333333,
              "#9c179e"
             ],
             [
              0.4444444444444444,
              "#bd3786"
             ],
             [
              0.5555555555555556,
              "#d8576b"
             ],
             [
              0.6666666666666666,
              "#ed7953"
             ],
             [
              0.7777777777777778,
              "#fb9f3a"
             ],
             [
              0.8888888888888888,
              "#fdca26"
             ],
             [
              1,
              "#f0f921"
             ]
            ],
            "type": "heatmap"
           }
          ],
          "heatmapgl": [
           {
            "colorbar": {
             "outlinewidth": 0,
             "ticks": ""
            },
            "colorscale": [
             [
              0,
              "#0d0887"
             ],
             [
              0.1111111111111111,
              "#46039f"
             ],
             [
              0.2222222222222222,
              "#7201a8"
             ],
             [
              0.3333333333333333,
              "#9c179e"
             ],
             [
              0.4444444444444444,
              "#bd3786"
             ],
             [
              0.5555555555555556,
              "#d8576b"
             ],
             [
              0.6666666666666666,
              "#ed7953"
             ],
             [
              0.7777777777777778,
              "#fb9f3a"
             ],
             [
              0.8888888888888888,
              "#fdca26"
             ],
             [
              1,
              "#f0f921"
             ]
            ],
            "type": "heatmapgl"
           }
          ],
          "histogram": [
           {
            "marker": {
             "pattern": {
              "fillmode": "overlay",
              "size": 10,
              "solidity": 0.2
             }
            },
            "type": "histogram"
           }
          ],
          "histogram2d": [
           {
            "colorbar": {
             "outlinewidth": 0,
             "ticks": ""
            },
            "colorscale": [
             [
              0,
              "#0d0887"
             ],
             [
              0.1111111111111111,
              "#46039f"
             ],
             [
              0.2222222222222222,
              "#7201a8"
             ],
             [
              0.3333333333333333,
              "#9c179e"
             ],
             [
              0.4444444444444444,
              "#bd3786"
             ],
             [
              0.5555555555555556,
              "#d8576b"
             ],
             [
              0.6666666666666666,
              "#ed7953"
             ],
             [
              0.7777777777777778,
              "#fb9f3a"
             ],
             [
              0.8888888888888888,
              "#fdca26"
             ],
             [
              1,
              "#f0f921"
             ]
            ],
            "type": "histogram2d"
           }
          ],
          "histogram2dcontour": [
           {
            "colorbar": {
             "outlinewidth": 0,
             "ticks": ""
            },
            "colorscale": [
             [
              0,
              "#0d0887"
             ],
             [
              0.1111111111111111,
              "#46039f"
             ],
             [
              0.2222222222222222,
              "#7201a8"
             ],
             [
              0.3333333333333333,
              "#9c179e"
             ],
             [
              0.4444444444444444,
              "#bd3786"
             ],
             [
              0.5555555555555556,
              "#d8576b"
             ],
             [
              0.6666666666666666,
              "#ed7953"
             ],
             [
              0.7777777777777778,
              "#fb9f3a"
             ],
             [
              0.8888888888888888,
              "#fdca26"
             ],
             [
              1,
              "#f0f921"
             ]
            ],
            "type": "histogram2dcontour"
           }
          ],
          "mesh3d": [
           {
            "colorbar": {
             "outlinewidth": 0,
             "ticks": ""
            },
            "type": "mesh3d"
           }
          ],
          "parcoords": [
           {
            "line": {
             "colorbar": {
              "outlinewidth": 0,
              "ticks": ""
             }
            },
            "type": "parcoords"
           }
          ],
          "pie": [
           {
            "automargin": true,
            "type": "pie"
           }
          ],
          "scatter": [
           {
            "fillpattern": {
             "fillmode": "overlay",
             "size": 10,
             "solidity": 0.2
            },
            "type": "scatter"
           }
          ],
          "scatter3d": [
           {
            "line": {
             "colorbar": {
              "outlinewidth": 0,
              "ticks": ""
             }
            },
            "marker": {
             "colorbar": {
              "outlinewidth": 0,
              "ticks": ""
             }
            },
            "type": "scatter3d"
           }
          ],
          "scattercarpet": [
           {
            "marker": {
             "colorbar": {
              "outlinewidth": 0,
              "ticks": ""
             }
            },
            "type": "scattercarpet"
           }
          ],
          "scattergeo": [
           {
            "marker": {
             "colorbar": {
              "outlinewidth": 0,
              "ticks": ""
             }
            },
            "type": "scattergeo"
           }
          ],
          "scattergl": [
           {
            "marker": {
             "colorbar": {
              "outlinewidth": 0,
              "ticks": ""
             }
            },
            "type": "scattergl"
           }
          ],
          "scattermapbox": [
           {
            "marker": {
             "colorbar": {
              "outlinewidth": 0,
              "ticks": ""
             }
            },
            "type": "scattermapbox"
           }
          ],
          "scatterpolar": [
           {
            "marker": {
             "colorbar": {
              "outlinewidth": 0,
              "ticks": ""
             }
            },
            "type": "scatterpolar"
           }
          ],
          "scatterpolargl": [
           {
            "marker": {
             "colorbar": {
              "outlinewidth": 0,
              "ticks": ""
             }
            },
            "type": "scatterpolargl"
           }
          ],
          "scatterternary": [
           {
            "marker": {
             "colorbar": {
              "outlinewidth": 0,
              "ticks": ""
             }
            },
            "type": "scatterternary"
           }
          ],
          "surface": [
           {
            "colorbar": {
             "outlinewidth": 0,
             "ticks": ""
            },
            "colorscale": [
             [
              0,
              "#0d0887"
             ],
             [
              0.1111111111111111,
              "#46039f"
             ],
             [
              0.2222222222222222,
              "#7201a8"
             ],
             [
              0.3333333333333333,
              "#9c179e"
             ],
             [
              0.4444444444444444,
              "#bd3786"
             ],
             [
              0.5555555555555556,
              "#d8576b"
             ],
             [
              0.6666666666666666,
              "#ed7953"
             ],
             [
              0.7777777777777778,
              "#fb9f3a"
             ],
             [
              0.8888888888888888,
              "#fdca26"
             ],
             [
              1,
              "#f0f921"
             ]
            ],
            "type": "surface"
           }
          ],
          "table": [
           {
            "cells": {
             "fill": {
              "color": "#EBF0F8"
             },
             "line": {
              "color": "white"
             }
            },
            "header": {
             "fill": {
              "color": "#C8D4E3"
             },
             "line": {
              "color": "white"
             }
            },
            "type": "table"
           }
          ]
         },
         "layout": {
          "annotationdefaults": {
           "arrowcolor": "#2a3f5f",
           "arrowhead": 0,
           "arrowwidth": 1
          },
          "autotypenumbers": "strict",
          "coloraxis": {
           "colorbar": {
            "outlinewidth": 0,
            "ticks": ""
           }
          },
          "colorscale": {
           "diverging": [
            [
             0,
             "#8e0152"
            ],
            [
             0.1,
             "#c51b7d"
            ],
            [
             0.2,
             "#de77ae"
            ],
            [
             0.3,
             "#f1b6da"
            ],
            [
             0.4,
             "#fde0ef"
            ],
            [
             0.5,
             "#f7f7f7"
            ],
            [
             0.6,
             "#e6f5d0"
            ],
            [
             0.7,
             "#b8e186"
            ],
            [
             0.8,
             "#7fbc41"
            ],
            [
             0.9,
             "#4d9221"
            ],
            [
             1,
             "#276419"
            ]
           ],
           "sequential": [
            [
             0,
             "#0d0887"
            ],
            [
             0.1111111111111111,
             "#46039f"
            ],
            [
             0.2222222222222222,
             "#7201a8"
            ],
            [
             0.3333333333333333,
             "#9c179e"
            ],
            [
             0.4444444444444444,
             "#bd3786"
            ],
            [
             0.5555555555555556,
             "#d8576b"
            ],
            [
             0.6666666666666666,
             "#ed7953"
            ],
            [
             0.7777777777777778,
             "#fb9f3a"
            ],
            [
             0.8888888888888888,
             "#fdca26"
            ],
            [
             1,
             "#f0f921"
            ]
           ],
           "sequentialminus": [
            [
             0,
             "#0d0887"
            ],
            [
             0.1111111111111111,
             "#46039f"
            ],
            [
             0.2222222222222222,
             "#7201a8"
            ],
            [
             0.3333333333333333,
             "#9c179e"
            ],
            [
             0.4444444444444444,
             "#bd3786"
            ],
            [
             0.5555555555555556,
             "#d8576b"
            ],
            [
             0.6666666666666666,
             "#ed7953"
            ],
            [
             0.7777777777777778,
             "#fb9f3a"
            ],
            [
             0.8888888888888888,
             "#fdca26"
            ],
            [
             1,
             "#f0f921"
            ]
           ]
          },
          "colorway": [
           "#636efa",
           "#EF553B",
           "#00cc96",
           "#ab63fa",
           "#FFA15A",
           "#19d3f3",
           "#FF6692",
           "#B6E880",
           "#FF97FF",
           "#FECB52"
          ],
          "font": {
           "color": "#2a3f5f"
          },
          "geo": {
           "bgcolor": "white",
           "lakecolor": "white",
           "landcolor": "white",
           "showlakes": true,
           "showland": true,
           "subunitcolor": "#C8D4E3"
          },
          "hoverlabel": {
           "align": "left"
          },
          "hovermode": "closest",
          "mapbox": {
           "style": "light"
          },
          "paper_bgcolor": "white",
          "plot_bgcolor": "white",
          "polar": {
           "angularaxis": {
            "gridcolor": "#EBF0F8",
            "linecolor": "#EBF0F8",
            "ticks": ""
           },
           "bgcolor": "white",
           "radialaxis": {
            "gridcolor": "#EBF0F8",
            "linecolor": "#EBF0F8",
            "ticks": ""
           }
          },
          "scene": {
           "xaxis": {
            "backgroundcolor": "white",
            "gridcolor": "#DFE8F3",
            "gridwidth": 2,
            "linecolor": "#EBF0F8",
            "showbackground": true,
            "ticks": "",
            "zerolinecolor": "#EBF0F8"
           },
           "yaxis": {
            "backgroundcolor": "white",
            "gridcolor": "#DFE8F3",
            "gridwidth": 2,
            "linecolor": "#EBF0F8",
            "showbackground": true,
            "ticks": "",
            "zerolinecolor": "#EBF0F8"
           },
           "zaxis": {
            "backgroundcolor": "white",
            "gridcolor": "#DFE8F3",
            "gridwidth": 2,
            "linecolor": "#EBF0F8",
            "showbackground": true,
            "ticks": "",
            "zerolinecolor": "#EBF0F8"
           }
          },
          "shapedefaults": {
           "line": {
            "color": "#2a3f5f"
           }
          },
          "ternary": {
           "aaxis": {
            "gridcolor": "#DFE8F3",
            "linecolor": "#A2B1C6",
            "ticks": ""
           },
           "baxis": {
            "gridcolor": "#DFE8F3",
            "linecolor": "#A2B1C6",
            "ticks": ""
           },
           "bgcolor": "white",
           "caxis": {
            "gridcolor": "#DFE8F3",
            "linecolor": "#A2B1C6",
            "ticks": ""
           }
          },
          "title": {
           "x": 0.05
          },
          "xaxis": {
           "automargin": true,
           "gridcolor": "#EBF0F8",
           "linecolor": "#EBF0F8",
           "ticks": "",
           "title": {
            "standoff": 15
           },
           "zerolinecolor": "#EBF0F8",
           "zerolinewidth": 2
          },
          "yaxis": {
           "automargin": true,
           "gridcolor": "#EBF0F8",
           "linecolor": "#EBF0F8",
           "ticks": "",
           "title": {
            "standoff": 15
           },
           "zerolinecolor": "#EBF0F8",
           "zerolinewidth": 2
          }
         }
        },
        "title": {
         "text": "Distribution of Impressions"
        },
        "xaxis": {
         "anchor": "y",
         "domain": [
          0,
          1
         ],
         "title": {
          "text": "Impressions"
         }
        },
        "yaxis": {
         "anchor": "x",
         "domain": [
          0,
          1
         ],
         "title": {
          "text": "count"
         }
        }
       }
      }
     },
     "metadata": {},
     "output_type": "display_data"
    }
   ],
   "source": [
    "fig = px.histogram(data, x=\"Impressions\", nbins=10, title='Distribution of Impressions')\n",
    "fig.show()\n",
    "\n",
    "pio.write_image(fig, './images/image0.png')"
   ]
  },
  {
   "cell_type": "markdown",
   "metadata": {},
   "source": [
    " ![Plot Description](./images/image0.png)"
   ]
  },
  {
   "cell_type": "markdown",
   "metadata": {},
   "source": [
    "- Now let’s have a look at the number of impressions on each post over time"
   ]
  },
  {
   "cell_type": "code",
   "execution_count": 19,
   "metadata": {},
   "outputs": [
    {
     "data": {
      "application/vnd.plotly.v1+json": {
       "config": {
        "plotlyServerURL": "https://plot.ly"
       },
       "data": [
        {
         "hovertemplate": "index=%{x}<br>Impressions=%{y}<extra></extra>",
         "legendgroup": "",
         "line": {
          "color": "#636efa",
          "dash": "solid"
         },
         "marker": {
          "symbol": "circle"
         },
         "mode": "lines",
         "name": "",
         "orientation": "v",
         "showlegend": false,
         "type": "scatter",
         "x": [
          0,
          1,
          2,
          3,
          4,
          5,
          6,
          7,
          8,
          9,
          10,
          11,
          12,
          13,
          14,
          15,
          16,
          17,
          18,
          19,
          20,
          21,
          22,
          23,
          24,
          25,
          26,
          27,
          28,
          29,
          30,
          31,
          32,
          33,
          34,
          35,
          36,
          37,
          38,
          39,
          40,
          41,
          42,
          43,
          44,
          45,
          46,
          47,
          48,
          49,
          50,
          51,
          52,
          53,
          54,
          55,
          56,
          57,
          58,
          59,
          60,
          61,
          62,
          63,
          64,
          65,
          66,
          67,
          68,
          69,
          70,
          71,
          72,
          73,
          74,
          75,
          76,
          77,
          78,
          79,
          80,
          81,
          82,
          83,
          84,
          85,
          86,
          87,
          88,
          89,
          90,
          91,
          92,
          93,
          94,
          95,
          96,
          97,
          98,
          99,
          100,
          101,
          102,
          103,
          104,
          105,
          106,
          107,
          108,
          109,
          110,
          111,
          112,
          113,
          114,
          115,
          116,
          117,
          118
         ],
         "xaxis": "x",
         "y": [
          3920,
          5394,
          4021,
          4528,
          2518,
          3884,
          2621,
          3541,
          3749,
          4115,
          2218,
          3234,
          4344,
          3216,
          9453,
          5055,
          4002,
          3169,
          6168,
          2407,
          2064,
          3973,
          7281,
          3052,
          4628,
          4082,
          5394,
          2766,
          3924,
          3015,
          6666,
          3854,
          4355,
          4343,
          6108,
          2523,
          2327,
          3990,
          2191,
          1941,
          16062,
          4998,
          4289,
          3880,
          3786,
          4298,
          3630,
          2826,
          7407,
          10386,
          2998,
          7018,
          2941,
          6432,
          10667,
          3988,
          4978,
          3388,
          4467,
          3246,
          5072,
          6339,
          4239,
          3454,
          7571,
          3333,
          3818,
          10933,
          5058,
          3601,
          3480,
          3525,
          3606,
          5542,
          6559,
          3623,
          10493,
          4446,
          2957,
          5538,
          4681,
          5273,
          5055,
          4002,
          3169,
          6168,
          2407,
          3630,
          2826,
          7407,
          10386,
          2998,
          3052,
          4628,
          4082,
          5394,
          2766,
          3924,
          3015,
          5409,
          5323,
          8001,
          4150,
          4609,
          6348,
          11068,
          7231,
          17396,
          6814,
          17713,
          5563,
          4842,
          11149,
          10206,
          13700,
          5731,
          4139,
          32695,
          36919
         ],
         "yaxis": "y"
        }
       ],
       "layout": {
        "legend": {
         "tracegroupgap": 0
        },
        "template": {
         "data": {
          "bar": [
           {
            "error_x": {
             "color": "#2a3f5f"
            },
            "error_y": {
             "color": "#2a3f5f"
            },
            "marker": {
             "line": {
              "color": "white",
              "width": 0.5
             },
             "pattern": {
              "fillmode": "overlay",
              "size": 10,
              "solidity": 0.2
             }
            },
            "type": "bar"
           }
          ],
          "barpolar": [
           {
            "marker": {
             "line": {
              "color": "white",
              "width": 0.5
             },
             "pattern": {
              "fillmode": "overlay",
              "size": 10,
              "solidity": 0.2
             }
            },
            "type": "barpolar"
           }
          ],
          "carpet": [
           {
            "aaxis": {
             "endlinecolor": "#2a3f5f",
             "gridcolor": "#C8D4E3",
             "linecolor": "#C8D4E3",
             "minorgridcolor": "#C8D4E3",
             "startlinecolor": "#2a3f5f"
            },
            "baxis": {
             "endlinecolor": "#2a3f5f",
             "gridcolor": "#C8D4E3",
             "linecolor": "#C8D4E3",
             "minorgridcolor": "#C8D4E3",
             "startlinecolor": "#2a3f5f"
            },
            "type": "carpet"
           }
          ],
          "choropleth": [
           {
            "colorbar": {
             "outlinewidth": 0,
             "ticks": ""
            },
            "type": "choropleth"
           }
          ],
          "contour": [
           {
            "colorbar": {
             "outlinewidth": 0,
             "ticks": ""
            },
            "colorscale": [
             [
              0,
              "#0d0887"
             ],
             [
              0.1111111111111111,
              "#46039f"
             ],
             [
              0.2222222222222222,
              "#7201a8"
             ],
             [
              0.3333333333333333,
              "#9c179e"
             ],
             [
              0.4444444444444444,
              "#bd3786"
             ],
             [
              0.5555555555555556,
              "#d8576b"
             ],
             [
              0.6666666666666666,
              "#ed7953"
             ],
             [
              0.7777777777777778,
              "#fb9f3a"
             ],
             [
              0.8888888888888888,
              "#fdca26"
             ],
             [
              1,
              "#f0f921"
             ]
            ],
            "type": "contour"
           }
          ],
          "contourcarpet": [
           {
            "colorbar": {
             "outlinewidth": 0,
             "ticks": ""
            },
            "type": "contourcarpet"
           }
          ],
          "heatmap": [
           {
            "colorbar": {
             "outlinewidth": 0,
             "ticks": ""
            },
            "colorscale": [
             [
              0,
              "#0d0887"
             ],
             [
              0.1111111111111111,
              "#46039f"
             ],
             [
              0.2222222222222222,
              "#7201a8"
             ],
             [
              0.3333333333333333,
              "#9c179e"
             ],
             [
              0.4444444444444444,
              "#bd3786"
             ],
             [
              0.5555555555555556,
              "#d8576b"
             ],
             [
              0.6666666666666666,
              "#ed7953"
             ],
             [
              0.7777777777777778,
              "#fb9f3a"
             ],
             [
              0.8888888888888888,
              "#fdca26"
             ],
             [
              1,
              "#f0f921"
             ]
            ],
            "type": "heatmap"
           }
          ],
          "heatmapgl": [
           {
            "colorbar": {
             "outlinewidth": 0,
             "ticks": ""
            },
            "colorscale": [
             [
              0,
              "#0d0887"
             ],
             [
              0.1111111111111111,
              "#46039f"
             ],
             [
              0.2222222222222222,
              "#7201a8"
             ],
             [
              0.3333333333333333,
              "#9c179e"
             ],
             [
              0.4444444444444444,
              "#bd3786"
             ],
             [
              0.5555555555555556,
              "#d8576b"
             ],
             [
              0.6666666666666666,
              "#ed7953"
             ],
             [
              0.7777777777777778,
              "#fb9f3a"
             ],
             [
              0.8888888888888888,
              "#fdca26"
             ],
             [
              1,
              "#f0f921"
             ]
            ],
            "type": "heatmapgl"
           }
          ],
          "histogram": [
           {
            "marker": {
             "pattern": {
              "fillmode": "overlay",
              "size": 10,
              "solidity": 0.2
             }
            },
            "type": "histogram"
           }
          ],
          "histogram2d": [
           {
            "colorbar": {
             "outlinewidth": 0,
             "ticks": ""
            },
            "colorscale": [
             [
              0,
              "#0d0887"
             ],
             [
              0.1111111111111111,
              "#46039f"
             ],
             [
              0.2222222222222222,
              "#7201a8"
             ],
             [
              0.3333333333333333,
              "#9c179e"
             ],
             [
              0.4444444444444444,
              "#bd3786"
             ],
             [
              0.5555555555555556,
              "#d8576b"
             ],
             [
              0.6666666666666666,
              "#ed7953"
             ],
             [
              0.7777777777777778,
              "#fb9f3a"
             ],
             [
              0.8888888888888888,
              "#fdca26"
             ],
             [
              1,
              "#f0f921"
             ]
            ],
            "type": "histogram2d"
           }
          ],
          "histogram2dcontour": [
           {
            "colorbar": {
             "outlinewidth": 0,
             "ticks": ""
            },
            "colorscale": [
             [
              0,
              "#0d0887"
             ],
             [
              0.1111111111111111,
              "#46039f"
             ],
             [
              0.2222222222222222,
              "#7201a8"
             ],
             [
              0.3333333333333333,
              "#9c179e"
             ],
             [
              0.4444444444444444,
              "#bd3786"
             ],
             [
              0.5555555555555556,
              "#d8576b"
             ],
             [
              0.6666666666666666,
              "#ed7953"
             ],
             [
              0.7777777777777778,
              "#fb9f3a"
             ],
             [
              0.8888888888888888,
              "#fdca26"
             ],
             [
              1,
              "#f0f921"
             ]
            ],
            "type": "histogram2dcontour"
           }
          ],
          "mesh3d": [
           {
            "colorbar": {
             "outlinewidth": 0,
             "ticks": ""
            },
            "type": "mesh3d"
           }
          ],
          "parcoords": [
           {
            "line": {
             "colorbar": {
              "outlinewidth": 0,
              "ticks": ""
             }
            },
            "type": "parcoords"
           }
          ],
          "pie": [
           {
            "automargin": true,
            "type": "pie"
           }
          ],
          "scatter": [
           {
            "fillpattern": {
             "fillmode": "overlay",
             "size": 10,
             "solidity": 0.2
            },
            "type": "scatter"
           }
          ],
          "scatter3d": [
           {
            "line": {
             "colorbar": {
              "outlinewidth": 0,
              "ticks": ""
             }
            },
            "marker": {
             "colorbar": {
              "outlinewidth": 0,
              "ticks": ""
             }
            },
            "type": "scatter3d"
           }
          ],
          "scattercarpet": [
           {
            "marker": {
             "colorbar": {
              "outlinewidth": 0,
              "ticks": ""
             }
            },
            "type": "scattercarpet"
           }
          ],
          "scattergeo": [
           {
            "marker": {
             "colorbar": {
              "outlinewidth": 0,
              "ticks": ""
             }
            },
            "type": "scattergeo"
           }
          ],
          "scattergl": [
           {
            "marker": {
             "colorbar": {
              "outlinewidth": 0,
              "ticks": ""
             }
            },
            "type": "scattergl"
           }
          ],
          "scattermapbox": [
           {
            "marker": {
             "colorbar": {
              "outlinewidth": 0,
              "ticks": ""
             }
            },
            "type": "scattermapbox"
           }
          ],
          "scatterpolar": [
           {
            "marker": {
             "colorbar": {
              "outlinewidth": 0,
              "ticks": ""
             }
            },
            "type": "scatterpolar"
           }
          ],
          "scatterpolargl": [
           {
            "marker": {
             "colorbar": {
              "outlinewidth": 0,
              "ticks": ""
             }
            },
            "type": "scatterpolargl"
           }
          ],
          "scatterternary": [
           {
            "marker": {
             "colorbar": {
              "outlinewidth": 0,
              "ticks": ""
             }
            },
            "type": "scatterternary"
           }
          ],
          "surface": [
           {
            "colorbar": {
             "outlinewidth": 0,
             "ticks": ""
            },
            "colorscale": [
             [
              0,
              "#0d0887"
             ],
             [
              0.1111111111111111,
              "#46039f"
             ],
             [
              0.2222222222222222,
              "#7201a8"
             ],
             [
              0.3333333333333333,
              "#9c179e"
             ],
             [
              0.4444444444444444,
              "#bd3786"
             ],
             [
              0.5555555555555556,
              "#d8576b"
             ],
             [
              0.6666666666666666,
              "#ed7953"
             ],
             [
              0.7777777777777778,
              "#fb9f3a"
             ],
             [
              0.8888888888888888,
              "#fdca26"
             ],
             [
              1,
              "#f0f921"
             ]
            ],
            "type": "surface"
           }
          ],
          "table": [
           {
            "cells": {
             "fill": {
              "color": "#EBF0F8"
             },
             "line": {
              "color": "white"
             }
            },
            "header": {
             "fill": {
              "color": "#C8D4E3"
             },
             "line": {
              "color": "white"
             }
            },
            "type": "table"
           }
          ]
         },
         "layout": {
          "annotationdefaults": {
           "arrowcolor": "#2a3f5f",
           "arrowhead": 0,
           "arrowwidth": 1
          },
          "autotypenumbers": "strict",
          "coloraxis": {
           "colorbar": {
            "outlinewidth": 0,
            "ticks": ""
           }
          },
          "colorscale": {
           "diverging": [
            [
             0,
             "#8e0152"
            ],
            [
             0.1,
             "#c51b7d"
            ],
            [
             0.2,
             "#de77ae"
            ],
            [
             0.3,
             "#f1b6da"
            ],
            [
             0.4,
             "#fde0ef"
            ],
            [
             0.5,
             "#f7f7f7"
            ],
            [
             0.6,
             "#e6f5d0"
            ],
            [
             0.7,
             "#b8e186"
            ],
            [
             0.8,
             "#7fbc41"
            ],
            [
             0.9,
             "#4d9221"
            ],
            [
             1,
             "#276419"
            ]
           ],
           "sequential": [
            [
             0,
             "#0d0887"
            ],
            [
             0.1111111111111111,
             "#46039f"
            ],
            [
             0.2222222222222222,
             "#7201a8"
            ],
            [
             0.3333333333333333,
             "#9c179e"
            ],
            [
             0.4444444444444444,
             "#bd3786"
            ],
            [
             0.5555555555555556,
             "#d8576b"
            ],
            [
             0.6666666666666666,
             "#ed7953"
            ],
            [
             0.7777777777777778,
             "#fb9f3a"
            ],
            [
             0.8888888888888888,
             "#fdca26"
            ],
            [
             1,
             "#f0f921"
            ]
           ],
           "sequentialminus": [
            [
             0,
             "#0d0887"
            ],
            [
             0.1111111111111111,
             "#46039f"
            ],
            [
             0.2222222222222222,
             "#7201a8"
            ],
            [
             0.3333333333333333,
             "#9c179e"
            ],
            [
             0.4444444444444444,
             "#bd3786"
            ],
            [
             0.5555555555555556,
             "#d8576b"
            ],
            [
             0.6666666666666666,
             "#ed7953"
            ],
            [
             0.7777777777777778,
             "#fb9f3a"
            ],
            [
             0.8888888888888888,
             "#fdca26"
            ],
            [
             1,
             "#f0f921"
            ]
           ]
          },
          "colorway": [
           "#636efa",
           "#EF553B",
           "#00cc96",
           "#ab63fa",
           "#FFA15A",
           "#19d3f3",
           "#FF6692",
           "#B6E880",
           "#FF97FF",
           "#FECB52"
          ],
          "font": {
           "color": "#2a3f5f"
          },
          "geo": {
           "bgcolor": "white",
           "lakecolor": "white",
           "landcolor": "white",
           "showlakes": true,
           "showland": true,
           "subunitcolor": "#C8D4E3"
          },
          "hoverlabel": {
           "align": "left"
          },
          "hovermode": "closest",
          "mapbox": {
           "style": "light"
          },
          "paper_bgcolor": "white",
          "plot_bgcolor": "white",
          "polar": {
           "angularaxis": {
            "gridcolor": "#EBF0F8",
            "linecolor": "#EBF0F8",
            "ticks": ""
           },
           "bgcolor": "white",
           "radialaxis": {
            "gridcolor": "#EBF0F8",
            "linecolor": "#EBF0F8",
            "ticks": ""
           }
          },
          "scene": {
           "xaxis": {
            "backgroundcolor": "white",
            "gridcolor": "#DFE8F3",
            "gridwidth": 2,
            "linecolor": "#EBF0F8",
            "showbackground": true,
            "ticks": "",
            "zerolinecolor": "#EBF0F8"
           },
           "yaxis": {
            "backgroundcolor": "white",
            "gridcolor": "#DFE8F3",
            "gridwidth": 2,
            "linecolor": "#EBF0F8",
            "showbackground": true,
            "ticks": "",
            "zerolinecolor": "#EBF0F8"
           },
           "zaxis": {
            "backgroundcolor": "white",
            "gridcolor": "#DFE8F3",
            "gridwidth": 2,
            "linecolor": "#EBF0F8",
            "showbackground": true,
            "ticks": "",
            "zerolinecolor": "#EBF0F8"
           }
          },
          "shapedefaults": {
           "line": {
            "color": "#2a3f5f"
           }
          },
          "ternary": {
           "aaxis": {
            "gridcolor": "#DFE8F3",
            "linecolor": "#A2B1C6",
            "ticks": ""
           },
           "baxis": {
            "gridcolor": "#DFE8F3",
            "linecolor": "#A2B1C6",
            "ticks": ""
           },
           "bgcolor": "white",
           "caxis": {
            "gridcolor": "#DFE8F3",
            "linecolor": "#A2B1C6",
            "ticks": ""
           }
          },
          "title": {
           "x": 0.05
          },
          "xaxis": {
           "automargin": true,
           "gridcolor": "#EBF0F8",
           "linecolor": "#EBF0F8",
           "ticks": "",
           "title": {
            "standoff": 15
           },
           "zerolinecolor": "#EBF0F8",
           "zerolinewidth": 2
          },
          "yaxis": {
           "automargin": true,
           "gridcolor": "#EBF0F8",
           "linecolor": "#EBF0F8",
           "ticks": "",
           "title": {
            "standoff": 15
           },
           "zerolinecolor": "#EBF0F8",
           "zerolinewidth": 2
          }
         }
        },
        "title": {
         "text": "Impressions Over Time"
        },
        "xaxis": {
         "anchor": "y",
         "domain": [
          0,
          1
         ],
         "title": {
          "text": "index"
         }
        },
        "yaxis": {
         "anchor": "x",
         "domain": [
          0,
          1
         ],
         "title": {
          "text": "Impressions"
         }
        }
       }
      }
     },
     "metadata": {},
     "output_type": "display_data"
    }
   ],
   "source": [
    "fig = px.line(data, x= data.index, y=\"Impressions\", title=\"Impressions Over Time\")\n",
    "fig.show()\n",
    "\n",
    "pio.write_image(fig, './images/image2.png')"
   ]
  },
  {
   "cell_type": "markdown",
   "metadata": {},
   "source": [
    " ![Plot Description](./images/image2.png)"
   ]
  },
  {
   "cell_type": "markdown",
   "metadata": {},
   "source": [
    "- Now let's have a look at al the metrics like Likes, Saves, and Follows from each post over time "
   ]
  },
  {
   "cell_type": "code",
   "execution_count": 22,
   "metadata": {},
   "outputs": [
    {
     "data": {
      "application/vnd.plotly.v1+json": {
       "config": {
        "plotlyServerURL": "https://plot.ly"
       },
       "data": [
        {
         "name": "Likes",
         "type": "scatter",
         "x": [
          0,
          1,
          2,
          3,
          4,
          5,
          6,
          7,
          8,
          9,
          10,
          11,
          12,
          13,
          14,
          15,
          16,
          17,
          18,
          19,
          20,
          21,
          22,
          23,
          24,
          25,
          26,
          27,
          28,
          29,
          30,
          31,
          32,
          33,
          34,
          35,
          36,
          37,
          38,
          39,
          40,
          41,
          42,
          43,
          44,
          45,
          46,
          47,
          48,
          49,
          50,
          51,
          52,
          53,
          54,
          55,
          56,
          57,
          58,
          59,
          60,
          61,
          62,
          63,
          64,
          65,
          66,
          67,
          68,
          69,
          70,
          71,
          72,
          73,
          74,
          75,
          76,
          77,
          78,
          79,
          80,
          81,
          82,
          83,
          84,
          85,
          86,
          87,
          88,
          89,
          90,
          91,
          92,
          93,
          94,
          95,
          96,
          97,
          98,
          99,
          100,
          101,
          102,
          103,
          104,
          105,
          106,
          107,
          108,
          109,
          110,
          111,
          112,
          113,
          114,
          115,
          116,
          117,
          118
         ],
         "y": [
          162,
          224,
          131,
          213,
          123,
          144,
          76,
          124,
          159,
          191,
          81,
          151,
          162,
          142,
          294,
          159,
          205,
          121,
          151,
          72,
          76,
          91,
          195,
          129,
          160,
          175,
          147,
          114,
          151,
          92,
          214,
          150,
          122,
          152,
          196,
          86,
          85,
          156,
          72,
          82,
          416,
          180,
          150,
          127,
          167,
          225,
          137,
          114,
          263,
          328,
          126,
          236,
          99,
          212,
          297,
          142,
          186,
          112,
          149,
          132,
          115,
          248,
          178,
          107,
          269,
          96,
          134,
          301,
          187,
          94,
          114,
          96,
          138,
          122,
          257,
          95,
          244,
          190,
          118,
          178,
          170,
          250,
          159,
          205,
          121,
          151,
          72,
          137,
          114,
          263,
          328,
          126,
          129,
          160,
          175,
          147,
          114,
          151,
          92,
          275,
          192,
          203,
          145,
          168,
          194,
          250,
          171,
          416,
          249,
          308,
          163,
          86,
          210,
          172,
          373,
          148,
          92,
          549,
          443
         ]
        },
        {
         "name": "Saves",
         "type": "scatter",
         "x": [
          0,
          1,
          2,
          3,
          4,
          5,
          6,
          7,
          8,
          9,
          10,
          11,
          12,
          13,
          14,
          15,
          16,
          17,
          18,
          19,
          20,
          21,
          22,
          23,
          24,
          25,
          26,
          27,
          28,
          29,
          30,
          31,
          32,
          33,
          34,
          35,
          36,
          37,
          38,
          39,
          40,
          41,
          42,
          43,
          44,
          45,
          46,
          47,
          48,
          49,
          50,
          51,
          52,
          53,
          54,
          55,
          56,
          57,
          58,
          59,
          60,
          61,
          62,
          63,
          64,
          65,
          66,
          67,
          68,
          69,
          70,
          71,
          72,
          73,
          74,
          75,
          76,
          77,
          78,
          79,
          80,
          81,
          82,
          83,
          84,
          85,
          86,
          87,
          88,
          89,
          90,
          91,
          92,
          93,
          94,
          95,
          96,
          97,
          98,
          99,
          100,
          101,
          102,
          103,
          104,
          105,
          106,
          107,
          108,
          109,
          110,
          111,
          112,
          113,
          114,
          115,
          116,
          117,
          118
         ],
         "y": [
          98,
          194,
          41,
          172,
          96,
          74,
          22,
          135,
          155,
          122,
          28,
          122,
          119,
          121,
          100,
          101,
          111,
          106,
          82,
          40,
          49,
          72,
          167,
          63,
          144,
          135,
          61,
          40,
          139,
          52,
          84,
          81,
          79,
          105,
          90,
          34,
          45,
          98,
          35,
          49,
          252,
          167,
          111,
          90,
          144,
          263,
          137,
          67,
          288,
          668,
          42,
          342,
          48,
          250,
          219,
          118,
          143,
          99,
          89,
          148,
          42,
          171,
          109,
          38,
          421,
          38,
          116,
          225,
          144,
          51,
          104,
          33,
          174,
          46,
          179,
          34,
          99,
          174,
          70,
          149,
          207,
          318,
          101,
          111,
          106,
          82,
          40,
          137,
          67,
          288,
          668,
          42,
          63,
          144,
          135,
          61,
          40,
          139,
          52,
          393,
          152,
          83,
          74,
          94,
          188,
          214,
          73,
          285,
          469,
          504,
          149,
          55,
          273,
          182,
          573,
          135,
          36,
          1095,
          653
         ]
        },
        {
         "name": "Follows",
         "type": "scatter",
         "x": [
          0,
          1,
          2,
          3,
          4,
          5,
          6,
          7,
          8,
          9,
          10,
          11,
          12,
          13,
          14,
          15,
          16,
          17,
          18,
          19,
          20,
          21,
          22,
          23,
          24,
          25,
          26,
          27,
          28,
          29,
          30,
          31,
          32,
          33,
          34,
          35,
          36,
          37,
          38,
          39,
          40,
          41,
          42,
          43,
          44,
          45,
          46,
          47,
          48,
          49,
          50,
          51,
          52,
          53,
          54,
          55,
          56,
          57,
          58,
          59,
          60,
          61,
          62,
          63,
          64,
          65,
          66,
          67,
          68,
          69,
          70,
          71,
          72,
          73,
          74,
          75,
          76,
          77,
          78,
          79,
          80,
          81,
          82,
          83,
          84,
          85,
          86,
          87,
          88,
          89,
          90,
          91,
          92,
          93,
          94,
          95,
          96,
          97,
          98,
          99,
          100,
          101,
          102,
          103,
          104,
          105,
          106,
          107,
          108,
          109,
          110,
          111,
          112,
          113,
          114,
          115,
          116,
          117,
          118
         ],
         "y": [
          2,
          10,
          12,
          8,
          0,
          2,
          0,
          6,
          4,
          6,
          4,
          0,
          2,
          4,
          42,
          6,
          2,
          2,
          30,
          0,
          0,
          24,
          100,
          2,
          4,
          6,
          6,
          6,
          2,
          2,
          20,
          2,
          4,
          8,
          26,
          2,
          2,
          4,
          0,
          2,
          94,
          8,
          18,
          10,
          4,
          4,
          4,
          4,
          18,
          38,
          10,
          12,
          4,
          4,
          74,
          0,
          6,
          6,
          0,
          6,
          12,
          10,
          8,
          8,
          46,
          12,
          10,
          94,
          6,
          10,
          6,
          4,
          12,
          16,
          12,
          8,
          32,
          8,
          16,
          6,
          10,
          10,
          6,
          2,
          2,
          30,
          0,
          4,
          4,
          18,
          38,
          10,
          2,
          4,
          6,
          6,
          6,
          2,
          2,
          14,
          8,
          14,
          28,
          18,
          12,
          34,
          26,
          260,
          16,
          96,
          20,
          30,
          58,
          100,
          80,
          18,
          10,
          214,
          228
         ]
        }
       ],
       "layout": {
        "template": {
         "data": {
          "bar": [
           {
            "error_x": {
             "color": "#2a3f5f"
            },
            "error_y": {
             "color": "#2a3f5f"
            },
            "marker": {
             "line": {
              "color": "white",
              "width": 0.5
             },
             "pattern": {
              "fillmode": "overlay",
              "size": 10,
              "solidity": 0.2
             }
            },
            "type": "bar"
           }
          ],
          "barpolar": [
           {
            "marker": {
             "line": {
              "color": "white",
              "width": 0.5
             },
             "pattern": {
              "fillmode": "overlay",
              "size": 10,
              "solidity": 0.2
             }
            },
            "type": "barpolar"
           }
          ],
          "carpet": [
           {
            "aaxis": {
             "endlinecolor": "#2a3f5f",
             "gridcolor": "#C8D4E3",
             "linecolor": "#C8D4E3",
             "minorgridcolor": "#C8D4E3",
             "startlinecolor": "#2a3f5f"
            },
            "baxis": {
             "endlinecolor": "#2a3f5f",
             "gridcolor": "#C8D4E3",
             "linecolor": "#C8D4E3",
             "minorgridcolor": "#C8D4E3",
             "startlinecolor": "#2a3f5f"
            },
            "type": "carpet"
           }
          ],
          "choropleth": [
           {
            "colorbar": {
             "outlinewidth": 0,
             "ticks": ""
            },
            "type": "choropleth"
           }
          ],
          "contour": [
           {
            "colorbar": {
             "outlinewidth": 0,
             "ticks": ""
            },
            "colorscale": [
             [
              0,
              "#0d0887"
             ],
             [
              0.1111111111111111,
              "#46039f"
             ],
             [
              0.2222222222222222,
              "#7201a8"
             ],
             [
              0.3333333333333333,
              "#9c179e"
             ],
             [
              0.4444444444444444,
              "#bd3786"
             ],
             [
              0.5555555555555556,
              "#d8576b"
             ],
             [
              0.6666666666666666,
              "#ed7953"
             ],
             [
              0.7777777777777778,
              "#fb9f3a"
             ],
             [
              0.8888888888888888,
              "#fdca26"
             ],
             [
              1,
              "#f0f921"
             ]
            ],
            "type": "contour"
           }
          ],
          "contourcarpet": [
           {
            "colorbar": {
             "outlinewidth": 0,
             "ticks": ""
            },
            "type": "contourcarpet"
           }
          ],
          "heatmap": [
           {
            "colorbar": {
             "outlinewidth": 0,
             "ticks": ""
            },
            "colorscale": [
             [
              0,
              "#0d0887"
             ],
             [
              0.1111111111111111,
              "#46039f"
             ],
             [
              0.2222222222222222,
              "#7201a8"
             ],
             [
              0.3333333333333333,
              "#9c179e"
             ],
             [
              0.4444444444444444,
              "#bd3786"
             ],
             [
              0.5555555555555556,
              "#d8576b"
             ],
             [
              0.6666666666666666,
              "#ed7953"
             ],
             [
              0.7777777777777778,
              "#fb9f3a"
             ],
             [
              0.8888888888888888,
              "#fdca26"
             ],
             [
              1,
              "#f0f921"
             ]
            ],
            "type": "heatmap"
           }
          ],
          "heatmapgl": [
           {
            "colorbar": {
             "outlinewidth": 0,
             "ticks": ""
            },
            "colorscale": [
             [
              0,
              "#0d0887"
             ],
             [
              0.1111111111111111,
              "#46039f"
             ],
             [
              0.2222222222222222,
              "#7201a8"
             ],
             [
              0.3333333333333333,
              "#9c179e"
             ],
             [
              0.4444444444444444,
              "#bd3786"
             ],
             [
              0.5555555555555556,
              "#d8576b"
             ],
             [
              0.6666666666666666,
              "#ed7953"
             ],
             [
              0.7777777777777778,
              "#fb9f3a"
             ],
             [
              0.8888888888888888,
              "#fdca26"
             ],
             [
              1,
              "#f0f921"
             ]
            ],
            "type": "heatmapgl"
           }
          ],
          "histogram": [
           {
            "marker": {
             "pattern": {
              "fillmode": "overlay",
              "size": 10,
              "solidity": 0.2
             }
            },
            "type": "histogram"
           }
          ],
          "histogram2d": [
           {
            "colorbar": {
             "outlinewidth": 0,
             "ticks": ""
            },
            "colorscale": [
             [
              0,
              "#0d0887"
             ],
             [
              0.1111111111111111,
              "#46039f"
             ],
             [
              0.2222222222222222,
              "#7201a8"
             ],
             [
              0.3333333333333333,
              "#9c179e"
             ],
             [
              0.4444444444444444,
              "#bd3786"
             ],
             [
              0.5555555555555556,
              "#d8576b"
             ],
             [
              0.6666666666666666,
              "#ed7953"
             ],
             [
              0.7777777777777778,
              "#fb9f3a"
             ],
             [
              0.8888888888888888,
              "#fdca26"
             ],
             [
              1,
              "#f0f921"
             ]
            ],
            "type": "histogram2d"
           }
          ],
          "histogram2dcontour": [
           {
            "colorbar": {
             "outlinewidth": 0,
             "ticks": ""
            },
            "colorscale": [
             [
              0,
              "#0d0887"
             ],
             [
              0.1111111111111111,
              "#46039f"
             ],
             [
              0.2222222222222222,
              "#7201a8"
             ],
             [
              0.3333333333333333,
              "#9c179e"
             ],
             [
              0.4444444444444444,
              "#bd3786"
             ],
             [
              0.5555555555555556,
              "#d8576b"
             ],
             [
              0.6666666666666666,
              "#ed7953"
             ],
             [
              0.7777777777777778,
              "#fb9f3a"
             ],
             [
              0.8888888888888888,
              "#fdca26"
             ],
             [
              1,
              "#f0f921"
             ]
            ],
            "type": "histogram2dcontour"
           }
          ],
          "mesh3d": [
           {
            "colorbar": {
             "outlinewidth": 0,
             "ticks": ""
            },
            "type": "mesh3d"
           }
          ],
          "parcoords": [
           {
            "line": {
             "colorbar": {
              "outlinewidth": 0,
              "ticks": ""
             }
            },
            "type": "parcoords"
           }
          ],
          "pie": [
           {
            "automargin": true,
            "type": "pie"
           }
          ],
          "scatter": [
           {
            "fillpattern": {
             "fillmode": "overlay",
             "size": 10,
             "solidity": 0.2
            },
            "type": "scatter"
           }
          ],
          "scatter3d": [
           {
            "line": {
             "colorbar": {
              "outlinewidth": 0,
              "ticks": ""
             }
            },
            "marker": {
             "colorbar": {
              "outlinewidth": 0,
              "ticks": ""
             }
            },
            "type": "scatter3d"
           }
          ],
          "scattercarpet": [
           {
            "marker": {
             "colorbar": {
              "outlinewidth": 0,
              "ticks": ""
             }
            },
            "type": "scattercarpet"
           }
          ],
          "scattergeo": [
           {
            "marker": {
             "colorbar": {
              "outlinewidth": 0,
              "ticks": ""
             }
            },
            "type": "scattergeo"
           }
          ],
          "scattergl": [
           {
            "marker": {
             "colorbar": {
              "outlinewidth": 0,
              "ticks": ""
             }
            },
            "type": "scattergl"
           }
          ],
          "scattermapbox": [
           {
            "marker": {
             "colorbar": {
              "outlinewidth": 0,
              "ticks": ""
             }
            },
            "type": "scattermapbox"
           }
          ],
          "scatterpolar": [
           {
            "marker": {
             "colorbar": {
              "outlinewidth": 0,
              "ticks": ""
             }
            },
            "type": "scatterpolar"
           }
          ],
          "scatterpolargl": [
           {
            "marker": {
             "colorbar": {
              "outlinewidth": 0,
              "ticks": ""
             }
            },
            "type": "scatterpolargl"
           }
          ],
          "scatterternary": [
           {
            "marker": {
             "colorbar": {
              "outlinewidth": 0,
              "ticks": ""
             }
            },
            "type": "scatterternary"
           }
          ],
          "surface": [
           {
            "colorbar": {
             "outlinewidth": 0,
             "ticks": ""
            },
            "colorscale": [
             [
              0,
              "#0d0887"
             ],
             [
              0.1111111111111111,
              "#46039f"
             ],
             [
              0.2222222222222222,
              "#7201a8"
             ],
             [
              0.3333333333333333,
              "#9c179e"
             ],
             [
              0.4444444444444444,
              "#bd3786"
             ],
             [
              0.5555555555555556,
              "#d8576b"
             ],
             [
              0.6666666666666666,
              "#ed7953"
             ],
             [
              0.7777777777777778,
              "#fb9f3a"
             ],
             [
              0.8888888888888888,
              "#fdca26"
             ],
             [
              1,
              "#f0f921"
             ]
            ],
            "type": "surface"
           }
          ],
          "table": [
           {
            "cells": {
             "fill": {
              "color": "#EBF0F8"
             },
             "line": {
              "color": "white"
             }
            },
            "header": {
             "fill": {
              "color": "#C8D4E3"
             },
             "line": {
              "color": "white"
             }
            },
            "type": "table"
           }
          ]
         },
         "layout": {
          "annotationdefaults": {
           "arrowcolor": "#2a3f5f",
           "arrowhead": 0,
           "arrowwidth": 1
          },
          "autotypenumbers": "strict",
          "coloraxis": {
           "colorbar": {
            "outlinewidth": 0,
            "ticks": ""
           }
          },
          "colorscale": {
           "diverging": [
            [
             0,
             "#8e0152"
            ],
            [
             0.1,
             "#c51b7d"
            ],
            [
             0.2,
             "#de77ae"
            ],
            [
             0.3,
             "#f1b6da"
            ],
            [
             0.4,
             "#fde0ef"
            ],
            [
             0.5,
             "#f7f7f7"
            ],
            [
             0.6,
             "#e6f5d0"
            ],
            [
             0.7,
             "#b8e186"
            ],
            [
             0.8,
             "#7fbc41"
            ],
            [
             0.9,
             "#4d9221"
            ],
            [
             1,
             "#276419"
            ]
           ],
           "sequential": [
            [
             0,
             "#0d0887"
            ],
            [
             0.1111111111111111,
             "#46039f"
            ],
            [
             0.2222222222222222,
             "#7201a8"
            ],
            [
             0.3333333333333333,
             "#9c179e"
            ],
            [
             0.4444444444444444,
             "#bd3786"
            ],
            [
             0.5555555555555556,
             "#d8576b"
            ],
            [
             0.6666666666666666,
             "#ed7953"
            ],
            [
             0.7777777777777778,
             "#fb9f3a"
            ],
            [
             0.8888888888888888,
             "#fdca26"
            ],
            [
             1,
             "#f0f921"
            ]
           ],
           "sequentialminus": [
            [
             0,
             "#0d0887"
            ],
            [
             0.1111111111111111,
             "#46039f"
            ],
            [
             0.2222222222222222,
             "#7201a8"
            ],
            [
             0.3333333333333333,
             "#9c179e"
            ],
            [
             0.4444444444444444,
             "#bd3786"
            ],
            [
             0.5555555555555556,
             "#d8576b"
            ],
            [
             0.6666666666666666,
             "#ed7953"
            ],
            [
             0.7777777777777778,
             "#fb9f3a"
            ],
            [
             0.8888888888888888,
             "#fdca26"
            ],
            [
             1,
             "#f0f921"
            ]
           ]
          },
          "colorway": [
           "#636efa",
           "#EF553B",
           "#00cc96",
           "#ab63fa",
           "#FFA15A",
           "#19d3f3",
           "#FF6692",
           "#B6E880",
           "#FF97FF",
           "#FECB52"
          ],
          "font": {
           "color": "#2a3f5f"
          },
          "geo": {
           "bgcolor": "white",
           "lakecolor": "white",
           "landcolor": "white",
           "showlakes": true,
           "showland": true,
           "subunitcolor": "#C8D4E3"
          },
          "hoverlabel": {
           "align": "left"
          },
          "hovermode": "closest",
          "mapbox": {
           "style": "light"
          },
          "paper_bgcolor": "white",
          "plot_bgcolor": "white",
          "polar": {
           "angularaxis": {
            "gridcolor": "#EBF0F8",
            "linecolor": "#EBF0F8",
            "ticks": ""
           },
           "bgcolor": "white",
           "radialaxis": {
            "gridcolor": "#EBF0F8",
            "linecolor": "#EBF0F8",
            "ticks": ""
           }
          },
          "scene": {
           "xaxis": {
            "backgroundcolor": "white",
            "gridcolor": "#DFE8F3",
            "gridwidth": 2,
            "linecolor": "#EBF0F8",
            "showbackground": true,
            "ticks": "",
            "zerolinecolor": "#EBF0F8"
           },
           "yaxis": {
            "backgroundcolor": "white",
            "gridcolor": "#DFE8F3",
            "gridwidth": 2,
            "linecolor": "#EBF0F8",
            "showbackground": true,
            "ticks": "",
            "zerolinecolor": "#EBF0F8"
           },
           "zaxis": {
            "backgroundcolor": "white",
            "gridcolor": "#DFE8F3",
            "gridwidth": 2,
            "linecolor": "#EBF0F8",
            "showbackground": true,
            "ticks": "",
            "zerolinecolor": "#EBF0F8"
           }
          },
          "shapedefaults": {
           "line": {
            "color": "#2a3f5f"
           }
          },
          "ternary": {
           "aaxis": {
            "gridcolor": "#DFE8F3",
            "linecolor": "#A2B1C6",
            "ticks": ""
           },
           "baxis": {
            "gridcolor": "#DFE8F3",
            "linecolor": "#A2B1C6",
            "ticks": ""
           },
           "bgcolor": "white",
           "caxis": {
            "gridcolor": "#DFE8F3",
            "linecolor": "#A2B1C6",
            "ticks": ""
           }
          },
          "title": {
           "x": 0.05
          },
          "xaxis": {
           "automargin": true,
           "gridcolor": "#EBF0F8",
           "linecolor": "#EBF0F8",
           "ticks": "",
           "title": {
            "standoff": 15
           },
           "zerolinecolor": "#EBF0F8",
           "zerolinewidth": 2
          },
          "yaxis": {
           "automargin": true,
           "gridcolor": "#EBF0F8",
           "linecolor": "#EBF0F8",
           "ticks": "",
           "title": {
            "standoff": 15
           },
           "zerolinecolor": "#EBF0F8",
           "zerolinewidth": 2
          }
         }
        },
        "title": {
         "text": "Metrics Over Time"
        },
        "xaxis": {
         "title": {
          "text": "Date"
         }
        },
        "yaxis": {
         "title": {
          "text": "Count"
         }
        }
       }
      }
     },
     "metadata": {},
     "output_type": "display_data"
    }
   ],
   "source": [
    "fig = go.Figure()\n",
    "\n",
    "fig.add_trace(go.Scatter(x=data.index, y=data['Likes'], name='Likes'))\n",
    "fig.add_trace(go.Scatter(x=data.index, y=data['Saves'], name='Saves'))\n",
    "fig.add_trace(go.Scatter(x=data.index, y=data['Follows'], name='Follows'))\n",
    "\n",
    "fig.update_layout(title='Metrics Over Time', xaxis_title='Date', yaxis_title='Count')\n",
    "\n",
    "fig.show()\n",
    "\n",
    "pio.write_image(fig, './images/image3.png')"
   ]
  },
  {
   "cell_type": "markdown",
   "metadata": {},
   "source": [
    " ![Plot Description](./images/image3.png)"
   ]
  },
  {
   "cell_type": "markdown",
   "metadata": {},
   "source": [
    "- Now let's have  a look at the distribution of reach from different sources"
   ]
  },
  {
   "cell_type": "code",
   "execution_count": 23,
   "metadata": {},
   "outputs": [
    {
     "data": {
      "application/vnd.plotly.v1+json": {
       "config": {
        "plotlyServerURL": "https://plot.ly"
       },
       "data": [
        {
         "domain": {
          "x": [
           0,
           1
          ],
          "y": [
           0,
           1
          ]
         },
         "hovertemplate": "label=%{label}<br>value=%{value}<extra></extra>",
         "labels": [
          "From Home",
          "From Hashtags",
          "From Explore",
          "From Other"
         ],
         "legendgroup": "",
         "name": "",
         "showlegend": true,
         "type": "pie",
         "values": [
          294619,
          224614,
          128294,
          20360
         ]
        }
       ],
       "layout": {
        "legend": {
         "tracegroupgap": 0
        },
        "piecolorway": [
         "#FFB6C1",
         "#87CEFA",
         "#90EE90",
         "#FFDAB9"
        ],
        "template": {
         "data": {
          "bar": [
           {
            "error_x": {
             "color": "#2a3f5f"
            },
            "error_y": {
             "color": "#2a3f5f"
            },
            "marker": {
             "line": {
              "color": "white",
              "width": 0.5
             },
             "pattern": {
              "fillmode": "overlay",
              "size": 10,
              "solidity": 0.2
             }
            },
            "type": "bar"
           }
          ],
          "barpolar": [
           {
            "marker": {
             "line": {
              "color": "white",
              "width": 0.5
             },
             "pattern": {
              "fillmode": "overlay",
              "size": 10,
              "solidity": 0.2
             }
            },
            "type": "barpolar"
           }
          ],
          "carpet": [
           {
            "aaxis": {
             "endlinecolor": "#2a3f5f",
             "gridcolor": "#C8D4E3",
             "linecolor": "#C8D4E3",
             "minorgridcolor": "#C8D4E3",
             "startlinecolor": "#2a3f5f"
            },
            "baxis": {
             "endlinecolor": "#2a3f5f",
             "gridcolor": "#C8D4E3",
             "linecolor": "#C8D4E3",
             "minorgridcolor": "#C8D4E3",
             "startlinecolor": "#2a3f5f"
            },
            "type": "carpet"
           }
          ],
          "choropleth": [
           {
            "colorbar": {
             "outlinewidth": 0,
             "ticks": ""
            },
            "type": "choropleth"
           }
          ],
          "contour": [
           {
            "colorbar": {
             "outlinewidth": 0,
             "ticks": ""
            },
            "colorscale": [
             [
              0,
              "#0d0887"
             ],
             [
              0.1111111111111111,
              "#46039f"
             ],
             [
              0.2222222222222222,
              "#7201a8"
             ],
             [
              0.3333333333333333,
              "#9c179e"
             ],
             [
              0.4444444444444444,
              "#bd3786"
             ],
             [
              0.5555555555555556,
              "#d8576b"
             ],
             [
              0.6666666666666666,
              "#ed7953"
             ],
             [
              0.7777777777777778,
              "#fb9f3a"
             ],
             [
              0.8888888888888888,
              "#fdca26"
             ],
             [
              1,
              "#f0f921"
             ]
            ],
            "type": "contour"
           }
          ],
          "contourcarpet": [
           {
            "colorbar": {
             "outlinewidth": 0,
             "ticks": ""
            },
            "type": "contourcarpet"
           }
          ],
          "heatmap": [
           {
            "colorbar": {
             "outlinewidth": 0,
             "ticks": ""
            },
            "colorscale": [
             [
              0,
              "#0d0887"
             ],
             [
              0.1111111111111111,
              "#46039f"
             ],
             [
              0.2222222222222222,
              "#7201a8"
             ],
             [
              0.3333333333333333,
              "#9c179e"
             ],
             [
              0.4444444444444444,
              "#bd3786"
             ],
             [
              0.5555555555555556,
              "#d8576b"
             ],
             [
              0.6666666666666666,
              "#ed7953"
             ],
             [
              0.7777777777777778,
              "#fb9f3a"
             ],
             [
              0.8888888888888888,
              "#fdca26"
             ],
             [
              1,
              "#f0f921"
             ]
            ],
            "type": "heatmap"
           }
          ],
          "heatmapgl": [
           {
            "colorbar": {
             "outlinewidth": 0,
             "ticks": ""
            },
            "colorscale": [
             [
              0,
              "#0d0887"
             ],
             [
              0.1111111111111111,
              "#46039f"
             ],
             [
              0.2222222222222222,
              "#7201a8"
             ],
             [
              0.3333333333333333,
              "#9c179e"
             ],
             [
              0.4444444444444444,
              "#bd3786"
             ],
             [
              0.5555555555555556,
              "#d8576b"
             ],
             [
              0.6666666666666666,
              "#ed7953"
             ],
             [
              0.7777777777777778,
              "#fb9f3a"
             ],
             [
              0.8888888888888888,
              "#fdca26"
             ],
             [
              1,
              "#f0f921"
             ]
            ],
            "type": "heatmapgl"
           }
          ],
          "histogram": [
           {
            "marker": {
             "pattern": {
              "fillmode": "overlay",
              "size": 10,
              "solidity": 0.2
             }
            },
            "type": "histogram"
           }
          ],
          "histogram2d": [
           {
            "colorbar": {
             "outlinewidth": 0,
             "ticks": ""
            },
            "colorscale": [
             [
              0,
              "#0d0887"
             ],
             [
              0.1111111111111111,
              "#46039f"
             ],
             [
              0.2222222222222222,
              "#7201a8"
             ],
             [
              0.3333333333333333,
              "#9c179e"
             ],
             [
              0.4444444444444444,
              "#bd3786"
             ],
             [
              0.5555555555555556,
              "#d8576b"
             ],
             [
              0.6666666666666666,
              "#ed7953"
             ],
             [
              0.7777777777777778,
              "#fb9f3a"
             ],
             [
              0.8888888888888888,
              "#fdca26"
             ],
             [
              1,
              "#f0f921"
             ]
            ],
            "type": "histogram2d"
           }
          ],
          "histogram2dcontour": [
           {
            "colorbar": {
             "outlinewidth": 0,
             "ticks": ""
            },
            "colorscale": [
             [
              0,
              "#0d0887"
             ],
             [
              0.1111111111111111,
              "#46039f"
             ],
             [
              0.2222222222222222,
              "#7201a8"
             ],
             [
              0.3333333333333333,
              "#9c179e"
             ],
             [
              0.4444444444444444,
              "#bd3786"
             ],
             [
              0.5555555555555556,
              "#d8576b"
             ],
             [
              0.6666666666666666,
              "#ed7953"
             ],
             [
              0.7777777777777778,
              "#fb9f3a"
             ],
             [
              0.8888888888888888,
              "#fdca26"
             ],
             [
              1,
              "#f0f921"
             ]
            ],
            "type": "histogram2dcontour"
           }
          ],
          "mesh3d": [
           {
            "colorbar": {
             "outlinewidth": 0,
             "ticks": ""
            },
            "type": "mesh3d"
           }
          ],
          "parcoords": [
           {
            "line": {
             "colorbar": {
              "outlinewidth": 0,
              "ticks": ""
             }
            },
            "type": "parcoords"
           }
          ],
          "pie": [
           {
            "automargin": true,
            "type": "pie"
           }
          ],
          "scatter": [
           {
            "fillpattern": {
             "fillmode": "overlay",
             "size": 10,
             "solidity": 0.2
            },
            "type": "scatter"
           }
          ],
          "scatter3d": [
           {
            "line": {
             "colorbar": {
              "outlinewidth": 0,
              "ticks": ""
             }
            },
            "marker": {
             "colorbar": {
              "outlinewidth": 0,
              "ticks": ""
             }
            },
            "type": "scatter3d"
           }
          ],
          "scattercarpet": [
           {
            "marker": {
             "colorbar": {
              "outlinewidth": 0,
              "ticks": ""
             }
            },
            "type": "scattercarpet"
           }
          ],
          "scattergeo": [
           {
            "marker": {
             "colorbar": {
              "outlinewidth": 0,
              "ticks": ""
             }
            },
            "type": "scattergeo"
           }
          ],
          "scattergl": [
           {
            "marker": {
             "colorbar": {
              "outlinewidth": 0,
              "ticks": ""
             }
            },
            "type": "scattergl"
           }
          ],
          "scattermapbox": [
           {
            "marker": {
             "colorbar": {
              "outlinewidth": 0,
              "ticks": ""
             }
            },
            "type": "scattermapbox"
           }
          ],
          "scatterpolar": [
           {
            "marker": {
             "colorbar": {
              "outlinewidth": 0,
              "ticks": ""
             }
            },
            "type": "scatterpolar"
           }
          ],
          "scatterpolargl": [
           {
            "marker": {
             "colorbar": {
              "outlinewidth": 0,
              "ticks": ""
             }
            },
            "type": "scatterpolargl"
           }
          ],
          "scatterternary": [
           {
            "marker": {
             "colorbar": {
              "outlinewidth": 0,
              "ticks": ""
             }
            },
            "type": "scatterternary"
           }
          ],
          "surface": [
           {
            "colorbar": {
             "outlinewidth": 0,
             "ticks": ""
            },
            "colorscale": [
             [
              0,
              "#0d0887"
             ],
             [
              0.1111111111111111,
              "#46039f"
             ],
             [
              0.2222222222222222,
              "#7201a8"
             ],
             [
              0.3333333333333333,
              "#9c179e"
             ],
             [
              0.4444444444444444,
              "#bd3786"
             ],
             [
              0.5555555555555556,
              "#d8576b"
             ],
             [
              0.6666666666666666,
              "#ed7953"
             ],
             [
              0.7777777777777778,
              "#fb9f3a"
             ],
             [
              0.8888888888888888,
              "#fdca26"
             ],
             [
              1,
              "#f0f921"
             ]
            ],
            "type": "surface"
           }
          ],
          "table": [
           {
            "cells": {
             "fill": {
              "color": "#EBF0F8"
             },
             "line": {
              "color": "white"
             }
            },
            "header": {
             "fill": {
              "color": "#C8D4E3"
             },
             "line": {
              "color": "white"
             }
            },
            "type": "table"
           }
          ]
         },
         "layout": {
          "annotationdefaults": {
           "arrowcolor": "#2a3f5f",
           "arrowhead": 0,
           "arrowwidth": 1
          },
          "autotypenumbers": "strict",
          "coloraxis": {
           "colorbar": {
            "outlinewidth": 0,
            "ticks": ""
           }
          },
          "colorscale": {
           "diverging": [
            [
             0,
             "#8e0152"
            ],
            [
             0.1,
             "#c51b7d"
            ],
            [
             0.2,
             "#de77ae"
            ],
            [
             0.3,
             "#f1b6da"
            ],
            [
             0.4,
             "#fde0ef"
            ],
            [
             0.5,
             "#f7f7f7"
            ],
            [
             0.6,
             "#e6f5d0"
            ],
            [
             0.7,
             "#b8e186"
            ],
            [
             0.8,
             "#7fbc41"
            ],
            [
             0.9,
             "#4d9221"
            ],
            [
             1,
             "#276419"
            ]
           ],
           "sequential": [
            [
             0,
             "#0d0887"
            ],
            [
             0.1111111111111111,
             "#46039f"
            ],
            [
             0.2222222222222222,
             "#7201a8"
            ],
            [
             0.3333333333333333,
             "#9c179e"
            ],
            [
             0.4444444444444444,
             "#bd3786"
            ],
            [
             0.5555555555555556,
             "#d8576b"
            ],
            [
             0.6666666666666666,
             "#ed7953"
            ],
            [
             0.7777777777777778,
             "#fb9f3a"
            ],
            [
             0.8888888888888888,
             "#fdca26"
            ],
            [
             1,
             "#f0f921"
            ]
           ],
           "sequentialminus": [
            [
             0,
             "#0d0887"
            ],
            [
             0.1111111111111111,
             "#46039f"
            ],
            [
             0.2222222222222222,
             "#7201a8"
            ],
            [
             0.3333333333333333,
             "#9c179e"
            ],
            [
             0.4444444444444444,
             "#bd3786"
            ],
            [
             0.5555555555555556,
             "#d8576b"
            ],
            [
             0.6666666666666666,
             "#ed7953"
            ],
            [
             0.7777777777777778,
             "#fb9f3a"
            ],
            [
             0.8888888888888888,
             "#fdca26"
            ],
            [
             1,
             "#f0f921"
            ]
           ]
          },
          "colorway": [
           "#636efa",
           "#EF553B",
           "#00cc96",
           "#ab63fa",
           "#FFA15A",
           "#19d3f3",
           "#FF6692",
           "#B6E880",
           "#FF97FF",
           "#FECB52"
          ],
          "font": {
           "color": "#2a3f5f"
          },
          "geo": {
           "bgcolor": "white",
           "lakecolor": "white",
           "landcolor": "white",
           "showlakes": true,
           "showland": true,
           "subunitcolor": "#C8D4E3"
          },
          "hoverlabel": {
           "align": "left"
          },
          "hovermode": "closest",
          "mapbox": {
           "style": "light"
          },
          "paper_bgcolor": "white",
          "plot_bgcolor": "white",
          "polar": {
           "angularaxis": {
            "gridcolor": "#EBF0F8",
            "linecolor": "#EBF0F8",
            "ticks": ""
           },
           "bgcolor": "white",
           "radialaxis": {
            "gridcolor": "#EBF0F8",
            "linecolor": "#EBF0F8",
            "ticks": ""
           }
          },
          "scene": {
           "xaxis": {
            "backgroundcolor": "white",
            "gridcolor": "#DFE8F3",
            "gridwidth": 2,
            "linecolor": "#EBF0F8",
            "showbackground": true,
            "ticks": "",
            "zerolinecolor": "#EBF0F8"
           },
           "yaxis": {
            "backgroundcolor": "white",
            "gridcolor": "#DFE8F3",
            "gridwidth": 2,
            "linecolor": "#EBF0F8",
            "showbackground": true,
            "ticks": "",
            "zerolinecolor": "#EBF0F8"
           },
           "zaxis": {
            "backgroundcolor": "white",
            "gridcolor": "#DFE8F3",
            "gridwidth": 2,
            "linecolor": "#EBF0F8",
            "showbackground": true,
            "ticks": "",
            "zerolinecolor": "#EBF0F8"
           }
          },
          "shapedefaults": {
           "line": {
            "color": "#2a3f5f"
           }
          },
          "ternary": {
           "aaxis": {
            "gridcolor": "#DFE8F3",
            "linecolor": "#A2B1C6",
            "ticks": ""
           },
           "baxis": {
            "gridcolor": "#DFE8F3",
            "linecolor": "#A2B1C6",
            "ticks": ""
           },
           "bgcolor": "white",
           "caxis": {
            "gridcolor": "#DFE8F3",
            "linecolor": "#A2B1C6",
            "ticks": ""
           }
          },
          "title": {
           "x": 0.05
          },
          "xaxis": {
           "automargin": true,
           "gridcolor": "#EBF0F8",
           "linecolor": "#EBF0F8",
           "ticks": "",
           "title": {
            "standoff": 15
           },
           "zerolinecolor": "#EBF0F8",
           "zerolinewidth": 2
          },
          "yaxis": {
           "automargin": true,
           "gridcolor": "#EBF0F8",
           "linecolor": "#EBF0F8",
           "ticks": "",
           "title": {
            "standoff": 15
           },
           "zerolinecolor": "#EBF0F8",
           "zerolinewidth": 2
          }
         }
        },
        "title": {
         "text": "Reach from Different Sources"
        }
       }
      }
     },
     "metadata": {},
     "output_type": "display_data"
    }
   ],
   "source": [
    "reach_sources = ['From Home', 'From Hashtags', 'From Explore', 'From Other']\n",
    "reach_counts = [data[source].sum() for source in reach_sources]\n",
    "\n",
    "colors = ['#FFB6C1', '#87CEFA', '#90EE90', '#FFDAB9']\n",
    "\n",
    "fig = px.pie(data_frame=data, names=reach_sources, values=reach_counts, title='Reach from Different Sources', color_discrete_sequence=colors)\n",
    "\n",
    "fig.show()\n",
    "\n",
    "pio.write_image(fig, './images/image4.png')"
   ]
  },
  {
   "cell_type": "markdown",
   "metadata": {},
   "source": [
    " ![Plot Description](./images/image4.png)"
   ]
  },
  {
   "cell_type": "code",
   "execution_count": 24,
   "metadata": {},
   "outputs": [
    {
     "data": {
      "application/vnd.plotly.v1+json": {
       "config": {
        "plotlyServerURL": "https://plot.ly"
       },
       "data": [
        {
         "domain": {
          "x": [
           0,
           1
          ],
          "y": [
           0,
           1
          ]
         },
         "hovertemplate": "label=%{label}<br>value=%{value}<extra></extra>",
         "labels": [
          "Saves",
          "Comments",
          "Shares",
          "Likes"
         ],
         "legendgroup": "",
         "name": "",
         "showlegend": true,
         "type": "pie",
         "values": [
          18244,
          793,
          1114,
          20680
         ]
        }
       ],
       "layout": {
        "legend": {
         "tracegroupgap": 0
        },
        "piecolorway": [
         "#FFB6C1",
         "#87CEFA",
         "#90EE90",
         "#FFDAB9"
        ],
        "template": {
         "data": {
          "bar": [
           {
            "error_x": {
             "color": "#2a3f5f"
            },
            "error_y": {
             "color": "#2a3f5f"
            },
            "marker": {
             "line": {
              "color": "white",
              "width": 0.5
             },
             "pattern": {
              "fillmode": "overlay",
              "size": 10,
              "solidity": 0.2
             }
            },
            "type": "bar"
           }
          ],
          "barpolar": [
           {
            "marker": {
             "line": {
              "color": "white",
              "width": 0.5
             },
             "pattern": {
              "fillmode": "overlay",
              "size": 10,
              "solidity": 0.2
             }
            },
            "type": "barpolar"
           }
          ],
          "carpet": [
           {
            "aaxis": {
             "endlinecolor": "#2a3f5f",
             "gridcolor": "#C8D4E3",
             "linecolor": "#C8D4E3",
             "minorgridcolor": "#C8D4E3",
             "startlinecolor": "#2a3f5f"
            },
            "baxis": {
             "endlinecolor": "#2a3f5f",
             "gridcolor": "#C8D4E3",
             "linecolor": "#C8D4E3",
             "minorgridcolor": "#C8D4E3",
             "startlinecolor": "#2a3f5f"
            },
            "type": "carpet"
           }
          ],
          "choropleth": [
           {
            "colorbar": {
             "outlinewidth": 0,
             "ticks": ""
            },
            "type": "choropleth"
           }
          ],
          "contour": [
           {
            "colorbar": {
             "outlinewidth": 0,
             "ticks": ""
            },
            "colorscale": [
             [
              0,
              "#0d0887"
             ],
             [
              0.1111111111111111,
              "#46039f"
             ],
             [
              0.2222222222222222,
              "#7201a8"
             ],
             [
              0.3333333333333333,
              "#9c179e"
             ],
             [
              0.4444444444444444,
              "#bd3786"
             ],
             [
              0.5555555555555556,
              "#d8576b"
             ],
             [
              0.6666666666666666,
              "#ed7953"
             ],
             [
              0.7777777777777778,
              "#fb9f3a"
             ],
             [
              0.8888888888888888,
              "#fdca26"
             ],
             [
              1,
              "#f0f921"
             ]
            ],
            "type": "contour"
           }
          ],
          "contourcarpet": [
           {
            "colorbar": {
             "outlinewidth": 0,
             "ticks": ""
            },
            "type": "contourcarpet"
           }
          ],
          "heatmap": [
           {
            "colorbar": {
             "outlinewidth": 0,
             "ticks": ""
            },
            "colorscale": [
             [
              0,
              "#0d0887"
             ],
             [
              0.1111111111111111,
              "#46039f"
             ],
             [
              0.2222222222222222,
              "#7201a8"
             ],
             [
              0.3333333333333333,
              "#9c179e"
             ],
             [
              0.4444444444444444,
              "#bd3786"
             ],
             [
              0.5555555555555556,
              "#d8576b"
             ],
             [
              0.6666666666666666,
              "#ed7953"
             ],
             [
              0.7777777777777778,
              "#fb9f3a"
             ],
             [
              0.8888888888888888,
              "#fdca26"
             ],
             [
              1,
              "#f0f921"
             ]
            ],
            "type": "heatmap"
           }
          ],
          "heatmapgl": [
           {
            "colorbar": {
             "outlinewidth": 0,
             "ticks": ""
            },
            "colorscale": [
             [
              0,
              "#0d0887"
             ],
             [
              0.1111111111111111,
              "#46039f"
             ],
             [
              0.2222222222222222,
              "#7201a8"
             ],
             [
              0.3333333333333333,
              "#9c179e"
             ],
             [
              0.4444444444444444,
              "#bd3786"
             ],
             [
              0.5555555555555556,
              "#d8576b"
             ],
             [
              0.6666666666666666,
              "#ed7953"
             ],
             [
              0.7777777777777778,
              "#fb9f3a"
             ],
             [
              0.8888888888888888,
              "#fdca26"
             ],
             [
              1,
              "#f0f921"
             ]
            ],
            "type": "heatmapgl"
           }
          ],
          "histogram": [
           {
            "marker": {
             "pattern": {
              "fillmode": "overlay",
              "size": 10,
              "solidity": 0.2
             }
            },
            "type": "histogram"
           }
          ],
          "histogram2d": [
           {
            "colorbar": {
             "outlinewidth": 0,
             "ticks": ""
            },
            "colorscale": [
             [
              0,
              "#0d0887"
             ],
             [
              0.1111111111111111,
              "#46039f"
             ],
             [
              0.2222222222222222,
              "#7201a8"
             ],
             [
              0.3333333333333333,
              "#9c179e"
             ],
             [
              0.4444444444444444,
              "#bd3786"
             ],
             [
              0.5555555555555556,
              "#d8576b"
             ],
             [
              0.6666666666666666,
              "#ed7953"
             ],
             [
              0.7777777777777778,
              "#fb9f3a"
             ],
             [
              0.8888888888888888,
              "#fdca26"
             ],
             [
              1,
              "#f0f921"
             ]
            ],
            "type": "histogram2d"
           }
          ],
          "histogram2dcontour": [
           {
            "colorbar": {
             "outlinewidth": 0,
             "ticks": ""
            },
            "colorscale": [
             [
              0,
              "#0d0887"
             ],
             [
              0.1111111111111111,
              "#46039f"
             ],
             [
              0.2222222222222222,
              "#7201a8"
             ],
             [
              0.3333333333333333,
              "#9c179e"
             ],
             [
              0.4444444444444444,
              "#bd3786"
             ],
             [
              0.5555555555555556,
              "#d8576b"
             ],
             [
              0.6666666666666666,
              "#ed7953"
             ],
             [
              0.7777777777777778,
              "#fb9f3a"
             ],
             [
              0.8888888888888888,
              "#fdca26"
             ],
             [
              1,
              "#f0f921"
             ]
            ],
            "type": "histogram2dcontour"
           }
          ],
          "mesh3d": [
           {
            "colorbar": {
             "outlinewidth": 0,
             "ticks": ""
            },
            "type": "mesh3d"
           }
          ],
          "parcoords": [
           {
            "line": {
             "colorbar": {
              "outlinewidth": 0,
              "ticks": ""
             }
            },
            "type": "parcoords"
           }
          ],
          "pie": [
           {
            "automargin": true,
            "type": "pie"
           }
          ],
          "scatter": [
           {
            "fillpattern": {
             "fillmode": "overlay",
             "size": 10,
             "solidity": 0.2
            },
            "type": "scatter"
           }
          ],
          "scatter3d": [
           {
            "line": {
             "colorbar": {
              "outlinewidth": 0,
              "ticks": ""
             }
            },
            "marker": {
             "colorbar": {
              "outlinewidth": 0,
              "ticks": ""
             }
            },
            "type": "scatter3d"
           }
          ],
          "scattercarpet": [
           {
            "marker": {
             "colorbar": {
              "outlinewidth": 0,
              "ticks": ""
             }
            },
            "type": "scattercarpet"
           }
          ],
          "scattergeo": [
           {
            "marker": {
             "colorbar": {
              "outlinewidth": 0,
              "ticks": ""
             }
            },
            "type": "scattergeo"
           }
          ],
          "scattergl": [
           {
            "marker": {
             "colorbar": {
              "outlinewidth": 0,
              "ticks": ""
             }
            },
            "type": "scattergl"
           }
          ],
          "scattermapbox": [
           {
            "marker": {
             "colorbar": {
              "outlinewidth": 0,
              "ticks": ""
             }
            },
            "type": "scattermapbox"
           }
          ],
          "scatterpolar": [
           {
            "marker": {
             "colorbar": {
              "outlinewidth": 0,
              "ticks": ""
             }
            },
            "type": "scatterpolar"
           }
          ],
          "scatterpolargl": [
           {
            "marker": {
             "colorbar": {
              "outlinewidth": 0,
              "ticks": ""
             }
            },
            "type": "scatterpolargl"
           }
          ],
          "scatterternary": [
           {
            "marker": {
             "colorbar": {
              "outlinewidth": 0,
              "ticks": ""
             }
            },
            "type": "scatterternary"
           }
          ],
          "surface": [
           {
            "colorbar": {
             "outlinewidth": 0,
             "ticks": ""
            },
            "colorscale": [
             [
              0,
              "#0d0887"
             ],
             [
              0.1111111111111111,
              "#46039f"
             ],
             [
              0.2222222222222222,
              "#7201a8"
             ],
             [
              0.3333333333333333,
              "#9c179e"
             ],
             [
              0.4444444444444444,
              "#bd3786"
             ],
             [
              0.5555555555555556,
              "#d8576b"
             ],
             [
              0.6666666666666666,
              "#ed7953"
             ],
             [
              0.7777777777777778,
              "#fb9f3a"
             ],
             [
              0.8888888888888888,
              "#fdca26"
             ],
             [
              1,
              "#f0f921"
             ]
            ],
            "type": "surface"
           }
          ],
          "table": [
           {
            "cells": {
             "fill": {
              "color": "#EBF0F8"
             },
             "line": {
              "color": "white"
             }
            },
            "header": {
             "fill": {
              "color": "#C8D4E3"
             },
             "line": {
              "color": "white"
             }
            },
            "type": "table"
           }
          ]
         },
         "layout": {
          "annotationdefaults": {
           "arrowcolor": "#2a3f5f",
           "arrowhead": 0,
           "arrowwidth": 1
          },
          "autotypenumbers": "strict",
          "coloraxis": {
           "colorbar": {
            "outlinewidth": 0,
            "ticks": ""
           }
          },
          "colorscale": {
           "diverging": [
            [
             0,
             "#8e0152"
            ],
            [
             0.1,
             "#c51b7d"
            ],
            [
             0.2,
             "#de77ae"
            ],
            [
             0.3,
             "#f1b6da"
            ],
            [
             0.4,
             "#fde0ef"
            ],
            [
             0.5,
             "#f7f7f7"
            ],
            [
             0.6,
             "#e6f5d0"
            ],
            [
             0.7,
             "#b8e186"
            ],
            [
             0.8,
             "#7fbc41"
            ],
            [
             0.9,
             "#4d9221"
            ],
            [
             1,
             "#276419"
            ]
           ],
           "sequential": [
            [
             0,
             "#0d0887"
            ],
            [
             0.1111111111111111,
             "#46039f"
            ],
            [
             0.2222222222222222,
             "#7201a8"
            ],
            [
             0.3333333333333333,
             "#9c179e"
            ],
            [
             0.4444444444444444,
             "#bd3786"
            ],
            [
             0.5555555555555556,
             "#d8576b"
            ],
            [
             0.6666666666666666,
             "#ed7953"
            ],
            [
             0.7777777777777778,
             "#fb9f3a"
            ],
            [
             0.8888888888888888,
             "#fdca26"
            ],
            [
             1,
             "#f0f921"
            ]
           ],
           "sequentialminus": [
            [
             0,
             "#0d0887"
            ],
            [
             0.1111111111111111,
             "#46039f"
            ],
            [
             0.2222222222222222,
             "#7201a8"
            ],
            [
             0.3333333333333333,
             "#9c179e"
            ],
            [
             0.4444444444444444,
             "#bd3786"
            ],
            [
             0.5555555555555556,
             "#d8576b"
            ],
            [
             0.6666666666666666,
             "#ed7953"
            ],
            [
             0.7777777777777778,
             "#fb9f3a"
            ],
            [
             0.8888888888888888,
             "#fdca26"
            ],
            [
             1,
             "#f0f921"
            ]
           ]
          },
          "colorway": [
           "#636efa",
           "#EF553B",
           "#00cc96",
           "#ab63fa",
           "#FFA15A",
           "#19d3f3",
           "#FF6692",
           "#B6E880",
           "#FF97FF",
           "#FECB52"
          ],
          "font": {
           "color": "#2a3f5f"
          },
          "geo": {
           "bgcolor": "white",
           "lakecolor": "white",
           "landcolor": "white",
           "showlakes": true,
           "showland": true,
           "subunitcolor": "#C8D4E3"
          },
          "hoverlabel": {
           "align": "left"
          },
          "hovermode": "closest",
          "mapbox": {
           "style": "light"
          },
          "paper_bgcolor": "white",
          "plot_bgcolor": "white",
          "polar": {
           "angularaxis": {
            "gridcolor": "#EBF0F8",
            "linecolor": "#EBF0F8",
            "ticks": ""
           },
           "bgcolor": "white",
           "radialaxis": {
            "gridcolor": "#EBF0F8",
            "linecolor": "#EBF0F8",
            "ticks": ""
           }
          },
          "scene": {
           "xaxis": {
            "backgroundcolor": "white",
            "gridcolor": "#DFE8F3",
            "gridwidth": 2,
            "linecolor": "#EBF0F8",
            "showbackground": true,
            "ticks": "",
            "zerolinecolor": "#EBF0F8"
           },
           "yaxis": {
            "backgroundcolor": "white",
            "gridcolor": "#DFE8F3",
            "gridwidth": 2,
            "linecolor": "#EBF0F8",
            "showbackground": true,
            "ticks": "",
            "zerolinecolor": "#EBF0F8"
           },
           "zaxis": {
            "backgroundcolor": "white",
            "gridcolor": "#DFE8F3",
            "gridwidth": 2,
            "linecolor": "#EBF0F8",
            "showbackground": true,
            "ticks": "",
            "zerolinecolor": "#EBF0F8"
           }
          },
          "shapedefaults": {
           "line": {
            "color": "#2a3f5f"
           }
          },
          "ternary": {
           "aaxis": {
            "gridcolor": "#DFE8F3",
            "linecolor": "#A2B1C6",
            "ticks": ""
           },
           "baxis": {
            "gridcolor": "#DFE8F3",
            "linecolor": "#A2B1C6",
            "ticks": ""
           },
           "bgcolor": "white",
           "caxis": {
            "gridcolor": "#DFE8F3",
            "linecolor": "#A2B1C6",
            "ticks": ""
           }
          },
          "title": {
           "x": 0.05
          },
          "xaxis": {
           "automargin": true,
           "gridcolor": "#EBF0F8",
           "linecolor": "#EBF0F8",
           "ticks": "",
           "title": {
            "standoff": 15
           },
           "zerolinecolor": "#EBF0F8",
           "zerolinewidth": 2
          },
          "yaxis": {
           "automargin": true,
           "gridcolor": "#EBF0F8",
           "linecolor": "#EBF0F8",
           "ticks": "",
           "title": {
            "standoff": 15
           },
           "zerolinecolor": "#EBF0F8",
           "zerolinewidth": 2
          }
         }
        },
        "title": {
         "text": "Engagement Sources"
        }
       }
      }
     },
     "metadata": {},
     "output_type": "display_data"
    }
   ],
   "source": [
    "engagement_metrics = ['Saves', 'Comments', 'Shares', 'Likes']\n",
    "engagement_counts = [data[metric].sum() for metric in engagement_metrics]\n",
    "\n",
    "colors = ['#FFB6C1', '#87CEFA', '#90EE90', '#FFDAB9']\n",
    "\n",
    "fig = px.pie(data_frame=data, names=engagement_metrics, values=engagement_counts, title='Engagement Sources', color_discrete_sequence=colors)\n",
    "\n",
    "fig.show()\n",
    "\n",
    "pio.write_image(fig, './images/image5.png')"
   ]
  },
  {
   "cell_type": "markdown",
   "metadata": {},
   "source": [
    " ![Plot Description](./images/image5.png)"
   ]
  },
  {
   "cell_type": "markdown",
   "metadata": {},
   "source": [
    "- Now let's have a look at the relationship between th enumber of profile visits and follows"
   ]
  },
  {
   "cell_type": "code",
   "execution_count": 25,
   "metadata": {},
   "outputs": [
    {
     "data": {
      "application/vnd.plotly.v1+json": {
       "config": {
        "plotlyServerURL": "https://plot.ly"
       },
       "data": [
        {
         "hovertemplate": "Profile Visits=%{x}<br>Follows=%{y}<extra></extra>",
         "legendgroup": "",
         "marker": {
          "color": "#636efa",
          "symbol": "circle"
         },
         "mode": "markers",
         "name": "",
         "orientation": "v",
         "showlegend": false,
         "type": "scatter",
         "x": [
          35,
          48,
          62,
          23,
          8,
          9,
          26,
          12,
          36,
          31,
          29,
          15,
          8,
          20,
          181,
          17,
          16,
          21,
          77,
          10,
          9,
          11,
          144,
          14,
          10,
          19,
          69,
          11,
          19,
          9,
          57,
          13,
          11,
          24,
          81,
          4,
          7,
          14,
          18,
          8,
          330,
          21,
          19,
          32,
          19,
          21,
          14,
          30,
          39,
          42,
          31,
          20,
          12,
          22,
          306,
          13,
          26,
          16,
          15,
          15,
          39,
          21,
          8,
          45,
          50,
          37,
          25,
          347,
          26,
          48,
          16,
          26,
          17,
          52,
          22,
          41,
          155,
          12,
          22,
          20,
          23,
          25,
          17,
          16,
          21,
          77,
          10,
          14,
          30,
          39,
          42,
          31,
          14,
          10,
          19,
          69,
          11,
          19,
          9,
          38,
          42,
          92,
          75,
          21,
          26,
          39,
          74,
          467,
          24,
          70,
          22,
          46,
          61,
          237,
          73,
          20,
          34,
          148,
          611
         ],
         "xaxis": "x",
         "y": [
          2,
          10,
          12,
          8,
          0,
          2,
          0,
          6,
          4,
          6,
          4,
          0,
          2,
          4,
          42,
          6,
          2,
          2,
          30,
          0,
          0,
          24,
          100,
          2,
          4,
          6,
          6,
          6,
          2,
          2,
          20,
          2,
          4,
          8,
          26,
          2,
          2,
          4,
          0,
          2,
          94,
          8,
          18,
          10,
          4,
          4,
          4,
          4,
          18,
          38,
          10,
          12,
          4,
          4,
          74,
          0,
          6,
          6,
          0,
          6,
          12,
          10,
          8,
          8,
          46,
          12,
          10,
          94,
          6,
          10,
          6,
          4,
          12,
          16,
          12,
          8,
          32,
          8,
          16,
          6,
          10,
          10,
          6,
          2,
          2,
          30,
          0,
          4,
          4,
          18,
          38,
          10,
          2,
          4,
          6,
          6,
          6,
          2,
          2,
          14,
          8,
          14,
          28,
          18,
          12,
          34,
          26,
          260,
          16,
          96,
          20,
          30,
          58,
          100,
          80,
          18,
          10,
          214,
          228
         ],
         "yaxis": "y"
        },
        {
         "hovertemplate": "<b>OLS trendline</b><br>Follows = 0.400884 * Profile Visits + 0.46283<br>R<sup>2</sup>=0.727868<br><br>Profile Visits=%{x}<br>Follows=%{y} <b>(trend)</b><extra></extra>",
         "legendgroup": "",
         "marker": {
          "color": "#636efa",
          "symbol": "circle"
         },
         "mode": "lines",
         "name": "",
         "showlegend": false,
         "type": "scatter",
         "x": [
          4,
          7,
          8,
          8,
          8,
          8,
          9,
          9,
          9,
          9,
          10,
          10,
          10,
          10,
          11,
          11,
          11,
          11,
          12,
          12,
          12,
          13,
          13,
          14,
          14,
          14,
          14,
          14,
          15,
          15,
          15,
          16,
          16,
          16,
          16,
          17,
          17,
          17,
          18,
          19,
          19,
          19,
          19,
          19,
          19,
          20,
          20,
          20,
          20,
          21,
          21,
          21,
          21,
          21,
          21,
          22,
          22,
          22,
          22,
          23,
          23,
          24,
          24,
          25,
          25,
          26,
          26,
          26,
          26,
          26,
          29,
          30,
          30,
          31,
          31,
          31,
          32,
          34,
          35,
          36,
          37,
          38,
          39,
          39,
          39,
          39,
          41,
          42,
          42,
          42,
          45,
          46,
          48,
          48,
          50,
          52,
          57,
          61,
          62,
          69,
          69,
          70,
          73,
          74,
          75,
          77,
          77,
          81,
          92,
          144,
          148,
          155,
          181,
          237,
          306,
          330,
          347,
          467,
          611
         ],
         "xaxis": "x",
         "y": [
          2.066365070422533,
          3.269016056338026,
          3.669899718309857,
          3.669899718309857,
          3.669899718309857,
          3.669899718309857,
          4.0707833802816875,
          4.0707833802816875,
          4.0707833802816875,
          4.0707833802816875,
          4.471667042253519,
          4.471667042253519,
          4.471667042253519,
          4.471667042253519,
          4.87255070422535,
          4.87255070422535,
          4.87255070422535,
          4.87255070422535,
          5.273434366197181,
          5.273434366197181,
          5.273434366197181,
          5.6743180281690115,
          5.6743180281690115,
          6.075201690140843,
          6.075201690140843,
          6.075201690140843,
          6.075201690140843,
          6.075201690140843,
          6.476085352112674,
          6.476085352112674,
          6.476085352112674,
          6.876969014084505,
          6.876969014084505,
          6.876969014084505,
          6.876969014084505,
          7.277852676056336,
          7.277852676056336,
          7.277852676056336,
          7.678736338028167,
          8.079619999999998,
          8.079619999999998,
          8.079619999999998,
          8.079619999999998,
          8.079619999999998,
          8.079619999999998,
          8.480503661971829,
          8.480503661971829,
          8.480503661971829,
          8.480503661971829,
          8.88138732394366,
          8.88138732394366,
          8.88138732394366,
          8.88138732394366,
          8.88138732394366,
          8.88138732394366,
          9.282270985915492,
          9.282270985915492,
          9.282270985915492,
          9.282270985915492,
          9.683154647887322,
          9.683154647887322,
          10.084038309859153,
          10.084038309859153,
          10.484921971830984,
          10.484921971830984,
          10.885805633802814,
          10.885805633802814,
          10.885805633802814,
          10.885805633802814,
          10.885805633802814,
          12.088456619718308,
          12.48934028169014,
          12.48934028169014,
          12.89022394366197,
          12.89022394366197,
          12.89022394366197,
          13.291107605633801,
          14.092874929577462,
          14.493758591549295,
          14.894642253521125,
          15.295525915492956,
          15.696409577464788,
          16.097293239436617,
          16.097293239436617,
          16.097293239436617,
          16.097293239436617,
          16.89906056338028,
          17.29994422535211,
          17.29994422535211,
          17.29994422535211,
          18.502595211267604,
          18.903478873239436,
          19.705246197183097,
          19.705246197183097,
          20.50701352112676,
          21.30878084507042,
          23.313199154929578,
          24.9167338028169,
          25.317617464788732,
          28.123803098591548,
          28.123803098591548,
          28.52468676056338,
          29.727337746478874,
          30.128221408450703,
          30.529105070422535,
          31.330872394366196,
          31.330872394366196,
          32.934407042253525,
          37.34412732394367,
          58.19007774647888,
          59.79361239436619,
          62.59979802816902,
          73.02277323943662,
          95.47225830985916,
          123.13323098591549,
          132.75443887323945,
          139.56946112676056,
          187.6755005633803,
          245.40274788732395
         ],
         "yaxis": "y"
        }
       ],
       "layout": {
        "legend": {
         "tracegroupgap": 0
        },
        "template": {
         "data": {
          "bar": [
           {
            "error_x": {
             "color": "#2a3f5f"
            },
            "error_y": {
             "color": "#2a3f5f"
            },
            "marker": {
             "line": {
              "color": "white",
              "width": 0.5
             },
             "pattern": {
              "fillmode": "overlay",
              "size": 10,
              "solidity": 0.2
             }
            },
            "type": "bar"
           }
          ],
          "barpolar": [
           {
            "marker": {
             "line": {
              "color": "white",
              "width": 0.5
             },
             "pattern": {
              "fillmode": "overlay",
              "size": 10,
              "solidity": 0.2
             }
            },
            "type": "barpolar"
           }
          ],
          "carpet": [
           {
            "aaxis": {
             "endlinecolor": "#2a3f5f",
             "gridcolor": "#C8D4E3",
             "linecolor": "#C8D4E3",
             "minorgridcolor": "#C8D4E3",
             "startlinecolor": "#2a3f5f"
            },
            "baxis": {
             "endlinecolor": "#2a3f5f",
             "gridcolor": "#C8D4E3",
             "linecolor": "#C8D4E3",
             "minorgridcolor": "#C8D4E3",
             "startlinecolor": "#2a3f5f"
            },
            "type": "carpet"
           }
          ],
          "choropleth": [
           {
            "colorbar": {
             "outlinewidth": 0,
             "ticks": ""
            },
            "type": "choropleth"
           }
          ],
          "contour": [
           {
            "colorbar": {
             "outlinewidth": 0,
             "ticks": ""
            },
            "colorscale": [
             [
              0,
              "#0d0887"
             ],
             [
              0.1111111111111111,
              "#46039f"
             ],
             [
              0.2222222222222222,
              "#7201a8"
             ],
             [
              0.3333333333333333,
              "#9c179e"
             ],
             [
              0.4444444444444444,
              "#bd3786"
             ],
             [
              0.5555555555555556,
              "#d8576b"
             ],
             [
              0.6666666666666666,
              "#ed7953"
             ],
             [
              0.7777777777777778,
              "#fb9f3a"
             ],
             [
              0.8888888888888888,
              "#fdca26"
             ],
             [
              1,
              "#f0f921"
             ]
            ],
            "type": "contour"
           }
          ],
          "contourcarpet": [
           {
            "colorbar": {
             "outlinewidth": 0,
             "ticks": ""
            },
            "type": "contourcarpet"
           }
          ],
          "heatmap": [
           {
            "colorbar": {
             "outlinewidth": 0,
             "ticks": ""
            },
            "colorscale": [
             [
              0,
              "#0d0887"
             ],
             [
              0.1111111111111111,
              "#46039f"
             ],
             [
              0.2222222222222222,
              "#7201a8"
             ],
             [
              0.3333333333333333,
              "#9c179e"
             ],
             [
              0.4444444444444444,
              "#bd3786"
             ],
             [
              0.5555555555555556,
              "#d8576b"
             ],
             [
              0.6666666666666666,
              "#ed7953"
             ],
             [
              0.7777777777777778,
              "#fb9f3a"
             ],
             [
              0.8888888888888888,
              "#fdca26"
             ],
             [
              1,
              "#f0f921"
             ]
            ],
            "type": "heatmap"
           }
          ],
          "heatmapgl": [
           {
            "colorbar": {
             "outlinewidth": 0,
             "ticks": ""
            },
            "colorscale": [
             [
              0,
              "#0d0887"
             ],
             [
              0.1111111111111111,
              "#46039f"
             ],
             [
              0.2222222222222222,
              "#7201a8"
             ],
             [
              0.3333333333333333,
              "#9c179e"
             ],
             [
              0.4444444444444444,
              "#bd3786"
             ],
             [
              0.5555555555555556,
              "#d8576b"
             ],
             [
              0.6666666666666666,
              "#ed7953"
             ],
             [
              0.7777777777777778,
              "#fb9f3a"
             ],
             [
              0.8888888888888888,
              "#fdca26"
             ],
             [
              1,
              "#f0f921"
             ]
            ],
            "type": "heatmapgl"
           }
          ],
          "histogram": [
           {
            "marker": {
             "pattern": {
              "fillmode": "overlay",
              "size": 10,
              "solidity": 0.2
             }
            },
            "type": "histogram"
           }
          ],
          "histogram2d": [
           {
            "colorbar": {
             "outlinewidth": 0,
             "ticks": ""
            },
            "colorscale": [
             [
              0,
              "#0d0887"
             ],
             [
              0.1111111111111111,
              "#46039f"
             ],
             [
              0.2222222222222222,
              "#7201a8"
             ],
             [
              0.3333333333333333,
              "#9c179e"
             ],
             [
              0.4444444444444444,
              "#bd3786"
             ],
             [
              0.5555555555555556,
              "#d8576b"
             ],
             [
              0.6666666666666666,
              "#ed7953"
             ],
             [
              0.7777777777777778,
              "#fb9f3a"
             ],
             [
              0.8888888888888888,
              "#fdca26"
             ],
             [
              1,
              "#f0f921"
             ]
            ],
            "type": "histogram2d"
           }
          ],
          "histogram2dcontour": [
           {
            "colorbar": {
             "outlinewidth": 0,
             "ticks": ""
            },
            "colorscale": [
             [
              0,
              "#0d0887"
             ],
             [
              0.1111111111111111,
              "#46039f"
             ],
             [
              0.2222222222222222,
              "#7201a8"
             ],
             [
              0.3333333333333333,
              "#9c179e"
             ],
             [
              0.4444444444444444,
              "#bd3786"
             ],
             [
              0.5555555555555556,
              "#d8576b"
             ],
             [
              0.6666666666666666,
              "#ed7953"
             ],
             [
              0.7777777777777778,
              "#fb9f3a"
             ],
             [
              0.8888888888888888,
              "#fdca26"
             ],
             [
              1,
              "#f0f921"
             ]
            ],
            "type": "histogram2dcontour"
           }
          ],
          "mesh3d": [
           {
            "colorbar": {
             "outlinewidth": 0,
             "ticks": ""
            },
            "type": "mesh3d"
           }
          ],
          "parcoords": [
           {
            "line": {
             "colorbar": {
              "outlinewidth": 0,
              "ticks": ""
             }
            },
            "type": "parcoords"
           }
          ],
          "pie": [
           {
            "automargin": true,
            "type": "pie"
           }
          ],
          "scatter": [
           {
            "fillpattern": {
             "fillmode": "overlay",
             "size": 10,
             "solidity": 0.2
            },
            "type": "scatter"
           }
          ],
          "scatter3d": [
           {
            "line": {
             "colorbar": {
              "outlinewidth": 0,
              "ticks": ""
             }
            },
            "marker": {
             "colorbar": {
              "outlinewidth": 0,
              "ticks": ""
             }
            },
            "type": "scatter3d"
           }
          ],
          "scattercarpet": [
           {
            "marker": {
             "colorbar": {
              "outlinewidth": 0,
              "ticks": ""
             }
            },
            "type": "scattercarpet"
           }
          ],
          "scattergeo": [
           {
            "marker": {
             "colorbar": {
              "outlinewidth": 0,
              "ticks": ""
             }
            },
            "type": "scattergeo"
           }
          ],
          "scattergl": [
           {
            "marker": {
             "colorbar": {
              "outlinewidth": 0,
              "ticks": ""
             }
            },
            "type": "scattergl"
           }
          ],
          "scattermapbox": [
           {
            "marker": {
             "colorbar": {
              "outlinewidth": 0,
              "ticks": ""
             }
            },
            "type": "scattermapbox"
           }
          ],
          "scatterpolar": [
           {
            "marker": {
             "colorbar": {
              "outlinewidth": 0,
              "ticks": ""
             }
            },
            "type": "scatterpolar"
           }
          ],
          "scatterpolargl": [
           {
            "marker": {
             "colorbar": {
              "outlinewidth": 0,
              "ticks": ""
             }
            },
            "type": "scatterpolargl"
           }
          ],
          "scatterternary": [
           {
            "marker": {
             "colorbar": {
              "outlinewidth": 0,
              "ticks": ""
             }
            },
            "type": "scatterternary"
           }
          ],
          "surface": [
           {
            "colorbar": {
             "outlinewidth": 0,
             "ticks": ""
            },
            "colorscale": [
             [
              0,
              "#0d0887"
             ],
             [
              0.1111111111111111,
              "#46039f"
             ],
             [
              0.2222222222222222,
              "#7201a8"
             ],
             [
              0.3333333333333333,
              "#9c179e"
             ],
             [
              0.4444444444444444,
              "#bd3786"
             ],
             [
              0.5555555555555556,
              "#d8576b"
             ],
             [
              0.6666666666666666,
              "#ed7953"
             ],
             [
              0.7777777777777778,
              "#fb9f3a"
             ],
             [
              0.8888888888888888,
              "#fdca26"
             ],
             [
              1,
              "#f0f921"
             ]
            ],
            "type": "surface"
           }
          ],
          "table": [
           {
            "cells": {
             "fill": {
              "color": "#EBF0F8"
             },
             "line": {
              "color": "white"
             }
            },
            "header": {
             "fill": {
              "color": "#C8D4E3"
             },
             "line": {
              "color": "white"
             }
            },
            "type": "table"
           }
          ]
         },
         "layout": {
          "annotationdefaults": {
           "arrowcolor": "#2a3f5f",
           "arrowhead": 0,
           "arrowwidth": 1
          },
          "autotypenumbers": "strict",
          "coloraxis": {
           "colorbar": {
            "outlinewidth": 0,
            "ticks": ""
           }
          },
          "colorscale": {
           "diverging": [
            [
             0,
             "#8e0152"
            ],
            [
             0.1,
             "#c51b7d"
            ],
            [
             0.2,
             "#de77ae"
            ],
            [
             0.3,
             "#f1b6da"
            ],
            [
             0.4,
             "#fde0ef"
            ],
            [
             0.5,
             "#f7f7f7"
            ],
            [
             0.6,
             "#e6f5d0"
            ],
            [
             0.7,
             "#b8e186"
            ],
            [
             0.8,
             "#7fbc41"
            ],
            [
             0.9,
             "#4d9221"
            ],
            [
             1,
             "#276419"
            ]
           ],
           "sequential": [
            [
             0,
             "#0d0887"
            ],
            [
             0.1111111111111111,
             "#46039f"
            ],
            [
             0.2222222222222222,
             "#7201a8"
            ],
            [
             0.3333333333333333,
             "#9c179e"
            ],
            [
             0.4444444444444444,
             "#bd3786"
            ],
            [
             0.5555555555555556,
             "#d8576b"
            ],
            [
             0.6666666666666666,
             "#ed7953"
            ],
            [
             0.7777777777777778,
             "#fb9f3a"
            ],
            [
             0.8888888888888888,
             "#fdca26"
            ],
            [
             1,
             "#f0f921"
            ]
           ],
           "sequentialminus": [
            [
             0,
             "#0d0887"
            ],
            [
             0.1111111111111111,
             "#46039f"
            ],
            [
             0.2222222222222222,
             "#7201a8"
            ],
            [
             0.3333333333333333,
             "#9c179e"
            ],
            [
             0.4444444444444444,
             "#bd3786"
            ],
            [
             0.5555555555555556,
             "#d8576b"
            ],
            [
             0.6666666666666666,
             "#ed7953"
            ],
            [
             0.7777777777777778,
             "#fb9f3a"
            ],
            [
             0.8888888888888888,
             "#fdca26"
            ],
            [
             1,
             "#f0f921"
            ]
           ]
          },
          "colorway": [
           "#636efa",
           "#EF553B",
           "#00cc96",
           "#ab63fa",
           "#FFA15A",
           "#19d3f3",
           "#FF6692",
           "#B6E880",
           "#FF97FF",
           "#FECB52"
          ],
          "font": {
           "color": "#2a3f5f"
          },
          "geo": {
           "bgcolor": "white",
           "lakecolor": "white",
           "landcolor": "white",
           "showlakes": true,
           "showland": true,
           "subunitcolor": "#C8D4E3"
          },
          "hoverlabel": {
           "align": "left"
          },
          "hovermode": "closest",
          "mapbox": {
           "style": "light"
          },
          "paper_bgcolor": "white",
          "plot_bgcolor": "white",
          "polar": {
           "angularaxis": {
            "gridcolor": "#EBF0F8",
            "linecolor": "#EBF0F8",
            "ticks": ""
           },
           "bgcolor": "white",
           "radialaxis": {
            "gridcolor": "#EBF0F8",
            "linecolor": "#EBF0F8",
            "ticks": ""
           }
          },
          "scene": {
           "xaxis": {
            "backgroundcolor": "white",
            "gridcolor": "#DFE8F3",
            "gridwidth": 2,
            "linecolor": "#EBF0F8",
            "showbackground": true,
            "ticks": "",
            "zerolinecolor": "#EBF0F8"
           },
           "yaxis": {
            "backgroundcolor": "white",
            "gridcolor": "#DFE8F3",
            "gridwidth": 2,
            "linecolor": "#EBF0F8",
            "showbackground": true,
            "ticks": "",
            "zerolinecolor": "#EBF0F8"
           },
           "zaxis": {
            "backgroundcolor": "white",
            "gridcolor": "#DFE8F3",
            "gridwidth": 2,
            "linecolor": "#EBF0F8",
            "showbackground": true,
            "ticks": "",
            "zerolinecolor": "#EBF0F8"
           }
          },
          "shapedefaults": {
           "line": {
            "color": "#2a3f5f"
           }
          },
          "ternary": {
           "aaxis": {
            "gridcolor": "#DFE8F3",
            "linecolor": "#A2B1C6",
            "ticks": ""
           },
           "baxis": {
            "gridcolor": "#DFE8F3",
            "linecolor": "#A2B1C6",
            "ticks": ""
           },
           "bgcolor": "white",
           "caxis": {
            "gridcolor": "#DFE8F3",
            "linecolor": "#A2B1C6",
            "ticks": ""
           }
          },
          "title": {
           "x": 0.05
          },
          "xaxis": {
           "automargin": true,
           "gridcolor": "#EBF0F8",
           "linecolor": "#EBF0F8",
           "ticks": "",
           "title": {
            "standoff": 15
           },
           "zerolinecolor": "#EBF0F8",
           "zerolinewidth": 2
          },
          "yaxis": {
           "automargin": true,
           "gridcolor": "#EBF0F8",
           "linecolor": "#EBF0F8",
           "ticks": "",
           "title": {
            "standoff": 15
           },
           "zerolinecolor": "#EBF0F8",
           "zerolinewidth": 2
          }
         }
        },
        "title": {
         "text": "Profile Visits vs. Follows"
        },
        "xaxis": {
         "anchor": "y",
         "domain": [
          0,
          1
         ],
         "title": {
          "text": "Profile Visits"
         }
        },
        "yaxis": {
         "anchor": "x",
         "domain": [
          0,
          1
         ],
         "title": {
          "text": "Follows"
         }
        }
       }
      }
     },
     "metadata": {},
     "output_type": "display_data"
    }
   ],
   "source": [
    "fig = px.scatter(data_frame=data, x='Profile Visits', y='Follows', trendline='ols', title='Profile Visits vs. Follows')\n",
    "\n",
    "fig.show()\n",
    "\n",
    "pio.write_image(fig, './images/image6.png')"
   ]
  },
  {
   "cell_type": "markdown",
   "metadata": {},
   "source": [
    " ![Plot Description](./images/image6.png)"
   ]
  },
  {
   "cell_type": "markdown",
   "metadata": {},
   "source": [
    "- Now let's have a look at the type of hastags used in the posts using a wordcloud"
   ]
  },
  {
   "cell_type": "code",
   "execution_count": 26,
   "metadata": {},
   "outputs": [
    {
     "data": {
      "application/vnd.plotly.v1+json": {
       "config": {
        "plotlyServerURL": "https://plot.ly"
       },
       "data": [
        {
         "hovertemplate": "x: %{x}<br>y: %{y}<br>color: [%{z[0]}, %{z[1]}, %{z[2]}]<extra></extra>",
         "name": "0",
         "source": "data:image/png;base64,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",
         "type": "image",
         "xaxis": "x",
         "yaxis": "y"
        }
       ],
       "layout": {
        "template": {
         "data": {
          "bar": [
           {
            "error_x": {
             "color": "#2a3f5f"
            },
            "error_y": {
             "color": "#2a3f5f"
            },
            "marker": {
             "line": {
              "color": "white",
              "width": 0.5
             },
             "pattern": {
              "fillmode": "overlay",
              "size": 10,
              "solidity": 0.2
             }
            },
            "type": "bar"
           }
          ],
          "barpolar": [
           {
            "marker": {
             "line": {
              "color": "white",
              "width": 0.5
             },
             "pattern": {
              "fillmode": "overlay",
              "size": 10,
              "solidity": 0.2
             }
            },
            "type": "barpolar"
           }
          ],
          "carpet": [
           {
            "aaxis": {
             "endlinecolor": "#2a3f5f",
             "gridcolor": "#C8D4E3",
             "linecolor": "#C8D4E3",
             "minorgridcolor": "#C8D4E3",
             "startlinecolor": "#2a3f5f"
            },
            "baxis": {
             "endlinecolor": "#2a3f5f",
             "gridcolor": "#C8D4E3",
             "linecolor": "#C8D4E3",
             "minorgridcolor": "#C8D4E3",
             "startlinecolor": "#2a3f5f"
            },
            "type": "carpet"
           }
          ],
          "choropleth": [
           {
            "colorbar": {
             "outlinewidth": 0,
             "ticks": ""
            },
            "type": "choropleth"
           }
          ],
          "contour": [
           {
            "colorbar": {
             "outlinewidth": 0,
             "ticks": ""
            },
            "colorscale": [
             [
              0,
              "#0d0887"
             ],
             [
              0.1111111111111111,
              "#46039f"
             ],
             [
              0.2222222222222222,
              "#7201a8"
             ],
             [
              0.3333333333333333,
              "#9c179e"
             ],
             [
              0.4444444444444444,
              "#bd3786"
             ],
             [
              0.5555555555555556,
              "#d8576b"
             ],
             [
              0.6666666666666666,
              "#ed7953"
             ],
             [
              0.7777777777777778,
              "#fb9f3a"
             ],
             [
              0.8888888888888888,
              "#fdca26"
             ],
             [
              1,
              "#f0f921"
             ]
            ],
            "type": "contour"
           }
          ],
          "contourcarpet": [
           {
            "colorbar": {
             "outlinewidth": 0,
             "ticks": ""
            },
            "type": "contourcarpet"
           }
          ],
          "heatmap": [
           {
            "colorbar": {
             "outlinewidth": 0,
             "ticks": ""
            },
            "colorscale": [
             [
              0,
              "#0d0887"
             ],
             [
              0.1111111111111111,
              "#46039f"
             ],
             [
              0.2222222222222222,
              "#7201a8"
             ],
             [
              0.3333333333333333,
              "#9c179e"
             ],
             [
              0.4444444444444444,
              "#bd3786"
             ],
             [
              0.5555555555555556,
              "#d8576b"
             ],
             [
              0.6666666666666666,
              "#ed7953"
             ],
             [
              0.7777777777777778,
              "#fb9f3a"
             ],
             [
              0.8888888888888888,
              "#fdca26"
             ],
             [
              1,
              "#f0f921"
             ]
            ],
            "type": "heatmap"
           }
          ],
          "heatmapgl": [
           {
            "colorbar": {
             "outlinewidth": 0,
             "ticks": ""
            },
            "colorscale": [
             [
              0,
              "#0d0887"
             ],
             [
              0.1111111111111111,
              "#46039f"
             ],
             [
              0.2222222222222222,
              "#7201a8"
             ],
             [
              0.3333333333333333,
              "#9c179e"
             ],
             [
              0.4444444444444444,
              "#bd3786"
             ],
             [
              0.5555555555555556,
              "#d8576b"
             ],
             [
              0.6666666666666666,
              "#ed7953"
             ],
             [
              0.7777777777777778,
              "#fb9f3a"
             ],
             [
              0.8888888888888888,
              "#fdca26"
             ],
             [
              1,
              "#f0f921"
             ]
            ],
            "type": "heatmapgl"
           }
          ],
          "histogram": [
           {
            "marker": {
             "pattern": {
              "fillmode": "overlay",
              "size": 10,
              "solidity": 0.2
             }
            },
            "type": "histogram"
           }
          ],
          "histogram2d": [
           {
            "colorbar": {
             "outlinewidth": 0,
             "ticks": ""
            },
            "colorscale": [
             [
              0,
              "#0d0887"
             ],
             [
              0.1111111111111111,
              "#46039f"
             ],
             [
              0.2222222222222222,
              "#7201a8"
             ],
             [
              0.3333333333333333,
              "#9c179e"
             ],
             [
              0.4444444444444444,
              "#bd3786"
             ],
             [
              0.5555555555555556,
              "#d8576b"
             ],
             [
              0.6666666666666666,
              "#ed7953"
             ],
             [
              0.7777777777777778,
              "#fb9f3a"
             ],
             [
              0.8888888888888888,
              "#fdca26"
             ],
             [
              1,
              "#f0f921"
             ]
            ],
            "type": "histogram2d"
           }
          ],
          "histogram2dcontour": [
           {
            "colorbar": {
             "outlinewidth": 0,
             "ticks": ""
            },
            "colorscale": [
             [
              0,
              "#0d0887"
             ],
             [
              0.1111111111111111,
              "#46039f"
             ],
             [
              0.2222222222222222,
              "#7201a8"
             ],
             [
              0.3333333333333333,
              "#9c179e"
             ],
             [
              0.4444444444444444,
              "#bd3786"
             ],
             [
              0.5555555555555556,
              "#d8576b"
             ],
             [
              0.6666666666666666,
              "#ed7953"
             ],
             [
              0.7777777777777778,
              "#fb9f3a"
             ],
             [
              0.8888888888888888,
              "#fdca26"
             ],
             [
              1,
              "#f0f921"
             ]
            ],
            "type": "histogram2dcontour"
           }
          ],
          "mesh3d": [
           {
            "colorbar": {
             "outlinewidth": 0,
             "ticks": ""
            },
            "type": "mesh3d"
           }
          ],
          "parcoords": [
           {
            "line": {
             "colorbar": {
              "outlinewidth": 0,
              "ticks": ""
             }
            },
            "type": "parcoords"
           }
          ],
          "pie": [
           {
            "automargin": true,
            "type": "pie"
           }
          ],
          "scatter": [
           {
            "fillpattern": {
             "fillmode": "overlay",
             "size": 10,
             "solidity": 0.2
            },
            "type": "scatter"
           }
          ],
          "scatter3d": [
           {
            "line": {
             "colorbar": {
              "outlinewidth": 0,
              "ticks": ""
             }
            },
            "marker": {
             "colorbar": {
              "outlinewidth": 0,
              "ticks": ""
             }
            },
            "type": "scatter3d"
           }
          ],
          "scattercarpet": [
           {
            "marker": {
             "colorbar": {
              "outlinewidth": 0,
              "ticks": ""
             }
            },
            "type": "scattercarpet"
           }
          ],
          "scattergeo": [
           {
            "marker": {
             "colorbar": {
              "outlinewidth": 0,
              "ticks": ""
             }
            },
            "type": "scattergeo"
           }
          ],
          "scattergl": [
           {
            "marker": {
             "colorbar": {
              "outlinewidth": 0,
              "ticks": ""
             }
            },
            "type": "scattergl"
           }
          ],
          "scattermapbox": [
           {
            "marker": {
             "colorbar": {
              "outlinewidth": 0,
              "ticks": ""
             }
            },
            "type": "scattermapbox"
           }
          ],
          "scatterpolar": [
           {
            "marker": {
             "colorbar": {
              "outlinewidth": 0,
              "ticks": ""
             }
            },
            "type": "scatterpolar"
           }
          ],
          "scatterpolargl": [
           {
            "marker": {
             "colorbar": {
              "outlinewidth": 0,
              "ticks": ""
             }
            },
            "type": "scatterpolargl"
           }
          ],
          "scatterternary": [
           {
            "marker": {
             "colorbar": {
              "outlinewidth": 0,
              "ticks": ""
             }
            },
            "type": "scatterternary"
           }
          ],
          "surface": [
           {
            "colorbar": {
             "outlinewidth": 0,
             "ticks": ""
            },
            "colorscale": [
             [
              0,
              "#0d0887"
             ],
             [
              0.1111111111111111,
              "#46039f"
             ],
             [
              0.2222222222222222,
              "#7201a8"
             ],
             [
              0.3333333333333333,
              "#9c179e"
             ],
             [
              0.4444444444444444,
              "#bd3786"
             ],
             [
              0.5555555555555556,
              "#d8576b"
             ],
             [
              0.6666666666666666,
              "#ed7953"
             ],
             [
              0.7777777777777778,
              "#fb9f3a"
             ],
             [
              0.8888888888888888,
              "#fdca26"
             ],
             [
              1,
              "#f0f921"
             ]
            ],
            "type": "surface"
           }
          ],
          "table": [
           {
            "cells": {
             "fill": {
              "color": "#EBF0F8"
             },
             "line": {
              "color": "white"
             }
            },
            "header": {
             "fill": {
              "color": "#C8D4E3"
             },
             "line": {
              "color": "white"
             }
            },
            "type": "table"
           }
          ]
         },
         "layout": {
          "annotationdefaults": {
           "arrowcolor": "#2a3f5f",
           "arrowhead": 0,
           "arrowwidth": 1
          },
          "autotypenumbers": "strict",
          "coloraxis": {
           "colorbar": {
            "outlinewidth": 0,
            "ticks": ""
           }
          },
          "colorscale": {
           "diverging": [
            [
             0,
             "#8e0152"
            ],
            [
             0.1,
             "#c51b7d"
            ],
            [
             0.2,
             "#de77ae"
            ],
            [
             0.3,
             "#f1b6da"
            ],
            [
             0.4,
             "#fde0ef"
            ],
            [
             0.5,
             "#f7f7f7"
            ],
            [
             0.6,
             "#e6f5d0"
            ],
            [
             0.7,
             "#b8e186"
            ],
            [
             0.8,
             "#7fbc41"
            ],
            [
             0.9,
             "#4d9221"
            ],
            [
             1,
             "#276419"
            ]
           ],
           "sequential": [
            [
             0,
             "#0d0887"
            ],
            [
             0.1111111111111111,
             "#46039f"
            ],
            [
             0.2222222222222222,
             "#7201a8"
            ],
            [
             0.3333333333333333,
             "#9c179e"
            ],
            [
             0.4444444444444444,
             "#bd3786"
            ],
            [
             0.5555555555555556,
             "#d8576b"
            ],
            [
             0.6666666666666666,
             "#ed7953"
            ],
            [
             0.7777777777777778,
             "#fb9f3a"
            ],
            [
             0.8888888888888888,
             "#fdca26"
            ],
            [
             1,
             "#f0f921"
            ]
           ],
           "sequentialminus": [
            [
             0,
             "#0d0887"
            ],
            [
             0.1111111111111111,
             "#46039f"
            ],
            [
             0.2222222222222222,
             "#7201a8"
            ],
            [
             0.3333333333333333,
             "#9c179e"
            ],
            [
             0.4444444444444444,
             "#bd3786"
            ],
            [
             0.5555555555555556,
             "#d8576b"
            ],
            [
             0.6666666666666666,
             "#ed7953"
            ],
            [
             0.7777777777777778,
             "#fb9f3a"
            ],
            [
             0.8888888888888888,
             "#fdca26"
            ],
            [
             1,
             "#f0f921"
            ]
           ]
          },
          "colorway": [
           "#636efa",
           "#EF553B",
           "#00cc96",
           "#ab63fa",
           "#FFA15A",
           "#19d3f3",
           "#FF6692",
           "#B6E880",
           "#FF97FF",
           "#FECB52"
          ],
          "font": {
           "color": "#2a3f5f"
          },
          "geo": {
           "bgcolor": "white",
           "lakecolor": "white",
           "landcolor": "white",
           "showlakes": true,
           "showland": true,
           "subunitcolor": "#C8D4E3"
          },
          "hoverlabel": {
           "align": "left"
          },
          "hovermode": "closest",
          "mapbox": {
           "style": "light"
          },
          "paper_bgcolor": "white",
          "plot_bgcolor": "white",
          "polar": {
           "angularaxis": {
            "gridcolor": "#EBF0F8",
            "linecolor": "#EBF0F8",
            "ticks": ""
           },
           "bgcolor": "white",
           "radialaxis": {
            "gridcolor": "#EBF0F8",
            "linecolor": "#EBF0F8",
            "ticks": ""
           }
          },
          "scene": {
           "xaxis": {
            "backgroundcolor": "white",
            "gridcolor": "#DFE8F3",
            "gridwidth": 2,
            "linecolor": "#EBF0F8",
            "showbackground": true,
            "ticks": "",
            "zerolinecolor": "#EBF0F8"
           },
           "yaxis": {
            "backgroundcolor": "white",
            "gridcolor": "#DFE8F3",
            "gridwidth": 2,
            "linecolor": "#EBF0F8",
            "showbackground": true,
            "ticks": "",
            "zerolinecolor": "#EBF0F8"
           },
           "zaxis": {
            "backgroundcolor": "white",
            "gridcolor": "#DFE8F3",
            "gridwidth": 2,
            "linecolor": "#EBF0F8",
            "showbackground": true,
            "ticks": "",
            "zerolinecolor": "#EBF0F8"
           }
          },
          "shapedefaults": {
           "line": {
            "color": "#2a3f5f"
           }
          },
          "ternary": {
           "aaxis": {
            "gridcolor": "#DFE8F3",
            "linecolor": "#A2B1C6",
            "ticks": ""
           },
           "baxis": {
            "gridcolor": "#DFE8F3",
            "linecolor": "#A2B1C6",
            "ticks": ""
           },
           "bgcolor": "white",
           "caxis": {
            "gridcolor": "#DFE8F3",
            "linecolor": "#A2B1C6",
            "ticks": ""
           }
          },
          "title": {
           "x": 0.05
          },
          "xaxis": {
           "automargin": true,
           "gridcolor": "#EBF0F8",
           "linecolor": "#EBF0F8",
           "ticks": "",
           "title": {
            "standoff": 15
           },
           "zerolinecolor": "#EBF0F8",
           "zerolinewidth": 2
          },
          "yaxis": {
           "automargin": true,
           "gridcolor": "#EBF0F8",
           "linecolor": "#EBF0F8",
           "ticks": "",
           "title": {
            "standoff": 15
           },
           "zerolinecolor": "#EBF0F8",
           "zerolinewidth": 2
          }
         }
        },
        "title": {
         "text": "Hashtags Word Cloud"
        },
        "xaxis": {
         "anchor": "y",
         "domain": [
          0,
          1
         ]
        },
        "yaxis": {
         "anchor": "x",
         "domain": [
          0,
          1
         ]
        }
       }
      }
     },
     "metadata": {},
     "output_type": "display_data"
    }
   ],
   "source": [
    "from wordcloud import WordCloud\n",
    "\n",
    "hashtags = ' '.join(data['Hashtags'].astype(str))\n",
    "wordcloud = WordCloud().generate(hashtags)\n",
    "\n",
    "fig = px.imshow(wordcloud, title='Hashtags Word Cloud')\n",
    "\n",
    "fig.show()\n",
    "\n",
    "pio.write_image(fig, './images/image7.png')"
   ]
  },
  {
   "cell_type": "markdown",
   "metadata": {},
   "source": [
    " ![Plot Description](./images/image7.png)"
   ]
  },
  {
   "cell_type": "markdown",
   "metadata": {},
   "source": [
    "- Now let's have a look at the correlataion between all the features"
   ]
  },
  {
   "cell_type": "code",
   "execution_count": 27,
   "metadata": {},
   "outputs": [
    {
     "data": {
      "application/vnd.plotly.v1+json": {
       "config": {
        "plotlyServerURL": "https://plot.ly"
       },
       "data": [
        {
         "colorscale": [
          [
           0,
           "rgb(103,0,31)"
          ],
          [
           0.1,
           "rgb(178,24,43)"
          ],
          [
           0.2,
           "rgb(214,96,77)"
          ],
          [
           0.3,
           "rgb(244,165,130)"
          ],
          [
           0.4,
           "rgb(253,219,199)"
          ],
          [
           0.5,
           "rgb(247,247,247)"
          ],
          [
           0.6,
           "rgb(209,229,240)"
          ],
          [
           0.7,
           "rgb(146,197,222)"
          ],
          [
           0.8,
           "rgb(67,147,195)"
          ],
          [
           0.9,
           "rgb(33,102,172)"
          ],
          [
           1,
           "rgb(5,48,97)"
          ]
         ],
         "type": "heatmap",
         "x": [
          "Impressions",
          "From Home",
          "From Hashtags",
          "From Explore",
          "From Other",
          "Saves",
          "Comments",
          "Shares",
          "Likes",
          "Profile Visits",
          "Follows"
         ],
         "y": [
          "Impressions",
          "From Home",
          "From Hashtags",
          "From Explore",
          "From Other",
          "Saves",
          "Comments",
          "Shares",
          "Likes",
          "Profile Visits",
          "Follows"
         ],
         "z": [
          [
           1,
           0.8446984764644079,
           0.5607600444158378,
           0.8936074202433567,
           0.5929604758091378,
           0.7792314114268593,
           -0.028523933548663824,
           0.6346751252181763,
           0.8498353377178177,
           0.7609809286546657,
           0.8893634430344086
          ],
          [
           0.8446984764644079,
           1,
           0.1775156543309878,
           0.800573110578866,
           0.5556659551465412,
           0.768817005684724,
           0.012716248342545502,
           0.6749850448685393,
           0.698329637893805,
           0.531076205366268,
           0.6726750588858736
          ],
          [
           0.5607600444158378,
           0.1775156543309878,
           1,
           0.1904532189703739,
           0.2296233181732429,
           0.30592870314657494,
           0.1614388259073108,
           0.21951145515685286,
           0.6621242000877943,
           0.6913449048454711,
           0.5554854735531087
          ],
          [
           0.8936074202433567,
           0.800573110578866,
           0.1904532189703739,
           1,
           0.49568473618614567,
           0.7478028035868068,
           -0.15856537914498336,
           0.6157309658741993,
           0.653699336224973,
           0.5318502558055156,
           0.7960189422044351
          ],
          [
           0.5929604758091378,
           0.5556659551465412,
           0.2296233181732429,
           0.49568473618614567,
           1,
           0.3319068864386735,
           -0.1087029734222875,
           0.15683375635736396,
           0.3935104122090607,
           0.6330799446255249,
           0.5467370225356449
          ],
          [
           0.7792314114268593,
           0.768817005684724,
           0.30592870314657494,
           0.7478028035868068,
           0.3319068864386735,
           1,
           -0.026912263707560984,
           0.860324185158795,
           0.8456432932068351,
           0.36062821319868793,
           0.6284608823148304
          ],
          [
           -0.028523933548663824,
           0.012716248342545502,
           0.1614388259073108,
           -0.15856537914498336,
           -0.1087029734222875,
           -0.026912263707560984,
           1,
           0.016932532855360494,
           0.1235861027264814,
           0.09671424134518669,
           -0.060630774375331827
          ],
          [
           0.6346751252181763,
           0.6749850448685393,
           0.21951145515685286,
           0.6157309658741993,
           0.15683375635736396,
           0.860324185158795,
           0.016932532855360494,
           1,
           0.707794002688105,
           0.24536082330737743,
           0.4930698051158401
          ],
          [
           0.8498353377178177,
           0.698329637893805,
           0.6621242000877943,
           0.653699336224973,
           0.3935104122090607,
           0.8456432932068351,
           0.1235861027264814,
           0.707794002688105,
           1,
           0.6261070345218044,
           0.746333165592919
          ],
          [
           0.7609809286546657,
           0.531076205366268,
           0.6913449048454711,
           0.5318502558055156,
           0.6330799446255249,
           0.36062821319868793,
           0.09671424134518669,
           0.24536082330737743,
           0.6261070345218044,
           1,
           0.8531517459145104
          ],
          [
           0.8893634430344086,
           0.6726750588858736,
           0.5554854735531087,
           0.7960189422044351,
           0.5467370225356449,
           0.6284608823148304,
           -0.060630774375331827,
           0.4930698051158401,
           0.746333165592919,
           0.8531517459145104,
           1
          ]
         ],
         "zmax": 1,
         "zmin": -1
        }
       ],
       "layout": {
        "template": {
         "data": {
          "bar": [
           {
            "error_x": {
             "color": "#2a3f5f"
            },
            "error_y": {
             "color": "#2a3f5f"
            },
            "marker": {
             "line": {
              "color": "white",
              "width": 0.5
             },
             "pattern": {
              "fillmode": "overlay",
              "size": 10,
              "solidity": 0.2
             }
            },
            "type": "bar"
           }
          ],
          "barpolar": [
           {
            "marker": {
             "line": {
              "color": "white",
              "width": 0.5
             },
             "pattern": {
              "fillmode": "overlay",
              "size": 10,
              "solidity": 0.2
             }
            },
            "type": "barpolar"
           }
          ],
          "carpet": [
           {
            "aaxis": {
             "endlinecolor": "#2a3f5f",
             "gridcolor": "#C8D4E3",
             "linecolor": "#C8D4E3",
             "minorgridcolor": "#C8D4E3",
             "startlinecolor": "#2a3f5f"
            },
            "baxis": {
             "endlinecolor": "#2a3f5f",
             "gridcolor": "#C8D4E3",
             "linecolor": "#C8D4E3",
             "minorgridcolor": "#C8D4E3",
             "startlinecolor": "#2a3f5f"
            },
            "type": "carpet"
           }
          ],
          "choropleth": [
           {
            "colorbar": {
             "outlinewidth": 0,
             "ticks": ""
            },
            "type": "choropleth"
           }
          ],
          "contour": [
           {
            "colorbar": {
             "outlinewidth": 0,
             "ticks": ""
            },
            "colorscale": [
             [
              0,
              "#0d0887"
             ],
             [
              0.1111111111111111,
              "#46039f"
             ],
             [
              0.2222222222222222,
              "#7201a8"
             ],
             [
              0.3333333333333333,
              "#9c179e"
             ],
             [
              0.4444444444444444,
              "#bd3786"
             ],
             [
              0.5555555555555556,
              "#d8576b"
             ],
             [
              0.6666666666666666,
              "#ed7953"
             ],
             [
              0.7777777777777778,
              "#fb9f3a"
             ],
             [
              0.8888888888888888,
              "#fdca26"
             ],
             [
              1,
              "#f0f921"
             ]
            ],
            "type": "contour"
           }
          ],
          "contourcarpet": [
           {
            "colorbar": {
             "outlinewidth": 0,
             "ticks": ""
            },
            "type": "contourcarpet"
           }
          ],
          "heatmap": [
           {
            "colorbar": {
             "outlinewidth": 0,
             "ticks": ""
            },
            "colorscale": [
             [
              0,
              "#0d0887"
             ],
             [
              0.1111111111111111,
              "#46039f"
             ],
             [
              0.2222222222222222,
              "#7201a8"
             ],
             [
              0.3333333333333333,
              "#9c179e"
             ],
             [
              0.4444444444444444,
              "#bd3786"
             ],
             [
              0.5555555555555556,
              "#d8576b"
             ],
             [
              0.6666666666666666,
              "#ed7953"
             ],
             [
              0.7777777777777778,
              "#fb9f3a"
             ],
             [
              0.8888888888888888,
              "#fdca26"
             ],
             [
              1,
              "#f0f921"
             ]
            ],
            "type": "heatmap"
           }
          ],
          "heatmapgl": [
           {
            "colorbar": {
             "outlinewidth": 0,
             "ticks": ""
            },
            "colorscale": [
             [
              0,
              "#0d0887"
             ],
             [
              0.1111111111111111,
              "#46039f"
             ],
             [
              0.2222222222222222,
              "#7201a8"
             ],
             [
              0.3333333333333333,
              "#9c179e"
             ],
             [
              0.4444444444444444,
              "#bd3786"
             ],
             [
              0.5555555555555556,
              "#d8576b"
             ],
             [
              0.6666666666666666,
              "#ed7953"
             ],
             [
              0.7777777777777778,
              "#fb9f3a"
             ],
             [
              0.8888888888888888,
              "#fdca26"
             ],
             [
              1,
              "#f0f921"
             ]
            ],
            "type": "heatmapgl"
           }
          ],
          "histogram": [
           {
            "marker": {
             "pattern": {
              "fillmode": "overlay",
              "size": 10,
              "solidity": 0.2
             }
            },
            "type": "histogram"
           }
          ],
          "histogram2d": [
           {
            "colorbar": {
             "outlinewidth": 0,
             "ticks": ""
            },
            "colorscale": [
             [
              0,
              "#0d0887"
             ],
             [
              0.1111111111111111,
              "#46039f"
             ],
             [
              0.2222222222222222,
              "#7201a8"
             ],
             [
              0.3333333333333333,
              "#9c179e"
             ],
             [
              0.4444444444444444,
              "#bd3786"
             ],
             [
              0.5555555555555556,
              "#d8576b"
             ],
             [
              0.6666666666666666,
              "#ed7953"
             ],
             [
              0.7777777777777778,
              "#fb9f3a"
             ],
             [
              0.8888888888888888,
              "#fdca26"
             ],
             [
              1,
              "#f0f921"
             ]
            ],
            "type": "histogram2d"
           }
          ],
          "histogram2dcontour": [
           {
            "colorbar": {
             "outlinewidth": 0,
             "ticks": ""
            },
            "colorscale": [
             [
              0,
              "#0d0887"
             ],
             [
              0.1111111111111111,
              "#46039f"
             ],
             [
              0.2222222222222222,
              "#7201a8"
             ],
             [
              0.3333333333333333,
              "#9c179e"
             ],
             [
              0.4444444444444444,
              "#bd3786"
             ],
             [
              0.5555555555555556,
              "#d8576b"
             ],
             [
              0.6666666666666666,
              "#ed7953"
             ],
             [
              0.7777777777777778,
              "#fb9f3a"
             ],
             [
              0.8888888888888888,
              "#fdca26"
             ],
             [
              1,
              "#f0f921"
             ]
            ],
            "type": "histogram2dcontour"
           }
          ],
          "mesh3d": [
           {
            "colorbar": {
             "outlinewidth": 0,
             "ticks": ""
            },
            "type": "mesh3d"
           }
          ],
          "parcoords": [
           {
            "line": {
             "colorbar": {
              "outlinewidth": 0,
              "ticks": ""
             }
            },
            "type": "parcoords"
           }
          ],
          "pie": [
           {
            "automargin": true,
            "type": "pie"
           }
          ],
          "scatter": [
           {
            "fillpattern": {
             "fillmode": "overlay",
             "size": 10,
             "solidity": 0.2
            },
            "type": "scatter"
           }
          ],
          "scatter3d": [
           {
            "line": {
             "colorbar": {
              "outlinewidth": 0,
              "ticks": ""
             }
            },
            "marker": {
             "colorbar": {
              "outlinewidth": 0,
              "ticks": ""
             }
            },
            "type": "scatter3d"
           }
          ],
          "scattercarpet": [
           {
            "marker": {
             "colorbar": {
              "outlinewidth": 0,
              "ticks": ""
             }
            },
            "type": "scattercarpet"
           }
          ],
          "scattergeo": [
           {
            "marker": {
             "colorbar": {
              "outlinewidth": 0,
              "ticks": ""
             }
            },
            "type": "scattergeo"
           }
          ],
          "scattergl": [
           {
            "marker": {
             "colorbar": {
              "outlinewidth": 0,
              "ticks": ""
             }
            },
            "type": "scattergl"
           }
          ],
          "scattermapbox": [
           {
            "marker": {
             "colorbar": {
              "outlinewidth": 0,
              "ticks": ""
             }
            },
            "type": "scattermapbox"
           }
          ],
          "scatterpolar": [
           {
            "marker": {
             "colorbar": {
              "outlinewidth": 0,
              "ticks": ""
             }
            },
            "type": "scatterpolar"
           }
          ],
          "scatterpolargl": [
           {
            "marker": {
             "colorbar": {
              "outlinewidth": 0,
              "ticks": ""
             }
            },
            "type": "scatterpolargl"
           }
          ],
          "scatterternary": [
           {
            "marker": {
             "colorbar": {
              "outlinewidth": 0,
              "ticks": ""
             }
            },
            "type": "scatterternary"
           }
          ],
          "surface": [
           {
            "colorbar": {
             "outlinewidth": 0,
             "ticks": ""
            },
            "colorscale": [
             [
              0,
              "#0d0887"
             ],
             [
              0.1111111111111111,
              "#46039f"
             ],
             [
              0.2222222222222222,
              "#7201a8"
             ],
             [
              0.3333333333333333,
              "#9c179e"
             ],
             [
              0.4444444444444444,
              "#bd3786"
             ],
             [
              0.5555555555555556,
              "#d8576b"
             ],
             [
              0.6666666666666666,
              "#ed7953"
             ],
             [
              0.7777777777777778,
              "#fb9f3a"
             ],
             [
              0.8888888888888888,
              "#fdca26"
             ],
             [
              1,
              "#f0f921"
             ]
            ],
            "type": "surface"
           }
          ],
          "table": [
           {
            "cells": {
             "fill": {
              "color": "#EBF0F8"
             },
             "line": {
              "color": "white"
             }
            },
            "header": {
             "fill": {
              "color": "#C8D4E3"
             },
             "line": {
              "color": "white"
             }
            },
            "type": "table"
           }
          ]
         },
         "layout": {
          "annotationdefaults": {
           "arrowcolor": "#2a3f5f",
           "arrowhead": 0,
           "arrowwidth": 1
          },
          "autotypenumbers": "strict",
          "coloraxis": {
           "colorbar": {
            "outlinewidth": 0,
            "ticks": ""
           }
          },
          "colorscale": {
           "diverging": [
            [
             0,
             "#8e0152"
            ],
            [
             0.1,
             "#c51b7d"
            ],
            [
             0.2,
             "#de77ae"
            ],
            [
             0.3,
             "#f1b6da"
            ],
            [
             0.4,
             "#fde0ef"
            ],
            [
             0.5,
             "#f7f7f7"
            ],
            [
             0.6,
             "#e6f5d0"
            ],
            [
             0.7,
             "#b8e186"
            ],
            [
             0.8,
             "#7fbc41"
            ],
            [
             0.9,
             "#4d9221"
            ],
            [
             1,
             "#276419"
            ]
           ],
           "sequential": [
            [
             0,
             "#0d0887"
            ],
            [
             0.1111111111111111,
             "#46039f"
            ],
            [
             0.2222222222222222,
             "#7201a8"
            ],
            [
             0.3333333333333333,
             "#9c179e"
            ],
            [
             0.4444444444444444,
             "#bd3786"
            ],
            [
             0.5555555555555556,
             "#d8576b"
            ],
            [
             0.6666666666666666,
             "#ed7953"
            ],
            [
             0.7777777777777778,
             "#fb9f3a"
            ],
            [
             0.8888888888888888,
             "#fdca26"
            ],
            [
             1,
             "#f0f921"
            ]
           ],
           "sequentialminus": [
            [
             0,
             "#0d0887"
            ],
            [
             0.1111111111111111,
             "#46039f"
            ],
            [
             0.2222222222222222,
             "#7201a8"
            ],
            [
             0.3333333333333333,
             "#9c179e"
            ],
            [
             0.4444444444444444,
             "#bd3786"
            ],
            [
             0.5555555555555556,
             "#d8576b"
            ],
            [
             0.6666666666666666,
             "#ed7953"
            ],
            [
             0.7777777777777778,
             "#fb9f3a"
            ],
            [
             0.8888888888888888,
             "#fdca26"
            ],
            [
             1,
             "#f0f921"
            ]
           ]
          },
          "colorway": [
           "#636efa",
           "#EF553B",
           "#00cc96",
           "#ab63fa",
           "#FFA15A",
           "#19d3f3",
           "#FF6692",
           "#B6E880",
           "#FF97FF",
           "#FECB52"
          ],
          "font": {
           "color": "#2a3f5f"
          },
          "geo": {
           "bgcolor": "white",
           "lakecolor": "white",
           "landcolor": "white",
           "showlakes": true,
           "showland": true,
           "subunitcolor": "#C8D4E3"
          },
          "hoverlabel": {
           "align": "left"
          },
          "hovermode": "closest",
          "mapbox": {
           "style": "light"
          },
          "paper_bgcolor": "white",
          "plot_bgcolor": "white",
          "polar": {
           "angularaxis": {
            "gridcolor": "#EBF0F8",
            "linecolor": "#EBF0F8",
            "ticks": ""
           },
           "bgcolor": "white",
           "radialaxis": {
            "gridcolor": "#EBF0F8",
            "linecolor": "#EBF0F8",
            "ticks": ""
           }
          },
          "scene": {
           "xaxis": {
            "backgroundcolor": "white",
            "gridcolor": "#DFE8F3",
            "gridwidth": 2,
            "linecolor": "#EBF0F8",
            "showbackground": true,
            "ticks": "",
            "zerolinecolor": "#EBF0F8"
           },
           "yaxis": {
            "backgroundcolor": "white",
            "gridcolor": "#DFE8F3",
            "gridwidth": 2,
            "linecolor": "#EBF0F8",
            "showbackground": true,
            "ticks": "",
            "zerolinecolor": "#EBF0F8"
           },
           "zaxis": {
            "backgroundcolor": "white",
            "gridcolor": "#DFE8F3",
            "gridwidth": 2,
            "linecolor": "#EBF0F8",
            "showbackground": true,
            "ticks": "",
            "zerolinecolor": "#EBF0F8"
           }
          },
          "shapedefaults": {
           "line": {
            "color": "#2a3f5f"
           }
          },
          "ternary": {
           "aaxis": {
            "gridcolor": "#DFE8F3",
            "linecolor": "#A2B1C6",
            "ticks": ""
           },
           "baxis": {
            "gridcolor": "#DFE8F3",
            "linecolor": "#A2B1C6",
            "ticks": ""
           },
           "bgcolor": "white",
           "caxis": {
            "gridcolor": "#DFE8F3",
            "linecolor": "#A2B1C6",
            "ticks": ""
           }
          },
          "title": {
           "x": 0.05
          },
          "xaxis": {
           "automargin": true,
           "gridcolor": "#EBF0F8",
           "linecolor": "#EBF0F8",
           "ticks": "",
           "title": {
            "standoff": 15
           },
           "zerolinecolor": "#EBF0F8",
           "zerolinewidth": 2
          },
          "yaxis": {
           "automargin": true,
           "gridcolor": "#EBF0F8",
           "linecolor": "#EBF0F8",
           "ticks": "",
           "title": {
            "standoff": 15
           },
           "zerolinecolor": "#EBF0F8",
           "zerolinewidth": 2
          }
         }
        },
        "title": {
         "text": "Correlation Matrix"
        },
        "xaxis": {
         "title": {
          "text": "Features"
         }
        },
        "yaxis": {
         "title": {
          "text": "Features"
         }
        }
       }
      }
     },
     "metadata": {},
     "output_type": "display_data"
    }
   ],
   "source": [
    "# Select only numeric columns from the DataFrame because the corr() method can only be used on numeric data,\n",
    "numeric_data = data.select_dtypes(int)\n",
    "\n",
    "# Compute the correlation matrix on the numeric data\n",
    "corr_matrix = numeric_data.corr()\n",
    "\n",
    "fig = go.Figure(data=go.Heatmap(z=corr_matrix.values, x=corr_matrix.columns, y=corr_matrix.index, colorscale='RdBu', zmin=-1, zmax=1))\n",
    "\n",
    "fig.update_layout(title='Correlation Matrix', xaxis_title='Features', yaxis_title='Features')\n",
    "\n",
    "fig.show()\n",
    "\n",
    "pio.write_image(fig, './images/image8.png')"
   ]
  },
  {
   "cell_type": "markdown",
   "metadata": {},
   "source": [
    " ![Plot Description](./images/image8.png)"
   ]
  },
  {
   "cell_type": "code",
   "execution_count": 28,
   "metadata": {},
   "outputs": [
    {
     "data": {
      "application/vnd.plotly.v1+json": {
       "config": {
        "plotlyServerURL": "https://plot.ly"
       },
       "data": [
        {
         "alignmentgroup": "True",
         "hovertemplate": "Hashtag=%{x}<br>Count=%{y}<extra></extra>",
         "legendgroup": "",
         "marker": {
          "color": "#636efa",
          "pattern": {
           "shape": ""
          }
         },
         "name": "",
         "offsetgroup": "",
         "orientation": "v",
         "showlegend": false,
         "textposition": "auto",
         "type": "bar",
         "x": [
          "#thecleverprogrammer",
          "#amankharwal",
          "#python",
          "#machinelearning",
          "#pythonprogramming",
          "#datascience",
          "#ai",
          "#pythonprojects",
          "#artificialintelligence",
          "#data",
          "#dataanalytics",
          "#datascientist",
          "#pythoncode",
          "#dataanalysis",
          "#deeplearning",
          "#datascienceprojects",
          "#machinelearningprojects",
          "#programming",
          "#technology",
          "#coding",
          "#tech",
          "#computerscience",
          "#bigdata",
          "#pythonlearning",
          "#pythoncoding",
          "#pythondeveloper",
          "#datavisualization",
          "#pythonprogrammer",
          "#analytics",
          "#business",
          "#statistics",
          "#machinelearningalgorithms",
          "#dataanalyst",
          "#webdevelopment",
          "#algorithm",
          "#software",
          "#naturallanguageprocessing",
          "#algorithms",
          "#nlp",
          "#neuralnetwork",
          "#ml",
          "#database",
          "#javascript",
          "#code",
          "#coder",
          "#programmer",
          "#java",
          "#softwaredeveloper",
          "#codinglife",
          "#sentimentanalysis",
          "#sentiment",
          "#webdeveloper",
          "#css",
          "#html",
          "#machinelearningmodels",
          "#developer",
          "#timeseriesanalysis",
          "#iot",
          "#analysis",
          "#timeseriesmalaysia",
          "#businessintelligence",
          "#datasciencejobs",
          "#datasciencetraining",
          "#datascienceeducation",
          "#datasciencecourse",
          "#datamining",
          "#time",
          "#timeseries",
          "#php",
          "#programminglife",
          "#hacking",
          "#programmingmemes",
          "#programmers",
          "#neuralnetworks",
          "#webdesign",
          "#dataviz",
          "#linux",
          "#casestudy",
          "#businessmodel",
          "#zomato",
          "#money",
          "#interview",
          "#finance",
          "#powerbi",
          "#tensorflow",
          "#job",
          "#artificialintelligenceai",
          "#investing",
          "#trading",
          "#stockmarket",
          "#healthcare",
          "#health",
          "#covid",
          "#investment",
          "#cryptocurrency",
          "#bitcoin",
          "#dataanalysisprojects",
          "#businessanalytics",
          "#python3",
          "#roadmap",
          "#codinginterview",
          "#pythonprogramminglanguage",
          "#otp",
          "#innovation",
          "#recommendationsystem",
          "#recommendations",
          "#recommended",
          "#otpverification",
          "#projects",
          "#casestudies",
          "#amazonfinds",
          "#security",
          "#cybersecurity",
          "#network",
          "#internet",
          "#cloud",
          "#recommendation",
          "#careergoals",
          "#jobsearch",
          "#work",
          "#tableau",
          "#stocks",
          "#forex",
          "#candlestick",
          "#candlestickcharts",
          "#career",
          "#jobs",
          "#stressdetection",
          "#education",
          "#success",
          "#motivation",
          "#clustering",
          "#careerdevelopment",
          "#careeradvice",
          "#digitalmarketing",
          "#media",
          "#socialmedia",
          "#IT",
          "#marketing",
          "#students",
          "#resume",
          "#goals",
          "#careers",
          "#stress",
          "#sql",
          "#pythonbooks",
          "#mysql",
          "#softskills",
          "#instagramreach",
          "#instagram",
          "#ukraine",
          "#pythonprogram",
          "#whatsapp",
          "@codergallery",
          "#google",
          "#news",
          "#flipkart",
          "#bookstagram",
          "#alexnet",
          "#bigdataanalytics",
          "#qrcodes",
          "#datascienceinterview",
          "#facebook",
          "#boxplots"
         ],
         "xaxis": "x",
         "y": [
          117,
          117,
          109,
          97,
          95,
          94,
          91,
          90,
          89,
          88,
          87,
          83,
          78,
          77,
          75,
          43,
          43,
          26,
          25,
          24,
          23,
          21,
          20,
          19,
          19,
          19,
          19,
          19,
          16,
          16,
          14,
          13,
          12,
          10,
          9,
          9,
          9,
          9,
          9,
          8,
          8,
          7,
          7,
          7,
          7,
          7,
          7,
          7,
          7,
          7,
          7,
          7,
          7,
          7,
          7,
          7,
          6,
          6,
          6,
          6,
          6,
          6,
          6,
          6,
          6,
          6,
          6,
          6,
          5,
          5,
          5,
          5,
          5,
          5,
          5,
          5,
          5,
          4,
          4,
          4,
          4,
          4,
          4,
          4,
          4,
          4,
          4,
          4,
          3,
          3,
          3,
          3,
          3,
          3,
          3,
          3,
          3,
          3,
          2,
          2,
          2,
          2,
          2,
          2,
          2,
          2,
          2,
          2,
          2,
          2,
          2,
          2,
          2,
          2,
          2,
          2,
          2,
          2,
          2,
          2,
          2,
          2,
          2,
          2,
          2,
          2,
          2,
          2,
          2,
          2,
          2,
          2,
          2,
          2,
          2,
          2,
          2,
          2,
          2,
          2,
          2,
          2,
          2,
          2,
          1,
          1,
          1,
          1,
          1,
          1,
          1,
          1,
          1,
          1,
          1,
          1,
          1,
          1,
          1,
          1,
          1,
          1,
          1,
          1
         ],
         "yaxis": "y"
        }
       ],
       "layout": {
        "barmode": "relative",
        "legend": {
         "tracegroupgap": 0
        },
        "template": {
         "data": {
          "bar": [
           {
            "error_x": {
             "color": "#2a3f5f"
            },
            "error_y": {
             "color": "#2a3f5f"
            },
            "marker": {
             "line": {
              "color": "white",
              "width": 0.5
             },
             "pattern": {
              "fillmode": "overlay",
              "size": 10,
              "solidity": 0.2
             }
            },
            "type": "bar"
           }
          ],
          "barpolar": [
           {
            "marker": {
             "line": {
              "color": "white",
              "width": 0.5
             },
             "pattern": {
              "fillmode": "overlay",
              "size": 10,
              "solidity": 0.2
             }
            },
            "type": "barpolar"
           }
          ],
          "carpet": [
           {
            "aaxis": {
             "endlinecolor": "#2a3f5f",
             "gridcolor": "#C8D4E3",
             "linecolor": "#C8D4E3",
             "minorgridcolor": "#C8D4E3",
             "startlinecolor": "#2a3f5f"
            },
            "baxis": {
             "endlinecolor": "#2a3f5f",
             "gridcolor": "#C8D4E3",
             "linecolor": "#C8D4E3",
             "minorgridcolor": "#C8D4E3",
             "startlinecolor": "#2a3f5f"
            },
            "type": "carpet"
           }
          ],
          "choropleth": [
           {
            "colorbar": {
             "outlinewidth": 0,
             "ticks": ""
            },
            "type": "choropleth"
           }
          ],
          "contour": [
           {
            "colorbar": {
             "outlinewidth": 0,
             "ticks": ""
            },
            "colorscale": [
             [
              0,
              "#0d0887"
             ],
             [
              0.1111111111111111,
              "#46039f"
             ],
             [
              0.2222222222222222,
              "#7201a8"
             ],
             [
              0.3333333333333333,
              "#9c179e"
             ],
             [
              0.4444444444444444,
              "#bd3786"
             ],
             [
              0.5555555555555556,
              "#d8576b"
             ],
             [
              0.6666666666666666,
              "#ed7953"
             ],
             [
              0.7777777777777778,
              "#fb9f3a"
             ],
             [
              0.8888888888888888,
              "#fdca26"
             ],
             [
              1,
              "#f0f921"
             ]
            ],
            "type": "contour"
           }
          ],
          "contourcarpet": [
           {
            "colorbar": {
             "outlinewidth": 0,
             "ticks": ""
            },
            "type": "contourcarpet"
           }
          ],
          "heatmap": [
           {
            "colorbar": {
             "outlinewidth": 0,
             "ticks": ""
            },
            "colorscale": [
             [
              0,
              "#0d0887"
             ],
             [
              0.1111111111111111,
              "#46039f"
             ],
             [
              0.2222222222222222,
              "#7201a8"
             ],
             [
              0.3333333333333333,
              "#9c179e"
             ],
             [
              0.4444444444444444,
              "#bd3786"
             ],
             [
              0.5555555555555556,
              "#d8576b"
             ],
             [
              0.6666666666666666,
              "#ed7953"
             ],
             [
              0.7777777777777778,
              "#fb9f3a"
             ],
             [
              0.8888888888888888,
              "#fdca26"
             ],
             [
              1,
              "#f0f921"
             ]
            ],
            "type": "heatmap"
           }
          ],
          "heatmapgl": [
           {
            "colorbar": {
             "outlinewidth": 0,
             "ticks": ""
            },
            "colorscale": [
             [
              0,
              "#0d0887"
             ],
             [
              0.1111111111111111,
              "#46039f"
             ],
             [
              0.2222222222222222,
              "#7201a8"
             ],
             [
              0.3333333333333333,
              "#9c179e"
             ],
             [
              0.4444444444444444,
              "#bd3786"
             ],
             [
              0.5555555555555556,
              "#d8576b"
             ],
             [
              0.6666666666666666,
              "#ed7953"
             ],
             [
              0.7777777777777778,
              "#fb9f3a"
             ],
             [
              0.8888888888888888,
              "#fdca26"
             ],
             [
              1,
              "#f0f921"
             ]
            ],
            "type": "heatmapgl"
           }
          ],
          "histogram": [
           {
            "marker": {
             "pattern": {
              "fillmode": "overlay",
              "size": 10,
              "solidity": 0.2
             }
            },
            "type": "histogram"
           }
          ],
          "histogram2d": [
           {
            "colorbar": {
             "outlinewidth": 0,
             "ticks": ""
            },
            "colorscale": [
             [
              0,
              "#0d0887"
             ],
             [
              0.1111111111111111,
              "#46039f"
             ],
             [
              0.2222222222222222,
              "#7201a8"
             ],
             [
              0.3333333333333333,
              "#9c179e"
             ],
             [
              0.4444444444444444,
              "#bd3786"
             ],
             [
              0.5555555555555556,
              "#d8576b"
             ],
             [
              0.6666666666666666,
              "#ed7953"
             ],
             [
              0.7777777777777778,
              "#fb9f3a"
             ],
             [
              0.8888888888888888,
              "#fdca26"
             ],
             [
              1,
              "#f0f921"
             ]
            ],
            "type": "histogram2d"
           }
          ],
          "histogram2dcontour": [
           {
            "colorbar": {
             "outlinewidth": 0,
             "ticks": ""
            },
            "colorscale": [
             [
              0,
              "#0d0887"
             ],
             [
              0.1111111111111111,
              "#46039f"
             ],
             [
              0.2222222222222222,
              "#7201a8"
             ],
             [
              0.3333333333333333,
              "#9c179e"
             ],
             [
              0.4444444444444444,
              "#bd3786"
             ],
             [
              0.5555555555555556,
              "#d8576b"
             ],
             [
              0.6666666666666666,
              "#ed7953"
             ],
             [
              0.7777777777777778,
              "#fb9f3a"
             ],
             [
              0.8888888888888888,
              "#fdca26"
             ],
             [
              1,
              "#f0f921"
             ]
            ],
            "type": "histogram2dcontour"
           }
          ],
          "mesh3d": [
           {
            "colorbar": {
             "outlinewidth": 0,
             "ticks": ""
            },
            "type": "mesh3d"
           }
          ],
          "parcoords": [
           {
            "line": {
             "colorbar": {
              "outlinewidth": 0,
              "ticks": ""
             }
            },
            "type": "parcoords"
           }
          ],
          "pie": [
           {
            "automargin": true,
            "type": "pie"
           }
          ],
          "scatter": [
           {
            "fillpattern": {
             "fillmode": "overlay",
             "size": 10,
             "solidity": 0.2
            },
            "type": "scatter"
           }
          ],
          "scatter3d": [
           {
            "line": {
             "colorbar": {
              "outlinewidth": 0,
              "ticks": ""
             }
            },
            "marker": {
             "colorbar": {
              "outlinewidth": 0,
              "ticks": ""
             }
            },
            "type": "scatter3d"
           }
          ],
          "scattercarpet": [
           {
            "marker": {
             "colorbar": {
              "outlinewidth": 0,
              "ticks": ""
             }
            },
            "type": "scattercarpet"
           }
          ],
          "scattergeo": [
           {
            "marker": {
             "colorbar": {
              "outlinewidth": 0,
              "ticks": ""
             }
            },
            "type": "scattergeo"
           }
          ],
          "scattergl": [
           {
            "marker": {
             "colorbar": {
              "outlinewidth": 0,
              "ticks": ""
             }
            },
            "type": "scattergl"
           }
          ],
          "scattermapbox": [
           {
            "marker": {
             "colorbar": {
              "outlinewidth": 0,
              "ticks": ""
             }
            },
            "type": "scattermapbox"
           }
          ],
          "scatterpolar": [
           {
            "marker": {
             "colorbar": {
              "outlinewidth": 0,
              "ticks": ""
             }
            },
            "type": "scatterpolar"
           }
          ],
          "scatterpolargl": [
           {
            "marker": {
             "colorbar": {
              "outlinewidth": 0,
              "ticks": ""
             }
            },
            "type": "scatterpolargl"
           }
          ],
          "scatterternary": [
           {
            "marker": {
             "colorbar": {
              "outlinewidth": 0,
              "ticks": ""
             }
            },
            "type": "scatterternary"
           }
          ],
          "surface": [
           {
            "colorbar": {
             "outlinewidth": 0,
             "ticks": ""
            },
            "colorscale": [
             [
              0,
              "#0d0887"
             ],
             [
              0.1111111111111111,
              "#46039f"
             ],
             [
              0.2222222222222222,
              "#7201a8"
             ],
             [
              0.3333333333333333,
              "#9c179e"
             ],
             [
              0.4444444444444444,
              "#bd3786"
             ],
             [
              0.5555555555555556,
              "#d8576b"
             ],
             [
              0.6666666666666666,
              "#ed7953"
             ],
             [
              0.7777777777777778,
              "#fb9f3a"
             ],
             [
              0.8888888888888888,
              "#fdca26"
             ],
             [
              1,
              "#f0f921"
             ]
            ],
            "type": "surface"
           }
          ],
          "table": [
           {
            "cells": {
             "fill": {
              "color": "#EBF0F8"
             },
             "line": {
              "color": "white"
             }
            },
            "header": {
             "fill": {
              "color": "#C8D4E3"
             },
             "line": {
              "color": "white"
             }
            },
            "type": "table"
           }
          ]
         },
         "layout": {
          "annotationdefaults": {
           "arrowcolor": "#2a3f5f",
           "arrowhead": 0,
           "arrowwidth": 1
          },
          "autotypenumbers": "strict",
          "coloraxis": {
           "colorbar": {
            "outlinewidth": 0,
            "ticks": ""
           }
          },
          "colorscale": {
           "diverging": [
            [
             0,
             "#8e0152"
            ],
            [
             0.1,
             "#c51b7d"
            ],
            [
             0.2,
             "#de77ae"
            ],
            [
             0.3,
             "#f1b6da"
            ],
            [
             0.4,
             "#fde0ef"
            ],
            [
             0.5,
             "#f7f7f7"
            ],
            [
             0.6,
             "#e6f5d0"
            ],
            [
             0.7,
             "#b8e186"
            ],
            [
             0.8,
             "#7fbc41"
            ],
            [
             0.9,
             "#4d9221"
            ],
            [
             1,
             "#276419"
            ]
           ],
           "sequential": [
            [
             0,
             "#0d0887"
            ],
            [
             0.1111111111111111,
             "#46039f"
            ],
            [
             0.2222222222222222,
             "#7201a8"
            ],
            [
             0.3333333333333333,
             "#9c179e"
            ],
            [
             0.4444444444444444,
             "#bd3786"
            ],
            [
             0.5555555555555556,
             "#d8576b"
            ],
            [
             0.6666666666666666,
             "#ed7953"
            ],
            [
             0.7777777777777778,
             "#fb9f3a"
            ],
            [
             0.8888888888888888,
             "#fdca26"
            ],
            [
             1,
             "#f0f921"
            ]
           ],
           "sequentialminus": [
            [
             0,
             "#0d0887"
            ],
            [
             0.1111111111111111,
             "#46039f"
            ],
            [
             0.2222222222222222,
             "#7201a8"
            ],
            [
             0.3333333333333333,
             "#9c179e"
            ],
            [
             0.4444444444444444,
             "#bd3786"
            ],
            [
             0.5555555555555556,
             "#d8576b"
            ],
            [
             0.6666666666666666,
             "#ed7953"
            ],
            [
             0.7777777777777778,
             "#fb9f3a"
            ],
            [
             0.8888888888888888,
             "#fdca26"
            ],
            [
             1,
             "#f0f921"
            ]
           ]
          },
          "colorway": [
           "#636efa",
           "#EF553B",
           "#00cc96",
           "#ab63fa",
           "#FFA15A",
           "#19d3f3",
           "#FF6692",
           "#B6E880",
           "#FF97FF",
           "#FECB52"
          ],
          "font": {
           "color": "#2a3f5f"
          },
          "geo": {
           "bgcolor": "white",
           "lakecolor": "white",
           "landcolor": "white",
           "showlakes": true,
           "showland": true,
           "subunitcolor": "#C8D4E3"
          },
          "hoverlabel": {
           "align": "left"
          },
          "hovermode": "closest",
          "mapbox": {
           "style": "light"
          },
          "paper_bgcolor": "white",
          "plot_bgcolor": "white",
          "polar": {
           "angularaxis": {
            "gridcolor": "#EBF0F8",
            "linecolor": "#EBF0F8",
            "ticks": ""
           },
           "bgcolor": "white",
           "radialaxis": {
            "gridcolor": "#EBF0F8",
            "linecolor": "#EBF0F8",
            "ticks": ""
           }
          },
          "scene": {
           "xaxis": {
            "backgroundcolor": "white",
            "gridcolor": "#DFE8F3",
            "gridwidth": 2,
            "linecolor": "#EBF0F8",
            "showbackground": true,
            "ticks": "",
            "zerolinecolor": "#EBF0F8"
           },
           "yaxis": {
            "backgroundcolor": "white",
            "gridcolor": "#DFE8F3",
            "gridwidth": 2,
            "linecolor": "#EBF0F8",
            "showbackground": true,
            "ticks": "",
            "zerolinecolor": "#EBF0F8"
           },
           "zaxis": {
            "backgroundcolor": "white",
            "gridcolor": "#DFE8F3",
            "gridwidth": 2,
            "linecolor": "#EBF0F8",
            "showbackground": true,
            "ticks": "",
            "zerolinecolor": "#EBF0F8"
           }
          },
          "shapedefaults": {
           "line": {
            "color": "#2a3f5f"
           }
          },
          "ternary": {
           "aaxis": {
            "gridcolor": "#DFE8F3",
            "linecolor": "#A2B1C6",
            "ticks": ""
           },
           "baxis": {
            "gridcolor": "#DFE8F3",
            "linecolor": "#A2B1C6",
            "ticks": ""
           },
           "bgcolor": "white",
           "caxis": {
            "gridcolor": "#DFE8F3",
            "linecolor": "#A2B1C6",
            "ticks": ""
           }
          },
          "title": {
           "x": 0.05
          },
          "xaxis": {
           "automargin": true,
           "gridcolor": "#EBF0F8",
           "linecolor": "#EBF0F8",
           "ticks": "",
           "title": {
            "standoff": 15
           },
           "zerolinecolor": "#EBF0F8",
           "zerolinewidth": 2
          },
          "yaxis": {
           "automargin": true,
           "gridcolor": "#EBF0F8",
           "linecolor": "#EBF0F8",
           "ticks": "",
           "title": {
            "standoff": 15
           },
           "zerolinecolor": "#EBF0F8",
           "zerolinewidth": 2
          }
         }
        },
        "title": {
         "text": "Distribution of Hashtags"
        },
        "xaxis": {
         "anchor": "y",
         "domain": [
          0,
          1
         ],
         "title": {
          "text": "Hashtag"
         }
        },
        "yaxis": {
         "anchor": "x",
         "domain": [
          0,
          1
         ],
         "title": {
          "text": "Count"
         }
        }
       }
      }
     },
     "metadata": {},
     "output_type": "display_data"
    }
   ],
   "source": [
    "# Create a list to store all hashtags\n",
    "all_hashtags = []\n",
    "\n",
    "# Iterate through each row in the 'Hashtags' column\n",
    "for row in data['Hashtags']:\n",
    "    hashtags = str(row).split()\n",
    "    hashtags = [tag.strip() for tag in hashtags]\n",
    "    all_hashtags.extend(hashtags)\n",
    "\n",
    "# Create a pandas DataFrame to store the hashtag distribution\n",
    "hashtag_distribution = pd.Series(all_hashtags).value_counts().reset_index()\n",
    "hashtag_distribution.columns = ['Hashtag', 'Count']\n",
    "\n",
    "fig = px.bar(hashtag_distribution, x='Hashtag', \n",
    "             y='Count', title='Distribution of Hashtags')\n",
    "fig.show()\n",
    "\n",
    "pio.write_image(fig, './images/image9.png')\n"
   ]
  },
  {
   "cell_type": "markdown",
   "metadata": {},
   "source": [
    " ![Plot Description](./images/image9.png)"
   ]
  },
  {
   "cell_type": "markdown",
   "metadata": {},
   "source": [
    "- Now let’s have a look at the distribution of likes and impressions received from the presence of each hashtag on the post"
   ]
  },
  {
   "cell_type": "code",
   "execution_count": 29,
   "metadata": {},
   "outputs": [
    {
     "data": {
      "application/vnd.plotly.v1+json": {
       "config": {
        "plotlyServerURL": "https://plot.ly"
       },
       "data": [
        {
         "alignmentgroup": "True",
         "hovertemplate": "Hashtag=%{x}<br>Likes=%{y}<extra></extra>",
         "legendgroup": "",
         "marker": {
          "color": "#636efa",
          "pattern": {
           "shape": ""
          }
         },
         "name": "",
         "offsetgroup": "",
         "orientation": "v",
         "showlegend": false,
         "textposition": "auto",
         "type": "bar",
         "x": [
          "#finance",
          "#money",
          "#business",
          "#investing",
          "#investment",
          "#trading",
          "#stockmarket",
          "#data",
          "#datascience",
          "#dataanalysis",
          "#dataanalytics",
          "#datascientist",
          "#machinelearning",
          "#python",
          "#pythonprogramming",
          "#pythonprojects",
          "#pythoncode",
          "#artificialintelligence",
          "#ai",
          "#dataanalyst",
          "#amankharwal",
          "#thecleverprogrammer",
          "#healthcare",
          "#health",
          "#covid",
          "#deeplearning",
          "#machinelearningprojects",
          "#datascienceprojects",
          "#machinelearningmodels",
          "#pythonlearning",
          "#pythondeveloper",
          "#pythoncoding",
          "#pythonprogrammer",
          "#datavisualization",
          "#bigdata",
          "#dataviz",
          "#analytics",
          "#technology",
          "#programming",
          "#statistics",
          "#coding",
          "#businessintelligence",
          "#datamining",
          "#tech",
          "#computerscience",
          "#tableau",
          "#database",
          "#algorithm",
          "#algorithms",
          "#machinelearningalgorithms",
          "#ml",
          "#softskills",
          "#stocks",
          "#forex",
          "#candlestick",
          "#candlestickcharts",
          "#pythonbooks",
          "#bookstagram",
          "#powerbi",
          "#dataanalysisprojects",
          "#businessanalytics",
          "#neuralnetwork",
          "#neuralnetworks",
          "#tensorflow",
          "#artificialintelligenceai",
          "#alexnet",
          "#sentimentanalysis",
          "#sentiment",
          "#nlp",
          "#naturallanguageprocessing",
          "#timeseries",
          "#time",
          "#timeseriesanalysis",
          "#iot",
          "#analysis",
          "#timeseriesmalaysia",
          "#career",
          "#job",
          "#jobs",
          "#jobsearch",
          "#education",
          "#success",
          "#careergoals",
          "#motivation",
          "#work",
          "#careerdevelopment",
          "#careers",
          "#goals",
          "#resume",
          "#students",
          "#careeradvice",
          "#marketing",
          "#digitalmarketing",
          "#media",
          "#socialmedia",
          "#IT",
          "#webdevelopment",
          "#stress",
          "#stressdetection",
          "#zomato",
          "#casestudy",
          "#businessmodel",
          "#boxplots",
          "#programmer",
          "#developer",
          "#javascript",
          "#code",
          "#coder",
          "#java",
          "#html",
          "#css",
          "#webdeveloper",
          "#software",
          "#codinglife",
          "#softwaredeveloper",
          "#linux",
          "#programmingmemes",
          "#webdesign",
          "#programmers",
          "#php",
          "#programminglife",
          "#hacking",
          "#bitcoin",
          "#cryptocurrency",
          "#projects",
          "#casestudies",
          "#amazonfinds",
          "#security",
          "#cybersecurity",
          "#network",
          "#internet",
          "#cloud",
          "#innovation",
          "#google",
          "#facebook",
          "#interview",
          "#datascienceinterview",
          "#otp",
          "#otpverification",
          "#qrcodes",
          "#bigdataanalytics",
          "#recommended",
          "#recommendations",
          "#recommendationsystem",
          "#recommendation",
          "#codinginterview",
          "#flipkart",
          "#news",
          "#pythonprogram",
          "@codergallery",
          "#whatsapp",
          "#roadmap",
          "#ukraine",
          "#instagram",
          "#instagramreach",
          "#datasciencejobs",
          "#datasciencetraining",
          "#datascienceeducation",
          "#datasciencecourse",
          "#sql",
          "#mysql",
          "#python3",
          "#pythonprogramminglanguage",
          "#clustering"
         ],
         "xaxis": "x",
         "y": [
          529,
          529,
          2012,
          529,
          380,
          380,
          380,
          15077,
          16311,
          13801,
          15283,
          14703,
          16509,
          18238,
          16251,
          16818,
          14239,
          15515,
          15733,
          1845,
          20462,
          20462,
          729,
          729,
          729,
          13204,
          8458,
          8458,
          761,
          3659,
          3659,
          3659,
          3659,
          2382,
          2671,
          567,
          2001,
          3187,
          3355,
          1766,
          3129,
          728,
          728,
          2961,
          2818,
          265,
          887,
          1615,
          1615,
          2065,
          1058,
          144,
          218,
          218,
          218,
          218,
          124,
          124,
          529,
          387,
          387,
          1120,
          600,
          450,
          450,
          81,
          1057,
          1057,
          1238,
          1238,
          812,
          812,
          812,
          812,
          812,
          812,
          410,
          680,
          410,
          410,
          410,
          410,
          410,
          410,
          410,
          410,
          410,
          410,
          410,
          410,
          410,
          410,
          410,
          410,
          410,
          410,
          1456,
          302,
          302,
          328,
          328,
          328,
          76,
          878,
          878,
          878,
          878,
          878,
          878,
          878,
          878,
          878,
          1113,
          878,
          878,
          608,
          608,
          608,
          608,
          608,
          608,
          608,
          390,
          390,
          302,
          302,
          184,
          235,
          235,
          235,
          235,
          235,
          235,
          150,
          85,
          600,
          180,
          272,
          272,
          167,
          142,
          373,
          373,
          373,
          373,
          270,
          94,
          96,
          118,
          118,
          178,
          525,
          203,
          171,
          171,
          1814,
          1814,
          1814,
          1814,
          308,
          308,
          296,
          296,
          240
         ],
         "yaxis": "y"
        }
       ],
       "layout": {
        "barmode": "relative",
        "legend": {
         "tracegroupgap": 0
        },
        "template": {
         "data": {
          "bar": [
           {
            "error_x": {
             "color": "#2a3f5f"
            },
            "error_y": {
             "color": "#2a3f5f"
            },
            "marker": {
             "line": {
              "color": "white",
              "width": 0.5
             },
             "pattern": {
              "fillmode": "overlay",
              "size": 10,
              "solidity": 0.2
             }
            },
            "type": "bar"
           }
          ],
          "barpolar": [
           {
            "marker": {
             "line": {
              "color": "white",
              "width": 0.5
             },
             "pattern": {
              "fillmode": "overlay",
              "size": 10,
              "solidity": 0.2
             }
            },
            "type": "barpolar"
           }
          ],
          "carpet": [
           {
            "aaxis": {
             "endlinecolor": "#2a3f5f",
             "gridcolor": "#C8D4E3",
             "linecolor": "#C8D4E3",
             "minorgridcolor": "#C8D4E3",
             "startlinecolor": "#2a3f5f"
            },
            "baxis": {
             "endlinecolor": "#2a3f5f",
             "gridcolor": "#C8D4E3",
             "linecolor": "#C8D4E3",
             "minorgridcolor": "#C8D4E3",
             "startlinecolor": "#2a3f5f"
            },
            "type": "carpet"
           }
          ],
          "choropleth": [
           {
            "colorbar": {
             "outlinewidth": 0,
             "ticks": ""
            },
            "type": "choropleth"
           }
          ],
          "contour": [
           {
            "colorbar": {
             "outlinewidth": 0,
             "ticks": ""
            },
            "colorscale": [
             [
              0,
              "#0d0887"
             ],
             [
              0.1111111111111111,
              "#46039f"
             ],
             [
              0.2222222222222222,
              "#7201a8"
             ],
             [
              0.3333333333333333,
              "#9c179e"
             ],
             [
              0.4444444444444444,
              "#bd3786"
             ],
             [
              0.5555555555555556,
              "#d8576b"
             ],
             [
              0.6666666666666666,
              "#ed7953"
             ],
             [
              0.7777777777777778,
              "#fb9f3a"
             ],
             [
              0.8888888888888888,
              "#fdca26"
             ],
             [
              1,
              "#f0f921"
             ]
            ],
            "type": "contour"
           }
          ],
          "contourcarpet": [
           {
            "colorbar": {
             "outlinewidth": 0,
             "ticks": ""
            },
            "type": "contourcarpet"
           }
          ],
          "heatmap": [
           {
            "colorbar": {
             "outlinewidth": 0,
             "ticks": ""
            },
            "colorscale": [
             [
              0,
              "#0d0887"
             ],
             [
              0.1111111111111111,
              "#46039f"
             ],
             [
              0.2222222222222222,
              "#7201a8"
             ],
             [
              0.3333333333333333,
              "#9c179e"
             ],
             [
              0.4444444444444444,
              "#bd3786"
             ],
             [
              0.5555555555555556,
              "#d8576b"
             ],
             [
              0.6666666666666666,
              "#ed7953"
             ],
             [
              0.7777777777777778,
              "#fb9f3a"
             ],
             [
              0.8888888888888888,
              "#fdca26"
             ],
             [
              1,
              "#f0f921"
             ]
            ],
            "type": "heatmap"
           }
          ],
          "heatmapgl": [
           {
            "colorbar": {
             "outlinewidth": 0,
             "ticks": ""
            },
            "colorscale": [
             [
              0,
              "#0d0887"
             ],
             [
              0.1111111111111111,
              "#46039f"
             ],
             [
              0.2222222222222222,
              "#7201a8"
             ],
             [
              0.3333333333333333,
              "#9c179e"
             ],
             [
              0.4444444444444444,
              "#bd3786"
             ],
             [
              0.5555555555555556,
              "#d8576b"
             ],
             [
              0.6666666666666666,
              "#ed7953"
             ],
             [
              0.7777777777777778,
              "#fb9f3a"
             ],
             [
              0.8888888888888888,
              "#fdca26"
             ],
             [
              1,
              "#f0f921"
             ]
            ],
            "type": "heatmapgl"
           }
          ],
          "histogram": [
           {
            "marker": {
             "pattern": {
              "fillmode": "overlay",
              "size": 10,
              "solidity": 0.2
             }
            },
            "type": "histogram"
           }
          ],
          "histogram2d": [
           {
            "colorbar": {
             "outlinewidth": 0,
             "ticks": ""
            },
            "colorscale": [
             [
              0,
              "#0d0887"
             ],
             [
              0.1111111111111111,
              "#46039f"
             ],
             [
              0.2222222222222222,
              "#7201a8"
             ],
             [
              0.3333333333333333,
              "#9c179e"
             ],
             [
              0.4444444444444444,
              "#bd3786"
             ],
             [
              0.5555555555555556,
              "#d8576b"
             ],
             [
              0.6666666666666666,
              "#ed7953"
             ],
             [
              0.7777777777777778,
              "#fb9f3a"
             ],
             [
              0.8888888888888888,
              "#fdca26"
             ],
             [
              1,
              "#f0f921"
             ]
            ],
            "type": "histogram2d"
           }
          ],
          "histogram2dcontour": [
           {
            "colorbar": {
             "outlinewidth": 0,
             "ticks": ""
            },
            "colorscale": [
             [
              0,
              "#0d0887"
             ],
             [
              0.1111111111111111,
              "#46039f"
             ],
             [
              0.2222222222222222,
              "#7201a8"
             ],
             [
              0.3333333333333333,
              "#9c179e"
             ],
             [
              0.4444444444444444,
              "#bd3786"
             ],
             [
              0.5555555555555556,
              "#d8576b"
             ],
             [
              0.6666666666666666,
              "#ed7953"
             ],
             [
              0.7777777777777778,
              "#fb9f3a"
             ],
             [
              0.8888888888888888,
              "#fdca26"
             ],
             [
              1,
              "#f0f921"
             ]
            ],
            "type": "histogram2dcontour"
           }
          ],
          "mesh3d": [
           {
            "colorbar": {
             "outlinewidth": 0,
             "ticks": ""
            },
            "type": "mesh3d"
           }
          ],
          "parcoords": [
           {
            "line": {
             "colorbar": {
              "outlinewidth": 0,
              "ticks": ""
             }
            },
            "type": "parcoords"
           }
          ],
          "pie": [
           {
            "automargin": true,
            "type": "pie"
           }
          ],
          "scatter": [
           {
            "fillpattern": {
             "fillmode": "overlay",
             "size": 10,
             "solidity": 0.2
            },
            "type": "scatter"
           }
          ],
          "scatter3d": [
           {
            "line": {
             "colorbar": {
              "outlinewidth": 0,
              "ticks": ""
             }
            },
            "marker": {
             "colorbar": {
              "outlinewidth": 0,
              "ticks": ""
             }
            },
            "type": "scatter3d"
           }
          ],
          "scattercarpet": [
           {
            "marker": {
             "colorbar": {
              "outlinewidth": 0,
              "ticks": ""
             }
            },
            "type": "scattercarpet"
           }
          ],
          "scattergeo": [
           {
            "marker": {
             "colorbar": {
              "outlinewidth": 0,
              "ticks": ""
             }
            },
            "type": "scattergeo"
           }
          ],
          "scattergl": [
           {
            "marker": {
             "colorbar": {
              "outlinewidth": 0,
              "ticks": ""
             }
            },
            "type": "scattergl"
           }
          ],
          "scattermapbox": [
           {
            "marker": {
             "colorbar": {
              "outlinewidth": 0,
              "ticks": ""
             }
            },
            "type": "scattermapbox"
           }
          ],
          "scatterpolar": [
           {
            "marker": {
             "colorbar": {
              "outlinewidth": 0,
              "ticks": ""
             }
            },
            "type": "scatterpolar"
           }
          ],
          "scatterpolargl": [
           {
            "marker": {
             "colorbar": {
              "outlinewidth": 0,
              "ticks": ""
             }
            },
            "type": "scatterpolargl"
           }
          ],
          "scatterternary": [
           {
            "marker": {
             "colorbar": {
              "outlinewidth": 0,
              "ticks": ""
             }
            },
            "type": "scatterternary"
           }
          ],
          "surface": [
           {
            "colorbar": {
             "outlinewidth": 0,
             "ticks": ""
            },
            "colorscale": [
             [
              0,
              "#0d0887"
             ],
             [
              0.1111111111111111,
              "#46039f"
             ],
             [
              0.2222222222222222,
              "#7201a8"
             ],
             [
              0.3333333333333333,
              "#9c179e"
             ],
             [
              0.4444444444444444,
              "#bd3786"
             ],
             [
              0.5555555555555556,
              "#d8576b"
             ],
             [
              0.6666666666666666,
              "#ed7953"
             ],
             [
              0.7777777777777778,
              "#fb9f3a"
             ],
             [
              0.8888888888888888,
              "#fdca26"
             ],
             [
              1,
              "#f0f921"
             ]
            ],
            "type": "surface"
           }
          ],
          "table": [
           {
            "cells": {
             "fill": {
              "color": "#EBF0F8"
             },
             "line": {
              "color": "white"
             }
            },
            "header": {
             "fill": {
              "color": "#C8D4E3"
             },
             "line": {
              "color": "white"
             }
            },
            "type": "table"
           }
          ]
         },
         "layout": {
          "annotationdefaults": {
           "arrowcolor": "#2a3f5f",
           "arrowhead": 0,
           "arrowwidth": 1
          },
          "autotypenumbers": "strict",
          "coloraxis": {
           "colorbar": {
            "outlinewidth": 0,
            "ticks": ""
           }
          },
          "colorscale": {
           "diverging": [
            [
             0,
             "#8e0152"
            ],
            [
             0.1,
             "#c51b7d"
            ],
            [
             0.2,
             "#de77ae"
            ],
            [
             0.3,
             "#f1b6da"
            ],
            [
             0.4,
             "#fde0ef"
            ],
            [
             0.5,
             "#f7f7f7"
            ],
            [
             0.6,
             "#e6f5d0"
            ],
            [
             0.7,
             "#b8e186"
            ],
            [
             0.8,
             "#7fbc41"
            ],
            [
             0.9,
             "#4d9221"
            ],
            [
             1,
             "#276419"
            ]
           ],
           "sequential": [
            [
             0,
             "#0d0887"
            ],
            [
             0.1111111111111111,
             "#46039f"
            ],
            [
             0.2222222222222222,
             "#7201a8"
            ],
            [
             0.3333333333333333,
             "#9c179e"
            ],
            [
             0.4444444444444444,
             "#bd3786"
            ],
            [
             0.5555555555555556,
             "#d8576b"
            ],
            [
             0.6666666666666666,
             "#ed7953"
            ],
            [
             0.7777777777777778,
             "#fb9f3a"
            ],
            [
             0.8888888888888888,
             "#fdca26"
            ],
            [
             1,
             "#f0f921"
            ]
           ],
           "sequentialminus": [
            [
             0,
             "#0d0887"
            ],
            [
             0.1111111111111111,
             "#46039f"
            ],
            [
             0.2222222222222222,
             "#7201a8"
            ],
            [
             0.3333333333333333,
             "#9c179e"
            ],
            [
             0.4444444444444444,
             "#bd3786"
            ],
            [
             0.5555555555555556,
             "#d8576b"
            ],
            [
             0.6666666666666666,
             "#ed7953"
            ],
            [
             0.7777777777777778,
             "#fb9f3a"
            ],
            [
             0.8888888888888888,
             "#fdca26"
            ],
            [
             1,
             "#f0f921"
            ]
           ]
          },
          "colorway": [
           "#636efa",
           "#EF553B",
           "#00cc96",
           "#ab63fa",
           "#FFA15A",
           "#19d3f3",
           "#FF6692",
           "#B6E880",
           "#FF97FF",
           "#FECB52"
          ],
          "font": {
           "color": "#2a3f5f"
          },
          "geo": {
           "bgcolor": "white",
           "lakecolor": "white",
           "landcolor": "white",
           "showlakes": true,
           "showland": true,
           "subunitcolor": "#C8D4E3"
          },
          "hoverlabel": {
           "align": "left"
          },
          "hovermode": "closest",
          "mapbox": {
           "style": "light"
          },
          "paper_bgcolor": "white",
          "plot_bgcolor": "white",
          "polar": {
           "angularaxis": {
            "gridcolor": "#EBF0F8",
            "linecolor": "#EBF0F8",
            "ticks": ""
           },
           "bgcolor": "white",
           "radialaxis": {
            "gridcolor": "#EBF0F8",
            "linecolor": "#EBF0F8",
            "ticks": ""
           }
          },
          "scene": {
           "xaxis": {
            "backgroundcolor": "white",
            "gridcolor": "#DFE8F3",
            "gridwidth": 2,
            "linecolor": "#EBF0F8",
            "showbackground": true,
            "ticks": "",
            "zerolinecolor": "#EBF0F8"
           },
           "yaxis": {
            "backgroundcolor": "white",
            "gridcolor": "#DFE8F3",
            "gridwidth": 2,
            "linecolor": "#EBF0F8",
            "showbackground": true,
            "ticks": "",
            "zerolinecolor": "#EBF0F8"
           },
           "zaxis": {
            "backgroundcolor": "white",
            "gridcolor": "#DFE8F3",
            "gridwidth": 2,
            "linecolor": "#EBF0F8",
            "showbackground": true,
            "ticks": "",
            "zerolinecolor": "#EBF0F8"
           }
          },
          "shapedefaults": {
           "line": {
            "color": "#2a3f5f"
           }
          },
          "ternary": {
           "aaxis": {
            "gridcolor": "#DFE8F3",
            "linecolor": "#A2B1C6",
            "ticks": ""
           },
           "baxis": {
            "gridcolor": "#DFE8F3",
            "linecolor": "#A2B1C6",
            "ticks": ""
           },
           "bgcolor": "white",
           "caxis": {
            "gridcolor": "#DFE8F3",
            "linecolor": "#A2B1C6",
            "ticks": ""
           }
          },
          "title": {
           "x": 0.05
          },
          "xaxis": {
           "automargin": true,
           "gridcolor": "#EBF0F8",
           "linecolor": "#EBF0F8",
           "ticks": "",
           "title": {
            "standoff": 15
           },
           "zerolinecolor": "#EBF0F8",
           "zerolinewidth": 2
          },
          "yaxis": {
           "automargin": true,
           "gridcolor": "#EBF0F8",
           "linecolor": "#EBF0F8",
           "ticks": "",
           "title": {
            "standoff": 15
           },
           "zerolinecolor": "#EBF0F8",
           "zerolinewidth": 2
          }
         }
        },
        "title": {
         "text": "Likes Distribution for Each Hashtag"
        },
        "xaxis": {
         "anchor": "y",
         "domain": [
          0,
          1
         ],
         "title": {
          "text": "Hashtag"
         }
        },
        "yaxis": {
         "anchor": "x",
         "domain": [
          0,
          1
         ],
         "title": {
          "text": "Likes"
         }
        }
       }
      }
     },
     "metadata": {},
     "output_type": "display_data"
    },
    {
     "data": {
      "application/vnd.plotly.v1+json": {
       "config": {
        "plotlyServerURL": "https://plot.ly"
       },
       "data": [
        {
         "alignmentgroup": "True",
         "hovertemplate": "Hashtag=%{x}<br>Impressions=%{y}<extra></extra>",
         "legendgroup": "",
         "marker": {
          "color": "#636efa",
          "pattern": {
           "shape": ""
          }
         },
         "name": "",
         "offsetgroup": "",
         "orientation": "v",
         "showlegend": false,
         "textposition": "auto",
         "type": "bar",
         "x": [
          "#finance",
          "#money",
          "#business",
          "#investing",
          "#investment",
          "#trading",
          "#stockmarket",
          "#data",
          "#datascience",
          "#dataanalysis",
          "#dataanalytics",
          "#datascientist",
          "#machinelearning",
          "#python",
          "#pythonprogramming",
          "#pythonprojects",
          "#pythoncode",
          "#artificialintelligence",
          "#ai",
          "#dataanalyst",
          "#amankharwal",
          "#thecleverprogrammer",
          "#healthcare",
          "#health",
          "#covid",
          "#deeplearning",
          "#machinelearningprojects",
          "#datascienceprojects",
          "#machinelearningmodels",
          "#pythonlearning",
          "#pythondeveloper",
          "#pythoncoding",
          "#pythonprogrammer",
          "#datavisualization",
          "#bigdata",
          "#dataviz",
          "#analytics",
          "#technology",
          "#programming",
          "#statistics",
          "#coding",
          "#businessintelligence",
          "#datamining",
          "#tech",
          "#computerscience",
          "#tableau",
          "#database",
          "#algorithm",
          "#algorithms",
          "#machinelearningalgorithms",
          "#ml",
          "#softskills",
          "#stocks",
          "#forex",
          "#candlestick",
          "#candlestickcharts",
          "#pythonbooks",
          "#bookstagram",
          "#powerbi",
          "#dataanalysisprojects",
          "#businessanalytics",
          "#neuralnetwork",
          "#neuralnetworks",
          "#tensorflow",
          "#artificialintelligenceai",
          "#alexnet",
          "#sentimentanalysis",
          "#sentiment",
          "#nlp",
          "#naturallanguageprocessing",
          "#timeseries",
          "#time",
          "#timeseriesanalysis",
          "#iot",
          "#analysis",
          "#timeseriesmalaysia",
          "#career",
          "#job",
          "#jobs",
          "#jobsearch",
          "#education",
          "#success",
          "#careergoals",
          "#motivation",
          "#work",
          "#careerdevelopment",
          "#careers",
          "#goals",
          "#resume",
          "#students",
          "#careeradvice",
          "#marketing",
          "#digitalmarketing",
          "#media",
          "#socialmedia",
          "#IT",
          "#webdevelopment",
          "#stress",
          "#stressdetection",
          "#zomato",
          "#casestudy",
          "#businessmodel",
          "#boxplots",
          "#programmer",
          "#developer",
          "#javascript",
          "#code",
          "#coder",
          "#java",
          "#html",
          "#css",
          "#webdeveloper",
          "#software",
          "#codinglife",
          "#softwaredeveloper",
          "#linux",
          "#programmingmemes",
          "#webdesign",
          "#programmers",
          "#php",
          "#programminglife",
          "#hacking",
          "#bitcoin",
          "#cryptocurrency",
          "#projects",
          "#casestudies",
          "#amazonfinds",
          "#security",
          "#cybersecurity",
          "#network",
          "#internet",
          "#cloud",
          "#innovation",
          "#google",
          "#facebook",
          "#interview",
          "#datascienceinterview",
          "#otp",
          "#otpverification",
          "#qrcodes",
          "#bigdataanalytics",
          "#recommended",
          "#recommendations",
          "#recommendationsystem",
          "#recommendation",
          "#codinginterview",
          "#flipkart",
          "#news",
          "#pythonprogram",
          "@codergallery",
          "#whatsapp",
          "#roadmap",
          "#ukraine",
          "#instagram",
          "#instagramreach",
          "#datasciencejobs",
          "#datasciencetraining",
          "#datascienceeducation",
          "#datasciencecourse",
          "#sql",
          "#mysql",
          "#python3",
          "#pythonprogramminglanguage",
          "#clustering"
         ],
         "xaxis": "x",
         "y": [
          14224,
          14224,
          51387,
          14224,
          9757,
          9757,
          9757,
          484761,
          524640,
          457923,
          497787,
          483746,
          532627,
          578243,
          525346,
          567608,
          470276,
          506190,
          512027,
          47051,
          672166,
          672166,
          18292,
          18292,
          18292,
          445317,
          297427,
          297427,
          27201,
          135901,
          135901,
          135901,
          135901,
          64864,
          70884,
          15438,
          53464,
          85523,
          90132,
          47283,
          83264,
          17971,
          17971,
          78655,
          75019,
          6506,
          22088,
          57289,
          57289,
          71529,
          30316,
          3884,
          5837,
          5837,
          5837,
          5837,
          3541,
          3541,
          13389,
          9401,
          9401,
          31660,
          18529,
          14240,
          14240,
          2218,
          34102,
          34102,
          42567,
          42567,
          22444,
          22444,
          22444,
          22444,
          22444,
          22444,
          8004,
          14856,
          8004,
          8004,
          8004,
          8004,
          8004,
          8004,
          8004,
          8004,
          8004,
          8004,
          8004,
          8004,
          8004,
          8004,
          8004,
          8004,
          8004,
          8004,
          35456,
          12336,
          12336,
          10844,
          10844,
          10844,
          2064,
          22843,
          22843,
          22843,
          22843,
          22843,
          22843,
          22843,
          22843,
          22843,
          29024,
          22843,
          22843,
          15991,
          15991,
          15991,
          15991,
          15991,
          15991,
          15991,
          14121,
          14121,
          7848,
          7848,
          6030,
          6181,
          6181,
          6181,
          6181,
          6181,
          6181,
          3854,
          2327,
          16139,
          4998,
          8030,
          8030,
          3786,
          3988,
          10036,
          10036,
          10036,
          10036,
          6852,
          3601,
          3525,
          2957,
          2957,
          5538,
          10682,
          8001,
          7231,
          7231,
          86691,
          86691,
          86691,
          86691,
          17713,
          17713,
          15991,
          15991,
          9870
         ],
         "yaxis": "y"
        }
       ],
       "layout": {
        "barmode": "relative",
        "legend": {
         "tracegroupgap": 0
        },
        "template": {
         "data": {
          "bar": [
           {
            "error_x": {
             "color": "#2a3f5f"
            },
            "error_y": {
             "color": "#2a3f5f"
            },
            "marker": {
             "line": {
              "color": "white",
              "width": 0.5
             },
             "pattern": {
              "fillmode": "overlay",
              "size": 10,
              "solidity": 0.2
             }
            },
            "type": "bar"
           }
          ],
          "barpolar": [
           {
            "marker": {
             "line": {
              "color": "white",
              "width": 0.5
             },
             "pattern": {
              "fillmode": "overlay",
              "size": 10,
              "solidity": 0.2
             }
            },
            "type": "barpolar"
           }
          ],
          "carpet": [
           {
            "aaxis": {
             "endlinecolor": "#2a3f5f",
             "gridcolor": "#C8D4E3",
             "linecolor": "#C8D4E3",
             "minorgridcolor": "#C8D4E3",
             "startlinecolor": "#2a3f5f"
            },
            "baxis": {
             "endlinecolor": "#2a3f5f",
             "gridcolor": "#C8D4E3",
             "linecolor": "#C8D4E3",
             "minorgridcolor": "#C8D4E3",
             "startlinecolor": "#2a3f5f"
            },
            "type": "carpet"
           }
          ],
          "choropleth": [
           {
            "colorbar": {
             "outlinewidth": 0,
             "ticks": ""
            },
            "type": "choropleth"
           }
          ],
          "contour": [
           {
            "colorbar": {
             "outlinewidth": 0,
             "ticks": ""
            },
            "colorscale": [
             [
              0,
              "#0d0887"
             ],
             [
              0.1111111111111111,
              "#46039f"
             ],
             [
              0.2222222222222222,
              "#7201a8"
             ],
             [
              0.3333333333333333,
              "#9c179e"
             ],
             [
              0.4444444444444444,
              "#bd3786"
             ],
             [
              0.5555555555555556,
              "#d8576b"
             ],
             [
              0.6666666666666666,
              "#ed7953"
             ],
             [
              0.7777777777777778,
              "#fb9f3a"
             ],
             [
              0.8888888888888888,
              "#fdca26"
             ],
             [
              1,
              "#f0f921"
             ]
            ],
            "type": "contour"
           }
          ],
          "contourcarpet": [
           {
            "colorbar": {
             "outlinewidth": 0,
             "ticks": ""
            },
            "type": "contourcarpet"
           }
          ],
          "heatmap": [
           {
            "colorbar": {
             "outlinewidth": 0,
             "ticks": ""
            },
            "colorscale": [
             [
              0,
              "#0d0887"
             ],
             [
              0.1111111111111111,
              "#46039f"
             ],
             [
              0.2222222222222222,
              "#7201a8"
             ],
             [
              0.3333333333333333,
              "#9c179e"
             ],
             [
              0.4444444444444444,
              "#bd3786"
             ],
             [
              0.5555555555555556,
              "#d8576b"
             ],
             [
              0.6666666666666666,
              "#ed7953"
             ],
             [
              0.7777777777777778,
              "#fb9f3a"
             ],
             [
              0.8888888888888888,
              "#fdca26"
             ],
             [
              1,
              "#f0f921"
             ]
            ],
            "type": "heatmap"
           }
          ],
          "heatmapgl": [
           {
            "colorbar": {
             "outlinewidth": 0,
             "ticks": ""
            },
            "colorscale": [
             [
              0,
              "#0d0887"
             ],
             [
              0.1111111111111111,
              "#46039f"
             ],
             [
              0.2222222222222222,
              "#7201a8"
             ],
             [
              0.3333333333333333,
              "#9c179e"
             ],
             [
              0.4444444444444444,
              "#bd3786"
             ],
             [
              0.5555555555555556,
              "#d8576b"
             ],
             [
              0.6666666666666666,
              "#ed7953"
             ],
             [
              0.7777777777777778,
              "#fb9f3a"
             ],
             [
              0.8888888888888888,
              "#fdca26"
             ],
             [
              1,
              "#f0f921"
             ]
            ],
            "type": "heatmapgl"
           }
          ],
          "histogram": [
           {
            "marker": {
             "pattern": {
              "fillmode": "overlay",
              "size": 10,
              "solidity": 0.2
             }
            },
            "type": "histogram"
           }
          ],
          "histogram2d": [
           {
            "colorbar": {
             "outlinewidth": 0,
             "ticks": ""
            },
            "colorscale": [
             [
              0,
              "#0d0887"
             ],
             [
              0.1111111111111111,
              "#46039f"
             ],
             [
              0.2222222222222222,
              "#7201a8"
             ],
             [
              0.3333333333333333,
              "#9c179e"
             ],
             [
              0.4444444444444444,
              "#bd3786"
             ],
             [
              0.5555555555555556,
              "#d8576b"
             ],
             [
              0.6666666666666666,
              "#ed7953"
             ],
             [
              0.7777777777777778,
              "#fb9f3a"
             ],
             [
              0.8888888888888888,
              "#fdca26"
             ],
             [
              1,
              "#f0f921"
             ]
            ],
            "type": "histogram2d"
           }
          ],
          "histogram2dcontour": [
           {
            "colorbar": {
             "outlinewidth": 0,
             "ticks": ""
            },
            "colorscale": [
             [
              0,
              "#0d0887"
             ],
             [
              0.1111111111111111,
              "#46039f"
             ],
             [
              0.2222222222222222,
              "#7201a8"
             ],
             [
              0.3333333333333333,
              "#9c179e"
             ],
             [
              0.4444444444444444,
              "#bd3786"
             ],
             [
              0.5555555555555556,
              "#d8576b"
             ],
             [
              0.6666666666666666,
              "#ed7953"
             ],
             [
              0.7777777777777778,
              "#fb9f3a"
             ],
             [
              0.8888888888888888,
              "#fdca26"
             ],
             [
              1,
              "#f0f921"
             ]
            ],
            "type": "histogram2dcontour"
           }
          ],
          "mesh3d": [
           {
            "colorbar": {
             "outlinewidth": 0,
             "ticks": ""
            },
            "type": "mesh3d"
           }
          ],
          "parcoords": [
           {
            "line": {
             "colorbar": {
              "outlinewidth": 0,
              "ticks": ""
             }
            },
            "type": "parcoords"
           }
          ],
          "pie": [
           {
            "automargin": true,
            "type": "pie"
           }
          ],
          "scatter": [
           {
            "fillpattern": {
             "fillmode": "overlay",
             "size": 10,
             "solidity": 0.2
            },
            "type": "scatter"
           }
          ],
          "scatter3d": [
           {
            "line": {
             "colorbar": {
              "outlinewidth": 0,
              "ticks": ""
             }
            },
            "marker": {
             "colorbar": {
              "outlinewidth": 0,
              "ticks": ""
             }
            },
            "type": "scatter3d"
           }
          ],
          "scattercarpet": [
           {
            "marker": {
             "colorbar": {
              "outlinewidth": 0,
              "ticks": ""
             }
            },
            "type": "scattercarpet"
           }
          ],
          "scattergeo": [
           {
            "marker": {
             "colorbar": {
              "outlinewidth": 0,
              "ticks": ""
             }
            },
            "type": "scattergeo"
           }
          ],
          "scattergl": [
           {
            "marker": {
             "colorbar": {
              "outlinewidth": 0,
              "ticks": ""
             }
            },
            "type": "scattergl"
           }
          ],
          "scattermapbox": [
           {
            "marker": {
             "colorbar": {
              "outlinewidth": 0,
              "ticks": ""
             }
            },
            "type": "scattermapbox"
           }
          ],
          "scatterpolar": [
           {
            "marker": {
             "colorbar": {
              "outlinewidth": 0,
              "ticks": ""
             }
            },
            "type": "scatterpolar"
           }
          ],
          "scatterpolargl": [
           {
            "marker": {
             "colorbar": {
              "outlinewidth": 0,
              "ticks": ""
             }
            },
            "type": "scatterpolargl"
           }
          ],
          "scatterternary": [
           {
            "marker": {
             "colorbar": {
              "outlinewidth": 0,
              "ticks": ""
             }
            },
            "type": "scatterternary"
           }
          ],
          "surface": [
           {
            "colorbar": {
             "outlinewidth": 0,
             "ticks": ""
            },
            "colorscale": [
             [
              0,
              "#0d0887"
             ],
             [
              0.1111111111111111,
              "#46039f"
             ],
             [
              0.2222222222222222,
              "#7201a8"
             ],
             [
              0.3333333333333333,
              "#9c179e"
             ],
             [
              0.4444444444444444,
              "#bd3786"
             ],
             [
              0.5555555555555556,
              "#d8576b"
             ],
             [
              0.6666666666666666,
              "#ed7953"
             ],
             [
              0.7777777777777778,
              "#fb9f3a"
             ],
             [
              0.8888888888888888,
              "#fdca26"
             ],
             [
              1,
              "#f0f921"
             ]
            ],
            "type": "surface"
           }
          ],
          "table": [
           {
            "cells": {
             "fill": {
              "color": "#EBF0F8"
             },
             "line": {
              "color": "white"
             }
            },
            "header": {
             "fill": {
              "color": "#C8D4E3"
             },
             "line": {
              "color": "white"
             }
            },
            "type": "table"
           }
          ]
         },
         "layout": {
          "annotationdefaults": {
           "arrowcolor": "#2a3f5f",
           "arrowhead": 0,
           "arrowwidth": 1
          },
          "autotypenumbers": "strict",
          "coloraxis": {
           "colorbar": {
            "outlinewidth": 0,
            "ticks": ""
           }
          },
          "colorscale": {
           "diverging": [
            [
             0,
             "#8e0152"
            ],
            [
             0.1,
             "#c51b7d"
            ],
            [
             0.2,
             "#de77ae"
            ],
            [
             0.3,
             "#f1b6da"
            ],
            [
             0.4,
             "#fde0ef"
            ],
            [
             0.5,
             "#f7f7f7"
            ],
            [
             0.6,
             "#e6f5d0"
            ],
            [
             0.7,
             "#b8e186"
            ],
            [
             0.8,
             "#7fbc41"
            ],
            [
             0.9,
             "#4d9221"
            ],
            [
             1,
             "#276419"
            ]
           ],
           "sequential": [
            [
             0,
             "#0d0887"
            ],
            [
             0.1111111111111111,
             "#46039f"
            ],
            [
             0.2222222222222222,
             "#7201a8"
            ],
            [
             0.3333333333333333,
             "#9c179e"
            ],
            [
             0.4444444444444444,
             "#bd3786"
            ],
            [
             0.5555555555555556,
             "#d8576b"
            ],
            [
             0.6666666666666666,
             "#ed7953"
            ],
            [
             0.7777777777777778,
             "#fb9f3a"
            ],
            [
             0.8888888888888888,
             "#fdca26"
            ],
            [
             1,
             "#f0f921"
            ]
           ],
           "sequentialminus": [
            [
             0,
             "#0d0887"
            ],
            [
             0.1111111111111111,
             "#46039f"
            ],
            [
             0.2222222222222222,
             "#7201a8"
            ],
            [
             0.3333333333333333,
             "#9c179e"
            ],
            [
             0.4444444444444444,
             "#bd3786"
            ],
            [
             0.5555555555555556,
             "#d8576b"
            ],
            [
             0.6666666666666666,
             "#ed7953"
            ],
            [
             0.7777777777777778,
             "#fb9f3a"
            ],
            [
             0.8888888888888888,
             "#fdca26"
            ],
            [
             1,
             "#f0f921"
            ]
           ]
          },
          "colorway": [
           "#636efa",
           "#EF553B",
           "#00cc96",
           "#ab63fa",
           "#FFA15A",
           "#19d3f3",
           "#FF6692",
           "#B6E880",
           "#FF97FF",
           "#FECB52"
          ],
          "font": {
           "color": "#2a3f5f"
          },
          "geo": {
           "bgcolor": "white",
           "lakecolor": "white",
           "landcolor": "white",
           "showlakes": true,
           "showland": true,
           "subunitcolor": "#C8D4E3"
          },
          "hoverlabel": {
           "align": "left"
          },
          "hovermode": "closest",
          "mapbox": {
           "style": "light"
          },
          "paper_bgcolor": "white",
          "plot_bgcolor": "white",
          "polar": {
           "angularaxis": {
            "gridcolor": "#EBF0F8",
            "linecolor": "#EBF0F8",
            "ticks": ""
           },
           "bgcolor": "white",
           "radialaxis": {
            "gridcolor": "#EBF0F8",
            "linecolor": "#EBF0F8",
            "ticks": ""
           }
          },
          "scene": {
           "xaxis": {
            "backgroundcolor": "white",
            "gridcolor": "#DFE8F3",
            "gridwidth": 2,
            "linecolor": "#EBF0F8",
            "showbackground": true,
            "ticks": "",
            "zerolinecolor": "#EBF0F8"
           },
           "yaxis": {
            "backgroundcolor": "white",
            "gridcolor": "#DFE8F3",
            "gridwidth": 2,
            "linecolor": "#EBF0F8",
            "showbackground": true,
            "ticks": "",
            "zerolinecolor": "#EBF0F8"
           },
           "zaxis": {
            "backgroundcolor": "white",
            "gridcolor": "#DFE8F3",
            "gridwidth": 2,
            "linecolor": "#EBF0F8",
            "showbackground": true,
            "ticks": "",
            "zerolinecolor": "#EBF0F8"
           }
          },
          "shapedefaults": {
           "line": {
            "color": "#2a3f5f"
           }
          },
          "ternary": {
           "aaxis": {
            "gridcolor": "#DFE8F3",
            "linecolor": "#A2B1C6",
            "ticks": ""
           },
           "baxis": {
            "gridcolor": "#DFE8F3",
            "linecolor": "#A2B1C6",
            "ticks": ""
           },
           "bgcolor": "white",
           "caxis": {
            "gridcolor": "#DFE8F3",
            "linecolor": "#A2B1C6",
            "ticks": ""
           }
          },
          "title": {
           "x": 0.05
          },
          "xaxis": {
           "automargin": true,
           "gridcolor": "#EBF0F8",
           "linecolor": "#EBF0F8",
           "ticks": "",
           "title": {
            "standoff": 15
           },
           "zerolinecolor": "#EBF0F8",
           "zerolinewidth": 2
          },
          "yaxis": {
           "automargin": true,
           "gridcolor": "#EBF0F8",
           "linecolor": "#EBF0F8",
           "ticks": "",
           "title": {
            "standoff": 15
           },
           "zerolinecolor": "#EBF0F8",
           "zerolinewidth": 2
          }
         }
        },
        "title": {
         "text": "Impressions Distribution for Each Hashtag"
        },
        "xaxis": {
         "anchor": "y",
         "domain": [
          0,
          1
         ],
         "title": {
          "text": "Hashtag"
         }
        },
        "yaxis": {
         "anchor": "x",
         "domain": [
          0,
          1
         ],
         "title": {
          "text": "Impressions"
         }
        }
       }
      }
     },
     "metadata": {},
     "output_type": "display_data"
    }
   ],
   "source": [
    "# Create a dictionary to store the likes and ipressions for each hashtag\n",
    "\n",
    "hashtag_likes = {}\n",
    "hashtag_impressions = {}\n",
    "\n",
    "# Iterate through each row in the dataset\n",
    "for index, row in data.iterrows():\n",
    "  hashtags = str(row['Hashtags']).split()\n",
    "  for hashtag  in hashtags:\n",
    "    hashtag = hashtag.strip()\n",
    "    if hashtag not in hashtag_likes:\n",
    "      hashtag_likes[hashtag] = 0\n",
    "      hashtag_impressions[hashtag] = 0\n",
    "    hashtag_likes[hashtag] += row['Likes']\n",
    "    hashtag_impressions[hashtag] += row['Impressions']\n",
    "\n",
    "# Create a DataFrame for likes distribution\n",
    "likes_distribution = pd.DataFrame(list(hashtag_likes.items()), columns=['Hashtag', 'Likes'])\n",
    "\n",
    "# Create a DataFrame for impressions distribution\n",
    "impressions_distribution = pd.DataFrame(list(hashtag_impressions.items()), columns=['Hashtag', 'Impressions'])\n",
    "\n",
    "fig_likes = px.bar(likes_distribution, x='Hashtag', y='Likes', title='Likes Distribution for Each Hashtag')\n",
    "\n",
    "fig_impressions = px.bar(impressions_distribution, x='Hashtag', y='Impressions', title='Impressions Distribution for Each Hashtag')\n",
    "\n",
    "fig_likes.show()\n",
    "fig_impressions.show()\n",
    "\n",
    "pio.write_image(fig_likes, './images/image10.png')\n",
    "pio.write_image(fig_impressions, './images/image11.png')"
   ]
  },
  {
   "cell_type": "markdown",
   "metadata": {},
   "source": [
    " ![Plot Description](./images/image10.png)\n",
    " ![Plot Description](./images/image11.png)"
   ]
  }
 ],
 "metadata": {
  "kernelspec": {
   "display_name": ".venv",
   "language": "python",
   "name": "python3"
  },
  "language_info": {
   "codemirror_mode": {
    "name": "ipython",
    "version": 3
   },
   "file_extension": ".py",
   "mimetype": "text/x-python",
   "name": "python",
   "nbconvert_exporter": "python",
   "pygments_lexer": "ipython3",
   "version": "3.12.2"
  }
 },
 "nbformat": 4,
 "nbformat_minor": 2
}
